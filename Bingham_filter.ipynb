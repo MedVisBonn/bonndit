{
 "cells": [
  {
   "cell_type": "code",
   "execution_count": 1,
   "id": "8f3622a4-72fb-47d4-a751-e177e0cdc395",
   "metadata": {},
   "outputs": [],
   "source": [
    "## Goal of this script is to fit a Bingham distribution to the data Voxelwise and Filter for a 95% Intervall. "
   ]
  },
  {
   "cell_type": "code",
   "execution_count": 1,
   "id": "1a364572-cc6e-4a37-af93-435317d38ad6",
   "metadata": {},
   "outputs": [],
   "source": [
    "from plyfile import PlyData, PlyElement\n",
    "import numpy as np \n",
    "import matplotlib.pyplot as plt"
   ]
  },
  {
   "cell_type": "code",
   "execution_count": 2,
   "id": "35e43840-1141-4752-8102-061905ff4f6b",
   "metadata": {},
   "outputs": [],
   "source": [
    "## Load data - in world space. Find all \n",
    "\n",
    "with open('/home/xderes/Downloads/904044/cst_ukf.ply', 'rb') as f:\n",
    "    plydata = PlyData.read(f)\n",
    "    num_verts = plydata['vertices'].count\n",
    "    num_fiber = plydata['fiber'].count\n",
    "    vertices = np.zeros((num_verts, 4))\n",
    "    endindex = np.zeros((num_fiber + 1), dtype=int)\n",
    "    vertices[:, 0] = plydata['vertices'].data['x']\n",
    "    vertices[:, 1] = plydata['vertices'].data['y']\n",
    "    vertices[:, 2] = plydata['vertices'].data['z']\n",
    "    vertices[:, 3] = plydata['vertices'].data['seedpoint']\n",
    "    endindex[1:] = plydata['fiber'].data['endindex']"
   ]
  },
  {
   "cell_type": "code",
   "execution_count": null,
   "id": "748fd023-cf14-4350-9f8a-9273320e0788",
   "metadata": {},
   "outputs": [],
   "source": []
  },
  {
   "cell_type": "code",
   "execution_count": 3,
   "id": "e65f764c-a3bf-482d-a7ee-132b38049b0d",
   "metadata": {},
   "outputs": [],
   "source": [
    "# get dirs to neighbor in each point and norm direction to 1\n",
    "data = np.zeros((len(vertices), 10))\n",
    "data[:,:4] = vertices\n",
    "for i,x in enumerate(endindex[1:]):\n",
    "    before = endindex[i]\n",
    "    data[before:x-1, 4:7] = data[before: x - 1, :3] - data[before + 1: x:, :3]\n",
    "    data[before:x-1, 4:7] = np.divide(data[before:x-1, 4:7], np.linalg.norm(data[before:x-1, 4:7], axis=1)[..., np.newaxis], where=(np.sum(data[before:x-1, 4:7], axis=1)!=0)[...,np.newaxis])\n",
    "    data[before + 1:x, 7:] = data[before + 1: x, :3] - data[before: x -1:, :3]\n",
    "    data[before + 1:x, 7:] = np.divide(data[before + 1:x, 7:], np.linalg.norm(data[before + 1:x, 7:], axis=1)[..., np.newaxis], where=(np.sum(data[before + 1:x, 7:], axis=1)!=0)[...,np.newaxis])\n"
   ]
  },
  {
   "cell_type": "code",
   "execution_count": 4,
   "id": "c2ed9724-0740-46ba-8244-aac4a422ff9f",
   "metadata": {},
   "outputs": [],
   "source": [
    "# select points in a given radius"
   ]
  },
  {
   "cell_type": "code",
   "execution_count": 5,
   "id": "aa4b5875-be8d-4401-8e37-1a92d9fb12d9",
   "metadata": {},
   "outputs": [],
   "source": [
    "selected_points = data[np.linalg.norm(data[:, :3] - np.array((1.77251969e+01, -1.44250541e+01,  1.30592768e-03)), axis=1) < 1]"
   ]
  },
  {
   "cell_type": "code",
   "execution_count": 6,
   "id": "edce9dc6-7292-4057-b05e-8c19777a1949",
   "metadata": {},
   "outputs": [],
   "source": [
    "dirs = np.vstack((selected_points[:,4:7], selected_points[:,7:]))"
   ]
  },
  {
   "cell_type": "code",
   "execution_count": 7,
   "id": "550ab1de-6970-4aec-b256-4eb0f6b5cd7b",
   "metadata": {},
   "outputs": [],
   "source": [
    "%matplotlib qt\n",
    "fig = plt.figure()\n",
    "ax = fig.add_subplot(projection='3d')\n",
    "u,v = np.mgrid[0:2*np.pi:30j, 0:np.pi:30j]\n",
    "x = np.sin(v) * np.sin(u)\n",
    "y = np.sin(v) * np.cos(u)\n",
    "z = np.cos(v)\n",
    "ax.plot_surface(x,y,z, alpha=0.5)\n",
    "ax.scatter3D(dirs[:,0], dirs[:, 1], dirs[:,2])\n",
    "plt.show()"
   ]
  },
  {
   "cell_type": "code",
   "execution_count": 8,
   "id": "a7fa8bed-8e0d-473b-bb94-a3a746aa0ea1",
   "metadata": {},
   "outputs": [
    {
     "name": "stdout",
     "output_type": "stream",
     "text": [
      "[-0.31292304 -0.04433635 -0.94874309]\n",
      "[-0.31292304 -0.04433635 -0.94874309]\n"
     ]
    }
   ],
   "source": [
    "#get mean direction\n",
    "\n",
    "first = np.random.randint(0, len(dirs) + 1)\n",
    "center = [[dirs[first], -dirs[first]]]\n",
    "while True:\n",
    "    first = np.linalg.norm(dirs - center[-1][0], axis=1) \n",
    "    second = np.linalg.norm(dirs - center[-1][1], axis=1)\n",
    "    select = first - second <= 0\n",
    "    new_center = np.mean(dirs[select], axis = 0)\n",
    "    new_center /= np.linalg.norm(new_center)\n",
    "    center.append([new_center, -new_center])\n",
    "    print(center[-1][0])\n",
    "    if np.linalg.norm(center[-1][0] - center[-2][0]) < 0.001:\n",
    "        break"
   ]
  },
  {
   "cell_type": "code",
   "execution_count": 9,
   "id": "a997a745-9504-4df2-bd36-44841fce23a6",
   "metadata": {},
   "outputs": [],
   "source": [
    "a = np.array(center)[:,0,:]\n",
    "a *= 1.1"
   ]
  },
  {
   "cell_type": "code",
   "execution_count": 11,
   "id": "71ae98a9-b4e3-455d-98a7-9e66fff231a3",
   "metadata": {},
   "outputs": [],
   "source": [
    "%matplotlib qt\n",
    "fig = plt.figure()\n",
    "ax = fig.add_subplot(projection='3d')\n",
    "u,v = np.mgrid[0:2*np.pi:30j, 0:np.pi:30j]\n",
    "x = np.sin(v) * np.sin(u)\n",
    "y = np.sin(v) * np.cos(u)\n",
    "z = np.cos(v)\n",
    "ax.plot_surface(x,y,z, alpha=0.5)\n",
    "ax.scatter3D(dirs[select,0], dirs[select, 1], dirs[select,2], alpha=1)\n",
    "ax.scatter3D(a[:,0], a[:, 1], a[:,2], c='r', alpha=1)\n",
    "plt.show()"
   ]
  },
  {
   "cell_type": "code",
   "execution_count": 12,
   "id": "3ed2df10-8380-4855-809e-eb0b93f9b49e",
   "metadata": {},
   "outputs": [],
   "source": [
    "# Now following:https://arxiv.org/pdf/1506.08105.pdf\n",
    "\n",
    "mean_dir = np.array(center)[-1,0,:]\n",
    "selected_dirs = dirs[select]"
   ]
  },
  {
   "cell_type": "code",
   "execution_count": 13,
   "id": "0b095601-ea07-4a36-9225-9646c0d00c01",
   "metadata": {},
   "outputs": [],
   "source": [
    "S = selected_dirs.T @ selected_dirs/len(selected_dirs)"
   ]
  },
  {
   "cell_type": "code",
   "execution_count": 14,
   "id": "19d677cd-b2df-410f-9a52-a1f828bac6af",
   "metadata": {},
   "outputs": [],
   "source": [
    "# Compute rotation matrix H\n",
    "north_pole = np.array([1,0,0])\n",
    "v = np.cross(mean_dir, north_pole)\n",
    "s = np.linalg.norm(v)\n",
    "c = np.dot(mean_dir, north_pole)\n",
    "vx = np.array([[0, -v[2], v[1]], [v[2], 0, -v[0]], [-v[1], v[0], 0]]) \n",
    "H = np.eye(3) + vx + np.dot(vx,vx)* (1-c)/(s**2) "
   ]
  },
  {
   "cell_type": "code",
   "execution_count": 15,
   "id": "0f108cc6-4e45-4258-b71d-89ca4f3fe382",
   "metadata": {},
   "outputs": [],
   "source": [
    "# Compute dispersion matrix B \n",
    "B = H.T @ S @ H\n",
    "B_E, B_L = np.linalg.eig(B)\n",
    "psi = np.arctan(2*B_L[1,2]/(B_L[1,1] - B_L[2,2]))/2"
   ]
  },
  {
   "cell_type": "code",
   "execution_count": 18,
   "id": "750779d5-b477-4184-89bf-9014b5f17d5e",
   "metadata": {},
   "outputs": [],
   "source": [
    "#dirs_rot = R @ dirs.T\n",
    "K = np.array([[1,0,0], [0, np.cos(psi), np.sin(psi)], [0, -np.sin(psi), np.cos(psi)]])\n"
   ]
  },
  {
   "cell_type": "code",
   "execution_count": 19,
   "id": "d6637030-848b-4fe0-8064-408f4e9759a0",
   "metadata": {},
   "outputs": [],
   "source": [
    "dirs_rot =   K @ H    @ dirs.T\n",
    "a_rot = (H @ a.T).T"
   ]
  },
  {
   "cell_type": "code",
   "execution_count": 20,
   "id": "e802e63b-002d-4268-94aa-b0e62cbb735d",
   "metadata": {},
   "outputs": [],
   "source": [
    "%matplotlib qt\n",
    "fig = plt.figure()\n",
    "ax = fig.add_subplot(projection='3d')\n",
    "u,v = np.mgrid[0:2*np.pi:30j, 0:np.pi:30j]\n",
    "x = np.sin(v) * np.sin(u)\n",
    "y = np.sin(v) * np.cos(u)\n",
    "z = np.cos(v)\n",
    "ax.plot_surface(x,y,z, alpha=0.5)\n",
    "ax.scatter3D(dirs_rot.T[select,0], dirs_rot.T[select, 1], dirs_rot.T[select,2], alpha=1)\n",
    "ax.scatter3D(a_rot[:,0], a_rot[:, 1], a_rot[:,2], c='r', alpha=1)\n",
    "origin0 = [0,0,0]\n",
    "origin1 = [1,0,0]\n",
    "p0 = [1,0,0]\n",
    "p1 = [0,1,0]\n",
    "p2 = [0,0,1]\n",
    "X, Y, Z = zip(origin0,origin1,origin1) \n",
    "U, V, W = zip(p0,p1,p2)\n",
    "ax.quiver(X,Y,Z,U,V,W,arrow_length_ratio=0.01)\n",
    "plt.show()"
   ]
  },
  {
   "cell_type": "code",
   "execution_count": 21,
   "id": "b00f809c-48d3-4961-b2d9-b6028bce5ca1",
   "metadata": {},
   "outputs": [],
   "source": [
    "# kappa, beta estimate: \n",
    "\n",
    "r1 = np.linalg.norm(np.mean(dirs_rot.T[select], axis=0))\n",
    "r2 = B_E[0] - B_E[1]\n",
    "kappa_guess = 1/(2 -2*r1 -r2) + 1/(2-2*r1 + r2)\n",
    "beta_guess = 0.5*(1/(2 -2*r1 -r2) - 1/(2-2*r1 + r2))"
   ]
  },
  {
   "cell_type": "code",
   "execution_count": 28,
   "id": "128bbd8b-b8d8-4ef0-a9b2-84b35dfd8f4e",
   "metadata": {},
   "outputs": [],
   "source": [
    "def make_sphere(r_1=5000, r_2=5000):\n",
    "     phi = np.linspace(0,np.pi , r_1)\n",
    "     theta = np.linspace(0, 2*np.pi  , r_2)\n",
    "     phi, theta = np.meshgrid(phi, theta)\n",
    "     phi = phi.flatten() \n",
    "     theta = theta.flatten()\n",
    "     return theta, phi\n",
    " \n",
    "theta, phi = make_sphere(2000, 2000)\n",
    "\n",
    "from scipy.special import sph_harm\n",
    "def normalize_constant(k,b,theta, phi):\n",
    "     return 4*np.pi*np.sum(np.exp((np.cos(phi)**2*k)[..., np.newaxis]+b[np.newaxis]*(np.sin(theta)**2*np.sin(phi)**2)[...,np.newaxis])*np.real(sph_harm(    0,0, theta, phi))[:,np.newaxis]*np.sin(phi)[..., np.newaxis], axis=0) /len(phi)\n",
    "\n",
    "from pybingham import bingham_F\n",
    "from numpy import exp\n",
    "def log_likelihood(v, x,n):\n",
    "    b_c = n*np.log(normalize_constant(exp(v[0]), np.array([exp(v[1])]), theta, phi))\n",
    "    gamma1, gamma2 = rot(*v[2:])\n",
    "    return b_c - (exp(v[0])*gamma1 @ x @ gamma1[:, np.newaxis] + exp(v[1])*gamma2 @ x @ gamma2[:, np.newaxis])[0]"
   ]
  },
  {
   "cell_type": "code",
   "execution_count": 29,
   "id": "34f1c8c4-314f-4230-b391-97c040e80ba0",
   "metadata": {},
   "outputs": [],
   "source": [
    "def rot(alpha, psi, eta):\n",
    "    z1 = np.array([np.cos(alpha), np.sin(alpha)* np.cos(eta), np.sin(alpha) * np.sin(eta)])\n",
    "    z2 = np.array([- np.cos(psi)*np.sin(alpha), np.cos(psi)*np.cos(alpha)*np.cos(eta) - np.sin(psi)*np.sin(eta), np.cos(psi)*np.cos(alpha)*np.sin(eta) + np.sin(psi) *np.cos(eta)])\n",
    "    #z3 = np.array([np.sin(psi)* np.sin(alpha), - np.sin(psi)*np.cos(alpha)*np.cos(eta) - np.cos(psi)*np.sin(eta), -np.sin(psi)*np.cos(alpha)*np.sin(psi) + np.cos(psi)*np.cos(eta)]) \n",
    "    return z1, z2"
   ]
  },
  {
   "cell_type": "code",
   "execution_count": 31,
   "id": "e28a2120-2862-4913-a480-3925ec0da43b",
   "metadata": {},
   "outputs": [],
   "source": [
    "from scipy.optimize import minimize"
   ]
  },
  {
   "cell_type": "code",
   "execution_count": 32,
   "id": "cf1ae680-8971-468c-9325-5e20e9669da5",
   "metadata": {},
   "outputs": [],
   "source": [
    "x = dirs_rot @ dirs_rot.T\n",
    "v = [3, 3, 0,0,0]"
   ]
  },
  {
   "cell_type": "code",
   "execution_count": 33,
   "id": "8dd5e3e8-bcff-4b51-b487-7fbfb8e85002",
   "metadata": {},
   "outputs": [],
   "source": [
    "ret = minimize(log_likelihood, v, args=(x, dirs_rot.shape[1]), method = 'Nelder-Mead')"
   ]
  },
  {
   "cell_type": "code",
   "execution_count": 36,
   "id": "5c5983b5-cde3-4685-b5f0-fb6a61e0f448",
   "metadata": {},
   "outputs": [],
   "source": [
    "def bingham(points, x):\n",
    "    kappa, beta = np.exp(x[:2])\n",
    "    gamma1, gamma2 = rot(*x[2:])\n",
    "    return np.exp(kappa * (points @ gamma1)**2  + (beta) * (points @ gamma2)**2)\n",
    "        "
   ]
  },
  {
   "cell_type": "code",
   "execution_count": 69,
   "id": "6603d0c8-506a-4129-bd97-975bd786919a",
   "metadata": {},
   "outputs": [],
   "source": [
    "%matplotlib qt\n",
    "from matplotlib import cm\n",
    "fig = plt.figure()\n",
    "ax = fig.add_subplot(projection='3d')\n",
    "u,v = np.mgrid[0:2*np.pi:200j, 0:np.pi:100j]\n",
    "x = np.sin(v) * np.sin(u)\n",
    "y = np.sin(v) * np.cos(u)\n",
    "z = np.cos(v)\n",
    "ax.plot_surface(x,y,z, alpha=1, facecolors=cm.jet(bingham(np.array([x.flatten(),y.flatten(),z.flatten()]).T, ret.x).reshape((200,100))/np.max(bingham(np.array([x,y,z]).T, ret.x))))\n",
    "ax.scatter3D(dirs_rot.T[:,0], dirs_rot.T[:, 1], dirs_rot.T[:,2], alpha=0.1)\n",
    "ax.scatter3D(a_rot[:,0], a_rot[:, 1], a_rot[:,2], c='r', alpha=1)\n",
    "origin0 = [0,0,0]\n",
    "origin1 = [1,0,0]\n",
    "p0 = [1,0,0]\n",
    "p1 = [0,1,0]\n",
    "p2 = [0,0,1]\n",
    "X, Y, Z = zip(origin0,origin1,origin1) \n",
    "U, V, W = zip(p0,p1,p2)\n",
    "ax.quiver(X,Y,Z,U,V,W,arrow_length_ratio=0.1)\n",
    "plt.show()"
   ]
  },
  {
   "cell_type": "code",
   "execution_count": 94,
   "id": "7d1b0995-73de-44c9-95d2-ecfae326f6bf",
   "metadata": {},
   "outputs": [],
   "source": [
    "%matplotlib qt\n",
    "from matplotlib import cm\n",
    "fig = plt.figure()\n",
    "ax = fig.add_subplot(projection='3d')\n",
    "u,v = np.mgrid[0:2*np.pi:200j, 0:np.pi:100j]\n",
    "x = np.sin(v) * np.sin(u)\n",
    "y = np.sin(v) * np.cos(u)\n",
    "z = np.cos(v)\n",
    "p_dirs = (H.T @ K.T @ np.array((x.flatten(),y.flatten(),z.flatten()))).reshape(3,200,100)\n",
    "ax.plot_surface(p_dirs[0], p_dirs[1], p_dirs[2], alpha=1, facecolors=cm.jet(bingham(np.array([x.flatten(),y.flatten(),z.flatten()]).T, ret.x).reshape((200,100))/np.max(bingham(np.array([x,y,z]).T, ret.x))))\n",
    "ax.scatter3D(dirs[:,0]+0.01, dirs[:, 1]+0.01, dirs[:,2]+0.01, alpha=0.1)\n",
    "ax.scatter3D(a_rot[:,0], a_rot[:, 1], a_rot[:,2], c='r', alpha=1)\n",
    "origin0 = [0,0,0]\n",
    "origin1 = [0,0,1]\n",
    "p0 = [1,0,0]\n",
    "p1 = [0,1,0]\n",
    "p2 = [0,0,1]\n",
    "X, Y, Z = zip(origin0,origin1,origin1) \n",
    "U, V, W = zip(p0,p1,p2)\n",
    "ax.quiver(X,Y,Z,U,V,W,arrow_length_ratio=0.1)\n",
    "plt.show()"
   ]
  },
  {
   "cell_type": "code",
   "execution_count": 50,
   "id": "6ae7c940-7937-4013-a86f-3a3d5cc99464",
   "metadata": {},
   "outputs": [],
   "source": [
    "a = bingham(p_dirs, ret.x)"
   ]
  },
  {
   "cell_type": "code",
   "execution_count": 61,
   "id": "ffed590b-4d7a-4dae-add4-09515f5360d5",
   "metadata": {},
   "outputs": [
    {
     "data": {
      "text/plain": [
       "(3, 200, 100)"
      ]
     },
     "execution_count": 61,
     "metadata": {},
     "output_type": "execute_result"
    }
   ],
   "source": [
    "np.rollaxis((K @ H  @ np.rollaxis(np.array([x,y,z]), axis=1)), axis=1).shape"
   ]
  },
  {
   "cell_type": "code",
   "execution_count": 84,
   "id": "a061ee6f-de37-4586-b7d3-9239a37c0ce3",
   "metadata": {},
   "outputs": [],
   "source": [
    "a = np.array((x,y,z))"
   ]
  },
  {
   "cell_type": "code",
   "execution_count": 88,
   "id": "c0ab6362-a1ea-4d28-a0f3-b6c6eefcb348",
   "metadata": {},
   "outputs": [],
   "source": [
    "p_dirs = (K @ H @ np.array((x.flatten(),y.flatten(),z.flatten())))"
   ]
  },
  {
   "cell_type": "code",
   "execution_count": 91,
   "id": "e500e63b-dd13-4b36-8fa1-bd9abc5acfa5",
   "metadata": {},
   "outputs": [
    {
     "data": {
      "text/plain": [
       "array([[1., 1., 1., ..., 1., 1., 1.],\n",
       "       [1., 1., 1., ..., 1., 1., 1.],\n",
       "       [1., 1., 1., ..., 1., 1., 1.],\n",
       "       ...,\n",
       "       [1., 1., 1., ..., 1., 1., 1.],\n",
       "       [1., 1., 1., ..., 1., 1., 1.],\n",
       "       [1., 1., 1., ..., 1., 1., 1.]])"
      ]
     },
     "execution_count": 91,
     "metadata": {},
     "output_type": "execute_result"
    }
   ],
   "source": [
    "np.linalg.norm(p_dirs, axis=0)"
   ]
  },
  {
   "cell_type": "code",
   "execution_count": 7,
   "id": "43ae00e7-c2b9-4521-889e-cfb201839b87",
   "metadata": {},
   "outputs": [],
   "source": [
    "import numpy as np\n",
    "a = np.random.random(3)\n",
    "a /= np.linalg.norm(a)\n",
    "b = np.random.random(3)\n",
    "b /= np.linalg.norm(b)"
   ]
  },
  {
   "cell_type": "code",
   "execution_count": 18,
   "outputs": [],
   "source": [
    "c = np.cross(a,b)\n",
    "c /= np.linalg.norm(c)"
   ],
   "metadata": {
    "collapsed": false,
    "pycharm": {
     "name": "#%%\n"
    }
   }
  },
  {
   "cell_type": "code",
   "execution_count": 20,
   "outputs": [],
   "source": [
    "d = np.cross(a, c)\n",
    "d /= np.linalg.norm(d)"
   ],
   "metadata": {
    "collapsed": false,
    "pycharm": {
     "name": "#%%\n"
    }
   }
  },
  {
   "cell_type": "code",
   "execution_count": 21,
   "outputs": [],
   "source": [
    "e = np.cross(b,c)\n",
    "e /= np.linalg.norm(e)"
   ],
   "metadata": {
    "collapsed": false,
    "pycharm": {
     "name": "#%%\n"
    }
   }
  },
  {
   "cell_type": "code",
   "execution_count": 71,
   "outputs": [],
   "source": [
    "A = np.array((a,c, d)).T\n",
    "B = np.array((b,c,e)).T"
   ],
   "metadata": {
    "collapsed": false,
    "pycharm": {
     "name": "#%%\n"
    }
   }
  },
  {
   "cell_type": "code",
   "execution_count": 72,
   "outputs": [],
   "source": [
    "R =  B @ np.linalg.inv(A)"
   ],
   "metadata": {
    "collapsed": false,
    "pycharm": {
     "name": "#%%\n"
    }
   }
  },
  {
   "cell_type": "code",
   "execution_count": 73,
   "outputs": [
    {
     "data": {
      "text/plain": "array([[ 0.42332592, -0.89453954, -0.14350672],\n       [ 0.66027026,  0.41308381, -0.62722002],\n       [ 0.62035341,  0.17076527,  0.76550694]])"
     },
     "execution_count": 73,
     "metadata": {},
     "output_type": "execute_result"
    }
   ],
   "source": [
    "R @ A"
   ],
   "metadata": {
    "collapsed": false,
    "pycharm": {
     "name": "#%%\n"
    }
   }
  },
  {
   "cell_type": "code",
   "execution_count": 74,
   "outputs": [
    {
     "data": {
      "text/plain": "array([[ 0.42332592, -0.89453954, -0.14350672],\n       [ 0.66027026,  0.41308381, -0.62722002],\n       [ 0.62035341,  0.17076527,  0.76550694]])"
     },
     "execution_count": 74,
     "metadata": {},
     "output_type": "execute_result"
    }
   ],
   "source": [
    "B"
   ],
   "metadata": {
    "collapsed": false,
    "pycharm": {
     "name": "#%%\n"
    }
   }
  },
  {
   "cell_type": "code",
   "execution_count": 75,
   "outputs": [
    {
     "data": {
      "text/plain": "array([0.42332592, 0.66027026, 0.62035341])"
     },
     "execution_count": 75,
     "metadata": {},
     "output_type": "execute_result"
    }
   ],
   "source": [
    "b"
   ],
   "metadata": {
    "collapsed": false,
    "pycharm": {
     "name": "#%%\n"
    }
   }
  },
  {
   "cell_type": "code",
   "execution_count": 76,
   "outputs": [
    {
     "data": {
      "text/plain": "array([0.42332592, 0.66027026, 0.62035341])"
     },
     "execution_count": 76,
     "metadata": {},
     "output_type": "execute_result"
    }
   ],
   "source": [
    "R @ a"
   ],
   "metadata": {
    "collapsed": false,
    "pycharm": {
     "name": "#%%\n"
    }
   }
  },
  {
   "cell_type": "code",
   "execution_count": null,
   "outputs": [],
   "source": [],
   "metadata": {
    "collapsed": false,
    "pycharm": {
     "name": "#%%\n"
    }
   }
  }
 ],
 "metadata": {
  "kernelspec": {
   "display_name": "bonndit",
   "language": "python",
   "name": "bonndit"
  },
  "language_info": {
   "codemirror_mode": {
    "name": "ipython",
    "version": 3
   },
   "file_extension": ".py",
   "mimetype": "text/x-python",
   "name": "python",
   "nbconvert_exporter": "python",
   "pygments_lexer": "ipython3",
   "version": "3.9.13"
  }
 },
 "nbformat": 4,
 "nbformat_minor": 5
}