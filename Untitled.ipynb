{
 "cells": [
  {
   "cell_type": "code",
   "execution_count": 30,
   "id": "fbc7c20b-7758-4411-826f-85954bd930cd",
   "metadata": {},
   "outputs": [],
   "source": [
    "import numpy as np \n",
    "from spherecluster import SphericalKMeans\n",
    "from bonndit.tracking.ItoW import Trafo\n",
    "import nibabel as nib\n",
    "import matplotlib.pyplot as plt"
   ]
  },
  {
   "cell_type": "code",
   "execution_count": 2,
   "id": "70bfc209-e743-4594-83de-ee248c752668",
   "metadata": {},
   "outputs": [],
   "source": [
    "# Load the wm points\n",
    "\n",
    "wm_mask = nib.load('/home/johannes/Downloads/904044/904044/mtdeconv/indir/wm_mask.nii.gz')\n",
    "meta = wm_mask.affine\n",
    "wm_mask = wm_mask.get_fdata()\n",
    "trafo = Trafo(meta[:3,:3], meta[:3,3])\n"
   ]
  },
  {
   "cell_type": "code",
   "execution_count": 3,
   "id": "85129560-60e6-4711-a6c0-26c86d4e2021",
   "metadata": {},
   "outputs": [],
   "source": [
    "# convert them to worldspace\n",
    "wpoints = []\n",
    "for index in np.ndindex(wm_mask.shape):\n",
    "    if wm_mask[index] == 1:\n",
    "        wpoints.append(np.array(trafo.itow_p(np.array(index, dtype=np.float64))))\n",
    "#print(wpoints)\n",
    "wpoints = np.array(wpoints)"
   ]
  },
  {
   "cell_type": "code",
   "execution_count": 33,
   "id": "3dbce4d2-993e-4e90-839c-519ac0af050a",
   "metadata": {},
   "outputs": [],
   "source": [
    "# Build 3 cluster\n",
    "test = []\n",
    "for clusters in range(1,100):\n",
    "    skm = SphericalKMeans(n_clusters=clusters)\n",
    "    sample_weight = np.ones(wpoints.shape[0])\n",
    "    skm.fit(wpoints, sample_weight=1)\n",
    "    test.append(skm.inertia_)"
   ]
  },
  {
   "cell_type": "code",
   "execution_count": 21,
   "id": "c65fe4dd-d32f-4581-b1d7-7f114db855c3",
   "metadata": {},
   "outputs": [],
   "source": [
    "labels = skm.labels_"
   ]
  },
  {
   "cell_type": "code",
   "execution_count": null,
   "id": "055cd014-fe91-48f7-ba5f-d1cac86dbf3c",
   "metadata": {},
   "outputs": [
    {
     "name": "stdout",
     "output_type": "stream",
     "text": [
      "1946\n",
      "6161\n",
      "1873\n"
     ]
    }
   ],
   "source": [
    "#crepltte masks from cluster:\n",
    "for i in range(clusters):\n",
    "    l = 0\n",
    "    cluster_mask = np.zeros(wm_mask.shape)\n",
    "    for index in np.ndindex(wm_mask.shape):\n",
    "        if wm_mask[index] == 1:\n",
    "            if labels[l] == i:\n",
    "                cluster_mask[index] = 1\n",
    "            l += 1\n",
    "    print(sum(labels == i))\n",
    "    img = nib.Nifti1Image(cluster_mask, meta)\n",
    "    nib.save(img, '/home/johannes/Downloads/904044/904044/mtdeconv/indir/cluster_' + str(i) + '_mask.nii.gz')\n",
    "    "
   ]
  },
  {
   "cell_type": "code",
   "execution_count": 44,
   "id": "61f9712c-6855-4361-950d-087fc28df959",
   "metadata": {},
   "outputs": [
    {
     "data": {
      "text/plain": [
       "[<matplotlib.lines.Line2D at 0x7f31244f1b80>]"
      ]
     },
     "execution_count": 44,
     "metadata": {},
     "output_type": "execute_result"
    },
    {
     "data": {
      "image/png": "[encoded data removed]",
      "text/plain": [
       "<Figure size 432x288 with 1 Axes>"
      ]
     },
     "metadata": {
      "needs_background": "light"
     },
     "output_type": "display_data"
    }
   ],
   "source": [
    "plt.plot(range(20), test[:20])"
   ]
  },
  {
   "cell_type": "code",
   "execution_count": 39,
   "id": "b80dc98c-c4e6-4b25-a4d0-6d96d4698b6c",
   "metadata": {},
   "outputs": [
    {
     "data": {
      "text/plain": [
       "array([9.10065539, 8.55040952, 8.15928042, 7.83692645, 7.58154796,\n",
       "       7.38928276, 7.24495044, 7.09009397, 6.95591493, 6.82632051,\n",
       "       6.70894898, 6.59408432, 6.50866545, 6.43596995, 6.37494259,\n",
       "       6.30229538, 6.23771014, 6.15550773, 6.10518344, 6.04950376,\n",
       "       5.97801123, 5.92739369, 5.89571618, 5.85334104, 5.80641762,\n",
       "       5.76210091, 5.73339973, 5.68991974, 5.64163355, 5.61727543,\n",
       "       5.58701281, 5.55287869, 5.52631998, 5.47990286, 5.47115844,\n",
       "       5.43023432, 5.4101693 , 5.38142181, 5.33717822, 5.30933868,\n",
       "       5.28331389, 5.27961723, 5.25057727, 5.20644822, 5.18710842,\n",
       "       5.1659258 , 5.13710908, 5.10904216, 5.09723925, 5.07055661,\n",
       "       5.04163125, 5.01994049, 5.00843753, 4.98682164, 4.96120738,\n",
       "       4.94650785, 4.9262382 , 4.90650395, 4.88976136, 4.8724465 ,\n",
       "       4.84947032, 4.8196572 , 4.81001634, 4.80024603, 4.76618777,\n",
       "       4.76950563, 4.73833662, 4.73958312, 4.71421212, 4.69168409,\n",
       "       4.68910792, 4.66445687, 4.65787733, 4.6414876 , 4.61969884,\n",
       "       4.59469495, 4.59165235, 4.58740136, 4.56442152, 4.54201116,\n",
       "       4.52569235, 4.51689589, 4.49623967, 4.50180852, 4.48094446,\n",
       "       4.47519941, 4.45173125, 4.43811051, 4.42276069, 4.41547148,\n",
       "       4.40008979, 4.39340624, 4.37476625, 4.36349693, 4.33801199,\n",
       "       4.33855706, 4.33512217, 4.31553383, 4.30106537])"
      ]
     },
     "execution_count": 39,
     "metadata": {},
     "output_type": "execute_result"
    }
   ],
   "source": [
    "np.log(test)"
   ]
  },
  {
   "cell_type": "code",
   "execution_count": null,
   "id": "211e5570-b93d-4cc1-8dc4-eb743ef129eb",
   "metadata": {},
   "outputs": [],
   "source": []
  }
 ],
 "metadata": {
  "kernelspec": {
   "display_name": "sphere",
   "language": "python",
   "name": "sphere"
  },
  "language_info": {
   "codemirror_mode": {
    "name": "ipython",
    "version": 3
   },
   "file_extension": ".py",
   "mimetype": "text/x-python",
   "name": "python",
   "nbconvert_exporter": "python",
   "pygments_lexer": "ipython3",
   "version": "3.9.7"
  }
 },
 "nbformat": 4,
 "nbformat_minor": 5
}
