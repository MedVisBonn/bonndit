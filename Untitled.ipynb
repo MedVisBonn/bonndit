{
 "cells": [
  {
   "cell_type": "code",
   "execution_count": 50,
   "id": "fbc7c20b-7758-4411-826f-85954bd930cd",
   "metadata": {},
   "outputs": [],
   "source": [
    "import numpy as np \n",
    "from spherecluster import SphericalKMeans\n",
    "from bonndit.tracking.ItoW import Trafo\n",
    "import nibabel as nib"
   ]
  },
  {
   "cell_type": "code",
   "execution_count": 51,
   "id": "70bfc209-e743-4594-83de-ee248c752668",
   "metadata": {},
   "outputs": [],
   "source": [
    "# Load the wm points\n",
    "\n",
    "wm_mask = nib.load('/home/johannes/Downloads/904044/904044/mtdeconv/indir/wm_mask.nii.gz')\n",
    "meta = wm_mask.affine\n",
    "wm_mask = wm_mask.get_fdata()\n",
    "trafo = Trafo(meta[:3,:3], meta[:3,3])\n"
   ]
  },
  {
   "cell_type": "code",
   "execution_count": 52,
   "id": "85129560-60e6-4711-a6c0-26c86d4e2021",
   "metadata": {},
   "outputs": [],
   "source": [
    "# convert them to worldspace\n",
    "wpoints = []\n",
    "for index in np.ndindex(wm_mask.shape):\n",
    "    if wm_mask[index] == 1:\n",
    "        wpoints.append(np.array(trafo.itow_p(np.array(index, dtype=np.float64))))\n",
    "#print(wpoints)\n",
    "wpoints = np.array(wpoints)"
   ]
  },
  {
   "cell_type": "code",
   "execution_count": 53,
   "id": "3dbce4d2-993e-4e90-839c-519ac0af050a",
   "metadata": {},
   "outputs": [
    {
     "data": {
      "text/plain": [
       "SphericalKMeans(copy_x=True, init='k-means++', max_iter=300, n_clusters=10,\n",
       "                n_init=10, n_jobs=1, normalize=True, random_state=None,\n",
       "                tol=0.0001, verbose=0)"
      ]
     },
     "execution_count": 53,
     "metadata": {},
     "output_type": "execute_result"
    }
   ],
   "source": [
    "# Build 3 cluster\n",
    "clusters = 10\n",
    "skm = SphericalKMeans(n_clusters=clusters)\n",
    "sample_weight = np.ones(wpoints.shape[0])\n",
    "skm.fit(wpoints, sample_weight=1)"
   ]
  },
  {
   "cell_type": "code",
   "execution_count": 54,
   "id": "c65fe4dd-d32f-4581-b1d7-7f114db855c3",
   "metadata": {},
   "outputs": [],
   "source": [
    "labels = skm.labels_"
   ]
  },
  {
   "cell_type": "code",
   "execution_count": 55,
   "id": "055cd014-fe91-48f7-ba5f-d1cac86dbf3c",
   "metadata": {},
   "outputs": [
    {
     "name": "stdout",
     "output_type": "stream",
     "text": [
      "940\n",
      "312\n",
      "401\n",
      "522\n",
      "242\n",
      "433\n",
      "314\n",
      "128\n",
      "400\n",
      "395\n"
     ]
    }
   ],
   "source": [
    "#create masks from cluster:\n",
    "for i in range(clusters):\n",
    "    l = 0\n",
    "    cluster_mask = np.zeros(wm_mask.shape)\n",
    "    for index in np.ndindex(wm_mask.shape):\n",
    "        if wm_mask[index] == 1:\n",
    "            if labels[l] == i:\n",
    "                cluster_mask[index] = 1\n",
    "            l += 1\n",
    "    print(sum(labels == i))\n",
    "    img = nib.Nifti1Image(cluster_mask, meta)\n",
    "    nib.save(img, '/home/johannes/Downloads/904044/904044/mtdeconv/indir/cluster_' + str(i) + '_mask.nii.gz')\n",
    "    "
   ]
  },
  {
   "cell_type": "code",
   "execution_count": null,
   "id": "61f9712c-6855-4361-950d-087fc28df959",
   "metadata": {},
   "outputs": [],
   "source": []
  },
  {
   "cell_type": "code",
   "execution_count": 35,
   "id": "b80dc98c-c4e6-4b25-a4d0-6d96d4698b6c",
   "metadata": {},
   "outputs": [
    {
     "data": {
      "text/plain": [
       "1741"
      ]
     },
     "execution_count": 35,
     "metadata": {},
     "output_type": "execute_result"
    }
   ],
   "source": []
  },
  {
   "cell_type": "code",
   "execution_count": null,
   "id": "211e5570-b93d-4cc1-8dc4-eb743ef129eb",
   "metadata": {},
   "outputs": [],
   "source": []
  }
 ],
 "metadata": {
  "kernelspec": {
   "display_name": "sphere",
   "language": "python",
   "name": "sphere"
  },
  "language_info": {
   "codemirror_mode": {
    "name": "ipython",
    "version": 3
   },
   "file_extension": ".py",
   "mimetype": "text/x-python",
   "name": "python",
   "nbconvert_exporter": "python",
   "pygments_lexer": "ipython3",
   "version": "3.9.7"
  }
 },
 "nbformat": 4,
 "nbformat_minor": 5
}
