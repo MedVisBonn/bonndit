{
 "cells": [
  {
   "cell_type": "code",
   "execution_count": 7,
   "id": "43eec3d7-f7e0-4f5b-a537-5040cc829dd8",
   "metadata": {},
   "outputs": [],
   "source": [
    "import dipy \n",
    "import numpy as np\n",
    "import scipy.special as sps\n",
    "from warnings import warn"
   ]
  },
  {
   "cell_type": "code",
   "execution_count": 8,
   "id": "c5113ead-1df9-47e4-b747-f544e1774e52",
   "metadata": {},
   "outputs": [],
   "source": [
    "import nrrd"
   ]
  },
  {
   "cell_type": "code",
   "execution_count": 9,
   "id": "fcf50cdd-1d21-4343-a418-ff099ab9daf2",
   "metadata": {},
   "outputs": [],
   "source": [
    "fodf, a = nrrd.read('/home/johannes/UniBonn/HCP/904044/csd/fodf.nrrd')"
   ]
  },
  {
   "cell_type": "code",
   "execution_count": 10,
   "id": "c904a22c-1791-47e0-adf8-52f11908cea5",
   "metadata": {},
   "outputs": [],
   "source": [
    "from dipy.data import default_sphere\n",
    "\n",
    "def sph_harm_ind_list(sh_order, full_basis=False):\n",
    "    \"\"\"\n",
    "    Returns the degree (``m``) and order (``n``) of all the symmetric spherical\n",
    "    harmonics of degree less then or equal to ``sh_order``. The results,\n",
    "    ``m_list`` and ``n_list`` are kx1 arrays, where k depends on ``sh_order``.\n",
    "    They can be passed to :func:`real_sh_descoteaux_from_index` and\n",
    "    :func:``real_sh_tournier_from_index``.\n",
    "    Parameters\n",
    "    ----------\n",
    "    sh_order : int\n",
    "        even int > 0, max order to return\n",
    "    full_basis: bool, optional\n",
    "        True for SH basis with even and odd order terms\n",
    "    Returns\n",
    "    -------\n",
    "    m_list : array\n",
    "        degrees of even spherical harmonics\n",
    "    n_list : array\n",
    "        orders of even spherical harmonics\n",
    "    See also\n",
    "    --------\n",
    "    shm.real_sh_descoteaux_from_index, shm.real_sh_tournier_from_index\n",
    "    \"\"\"\n",
    "    if full_basis:\n",
    "        n_range = np.arange(0, sh_order + 1, dtype=int)\n",
    "        ncoef = int((sh_order + 1) * (sh_order + 1))\n",
    "    else:\n",
    "        if sh_order % 2 != 0:\n",
    "            raise ValueError('sh_order must be an even integer >= 0')\n",
    "        n_range = np.arange(0, sh_order + 1, 2, dtype=int)\n",
    "        ncoef = int((sh_order + 2) * (sh_order + 1) // 2)\n",
    "\n",
    "    n_list = np.repeat(n_range, n_range * 2 + 1)\n",
    "    offset = 0\n",
    "    m_list = np.empty(ncoef, 'int')\n",
    "    for ii in n_range:\n",
    "        m_list[offset:offset + 2 * ii + 1] = np.arange(-ii, ii + 1)\n",
    "        offset = offset + 2 * ii + 1\n",
    "\n",
    "    # makes the arrays ncoef by 1, allows for easy broadcasting later in code\n",
    "    return (m_list, n_list)\n",
    "\n",
    "def real_sh_descoteaux_from_index(m, n, theta, phi, legacy=True):\n",
    "    \"\"\" Compute real spherical harmonics as in Descoteaux et al. 2007 [1]_,\n",
    "    where the real harmonic $Y^m_n$ is defined to be:\n",
    "        Imag($Y^m_n$) * sqrt(2)      if m > 0\n",
    "        $Y^0_n$                      if m = 0\n",
    "        Real($Y^m_n$) * sqrt(2)      if m < 0\n",
    "    This may take scalar or array arguments. The inputs will be broadcasted\n",
    "    against each other.\n",
    "    Parameters\n",
    "    ----------\n",
    "    m : int ``|m| <= n``\n",
    "        The degree of the harmonic.\n",
    "    n : int ``>= 0``\n",
    "        The order of the harmonic.\n",
    "    theta : float [0, pi]\n",
    "        The polar (colatitudinal) coordinate.\n",
    "    phi : float [0, 2*pi]\n",
    "        The azimuthal (longitudinal) coordinate.\n",
    "    legacy: bool, optional\n",
    "        If true, uses DIPY's legacy descoteaux07 implementation (where |m|\n",
    "        is used for m < 0). Else, implements the basis as defined in\n",
    "        Descoteaux et al. 2007 (without the absolute value).\n",
    "    Returns\n",
    "    -------\n",
    "    real_sh : real float\n",
    "        The real harmonic $Y^m_n$ sampled at ``theta`` and ``phi``.\n",
    "    References\n",
    "    ----------\n",
    "     .. [1] Descoteaux, M., Angelino, E., Fitzgibbons, S. and Deriche, R.\n",
    "           Regularized, Fast, and Robust Analytical Q-ball Imaging.\n",
    "           Magn. Reson. Med. 2007;58:497-510.\n",
    "    \"\"\"\n",
    "    if legacy:\n",
    "        # In the case where m < 0, legacy descoteaux basis considers |m|\n",
    "        warn('The legacy descoteaux07 SH basis is outdated and will be '\n",
    "             'deprecated in a future DIPY release. Consider using the new '\n",
    "             'descoteaux07 basis.', category=PendingDeprecationWarning)\n",
    "        sh = spherical_harmonics(np.abs(m), n, phi, theta)\n",
    "    else:\n",
    "        # In the cited paper, the basis is defined without the absolute value\n",
    "        sh = spherical_harmonics(m, n, phi, theta)\n",
    "\n",
    "    real_sh = np.where(m > 0, sh.imag, sh.real)\n",
    "    real_sh *= np.where(m == 0, 1., np.sqrt(2))\n",
    "\n",
    "    return real_sh\n",
    "\n",
    "def spherical_harmonics(m, n, theta, phi, use_scipy=True):\n",
    "    \"\"\"Compute spherical harmonics.\n",
    "    This may take scalar or array arguments. The inputs will be broadcasted\n",
    "    against each other.\n",
    "    Parameters\n",
    "    ----------\n",
    "    m : int ``|m| <= n``\n",
    "        The degree of the harmonic.\n",
    "    n : int ``>= 0``\n",
    "        The order of the harmonic.\n",
    "    theta : float [0, 2*pi]\n",
    "        The azimuthal (longitudinal) coordinate.\n",
    "    phi : float [0, pi]\n",
    "        The polar (colatitudinal) coordinate.\n",
    "    use_scipy : bool, optional\n",
    "        If True, use scipy implementation.\n",
    "    Returns\n",
    "    -------\n",
    "    y_mn : complex float\n",
    "        The harmonic $Y^m_n$ sampled at ``theta`` and ``phi``.\n",
    "    Notes\n",
    "    -----\n",
    "    This is a faster implementation of scipy.special.sph_harm for\n",
    "    scipy version < 0.15.0. For scipy 0.15 and onwards, we use the scipy\n",
    "    implementation of the function.\n",
    "    The usual definitions for ``theta` and `phi`` used in DIPY are interchanged\n",
    "    in the method definition to agree with the definitions in\n",
    "    scipy.special.sph_harm, where `theta` represents the azimuthal coordinate\n",
    "    and `phi` represents the polar coordinate.\n",
    "    Altough scipy uses a naming convention where ``m`` is the order and ``n``\n",
    "    is the degree of the SH, the opposite of DIPY's, their definition for both\n",
    "    parameters is the same as ours, with ``n >= 0`` and ``|m| <= n``.\n",
    "    \"\"\"\n",
    "    if use_scipy:\n",
    "        return sps.sph_harm(m, n, theta, phi, dtype=complex)\n",
    "\n",
    "    x = np.cos(phi)\n",
    "    val = sps.lpmv(m, n, x).astype(complex)\n",
    "    val *= np.sqrt((2 * n + 1) / 4.0 / np.pi)\n",
    "    val *= np.exp(0.5 * (sps.gammaln(n - m + 1) - sps.gammaln(n + m + 1)))\n",
    "    val = val * np.exp(1j * m * theta)\n",
    "    return val\n",
    "\n",
    "def real_sh_descoteaux(sh_order, theta, phi,\n",
    "                       full_basis=False,\n",
    "                       legacy=True):\n",
    "    \"\"\" Compute real spherical harmonics as in Descoteaux et al. 2007 [1]_,\n",
    "    where the real harmonic $Y^m_n$ is defined to be:\n",
    "        Imag($Y^m_n$) * sqrt(2)      if m > 0\n",
    "        $Y^0_n$                      if m = 0\n",
    "        Real($Y^m_n$) * sqrt(2)      if m < 0\n",
    "    This may take scalar or array arguments. The inputs will be broadcasted\n",
    "    against each other.\n",
    "    Parameters\n",
    "    ----------\n",
    "    sh_order : int\n",
    "        The maximum degree or the spherical harmonic basis.\n",
    "    theta : float [0, pi]\n",
    "        The polar (colatitudinal) coordinate.\n",
    "    phi : float [0, 2*pi]\n",
    "        The azimuthal (longitudinal) coordinate.\n",
    "    full_basis: bool, optional\n",
    "        If true, returns a basis including odd order SH functions as well as\n",
    "        even order SH functions. Otherwise returns only even order SH\n",
    "        functions.\n",
    "    legacy: bool, optional\n",
    "        If true, uses DIPY's legacy descoteaux07 implementation (where |m|\n",
    "        for m < 0). Else, implements the basis as defined in Descoteaux et al.\n",
    "        2007.\n",
    "    Returns\n",
    "    -------\n",
    "    real_sh : real float\n",
    "        The real harmonic $Y^m_n$ sampled at ``theta`` and ``phi``.\n",
    "    m : array\n",
    "        The degree of the harmonics.\n",
    "    n : array\n",
    "        The order of the harmonics.\n",
    "    References\n",
    "    ----------\n",
    "     .. [1] Descoteaux, M., Angelino, E., Fitzgibbons, S. and Deriche, R.\n",
    "           Regularized, Fast, and Robust Analytical Q-ball Imaging.\n",
    "           Magn. Reson. Med. 2007;58:497-510.\n",
    "    \"\"\"\n",
    "    m, n = sph_harm_ind_list(sh_order, full_basis)\n",
    "\n",
    "    phi = np.reshape(phi, [-1, 1])\n",
    "    theta = np.reshape(theta, [-1, 1])\n",
    "\n",
    "    real_sh = real_sh_descoteaux_from_index(m, n, theta, phi, legacy)\n",
    "\n",
    "    return real_sh, m, n"
   ]
  },
  {
   "cell_type": "code",
   "execution_count": 11,
   "id": "e90bcdfc-6d8d-4cf0-ae16-805932edfe24",
   "metadata": {},
   "outputs": [],
   "source": [
    "def sampling_matrix(sphere):\n",
    "        \"\"\"The matrix needed to sample ODFs from coefficients of the model.\n",
    "        Parameters\n",
    "        ----------\n",
    "        sphere : Sphere\n",
    "            Points used to sample ODF.\n",
    "        Returns\n",
    "        -------\n",
    "        sampling_matrix : array\n",
    "            The size of the matrix will be (N, M) where N is the number of\n",
    "            vertices on sphere and M is the number of coefficients needed by\n",
    "            the model.\n",
    "        \"\"\"\n",
    "        #sampling_matrix = self.cache_get(\"sampling_matrix\", sphere)\n",
    "\n",
    "        sh_order = 8\n",
    "        theta = sphere.theta\n",
    "        phi = sphere.phi\n",
    "        sampling_matrix, m, n = real_sh_descoteaux(sh_order, theta, phi)\n",
    "           # self.cache_set(\"sampling_matrix\", sphere, sampling_matrix)\n",
    "        return sampling_matrix"
   ]
  },
  {
   "cell_type": "code",
   "execution_count": 12,
   "id": "154c15fe-fdae-4c92-9566-0b6cea8feb01",
   "metadata": {},
   "outputs": [
    {
     "data": {
      "text/plain": [
       "(362, 45)"
      ]
     },
     "execution_count": 12,
     "metadata": {},
     "output_type": "execute_result"
    }
   ],
   "source": [
    "sampling_matrix = sampling_matrix(default_sphere)\n",
    "sampling_matrix.shape"
   ]
  },
  {
   "cell_type": "code",
   "execution_count": 13,
   "id": "b733afa7-3fea-41b6-94ef-43e056f4507b",
   "metadata": {},
   "outputs": [],
   "source": [
    "fodf = np.dot(fodf.T[:,:,:,1:], sampling_matrix.T)"
   ]
  },
  {
   "cell_type": "code",
   "execution_count": null,
   "id": "6dfde8be-5804-4139-b081-c44ee0043ce7",
   "metadata": {},
   "outputs": [
    {
     "name": "stdout",
     "output_type": "stream",
     "text": [
      "Saving illustration as csd_odfs.png\n"
     ]
    }
   ],
   "source": [
    "from dipy.viz import window, actor\n",
    "fodf_spheres = actor.odf_slicer(fodf[70:100, 70:100, 80:81], sphere=default_sphere, scale=0.9,\n",
    "                                norm=False, colormap='plasma')\n",
    "\n",
    "scene = window.Scene()\n",
    "scene.add(fodf_spheres)\n",
    "\n",
    "print('Saving illustration as csd_odfs.png')\n",
    "window.record(scene, out_path='csd_odfs.png', size=(3000, 3000))\n",
    "#if interactive:\n",
    "window.show(scene)"
   ]
  },
  {
   "cell_type": "code",
   "execution_count": null,
   "id": "45a54ac0-e2f8-41a7-9069-78940e15cb00",
   "metadata": {},
   "outputs": [],
   "source": [
    "window.close"
   ]
  },
  {
   "cell_type": "code",
   "execution_count": 18,
   "id": "2ccf3b1f-79fb-4c4c-9b72-df056f938aa1",
   "metadata": {},
   "outputs": [
    {
     "data": {
      "text/plain": [
       "(145, 174, 145, 45)"
      ]
     },
     "execution_count": 18,
     "metadata": {},
     "output_type": "execute_result"
    }
   ],
   "source": [
    "fodf.T.shape\n",
    "(3, 6, 4, 5)"
   ]
  },
  {
   "cell_type": "code",
   "execution_count": 6,
   "id": "6dce3771-fb11-4d09-b903-d696eaa669f9",
   "metadata": {},
   "outputs": [
    {
     "data": {
      "text/plain": [
       "OrderedDict([('type', 'double'),\n",
       "             ('dimension', 4),\n",
       "             ('space', 'right-anterior-superior'),\n",
       "             ('sizes', array([ 46, 145, 174, 145])),\n",
       "             ('space directions',\n",
       "              array([[  nan,   nan,   nan],\n",
       "                     [-1.25,  0.  ,  0.  ],\n",
       "                     [ 0.  ,  1.25,  0.  ],\n",
       "                     [ 0.  ,  0.  ,  1.25]])),\n",
       "             ('kinds', ['???', 'space', 'space', 'space']),\n",
       "             ('endian', 'little'),\n",
       "             ('encoding', 'gzip'),\n",
       "             ('labels', ['tijk_mask_8o3d_sym', '', '', '']),\n",
       "             ('space origin', array([  90., -126.,  -72.]))])"
      ]
     },
     "execution_count": 6,
     "metadata": {},
     "output_type": "execute_result"
    }
   ],
   "source": [
    "a"
   ]
  },
  {
   "cell_type": "code",
   "execution_count": null,
   "id": "a13bba64-0bb4-4ae2-a4d8-a426ff0223f8",
   "metadata": {},
   "outputs": [],
   "source": []
  }
 ],
 "metadata": {
  "kernelspec": {
   "display_name": "Python 3",
   "language": "python",
   "name": "python3"
  },
  "language_info": {
   "codemirror_mode": {
    "name": "ipython",
    "version": 3
   },
   "file_extension": ".py",
   "mimetype": "text/x-python",
   "name": "python",
   "nbconvert_exporter": "python",
   "pygments_lexer": "ipython3",
   "version": "3.8.10"
  }
 },
 "nbformat": 4,
 "nbformat_minor": 5
}
