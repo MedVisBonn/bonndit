{
 "cells": [
  {
   "cell_type": "code",
   "execution_count": 100,
   "id": "f619790a-1780-465a-a0f4-4dbb20b1dbcc",
   "metadata": {},
   "outputs": [],
   "source": [
    "import numpy as np\n",
    "import nrrd\n",
    "def unit_vector(vector):\n",
    "    \"\"\" Returns the unit vector of the vector.  \"\"\"\n",
    "    return vector / np.linalg.norm(vector)\n",
    "\n",
    "def angle_between(v1, v2):\n",
    "    \"\"\" Returns the angle in radians between vectors 'v1' and 'v2'::\n",
    "\n",
    "            >>> angle_between((1, 0, 0), (0, 1, 0))\n",
    "            1.5707963267948966\n",
    "            >>> angle_between((1, 0, 0), (1, 0, 0))\n",
    "            0.0\n",
    "            >>> angle_between((1, 0, 0), (-1, 0, 0))\n",
    "            3.141592653589793\n",
    "    \"\"\"\n",
    "    v1_u = unit_vector(v1)\n",
    "    v2_u = unit_vector(v2)\n",
    "    return np.arccos(np.clip(np.dot(v1_u, v2_u), -1.0, 1.0))/np.pi*180\n",
    "\n",
    "options = [[0,2,1], [1,0,2],[1,2,0],[2,1,0],[2,0,1]]\n",
    "\n",
    "def assigner(fodfs):\n",
    "    min_angles = np.zeros((3,))\n",
    "    for i in range(3):\n",
    "        for j in range(1, fodfs.shape[2]):\n",
    "            angle = angle_between(fodfs[:,i, j], fodfs[:,i, 0])\n",
    "            if angle > 180: \n",
    "                print(1)\n",
    "                fodfs[:, i, j] = -fodfs[:, i, j]\n",
    "    avg_vec = np.mean(fodfs, axis=2)\n",
    "    avg_vec = avg_vec/np.linalg.norm(avg_vec, axis=0)\n",
    "    for i in range(3):\n",
    "        for j in range(0, fodfs.shape[2]):\n",
    "            angle = angle_between(fodfs[:,i, j], avg_vec[:,i])\n",
    "            min_angles[i] += angle\n",
    "    new_min_angles = min_angles\n",
    "    change = 1\n",
    "    while change:\n",
    "        change = 0\n",
    "        change_sign = np.ones((3,))\n",
    "        for i in range(fodfs.shape[2]):\n",
    "            new_min_angles = np.array(min_angles)\n",
    "            for j in range(3):\n",
    "                new_min_angles[j] -= angle_between(fodfs[:,j, i], avg_vec[:,j])\n",
    "            for opt in options:\n",
    "                test_angles = np.zeros((3,))\n",
    "                for j in range(3):\n",
    "                    angle = angle_between(fodfs[:,opt, i][:,j], avg_vec[:,j])\n",
    "                    if angle > 180:\n",
    "                        test_angles[j] = angle - 180\n",
    "                    else:\n",
    "                        test_angles[j] = angle\n",
    "                #print(new_min_angles)\n",
    "                if sum(new_min_angles) + sum(test_angles) < sum(min_angles):\n",
    "                    print(1)\n",
    "                    return\n",
    "        print(new_min_angles, min_angles)\n",
    "        return 1\n",
    "                    \n",
    "                        \n",
    "                            \n",
    "            \n",
    "            \n",
    "            \n",
    "            \n",
    "            \n",
    "            \n",
    "            \n",
    "    return avg_vec\n",
    "\n",
    "fodf, meta = nrrd.read('/home/johannes/UniBonn/data/HCP/904044/ankele/rank_3_neigh_0.nrrd')\n",
    "            "
   ]
  },
  {
   "cell_type": "code",
   "execution_count": 111,
   "id": "c4853294-687d-4f57-83c8-bd752b1119c3",
   "metadata": {},
   "outputs": [],
   "source": [
    "test = fodf[1:,:,59:62,87:90,51:53]"
   ]
  },
  {
   "cell_type": "code",
   "execution_count": 115,
   "id": "eac3e6b6-8ce4-4154-b14a-606be46f6412",
   "metadata": {},
   "outputs": [
    {
     "name": "stdout",
     "output_type": "stream",
     "text": [
      "[ 85.80255352 130.69909116 101.49698143] [ 87.91243875 148.77018885 111.46456564]\n"
     ]
    }
   ],
   "source": [
    "a = assigner(test.reshape((3,3,18)))"
   ]
  },
  {
   "cell_type": "code",
   "execution_count": 68,
   "id": "60cd152e-8e81-40f1-b59b-76764715c602",
   "metadata": {},
   "outputs": [
    {
     "data": {
      "text/plain": [
       "array([], shape=(3, 0, 2), dtype=float32)"
      ]
     },
     "execution_count": 68,
     "metadata": {},
     "output_type": "execute_result"
    }
   ],
   "source": [
    "test[:,,0,0,0]"
   ]
  },
  {
   "cell_type": "code",
   "execution_count": 114,
   "id": "8c02d423-031f-475f-b894-4ec06bdc0a71",
   "metadata": {},
   "outputs": [
    {
     "data": {
      "text/plain": [
       "54.0"
      ]
     },
     "execution_count": 114,
     "metadata": {},
     "output_type": "execute_result"
    }
   ],
   "source": [
    "162/3"
   ]
  },
  {
   "cell_type": "code",
   "execution_count": null,
   "id": "6fefab15-c9f3-4491-87c6-c66a97778ca6",
   "metadata": {},
   "outputs": [],
   "source": []
  }
 ],
 "metadata": {
  "kernelspec": {
   "display_name": "bonndit",
   "language": "python",
   "name": "bonndit"
  },
  "language_info": {
   "codemirror_mode": {
    "name": "ipython",
    "version": 3
   },
   "file_extension": ".py",
   "mimetype": "text/x-python",
   "name": "python",
   "nbconvert_exporter": "python",
   "pygments_lexer": "ipython3",
   "version": "3.8.10"
  }
 },
 "nbformat": 4,
 "nbformat_minor": 5
}
