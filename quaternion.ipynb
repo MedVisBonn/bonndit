{
 "cells": [
  {
   "cell_type": "code",
   "execution_count": 324,
   "id": "74445790-10b7-4b65-87f3-ebb7cf2f03d6",
   "metadata": {},
   "outputs": [],
   "source": [
    "import numpy as np "
   ]
  },
  {
   "cell_type": "code",
   "execution_count": 346,
   "id": "01eacd80-7ce3-4f22-a541-8dfb3758d0df",
   "metadata": {},
   "outputs": [],
   "source": [
    "def quat2rot(q):\n",
    "    R = np.array([[q[0]**2 + q[1]**2 - q[2]**2 - q[3]**2, 2*(q[1] * q[2] - q[0] * q[3]),         2*(q[1] * q[3] + q[0] * q[2])],\n",
    "                  [2*(q[1] * q[2] + q[0] * q[3]),         q[0]**2 - q[1]**2 + q[2]**2 - q[3]**2, 2*(q[2] * q[3] - q[0] * q[1])],\n",
    "                  [2*(q[1] * q[3] - q[0] * q[2]),         2*(q[2] * q[3] + q[0] * q[1]),         q[0]**2 - q[1]**2 - q[2]**2 + q[3]**2]])\n",
    "    return R\n",
    "                  \n",
    "\n",
    "def quat2zyz(q):\n",
    "    r23 =  (q[2] * q[3] - q[1] * q[0])\n",
    "    r13 =  (q[1] * q[3] + q[2] * q[0])\n",
    "    r33 =  1 - 2*(q[1]**2 + q[2] ** 2)\n",
    "    r31 =  (q[1] * q[3] - q[2] * q[0])\n",
    "    r32 =  (q[2] * q[3] + q[1] * q[0])\n",
    "    if r33 != 0:\n",
    "        y = np.arccos(r33)\n",
    "        x = np.arctan2(r32, r31)\n",
    "        z = np.arctan2(r23, -r13)\n",
    "        \n",
    "    return np.array([x,y,z])\n",
    "\n",
    "def quaternion_to_euler(q):\n",
    "    (w, x, y, z) = (q[0], q[1], q[2], q[3])\n",
    "    t0 = +2.0 * (w * x + y * z)\n",
    "    t1 = +1.0 - 2.0 * (x * x + y * y)\n",
    "    roll = np.arctan2(t0, t1)\n",
    "    t2 = +2.0 * (w * y - z * x)\n",
    "    t2 = +1.0 if t2 > +1.0 else t2\n",
    "    t2 = -1.0 if t2 < -1.0 else t2\n",
    "    pitch = np.arcsin(t2)\n",
    "    t3 = +2.0 * (w * z + x * y)\n",
    "    t4 = +1.0 - 2.0 * (y * y + z * z)\n",
    "    yaw = np.arctan2(t3, t4)\n",
    "    return np.array([roll, pitch, yaw])\n",
    "\n",
    "def quatmult(x,y):\n",
    "    return np.array([x[0]*y[0] - x[1]*y[1] - x[2]*y[2] - x[3]*y[3],\n",
    "                     x[0]*y[1] + x[1]*y[0] + x[2]*y[3] - x[3]*y[2],\n",
    "                     x[0]*y[2] - x[1]*y[3] + x[2]*y[0] + x[3]*y[1],\n",
    "                     x[0]*y[3] + x[1]*y[2] - x[2]*y[1] + x[3]*y[0]])\n",
    "\n",
    "def euler_to_quaternion(r):\n",
    "    (yaw, pitch, roll) = (r[0], r[1], r[2])\n",
    "    qz = np.sin(roll/2) * np.cos(pitch/2) * np.cos(yaw/2) - np.cos(roll/2) * np.sin(pitch/2) * np.sin(yaw/2)\n",
    "    qy = np.cos(roll/2) * np.sin(pitch/2) * np.cos(yaw/2) + np.sin(roll/2) * np.cos(pitch/2) * np.sin(yaw/2)\n",
    "    qx = np.cos(roll/2) * np.cos(pitch/2) * np.sin(yaw/2) - np.sin(roll/2) * np.sin(pitch/2) * np.cos(yaw/2)\n",
    "    qw = np.cos(roll/2) * np.cos(pitch/2) * np.cos(yaw/2) + np.sin(roll/2) * np.sin(pitch/2) * np.sin(yaw/2)\n",
    "    return np.array([qw, qx, qy, qz])"
   ]
  },
  {
   "cell_type": "code",
   "execution_count": 377,
   "id": "2be713a2-48c7-41c3-95ab-68563c743c94",
   "metadata": {},
   "outputs": [],
   "source": [
    "def r_x(x): \n",
    "    return np.array([[1,0,0], [0, np.cos(x), - np.sin(x)], [0, np. sin(x), np.cos(x)]])\n",
    "def r_y(x): \n",
    "    return np.array( [[np.cos(x), 0, np.sin(x)], [0,1,0], [-np. sin(x), 0 ,  np.cos(x)]])\n",
    "def r_z(x): \n",
    "    return np.array([[np.cos(x), - np.sin(x), 0], [np. sin(x), np.cos(x),0], [0,0,1]])\n",
    "\n",
    "\n",
    "def xyz2quat(x,y,z):\n",
    "    qx = np.array([np.cos(x/2), np.sin(x/2), 0, 0])\n",
    "    qy = np.array([np.cos(y/2), 0, np.sin(y/2), 0])\n",
    "    qz = np.array([np.cos(z/2), 0, 0, np.sin(z/2)])\n",
    "    return quatmult(qz, quatmult(qy, qx))\n",
    "\n",
    "def zyz2quat(x,y,z):\n",
    "    qx = np.array([np.cos(x/2), 0, 0, np.sin(x/2)])\n",
    "    qy = np.array([np.cos(y/2), 0, np.sin(y/2), 0])\n",
    "    qz = np.array([np.cos(z/2), 0, 0, np.sin(z/2)])\n",
    "    return quatmult(qx, quatmult(qy, qz))\n",
    "\n",
    "def zyz2xyz(x,y,z):\n",
    "    R = r_z(x) @ r_y(y) @ r_z(z)\n",
    "    x = np.arctan(- R[1,2]/R[2,2])\n",
    "    y = np.arcsin(R[0,2])\n",
    "    z = np.arctan(-R[0,1] /R[0,0])\n",
    "    return x,y,z\n",
    "\n",
    "def xyz2zyz(e):\n",
    "    R = r_x(e[0]) @ r_y(e[1]) @ r_z(e[2])\n",
    "    if R[2,2] != 0:\n",
    "        y = np.arccos(R[2,2])\n",
    "        z = -np.arctan2(R[2,1], R[2,0]) +np.pi\n",
    "        x = np.arctan2(R[1,2], R[0,2])\n",
    "        \n",
    "    return np.array([x,y,z])"
   ]
  },
  {
   "cell_type": "code",
   "execution_count": 378,
   "id": "33bf4323-1cb2-414d-b430-7a65977a8ee1",
   "metadata": {},
   "outputs": [
    {
     "data": {
      "text/plain": [
       "array([ 0.78634338,  0.02252942,  0.14773009, -0.59944336])"
      ]
     },
     "execution_count": 378,
     "metadata": {},
     "output_type": "execute_result"
    }
   ],
   "source": [
    "# transforms points to quaterniions and back\n",
    "x = 0.5\n",
    "y = 0.3 \n",
    "z = 1.3\n",
    "xyz2quat(*zyz2xyz(x,y,z)) #- euler_to_quaternion(zyz2xyz(x,y,z))"
   ]
  },
  {
   "cell_type": "code",
   "execution_count": 381,
   "id": "696d8101-8cdd-478f-aad2-220d81f22fa7",
   "metadata": {},
   "outputs": [
    {
     "data": {
      "text/plain": [
       "1.0000000000000002"
      ]
     },
     "execution_count": 381,
     "metadata": {},
     "output_type": "execute_result"
    }
   ],
   "source": [
    "zyz2quat(z,y,x)"
   ]
  },
  {
   "cell_type": "code",
   "execution_count": 383,
   "id": "bb322d78-f987-40d6-834e-bc09648c3e7c",
   "metadata": {},
   "outputs": [
    {
     "data": {
      "text/plain": [
       "(-0.14723056121615463, 0.2623422587933126, -1.3221341750839772)"
      ]
     },
     "execution_count": 383,
     "metadata": {},
     "output_type": "execute_result"
    }
   ],
   "source": [
    "\n",
    "zyz2xyz(x,y,z)"
   ]
  },
  {
   "cell_type": "code",
   "execution_count": 349,
   "id": "638cb0aa-7451-4200-8193-fa80e0782a08",
   "metadata": {},
   "outputs": [],
   "source": [
    "#define transformation from H to R³\n",
    "## works\n",
    "\n",
    "def MRP_H2R(q):\n",
    "    return 4 * q[1:]/(1+q[0])\n",
    "\n",
    "def MRP_R2H(e):\n",
    "    return 1/(16 + np.linalg.norm(e)**2) * np.array([16 - np.linalg.norm(e)**2, *8*e])"
   ]
  },
  {
   "cell_type": "code",
   "execution_count": 358,
   "id": "e2000527-cc62-49b0-9931-824b8b6d6893",
   "metadata": {},
   "outputs": [],
   "source": [
    "# complex conjugated \n",
    "def quat_cc(q):\n",
    "    d = np.copy(q)\n",
    "    d[1:] *= -1\n",
    "    return d"
   ]
  },
  {
   "cell_type": "code",
   "execution_count": 359,
   "id": "3912604c-04b9-4f6f-b79c-3446967d92a5",
   "metadata": {},
   "outputs": [],
   "source": [
    "a = euler_to_quaternion(zyz2xyz(x,y,z))"
   ]
  },
  {
   "cell_type": "code",
   "execution_count": 363,
   "id": "9f388625-52da-44d7-883c-1bbb16f57bb0",
   "metadata": {},
   "outputs": [
    {
     "data": {
      "text/plain": [
       "array([ 1.00000000e+00,  0.00000000e+00, -3.46944695e-18,  0.00000000e+00])"
      ]
     },
     "execution_count": 363,
     "metadata": {},
     "output_type": "execute_result"
    }
   ],
   "source": [
    "quatmult(quat_cc(a), a)"
   ]
  },
  {
   "cell_type": "code",
   "execution_count": 361,
   "id": "248b5057-154a-4ec0-8ecb-99fea29333e6",
   "metadata": {},
   "outputs": [
    {
     "data": {
      "text/plain": [
       "array([ 0.78634338, -0.02252942, -0.14773009,  0.59944336])"
      ]
     },
     "execution_count": 361,
     "metadata": {},
     "output_type": "execute_result"
    }
   ],
   "source": [
    "quat_cc(a)"
   ]
  },
  {
   "cell_type": "code",
   "execution_count": 364,
   "id": "032b570c-eb87-4089-9b8c-8910e589582d",
   "metadata": {},
   "outputs": [
    {
     "data": {
      "text/plain": [
       "array([0., 0., 0.])"
      ]
     },
     "execution_count": 364,
     "metadata": {},
     "output_type": "execute_result"
    }
   ],
   "source": [
    "MRP_H2R(np.array([1,0,0,0]))"
   ]
  },
  {
   "cell_type": "code",
   "execution_count": 365,
   "id": "ea18b1b0-b3ce-4ac8-9e05-c9f99f6bc59a",
   "metadata": {},
   "outputs": [],
   "source": [
    "import sympy as s\n",
    "def r_x(x): \n",
    "    return np.array([[1,0,0], [0, s.cos(x), - s.sin(x)], [0, s.sin(x), s.cos(x)]])\n",
    "def r_y(x): \n",
    "    return np.array( [[s.cos(x), 0, s.sin(x)], [0,1,0], [-s.sin(x), 0 ,  s.cos(x)]])\n",
    "def r_z(x): \n",
    "    return np.array([[s.cos(x), - s.sin(x), 0], [s.sin(x), s.cos(x),0], [0,0,1]])\n",
    "\n"
   ]
  },
  {
   "cell_type": "code",
   "execution_count": 367,
   "id": "6f98e171-c242-4763-996e-3d0484d897ba",
   "metadata": {},
   "outputs": [
    {
     "data": {
      "text/plain": [
       "array([[-sin(zyz[0])*sin(zyz[2]) + cos(zyz[0])*cos(zyz[1])*cos(zyz[2]),\n",
       "        -sin(zyz[0])*cos(zyz[2]) - sin(zyz[2])*cos(zyz[0])*cos(zyz[1]),\n",
       "        sin(zyz[1])*cos(zyz[0])],\n",
       "       [sin(zyz[0])*cos(zyz[1])*cos(zyz[2]) + sin(zyz[2])*cos(zyz[0]),\n",
       "        -sin(zyz[0])*sin(zyz[2])*cos(zyz[1]) + cos(zyz[0])*cos(zyz[2]),\n",
       "        sin(zyz[0])*sin(zyz[1])],\n",
       "       [-sin(zyz[1])*cos(zyz[2]), sin(zyz[1])*sin(zyz[2]), cos(zyz[1])]],\n",
       "      dtype=object)"
      ]
     },
     "execution_count": 367,
     "metadata": {},
     "output_type": "execute_result"
    }
   ],
   "source": [
    "x = s.Symbol('zyz[0]')\n",
    "y = s.Symbol('zyz[1]')\n",
    "z = s.Symbol('zyz[2]')\n",
    "r_z(x) @ r_y(y) @ r_z(z)"
   ]
  },
  {
   "cell_type": "code",
   "execution_count": null,
   "id": "fc630786-fb25-4ffa-95a5-14413ec589f1",
   "metadata": {},
   "outputs": [],
   "source": []
  }
 ],
 "metadata": {
  "kernelspec": {
   "display_name": "bonndit",
   "language": "python",
   "name": "bonndit"
  },
  "language_info": {
   "codemirror_mode": {
    "name": "ipython",
    "version": 3
   },
   "file_extension": ".py",
   "mimetype": "text/x-python",
   "name": "python",
   "nbconvert_exporter": "python",
   "pygments_lexer": "ipython3",
   "version": "3.9.13"
  }
 },
 "nbformat": 4,
 "nbformat_minor": 5
}
