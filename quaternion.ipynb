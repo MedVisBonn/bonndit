{
 "cells": [
  {
   "cell_type": "code",
   "execution_count": 1,
   "id": "74445790-10b7-4b65-87f3-ebb7cf2f03d6",
   "metadata": {
    "pycharm": {
     "name": "#%%\n"
    }
   },
   "outputs": [],
   "source": [
    "\n",
    "import numpy as np "
   ]
  },
  {
   "cell_type": "code",
   "execution_count": 2,
   "id": "01eacd80-7ce3-4f22-a541-8dfb3758d0df",
   "metadata": {
    "pycharm": {
     "name": "#%%\n"
    }
   },
   "outputs": [],
   "source": [
    "def quat2rot(q):\n",
    "    R = np.array([[q[0]**2 + q[1]**2 - q[2]**2 - q[3]**2, - 2*(q[1] * q[2] - q[0] * q[3]),  - 2*(q[1] * q[3] + q[0] * q[2])],\n",
    "                  [- 2*(q[1] * q[2] + q[0] * q[3]),         \n",
    "                   q[0]**2 - q[1]**2 + q[2]**2 - q[3]**2, 2*(q[2] * q[3] - q[0] * q[1])],\n",
    "                  [- 2*(q[1] * q[3] - q[0] * q[2]),         2*(q[2] * q[3] + q[0] * q[1]),    q[0]**2 - q[1]**2 - q[2]**2 + q[3]**2]])\n",
    "    return R\n",
    "                  \n",
    "\n",
    "def quat2zyz(q):\n",
    "    r32 =  2*(q[2] * q[3] - q[0] * q[1])\n",
    "    r31 =  2*(q[1] * q[3] + q[0] * q[2])\n",
    "    r33 =  q[0]**2 - q[1]**2 - q[2]**2 + q[3]**2\n",
    "    r13 =  2*(q[1] * q[3] - q[0] * q[2])\n",
    "    r23 =  2*(q[2] * q[3] + q[0] * q[1])\n",
    "   \n",
    "    x = np.arctan2(r32, r31)\n",
    "    z = np.arctan2(r23, -r13)\n",
    "    y = np.arctan2(r31*np.cos(x) + r32*np.sin(x), r33)\n",
    "      #  y  = np.arccos(r13)\n",
    "    return np.array([z,y,x])\n",
    "\n",
    "def quaternion_to_euler(q):\n",
    "    (w, x, y, z) = (q[0], q[1], q[2], q[3])\n",
    "    t0 = +2.0 * (w * x + y * z)\n",
    "    t1 = +1.0 - 2.0 * (x * x + y * y)\n",
    "    roll = np.arctan2(t0, t1)\n",
    "    t2 = +2.0 * (w * y - z * x)\n",
    "    t2 = +1.0 if t2 > +1.0 else t2\n",
    "    t2 = -1.0 if t2 < -1.0 else t2\n",
    "    pitch = np.arcsin(t2)\n",
    "    t3 = +2.0 * (w * z + x * y)\n",
    "    t4 = +1.0 - 2.0 * (y * y + z * z)\n",
    "    yaw = np.arctan2(t3, t4)\n",
    "    return np.array([roll, pitch, yaw])\n",
    "\n",
    "def quatmult(x,y):\n",
    "    return np.array([x[0]*y[0] - x[1]*y[1] - x[2]*y[2] - x[3]*y[3],\n",
    "                     x[0]*y[1] + x[1]*y[0] + x[2]*y[3] - x[3]*y[2],\n",
    "                     x[0]*y[2] - x[1]*y[3] + x[2]*y[0] + x[3]*y[1],\n",
    "                     x[0]*y[3] + x[1]*y[2] - x[2]*y[1] + x[3]*y[0]])\n",
    "\n",
    "def euler_to_quaternion(r):\n",
    "    (yaw, pitch, roll) = (r[0], r[1], r[2])\n",
    "    qz = np.sin(roll/2) * np.cos(pitch/2) * np.cos(yaw/2) - np.cos(roll/2) * np.sin(pitch/2) * np.sin(yaw/2)\n",
    "    qy = np.cos(roll/2) * np.sin(pitch/2) * np.cos(yaw/2) + np.sin(roll/2) * np.cos(pitch/2) * np.sin(yaw/2)\n",
    "    qx = np.cos(roll/2) * np.cos(pitch/2) * np.sin(yaw/2) - np.sin(roll/2) * np.sin(pitch/2) * np.cos(yaw/2)\n",
    "    qw = np.cos(roll/2) * np.cos(pitch/2) * np.cos(yaw/2) + np.sin(roll/2) * np.sin(pitch/2) * np.sin(yaw/2)\n",
    "    return np.array([qw, qx, qy, qz])"
   ]
  },
  {
   "cell_type": "code",
   "execution_count": 3,
   "id": "2be713a2-48c7-41c3-95ab-68563c743c94",
   "metadata": {
    "pycharm": {
     "name": "#%%\n"
    }
   },
   "outputs": [],
   "source": [
    "def r_x(x): \n",
    "    return np.array([[1,0,0], [0, np.cos(x), - np.sin(x)], [0, np. sin(x), np.cos(x)]])\n",
    "def r_y(x): \n",
    "    return np.array( [[np.cos(x), 0, np.sin(x)], [0,1,0], [-np. sin(x), 0 ,  np.cos(x)]])\n",
    "def r_z(x): \n",
    "    return np.array([[np.cos(x), - np.sin(x), 0], [np. sin(x), np.cos(x),0], [0,0,1]])\n",
    "\n",
    "\n",
    "def xyz2quat(x,y,z):\n",
    "    qx = np.array([np.cos(x/2), np.sin(x/2), 0, 0])\n",
    "    qy = np.array([np.cos(y/2), 0, np.sin(y/2), 0])\n",
    "    qz = np.array([np.cos(z/2), 0, 0, np.sin(z/2)])\n",
    "    return quatmult(qx, quatmult(qy, qz))\n",
    "\n",
    "def zyz2quat(x,y,z):\n",
    "    qx = np.array([np.cos(x/2), 0, 0, np.sin(x/2)])\n",
    "    qy = np.array([np.cos(y/2), 0, np.sin(y/2), 0])\n",
    "    qz = np.array([np.cos(z/2), 0, 0, np.sin(z/2)])\n",
    "    return quatmult(qz, quatmult(qy, qx))\n",
    "\n",
    "def zyz2xyz(x,y,z):\n",
    "    R = r_z(x) @ r_y(y) @ r_z(z)\n",
    "    x = np.arctan(- R[1,2]/R[2,2])\n",
    "    y = np.arcsin(R[0,2])\n",
    "    z = np.arctan(-R[0,1] /R[0,0])\n",
    "    return x,y,z\n",
    "\n",
    "def xyz2zyz(e):\n",
    "    R = r_x(e[0]) @ r_y(e[1]) @ r_z(e[2])\n",
    "    if R[2,2] != 0:\n",
    "        y = np.arccos(R[2,2])\n",
    "        z = -np.arctan2(R[2,1], R[2,0]) +np.pi\n",
    "        x = np.arctan2(R[1,2], R[0,2])\n",
    "        \n",
    "    return np.array([x,y,z])"
   ]
  },
  {
   "cell_type": "code",
   "execution_count": 4,
   "id": "33bf4323-1cb2-414d-b430-7a65977a8ee1",
   "metadata": {
    "pycharm": {
     "name": "#%%\n"
    }
   },
   "outputs": [
    {
     "data": {
      "text/plain": [
       "array([0.78714464, 0.09043793, 0.11896528, 0.59839081])"
      ]
     },
     "execution_count": 4,
     "metadata": {},
     "output_type": "execute_result"
    }
   ],
   "source": [
    "# transforms points to quaterniions and back\n",
    "x = 0.0\n",
    "y = 0.3 \n",
    "z = 1.3\n",
    "xyz2quat(*zyz2xyz(x,y,z)) #- euler_to_quaternion(zyz2xyz(x,y,z))"
   ]
  },
  {
   "cell_type": "code",
   "execution_count": null,
   "id": "696d8101-8cdd-478f-aad2-220d81f22fa7",
   "metadata": {
    "pycharm": {
     "name": "#%%\n"
    }
   },
   "outputs": [],
   "source": []
  },
  {
   "cell_type": "code",
   "execution_count": null,
   "id": "bb322d78-f987-40d6-834e-bc09648c3e7c",
   "metadata": {
    "pycharm": {
     "name": "#%%\n"
    }
   },
   "outputs": [],
   "source": []
  },
  {
   "cell_type": "code",
   "execution_count": 5,
   "id": "638cb0aa-7451-4200-8193-fa80e0782a08",
   "metadata": {
    "pycharm": {
     "name": "#%%\n"
    }
   },
   "outputs": [
    {
     "data": {
      "text/plain": [
       "array([0., 0., 0.])"
      ]
     },
     "execution_count": 5,
     "metadata": {},
     "output_type": "execute_result"
    }
   ],
   "source": [
    "#define transformation from H to R³\n",
    "## works\n",
    "\n",
    "def MRP_H2R(q):\n",
    "    return 4 * q[1:]/(1+q[0])\n",
    "\n",
    "def MRP_R2H(e):\n",
    "    return 1/(16 + np.linalg.norm(e)**2) * np.array([16 - np.linalg.norm(e)**2, *8*e])\n",
    "\n",
    "MRP_H2R(np.array([1,0,0,0]))"
   ]
  },
  {
   "cell_type": "code",
   "execution_count": 6,
   "id": "e2000527-cc62-49b0-9931-824b8b6d6893",
   "metadata": {
    "pycharm": {
     "name": "#%%\n"
    }
   },
   "outputs": [],
   "source": [
    "# complex conjugated \n",
    "def quat_cc(q):\n",
    "    d = np.copy(q)\n",
    "    d[1:] *= -1\n",
    "    return d"
   ]
  },
  {
   "cell_type": "code",
   "execution_count": 7,
   "id": "3912604c-04b9-4f6f-b79c-3446967d92a5",
   "metadata": {
    "pycharm": {
     "name": "#%%\n"
    }
   },
   "outputs": [],
   "source": [
    "x = 0\n",
    "y = 0.5 \n",
    "z = 1\n",
    "a = euler_to_quaternion(zyz2xyz(x,y,z))"
   ]
  },
  {
   "cell_type": "code",
   "execution_count": 8,
   "id": "deed5bb7",
   "metadata": {
    "collapsed": false,
    "jupyter": {
     "outputs_hidden": false
    },
    "pycharm": {
     "name": "#%%\n"
    }
   },
   "outputs": [
    {
     "data": {
      "text/plain": [
       "array([[ 0.47415988, -0.73846026,  0.47942554],\n",
       "       [ 0.84147098,  0.54030231,  0.        ],\n",
       "       [-0.25903472,  0.40342268,  0.87758256]])"
      ]
     },
     "execution_count": 8,
     "metadata": {},
     "output_type": "execute_result"
    }
   ],
   "source": [
    "quat2rot(a).T"
   ]
  },
  {
   "cell_type": "code",
   "execution_count": 9,
   "id": "2acf2ed9",
   "metadata": {
    "collapsed": false,
    "jupyter": {
     "outputs_hidden": false
    },
    "pycharm": {
     "name": "#%%\n"
    }
   },
   "outputs": [],
   "source": [
    "from numpy import sin, cos\n",
    "def r_z_r_y_r_z(ret, v):\n",
    "    ret[0,0] = -sin(v[0])*sin(v[2]) + cos(v[0])*cos(v[1])*cos(v[2])\n",
    "    ret[0,1] = sin(v[0])*cos(v[2]) + sin(v[2])*cos(v[0])*cos(v[1])\n",
    "    ret[0,2] = - sin(v[1])*cos(v[0])\n",
    "    ret[1,0] = - sin(v[0])*cos(v[1])*cos(v[2]) - sin(v[2])*cos(v[0])\n",
    "    ret[1,1] = - sin(v[0])*sin(v[2])*cos(v[1]) + cos(v[0])*cos(v[2])\n",
    "    ret[1,2] = sin(v[0])*sin(v[1])\n",
    "    ret[2,0] = sin(v[1])*cos(v[2])\n",
    "    ret[2,1] = sin(v[1])*sin(v[2])\n",
    "    ret[2,2] = cos(v[1])\n",
    "    "
   ]
  },
  {
   "cell_type": "code",
   "execution_count": 10,
   "id": "690c69dd",
   "metadata": {
    "collapsed": false,
    "jupyter": {
     "outputs_hidden": false
    },
    "pycharm": {
     "name": "#%%\n"
    }
   },
   "outputs": [],
   "source": [
    "R = np.zeros((3,3))\n",
    "r_z_r_y_r_z(R, [0,0.5,1])"
   ]
  },
  {
   "cell_type": "code",
   "execution_count": 11,
   "id": "21811b41",
   "metadata": {
    "collapsed": false,
    "jupyter": {
     "outputs_hidden": false
    },
    "pycharm": {
     "name": "#%%\n"
    }
   },
   "outputs": [
    {
     "data": {
      "text/plain": [
       "array([[ 0.47415988,  0.73846026, -0.47942554],\n",
       "       [-0.84147098,  0.54030231,  0.        ],\n",
       "       [ 0.25903472,  0.40342268,  0.87758256]])"
      ]
     },
     "execution_count": 11,
     "metadata": {},
     "output_type": "execute_result"
    }
   ],
   "source": [
    "R"
   ]
  },
  {
   "cell_type": "code",
   "execution_count": 12,
   "id": "6d610081-9cd1-48b7-b75b-ad6d71ac7c69",
   "metadata": {
    "pycharm": {
     "name": "#%%\n"
    }
   },
   "outputs": [],
   "source": [
    "R = np.zeros((3,3))\n",
    "r_z_r_y_r_z(R, [0,0.5,1])"
   ]
  },
  {
   "cell_type": "code",
   "execution_count": 13,
   "id": "248b5057-154a-4ec0-8ecb-99fea29333e6",
   "metadata": {
    "pycharm": {
     "name": "#%%\n"
    }
   },
   "outputs": [
    {
     "data": {
      "text/plain": [
       "array([[ 0.47415988,  0.73846026, -0.47942554],\n",
       "       [-0.84147098,  0.54030231,  0.        ],\n",
       "       [ 0.25903472,  0.40342268,  0.87758256]])"
      ]
     },
     "execution_count": 13,
     "metadata": {},
     "output_type": "execute_result"
    }
   ],
   "source": [
    "R"
   ]
  },
  {
   "cell_type": "code",
   "execution_count": 14,
   "id": "032b570c-eb87-4089-9b8c-8910e589582d",
   "metadata": {
    "pycharm": {
     "name": "#%%\n"
    }
   },
   "outputs": [],
   "source": [
    "def rotation_angles(matrix, order='zyz'):\n",
    "    \"\"\"\n",
    "    input\n",
    "        matrix = 3x3 rotation matrix (numpy array)\n",
    "        oreder(str) = rotation order of x, y, z : e.g, rotation XZY -- 'xzy'\n",
    "    output\n",
    "        theta1, theta2, theta3 = rotation angles in rotation order\n",
    "    \"\"\"\n",
    "    a = np.eye(3)\n",
    "    a[0,0] = -1\n",
    "    matrix = a @ matrix @ a\n",
    "    r11, r12, r13 = matrix[0]\n",
    "    r21, r22, r23 = matrix[1]\n",
    "    r31, r32, r33 = matrix[2]\n",
    "   \n",
    "\n",
    "    if order == 'xzx':\n",
    "        theta1 = np.arctan(r31 / r21)\n",
    "        theta2 = np.arctan(r21 / (r11 * np.cos(theta1)))\n",
    "        theta3 = np.arctan(-r13 / r12)\n",
    "\n",
    "    elif order == 'xyx':\n",
    "        theta1 = np.arctan(-r21 / r31)\n",
    "        theta2 = np.arctan(-r31 / (r11 *np.cos(theta1)))\n",
    "        theta3 = np.arctan(r12 / r13)\n",
    "\n",
    "    elif order == 'yxy':\n",
    "        theta1 = np.arctan(r12 / r32)\n",
    "        theta2 = np.arctan(r32 / (r22 *np.cos(theta1)))\n",
    "        theta3 = np.arctan(-r21 / r23)\n",
    "\n",
    "    elif order == 'yzy':\n",
    "        theta1 = np.arctan(-r32 / r12)\n",
    "        theta2 = np.arctan(-r12 / (r22 *np.cos(theta1)))\n",
    "        theta3 = np.arctan(r23 / r21)\n",
    "\n",
    "    elif order == 'zyz':\n",
    "        theta1 = np.arctan(r23 / r13)\n",
    "        theta2 = np.arctan(r13 / (r33 *np.cos(theta1)))\n",
    "        theta3 = np.arctan(-r32 / r31)\n",
    "\n",
    "    elif order == 'zxz':\n",
    "        theta1 = np.arctan(-r13 / r23)\n",
    "        theta2 = np.arctan(r23 / (r33 *np.cos(theta1)))\n",
    "        theta3 = np.arctan(r31 / r32)\n",
    "\n",
    "    elif order == 'xzy':\n",
    "        theta1 = np.arctan(r32 / r22)\n",
    "        theta2 = np.arctan(-r12 * np.cos(theta1) / r22)\n",
    "        theta3 = np.arctan(r13 / r11)\n",
    "\n",
    "    elif order == 'xyz':\n",
    "        theta1 = np.arctan(-r23 / r33)\n",
    "        theta2 = np.arctan(r13 * np.cos(theta1) / r33)\n",
    "        theta3 = np.arctan(-r12 / r11)\n",
    "\n",
    "    elif order == 'yxz':\n",
    "        theta1 = np.arctan(r13 / r33)\n",
    "        theta2 = np.arctan(-r23 * np.cos(theta1) / r33)\n",
    "        theta3 = np.arctan(r21 / r22)\n",
    "\n",
    "    elif order == 'yzx':\n",
    "        theta1 = np.arctan(-r31 / r11)\n",
    "        theta2 = np.arctan(r21 * np.cos(theta1) / r11)\n",
    "        theta3 = np.arctan(-r23 / r22)\n",
    "\n",
    "    elif order == 'zyx':\n",
    "        theta1 = np.arctan(r21 / r11)\n",
    "        theta2 = np.arctan(-r31 * np.cos(theta1) / r11)\n",
    "        theta3 = np.arctan(r32 / r33)\n",
    "\n",
    "    elif order == 'zxy':\n",
    "        theta1 = np.arctan(-r12 / r22)\n",
    "        theta2 = np.arctan(r32 * np.cos(theta1) / r22)\n",
    "        theta3 = np.arctan(-r31 / r33)\n",
    "\n",
    "    theta1 = theta1\n",
    "    theta2 = theta2\n",
    "    theta3 = theta3\n",
    "    \n",
    "    return np.array((theta1, theta2, theta3))\n",
    "\n",
    "import numpy as np\n",
    "\n",
    "def rotation_matrix(theta1, theta2, theta3, order='zyz'):\n",
    "    \"\"\"\n",
    "    input\n",
    "        theta1, theta2, theta3 = rotation angles in rotation order (degrees)\n",
    "        oreder = rotation order of x,y,z　e.g. XZY rotation -- 'xzy'\n",
    "    output\n",
    "        3x3 rotation matrix (numpy array)\n",
    "    \"\"\"\n",
    "    c1 = np.cos(theta1)\n",
    "    s1 = np.sin(theta1)\n",
    "    c2 = np.cos(theta2)\n",
    "    s2 = np.sin(theta2)\n",
    "    c3 = np.cos(theta3)\n",
    "    s3 = np.sin(theta3)\n",
    "\n",
    "    if order == 'xzx':\n",
    "        matrix=np.array([[c2, -c3*s2, s2*s3],\n",
    "                         [c1*s2, c1*c2*c3-s1*s3, -c3*s1-c1*c2*s3],\n",
    "                         [s1*s2, c1*s3+c2*c3*s1, c1*c3-c2*s1*s3]])\n",
    "    elif order=='xyx':\n",
    "        matrix=np.array([[c2, s2*s3, c3*s2],\n",
    "                         [s1*s2, c1*c3-c2*s1*s3, -c1*s3-c2*c3*s1],\n",
    "                         [-c1*s2, c3*s1+c1*c2*s3, c1*c2*c3-s1*s3]])\n",
    "    elif order=='yxy':\n",
    "        matrix=np.array([[c1*c3-c2*s1*s3, s1*s2, c1*s3+c2*c3*s1],\n",
    "                         [s2*s3, c2, -c3*s2],\n",
    "                         [-c3*s1-c1*c2*s3, c1*s2, c1*c2*c3-s1*s3]])\n",
    "    elif order=='yzy':\n",
    "        matrix=np.array([[c1*c2*c3-s1*s3, -c1*s2, c3*s1+c1*c2*s3],\n",
    "                         [c3*s2, c2, s2*s3],\n",
    "                         [-c1*s3-c2*c3*s1, s1*s2, c1*c3-c2*s1*s3]])\n",
    "    elif order=='zyz':\n",
    "        matrix=np.array([[c1*c2*c3-s1*s3, c3*s1+c1*c2*s3, -c1*s2],\n",
    "                         [- c1*s3-c2*c3*s1, c1*c3-c2*s1*s3, s1*s2],\n",
    "                         [c3*s2, s2*s3, c2]])\n",
    "    elif order=='zxz':\n",
    "        matrix=np.array([[c1*c3-c2*s1*s3, -c1*s3-c2*c3*s1, s1*s2],\n",
    "                         [c3*s1+c1*c2*s3, c1*c2*c3-s1*s3, -c1*s2],\n",
    "                         [s2*s3, c3*s2, c2]])\n",
    "    elif order=='xyz':\n",
    "        matrix=np.array([[c2*c3, -c2*s3, s2],\n",
    "                         [c1*s3+c3*s1*s2, c1*c3-s1*s2*s3, -c2*s1],\n",
    "                         [s1*s3-c1*c3*s2, c3*s1+c1*s2*s3, c1*c2]])\n",
    "    elif order=='xzy':\n",
    "        matrix=np.array([[c2*c3, -s2, c2*s3],\n",
    "                         [s1*s3+c1*c3*s2, c1*c2, c1*s2*s3-c3*s1],\n",
    "                         [c3*s1*s2-c1*s3, c2*s1, c1*c3+s1*s2*s3]])\n",
    "    elif order=='yxz':\n",
    "        matrix=np.array([[c1*c3+s1*s2*s3, c3*s1*s2-c1*s3, c2*s1],\n",
    "                         [c2*s3, c2*c3, -s2],\n",
    "                         [c1*s2*s3-c3*s1, c1*c3*s2+s1*s3, c1*c2]])\n",
    "    elif order=='yzx':\n",
    "        matrix=np.array([[c1*c2, s1*s3-c1*c3*s2, c3*s1+c1*s2*s3],\n",
    "                         [s2, c2*c3, -c2*s3],\n",
    "                         [-c2*s1, c1*s3+c3*s1*s2, c1*c3-s1*s2*s3]])\n",
    "    elif order=='zyx':\n",
    "        matrix=np.array([[c1*c2, c1*s2*s3-c3*s1, s1*s3+c1*c3*s2],\n",
    "                         [c2*s1, c1*c3+s1*s2*s3, c3*s1*s2-c1*s3],\n",
    "                         [-s2, c2*s3, c2*c3]])\n",
    "    elif order=='zxy':\n",
    "        matrix=np.array([[c1*c3-s1*s2*s3, -c2*s1, c1*s3+c3*s1*s2],\n",
    "                         [c3*s1+c1*s2*s3, c1*c2, s1*s3-c1*c3*s2],\n",
    "                         [-c2*s3, s2, c2*c3]])\n",
    "    return matrix"
   ]
  },
  {
   "cell_type": "code",
   "execution_count": 15,
   "id": "df8f0572",
   "metadata": {
    "collapsed": false,
    "jupyter": {
     "outputs_hidden": false
    },
    "pycharm": {
     "name": "#%%\n"
    }
   },
   "outputs": [],
   "source": [
    "import bonndit.utilc.quaternions as qu\n",
    "import matplotlib.pyplot as plt\n",
    "import numpy as np"
   ]
  },
  {
   "cell_type": "code",
   "execution_count": 17,
   "id": "ef8f0e09-cbc3-421d-8406-c56532bb6067",
   "metadata": {
    "collapsed": false,
    "jupyter": {
     "outputs_hidden": false
    },
    "pycharm": {
     "name": "#%%\n"
    }
   },
   "outputs": [],
   "source": [
    "a = np.zeros((4))\n",
    "a = np.random.random(size=4)\n",
    "ret = np.zeros((3))\n",
    "qu.MPR_H2R_q(ret, a,a, 1, 1)"
   ]
  },
  {
   "cell_type": "code",
   "execution_count": null,
   "id": "f7ff12a1-d6cf-4074-86a9-777e63827e8c",
   "metadata": {
    "collapsed": false,
    "jupyter": {
     "outputs_hidden": false
    },
    "pycharm": {
     "name": "#%%\n"
    }
   },
   "outputs": [],
   "source": []
  },
  {
   "cell_type": "code",
   "execution_count": 18,
   "id": "7f7417ea-c04e-473c-a461-a290a45234cd",
   "metadata": {
    "collapsed": false,
    "jupyter": {
     "outputs_hidden": false
    },
    "pycharm": {
     "name": "#%%\n"
    }
   },
   "outputs": [],
   "source": [
    "b = np.random.normal(0,0.05,(3, 20))"
   ]
  },
  {
   "cell_type": "code",
   "execution_count": 20,
   "id": "5e01263e-9bef-46a7-9c51-481cf3247924",
   "metadata": {
    "collapsed": false,
    "jupyter": {
     "outputs_hidden": false
    },
    "pycharm": {
     "name": "#%%\n"
    }
   },
   "outputs": [],
   "source": [
    "c = np.zeros((4,20))\n",
    "d = np.zeros((3,3,20))\n",
    "e = np.zeros((3,3))\n",
    "for i in range(20):\n",
    "    qu.MPR_R2H_q(c[:,i], b[:,i], a, 1,1)"
   ]
  },
  {
   "cell_type": "code",
   "execution_count": 22,
   "id": "d64a1356-4184-4e1d-b67d-40f24363f798",
   "metadata": {
    "pycharm": {
     "name": "#%%\n"
    }
   },
   "outputs": [],
   "source": [
    "for i in range(20):\n",
    "    qu.quat2rot(d[:,:,i], c[:,i])"
   ]
  },
  {
   "cell_type": "code",
   "execution_count": 23,
   "id": "071f498b-34b6-4b18-a511-7793d2af7e68",
   "metadata": {
    "pycharm": {
     "name": "#%%\n"
    }
   },
   "outputs": [],
   "source": [
    "from scipy.spatial.transform import Rotation as R\n",
    "r = R.from_euler(seq='zyz', angles=[0, 0, np.pi/2])"
   ]
  },
  {
   "cell_type": "code",
   "execution_count": 24,
   "id": "71094edd-647b-4497-ad1c-ac363af0c21c",
   "metadata": {
    "pycharm": {
     "name": "#%%\n"
    }
   },
   "outputs": [
    {
     "data": {
      "text/plain": [
       "array([[ 2.22044605e-16, -1.00000000e+00,  0.00000000e+00],\n",
       "       [ 1.00000000e+00,  2.22044605e-16,  0.00000000e+00],\n",
       "       [ 0.00000000e+00,  0.00000000e+00,  1.00000000e+00]])"
      ]
     },
     "execution_count": 24,
     "metadata": {},
     "output_type": "execute_result"
    }
   ],
   "source": [
    "r.as_matrix()"
   ]
  },
  {
   "cell_type": "code",
   "execution_count": 25,
   "id": "8b6809f4-e577-4764-be9b-5732473b32d9",
   "metadata": {
    "pycharm": {
     "name": "#%%\n"
    }
   },
   "outputs": [
    {
     "data": {
      "text/plain": [
       "array([[ 0.18321394,  0.92849104, -0.32301245],\n",
       "       [-0.92307904,  0.27550789,  0.26836632],\n",
       "       [ 0.3381682 ,  0.24899757,  0.90754751]])"
      ]
     },
     "execution_count": 25,
     "metadata": {},
     "output_type": "execute_result"
    }
   ],
   "source": [
    "x = np.random.random(3)\n",
    "quat2rot(xyz2quat(*zyz2xyz(*x)))"
   ]
  },
  {
   "cell_type": "code",
   "execution_count": null,
   "id": "356d7989-b2d6-4ded-b2ce-78e5265d5e4e",
   "metadata": {
    "pycharm": {
     "name": "#%%\n"
    }
   },
   "outputs": [],
   "source": [
    "\n"
   ]
  },
  {
   "cell_type": "code",
   "execution_count": 29,
   "id": "01be316a-6592-400a-88c0-35b348e53aee",
   "metadata": {
    "pycharm": {
     "name": "#%%\n"
    }
   },
   "outputs": [
    {
     "name": "stdout",
     "output_type": "stream",
     "text": [
      "[0. 0. 0. 0.]\n",
      "[0. 0. 0.]\n",
      "[[-0.  0.  0.]\n",
      " [ 0.  0.  0.]\n",
      " [ 0.  0.  0.]]\n",
      "[0. 0. 0.]\n",
      "[0. 0. 0. 0.]\n",
      "[-0. -0.  0.  0.]\n",
      "[0. 0. 0. 0.]\n",
      "[ 0. -0.  0.]\n",
      "[[-0.  0.  0.]\n",
      " [ 0.  0.  0.]\n",
      " [ 0.  0.  0.]]\n",
      "[0. 0. 0.]\n",
      "[0. 0. 0. 0.]\n",
      "[-0. -0.  0.  0.]\n",
      "[0. 0. 0. 0.]\n",
      "[0. 0. 0.]\n",
      "[[ 0.  0.  0.]\n",
      " [ 0.  0.  0.]\n",
      " [ 0.  0. -0.]]\n",
      "[0. 0. 0.]\n",
      "[0. 0. 0. 0.]\n",
      "[ 0. -0.  0.  0.]\n",
      "[0. 0. 0. 0.]\n",
      "[0. 0. 0.]\n",
      "[[0. 0. 0.]\n",
      " [0. 0. 0.]\n",
      " [0. 0. 0.]]\n",
      "[0. 0. 0.]\n",
      "[0. 0. 0. 0.]\n",
      "[0. 0. 0. 0.]\n",
      "[0. 0. 0. 0.]\n",
      "[0. 0. 0.]\n",
      "[[0. 0. 0.]\n",
      " [0. 0. 0.]\n",
      " [0. 0. 0.]]\n",
      "[0. 0. 0.]\n",
      "[0. 0. 0. 0.]\n",
      "[0. 0. 0. 0.]\n",
      "[0. 0. 0. 0.]\n",
      "[0. 0. 0.]\n",
      "[[ 0.  0.  0.]\n",
      " [ 0.  0.  0.]\n",
      " [ 0.  0. -0.]]\n",
      "[0. 0. 0.]\n",
      "[0. 0. 0. 0.]\n",
      "[-0.  0. -0.  0.]\n",
      "[0. 0. 0. 0.]\n",
      "[ 0. -0.  0.]\n",
      "[[0. 0. 0.]\n",
      " [0. 0. 0.]\n",
      " [0. 0. 0.]]\n",
      "[0. 0. 0.]\n",
      "[0. 0. 0. 0.]\n",
      "[ 0. -0. -0. -0.]\n",
      "[0. 0. 0. 0.]\n",
      "[0. 0. 0.]\n",
      "[[0. 0. 0.]\n",
      " [0. 0. 0.]\n",
      " [0. 0. 0.]]\n",
      "[0. 0. 0.]\n",
      "[0. 0. 0. 0.]\n",
      "[-0.  0.  0.  0.]\n",
      "[0. 0. 0. 0.]\n",
      "[0. 0. 0.]\n",
      "[[0. 0. 0.]\n",
      " [0. 0. 0.]\n",
      " [0. 0. 0.]]\n",
      "[0. 0. 0.]\n",
      "[0. 0. 0. 0.]\n",
      "[ 0. -0.  0.  0.]\n",
      "[0. 0. 0. 0.]\n",
      "[0. 0. 0.]\n",
      "[[ 0.  0.  0.]\n",
      " [ 0.  0.  0.]\n",
      " [ 0.  0. -0.]]\n",
      "[0. 0. 0.]\n",
      "[0. 0. 0. 0.]\n",
      "[0. 0. 0. 0.]\n",
      "[0. 0. 0. 0.]\n",
      "[0. 0. 0.]\n",
      "[[0. 0. 0.]\n",
      " [0. 0. 0.]\n",
      " [0. 0. 0.]]\n",
      "[0. 0. 0.]\n",
      "[0. 0. 0. 0.]\n",
      "[ 0.  0.  0. -0.]\n",
      "[0. 0. 0. 0.]\n",
      "[0. 0. 0.]\n",
      "[[-0.  0.  0.]\n",
      " [ 0. -0.  0.]\n",
      " [ 0.  0. -0.]]\n",
      "[0. 0. 0.]\n",
      "[0. 0. 0. 0.]\n",
      "[ 0.  0. -0.  0.]\n",
      "[0. 0. 0. 0.]\n",
      "[0. 0. 0.]\n",
      "[[0. 0. 0.]\n",
      " [0. 0. 0.]\n",
      " [0. 0. 0.]]\n",
      "[0. 0. 0.]\n",
      "[0. 0. 0. 0.]\n",
      "[ 0.  0.  0. -0.]\n",
      "[0. 0. 0. 0.]\n",
      "[ 0. -0.  0.]\n",
      "[[0. 0. 0.]\n",
      " [0. 0. 0.]\n",
      " [0. 0. 0.]]\n",
      "[0. 0. 0.]\n",
      "[0. 0. 0. 0.]\n",
      "[0. 0. 0. 0.]\n",
      "[0. 0. 0. 0.]\n",
      "[0. 0. 0.]\n",
      "[[0. 0. 0.]\n",
      " [0. 0. 0.]\n",
      " [0. 0. 0.]]\n",
      "[0. 0. 0.]\n",
      "[0. 0. 0. 0.]\n",
      "[ 0.  0. -0.  0.]\n",
      "[0. 0. 0. 0.]\n",
      "[0. 0. 0.]\n",
      "[[0. 0. 0.]\n",
      " [0. 0. 0.]\n",
      " [0. 0. 0.]]\n",
      "[0. 0. 0.]\n",
      "[0. 0. 0. 0.]\n",
      "[ 0. -0.  0.  0.]\n",
      "[0. 0. 0. 0.]\n",
      "[0. 0. 0.]\n",
      "[[ 0.  0.  0.]\n",
      " [ 0.  0.  0.]\n",
      " [ 0.  0. -0.]]\n",
      "[0. 0. 0.]\n",
      "[0. 0. 0. 0.]\n",
      "[-0. -0. -0.  0.]\n",
      "[0. 0. 0. 0.]\n",
      "[ 0. -0.  0.]\n",
      "[[0. 0. 0.]\n",
      " [0. 0. 0.]\n",
      " [0. 0. 0.]]\n",
      "[0. 0. 0.]\n",
      "[0. 0. 0. 0.]\n",
      "[ 0.  0.  0. -0.]\n",
      "[0. 0. 0. 0.]\n",
      "[0. 0. 0.]\n",
      "[[ 0.  0.  0.]\n",
      " [ 0. -0.  0.]\n",
      " [ 0.  0.  0.]]\n",
      "[0. 0. 0.]\n",
      "[0. 0. 0. 0.]\n",
      "[ 0. -0.  0. -0.]\n",
      "[0. 0. 0. 0.]\n",
      "[0. 0. 0.]\n",
      "[[-0.  0.  0.]\n",
      " [ 0. -0.  0.]\n",
      " [ 0.  0.  0.]]\n",
      "[0. 0. 0.]\n",
      "[0. 0. 0. 0.]\n",
      "[-0.  0.  0. -0.]\n",
      "[0. 0. 0. 0.]\n",
      "[0. 0. 0.]\n",
      "[[0. 0. 0.]\n",
      " [0. 0. 0.]\n",
      " [0. 0. 0.]]\n",
      "[0. 0. 0.]\n",
      "[0. 0. 0. 0.]\n",
      "[-0.  0. -0.  0.]\n",
      "[0. 0. 0. 0.]\n",
      "[0. 0. 0.]\n",
      "[[ 0.  0.  0.]\n",
      " [ 0.  0.  0.]\n",
      " [ 0.  0. -0.]]\n",
      "[0. 0. 0.]\n",
      "[0. 0. 0. 0.]\n",
      "[-0. -0.  0. -0.]\n",
      "[0. 0. 0. 0.]\n",
      "[0. 0. 0.]\n",
      "[[ 0.  0.  0.]\n",
      " [ 0. -0.  0.]\n",
      " [ 0.  0.  0.]]\n",
      "[0. 0. 0.]\n",
      "[0. 0. 0. 0.]\n",
      "[0. 0. 0. 0.]\n",
      "[0. 0. 0. 0.]\n",
      "[0. 0. 0.]\n",
      "[[0. 0. 0.]\n",
      " [0. 0. 0.]\n",
      " [0. 0. 0.]]\n",
      "[0. 0. 0.]\n",
      "[0. 0. 0. 0.]\n",
      "[-0.  0.  0.  0.]\n",
      "[0. 0. 0. 0.]\n",
      "[0. 0. 0.]\n",
      "[[0. 0. 0.]\n",
      " [0. 0. 0.]\n",
      " [0. 0. 0.]]\n",
      "[0. 0. 0.]\n",
      "[0. 0. 0. 0.]\n",
      "[0. 0. 0. 0.]\n",
      "[0. 0. 0. 0.]\n",
      "[0. 0. 0.]\n",
      "[[0. 0. 0.]\n",
      " [0. 0. 0.]\n",
      " [0. 0. 0.]]\n",
      "[0. 0. 0.]\n",
      "[0. 0. 0. 0.]\n",
      "[-0. -0.  0. -0.]\n",
      "[0. 0. 0. 0.]\n",
      "[ 0. -0.  0.]\n",
      "[[0. 0. 0.]\n",
      " [0. 0. 0.]\n",
      " [0. 0. 0.]]\n",
      "[0. 0. 0.]\n",
      "[0. 0. 0. 0.]\n",
      "[0. 0. 0. 0.]\n",
      "[0. 0. 0. 0.]\n",
      "[0. 0. 0.]\n",
      "[[0. 0. 0.]\n",
      " [0. 0. 0.]\n",
      " [0. 0. 0.]]\n",
      "[0. 0. 0.]\n",
      "[0. 0. 0. 0.]\n",
      "[-0.  0. -0.  0.]\n",
      "[0. 0. 0. 0.]\n",
      "[0. 0. 0.]\n",
      "[[-0.  0.  0.]\n",
      " [ 0.  0.  0.]\n",
      " [ 0.  0. -0.]]\n",
      "[0. 0. 0.]\n",
      "[0. 0. 0. 0.]\n",
      "[0. 0. 0. 0.]\n",
      "[0. 0. 0. 0.]\n",
      "[ 0. -0.  0.]\n",
      "[[0. 0. 0.]\n",
      " [0. 0. 0.]\n",
      " [0. 0. 0.]]\n",
      "[0. 0. 0.]\n",
      "[0. 0. 0. 0.]\n",
      "[0. 0. 0. 0.]\n",
      "[0. 0. 0. 0.]\n",
      "[ 0. -0.  0.]\n",
      "[[ 0.  0.  0.]\n",
      " [ 0. -0.  0.]\n",
      " [ 0.  0.  0.]]\n",
      "[0. 0. 0.]\n",
      "[0. 0. 0. 0.]\n",
      "[-0.  0. -0.  0.]\n",
      "[0. 0. 0. 0.]\n",
      "[ 0. -0.  0.]\n",
      "[[0. 0. 0.]\n",
      " [0. 0. 0.]\n",
      " [0. 0. 0.]]\n",
      "[0. 0. 0.]\n",
      "[0. 0. 0. 0.]\n",
      "[0. 0. 0. 0.]\n",
      "[0. 0. 0. 0.]\n",
      "[0. 0. 0.]\n",
      "[[0. 0. 0.]\n",
      " [0. 0. 0.]\n",
      " [0. 0. 0.]]\n",
      "[0. 0. 0.]\n",
      "[0. 0. 0. 0.]\n",
      "[-0.  0.  0.  0.]\n",
      "[0. 0. 0. 0.]\n",
      "[0. 0. 0.]\n",
      "[[-0.  0.  0.]\n",
      " [ 0.  0.  0.]\n",
      " [ 0.  0.  0.]]\n",
      "[0. 0. 0.]\n",
      "[0. 0. 0. 0.]\n",
      "[-0. -0. -0.  0.]\n",
      "[0. 0. 0. 0.]\n",
      "[0. 0. 0.]\n",
      "[[-0.  0.  0.]\n",
      " [ 0.  0.  0.]\n",
      " [ 0.  0.  0.]]\n",
      "[0. 0. 0.]\n",
      "[0. 0. 0. 0.]\n",
      "[-0. -0.  0.  0.]\n",
      "[0. 0. 0. 0.]\n",
      "[0. 0. 0.]\n",
      "[[0. 0. 0.]\n",
      " [0. 0. 0.]\n",
      " [0. 0. 0.]]\n",
      "[0. 0. 0.]\n",
      "[0. 0. 0. 0.]\n",
      "[0. 0. 0. 0.]\n",
      "[0. 0. 0. 0.]\n",
      "[0. 0. 0.]\n",
      "[[ 0.  0.  0.]\n",
      " [ 0. -0.  0.]\n",
      " [ 0.  0.  0.]]\n",
      "[0. 0. 0.]\n",
      "[0. 0. 0. 0.]\n",
      "[0. 0. 0. 0.]\n",
      "[0. 0. 0. 0.]\n",
      "[ 0. -0.  0.]\n",
      "[[0. 0. 0.]\n",
      " [0. 0. 0.]\n",
      " [0. 0. 0.]]\n",
      "[0. 0. 0.]\n",
      "[0. 0. 0. 0.]\n",
      "[ 0.  0.  0. -0.]\n",
      "[0. 0. 0. 0.]\n",
      "[ 0. -0.  0.]\n",
      "[[0. 0. 0.]\n",
      " [0. 0. 0.]\n",
      " [0. 0. 0.]]\n",
      "[0. 0. 0.]\n",
      "[0. 0. 0. 0.]\n",
      "[ 0. -0.  0. -0.]\n",
      "[0. 0. 0. 0.]\n",
      "[0. 0. 0.]\n",
      "[[0. 0. 0.]\n",
      " [0. 0. 0.]\n",
      " [0. 0. 0.]]\n",
      "[0. 0. 0.]\n",
      "[0. 0. 0. 0.]\n",
      "[0. 0. 0. 0.]\n",
      "[0. 0. 0. 0.]\n",
      "[0. 0. 0.]\n",
      "[[-0.  0.  0.]\n",
      " [ 0.  0.  0.]\n",
      " [ 0.  0. -0.]]\n",
      "[0. 0. 0.]\n",
      "[0. 0. 0. 0.]\n",
      "[0. 0. 0. 0.]\n",
      "[0. 0. 0. 0.]\n",
      "[0. 0. 0.]\n",
      "[[ 0.  0.  0.]\n",
      " [ 0. -0.  0.]\n",
      " [ 0.  0.  0.]]\n",
      "[0. 0. 0.]\n",
      "[0. 0. 0. 0.]\n",
      "[0. 0. 0. 0.]\n",
      "[0. 0. 0. 0.]\n",
      "[ 0. -0.  0.]\n",
      "[[0. 0. 0.]\n",
      " [0. 0. 0.]\n",
      " [0. 0. 0.]]\n",
      "[0. 0. 0.]\n",
      "[0. 0. 0. 0.]\n",
      "[0. 0. 0. 0.]\n",
      "[0. 0. 0. 0.]\n",
      "[ 0. -0.  0.]\n",
      "[[0. 0. 0.]\n",
      " [0. 0. 0.]\n",
      " [0. 0. 0.]]\n",
      "[0. 0. 0.]\n",
      "[0. 0. 0. 0.]\n",
      "[0. 0. 0. 0.]\n",
      "[0. 0. 0. 0.]\n",
      "[0. 0. 0.]\n",
      "[[0. 0. 0.]\n",
      " [0. 0. 0.]\n",
      " [0. 0. 0.]]\n",
      "[0. 0. 0.]\n",
      "[0. 0. 0. 0.]\n",
      "[ 0. -0. -0.  0.]\n",
      "[0. 0. 0. 0.]\n",
      "[0. 0. 0.]\n",
      "[[0. 0. 0.]\n",
      " [0. 0. 0.]\n",
      " [0. 0. 0.]]\n",
      "[0. 0. 0.]\n",
      "[0. 0. 0. 0.]\n",
      "[0. 0. 0. 0.]\n",
      "[0. 0. 0. 0.]\n",
      "[0. 0. 0.]\n",
      "[[-0.  0.  0.]\n",
      " [ 0.  0.  0.]\n",
      " [ 0.  0.  0.]]\n",
      "[0. 0. 0.]\n",
      "[0. 0. 0. 0.]\n",
      "[-0. -0. -0.  0.]\n",
      "[0. 0. 0. 0.]\n",
      "[0. 0. 0.]\n",
      "[[-0.  0.  0.]\n",
      " [ 0.  0.  0.]\n",
      " [ 0.  0. -0.]]\n",
      "[0. 0. 0.]\n",
      "[0. 0. 0. 0.]\n",
      "[ 0. -0. -0.  0.]\n",
      "[0. 0. 0. 0.]\n",
      "[0. 0. 0.]\n",
      "[[0. 0. 0.]\n",
      " [0. 0. 0.]\n",
      " [0. 0. 0.]]\n",
      "[0. 0. 0.]\n",
      "[0. 0. 0. 0.]\n",
      "[0. 0. 0. 0.]\n",
      "[0. 0. 0. 0.]\n",
      "[ 0. -0.  0.]\n",
      "[[0. 0. 0.]\n",
      " [0. 0. 0.]\n",
      " [0. 0. 0.]]\n",
      "[0. 0. 0.]\n",
      "[0. 0. 0. 0.]\n",
      "[-0. -0.  0.  0.]\n",
      "[0. 0. 0. 0.]\n",
      "[0. 0. 0.]\n",
      "[[0. 0. 0.]\n",
      " [0. 0. 0.]\n",
      " [0. 0. 0.]]\n",
      "[0. 0. 0.]\n",
      "[0. 0. 0. 0.]\n",
      "[-0.  0. -0.  0.]\n",
      "[0. 0. 0. 0.]\n",
      "[0. 0. 0.]\n",
      "[[-0.  0.  0.]\n",
      " [ 0.  0.  0.]\n",
      " [ 0.  0. -0.]]\n",
      "[0. 0. 0.]\n",
      "[0. 0. 0. 0.]\n",
      "[ 0. -0.  0.  0.]\n",
      "[0. 0. 0. 0.]\n",
      "[0. 0. 0.]\n",
      "[[0. 0. 0.]\n",
      " [0. 0. 0.]\n",
      " [0. 0. 0.]]\n",
      "[0. 0. 0.]\n",
      "[0. 0. 0. 0.]\n",
      "[ 0.  0.  0. -0.]\n",
      "[0. 0. 0. 0.]\n",
      "[0. 0. 0.]\n",
      "[[ 0.  0.  0.]\n",
      " [ 0.  0.  0.]\n",
      " [ 0.  0. -0.]]\n",
      "[0. 0. 0.]\n",
      "[0. 0. 0. 0.]\n",
      "[-0.  0.  0.  0.]\n",
      "[0. 0. 0. 0.]\n",
      "[0. 0. 0.]\n",
      "[[ 0.  0.  0.]\n",
      " [ 0. -0.  0.]\n",
      " [ 0.  0.  0.]]\n",
      "[0. 0. 0.]\n",
      "[0. 0. 0. 0.]\n",
      "[-0.  0. -0. -0.]\n",
      "[0. 0. 0. 0.]\n",
      "[0. 0. 0.]\n",
      "[[ 0.  0.  0.]\n",
      " [ 0. -0.  0.]\n",
      " [ 0.  0.  0.]]\n",
      "[0. 0. 0.]\n",
      "[0. 0. 0. 0.]\n",
      "[-0. -0.  0. -0.]\n",
      "[0. 0. 0. 0.]\n",
      "[0. 0. 0.]\n",
      "[[ 0.  0.  0.]\n",
      " [ 0.  0.  0.]\n",
      " [ 0.  0. -0.]]\n",
      "[0. 0. 0.]\n",
      "[0. 0. 0. 0.]\n",
      "[ 0.  0.  0. -0.]\n",
      "[0. 0. 0. 0.]\n",
      "[0. 0. 0.]\n",
      "[[-0.  0.  0.]\n",
      " [ 0. -0.  0.]\n",
      " [ 0.  0.  0.]]\n",
      "[0. 0. 0.]\n",
      "[0. 0. 0. 0.]\n",
      "[-0. -0.  0.  0.]\n",
      "[0. 0. 0. 0.]\n",
      "[ 0. -0.  0.]\n",
      "[[0. 0. 0.]\n",
      " [0. 0. 0.]\n",
      " [0. 0. 0.]]\n",
      "[0. 0. 0.]\n",
      "[0. 0. 0. 0.]\n",
      "[ 0.  0.  0. -0.]\n",
      "[0. 0. 0. 0.]\n",
      "[0. 0. 0.]\n",
      "[[0. 0. 0.]\n",
      " [0. 0. 0.]\n",
      " [0. 0. 0.]]\n",
      "[0. 0. 0.]\n",
      "[0. 0. 0. 0.]\n",
      "[ 0. -0. -0. -0.]\n",
      "[0. 0. 0. 0.]\n",
      "[0. 0. 0.]\n",
      "[[0. 0. 0.]\n",
      " [0. 0. 0.]\n",
      " [0. 0. 0.]]\n",
      "[0. 0. 0.]\n",
      "[0. 0. 0. 0.]\n",
      "[ 0. -0.  0. -0.]\n",
      "[0. 0. 0. 0.]\n",
      "[ 0. -0.  0.]\n",
      "[[0. 0. 0.]\n",
      " [0. 0. 0.]\n",
      " [0. 0. 0.]]\n",
      "[0. 0. 0.]\n",
      "[0. 0. 0. 0.]\n",
      "[-0. -0. -0.  0.]\n",
      "[0. 0. 0. 0.]\n",
      "[0. 0. 0.]\n",
      "[[0. 0. 0.]\n",
      " [0. 0. 0.]\n",
      " [0. 0. 0.]]\n",
      "[0. 0. 0.]\n",
      "[0. 0. 0. 0.]\n",
      "[-0.  0.  0. -0.]\n",
      "[0. 0. 0. 0.]\n",
      "[ 0. -0.  0.]\n",
      "[[-0.  0.  0.]\n",
      " [ 0. -0.  0.]\n",
      " [ 0.  0.  0.]]\n",
      "[0. 0. 0.]\n",
      "[0. 0. 0. 0.]\n",
      "[ 0.  0.  0. -0.]\n",
      "[0. 0. 0. 0.]\n",
      "[0. 0. 0.]\n",
      "[[0. 0. 0.]\n",
      " [0. 0. 0.]\n",
      " [0. 0. 0.]]\n",
      "[0. 0. 0.]\n",
      "[0. 0. 0. 0.]\n",
      "[-0. -0. -0. -0.]\n",
      "[0. 0. 0. 0.]\n",
      "[0. 0. 0.]\n",
      "[[0. 0. 0.]\n",
      " [0. 0. 0.]\n",
      " [0. 0. 0.]]\n",
      "[0. 0. 0.]\n",
      "[0. 0. 0. 0.]\n",
      "[ 0.  0. -0. -0.]\n",
      "[0. 0. 0. 0.]\n",
      "[0. 0. 0.]\n",
      "[[0. 0. 0.]\n",
      " [0. 0. 0.]\n",
      " [0. 0. 0.]]\n",
      "[0. 0. 0.]\n",
      "[0. 0. 0. 0.]\n",
      "[ 0.  0.  0. -0.]\n",
      "[0. 0. 0. 0.]\n",
      "[0. 0. 0.]\n",
      "[[0. 0. 0.]\n",
      " [0. 0. 0.]\n",
      " [0. 0. 0.]]\n",
      "[0. 0. 0.]\n",
      "[0. 0. 0. 0.]\n",
      "[-0. -0. -0.  0.]\n",
      "[0. 0. 0. 0.]\n",
      "[0. 0. 0.]\n",
      "[[ 0.  0.  0.]\n",
      " [ 0. -0.  0.]\n",
      " [ 0.  0.  0.]]\n",
      "[0. 0. 0.]\n",
      "[0. 0. 0. 0.]\n",
      "[-0. -0.  0.  0.]\n",
      "[0. 0. 0. 0.]\n",
      "[0. 0. 0.]\n",
      "[[0. 0. 0.]\n",
      " [0. 0. 0.]\n",
      " [0. 0. 0.]]\n",
      "[0. 0. 0.]\n",
      "[0. 0. 0. 0.]\n",
      "[ 0. -0.  0.  0.]\n",
      "[0. 0. 0. 0.]\n",
      "[0. 0. 0.]\n",
      "[[-0.  0.  0.]\n",
      " [ 0.  0.  0.]\n",
      " [ 0.  0. -0.]]\n",
      "[0. 0. 0.]\n",
      "[0. 0. 0. 0.]\n",
      "[0. 0. 0. 0.]\n",
      "[0. 0. 0. 0.]\n",
      "[0. 0. 0.]\n",
      "[[ 0.  0.  0.]\n",
      " [ 0.  0.  0.]\n",
      " [ 0.  0. -0.]]\n",
      "[0. 0. 0.]\n",
      "[0. 0. 0. 0.]\n",
      "[ 0. -0.  0. -0.]\n",
      "[0. 0. 0. 0.]\n",
      "[0. 0. 0.]\n",
      "[[0. 0. 0.]\n",
      " [0. 0. 0.]\n",
      " [0. 0. 0.]]\n",
      "[0. 0. 0.]\n",
      "[0. 0. 0. 0.]\n",
      "[ 0.  0. -0. -0.]\n",
      "[0. 0. 0. 0.]\n",
      "[0. 0. 0.]\n",
      "[[0. 0. 0.]\n",
      " [0. 0. 0.]\n",
      " [0. 0. 0.]]\n",
      "[0. 0. 0.]\n",
      "[0. 0. 0. 0.]\n",
      "[-0. -0. -0.  0.]\n",
      "[0. 0. 0. 0.]\n",
      "[0. 0. 0.]\n",
      "[[0. 0. 0.]\n",
      " [0. 0. 0.]\n",
      " [0. 0. 0.]]\n",
      "[0. 0. 0.]\n",
      "[0. 0. 0. 0.]\n",
      "[ 0.  0.  0. -0.]\n",
      "[0. 0. 0. 0.]\n",
      "[ 0. -0.  0.]\n",
      "[[-0.  0.  0.]\n",
      " [ 0.  0.  0.]\n",
      " [ 0.  0.  0.]]\n",
      "[0. 0. 0.]\n",
      "[0. 0. 0. 0.]\n",
      "[ 0. -0. -0. -0.]\n",
      "[0. 0. 0. 0.]\n",
      "[0. 0. 0.]\n",
      "[[0. 0. 0.]\n",
      " [0. 0. 0.]\n",
      " [0. 0. 0.]]\n",
      "[0. 0. 0.]\n",
      "[0. 0. 0. 0.]\n",
      "[ 0.  0.  0. -0.]\n",
      "[0. 0. 0. 0.]\n",
      "[0. 0. 0.]\n",
      "[[ 0.  0.  0.]\n",
      " [ 0.  0.  0.]\n",
      " [ 0.  0. -0.]]\n",
      "[0. 0. 0.]\n",
      "[0. 0. 0. 0.]\n",
      "[ 0. -0.  0. -0.]\n",
      "[0. 0. 0. 0.]\n",
      "[0. 0. 0.]\n",
      "[[0. 0. 0.]\n",
      " [0. 0. 0.]\n",
      " [0. 0. 0.]]\n",
      "[0. 0. 0.]\n",
      "[0. 0. 0. 0.]\n",
      "[0. 0. 0. 0.]\n",
      "[0. 0. 0. 0.]\n",
      "[0. 0. 0.]\n",
      "[[0. 0. 0.]\n",
      " [0. 0. 0.]\n",
      " [0. 0. 0.]]\n",
      "[0. 0. 0.]\n",
      "[0. 0. 0. 0.]\n",
      "[ 0.  0.  0. -0.]\n",
      "[0. 0. 0. 0.]\n",
      "[0. 0. 0.]\n",
      "[[ 0.  0.  0.]\n",
      " [ 0.  0.  0.]\n",
      " [ 0.  0. -0.]]\n",
      "[0. 0. 0.]\n",
      "[0. 0. 0. 0.]\n",
      "[0. 0. 0. 0.]\n",
      "[0. 0. 0. 0.]\n",
      "[ 0. -0.  0.]\n",
      "[[ 0.  0.  0.]\n",
      " [ 0. -0.  0.]\n",
      " [ 0.  0.  0.]]\n",
      "[0. 0. 0.]\n",
      "[0. 0. 0. 0.]\n",
      "[0. 0. 0. 0.]\n",
      "[0. 0. 0. 0.]\n",
      "[0. 0. 0.]\n",
      "[[0. 0. 0.]\n",
      " [0. 0. 0.]\n",
      " [0. 0. 0.]]\n",
      "[0. 0. 0.]\n",
      "[0. 0. 0. 0.]\n",
      "[ 0.  0.  0. -0.]\n",
      "[0. 0. 0. 0.]\n",
      "[0. 0. 0.]\n",
      "[[0. 0. 0.]\n",
      " [0. 0. 0.]\n",
      " [0. 0. 0.]]\n",
      "[0. 0. 0.]\n",
      "[0. 0. 0. 0.]\n",
      "[-0. -0.  0. -0.]\n",
      "[0. 0. 0. 0.]\n",
      "[ 0. -0.  0.]\n",
      "[[0. 0. 0.]\n",
      " [0. 0. 0.]\n",
      " [0. 0. 0.]]\n",
      "[0. 0. 0.]\n",
      "[0. 0. 0. 0.]\n",
      "[-0.  0. -0.  0.]\n",
      "[0. 0. 0. 0.]\n",
      "[ 0. -0.  0.]\n",
      "[[0. 0. 0.]\n",
      " [0. 0. 0.]\n",
      " [0. 0. 0.]]\n",
      "[0. 0. 0.]\n",
      "[0. 0. 0. 0.]\n",
      "[-0.  0. -0.  0.]\n",
      "[0. 0. 0. 0.]\n",
      "[0. 0. 0.]\n",
      "[[ 0.  0.  0.]\n",
      " [ 0. -0.  0.]\n",
      " [ 0.  0. -0.]]\n",
      "[0. 0. 0.]\n",
      "[0. 0. 0. 0.]\n",
      "[ 0.  0. -0.  0.]\n",
      "[0. 0. 0. 0.]\n",
      "[0. 0. 0.]\n",
      "[[0. 0. 0.]\n",
      " [0. 0. 0.]\n",
      " [0. 0. 0.]]\n",
      "[0. 0. 0.]\n",
      "[0. 0. 0. 0.]\n",
      "[-0. -0.  0.  0.]\n",
      "[0. 0. 0. 0.]\n",
      "[ 0. -0.  0.]\n",
      "[[ 0.  0.  0.]\n",
      " [ 0.  0.  0.]\n",
      " [ 0.  0. -0.]]\n",
      "[0. 0. 0.]\n",
      "[0. 0. 0. 0.]\n",
      "[0. 0. 0. 0.]\n",
      "[0. 0. 0. 0.]\n",
      "[0. 0. 0.]\n",
      "[[-0.  0.  0.]\n",
      " [ 0.  0.  0.]\n",
      " [ 0.  0. -0.]]\n",
      "[0. 0. 0.]\n",
      "[0. 0. 0. 0.]\n",
      "[0. 0. 0. 0.]\n",
      "[0. 0. 0. 0.]\n",
      "[0. 0. 0.]\n",
      "[[0. 0. 0.]\n",
      " [0. 0. 0.]\n",
      " [0. 0. 0.]]\n",
      "[0. 0. 0.]\n",
      "[0. 0. 0. 0.]\n",
      "[-0. -0.  0. -0.]\n",
      "[0. 0. 0. 0.]\n",
      "[0. 0. 0.]\n",
      "[[0. 0. 0.]\n",
      " [0. 0. 0.]\n",
      " [0. 0. 0.]]\n",
      "[0. 0. 0.]\n",
      "[0. 0. 0. 0.]\n",
      "[-0.  0. -0.  0.]\n",
      "[0. 0. 0. 0.]\n",
      "[0. 0. 0.]\n",
      "[[-0.  0.  0.]\n",
      " [ 0.  0.  0.]\n",
      " [ 0.  0.  0.]]\n",
      "[0. 0. 0.]\n",
      "[0. 0. 0. 0.]\n",
      "[0. 0. 0. 0.]\n",
      "[0. 0. 0. 0.]\n",
      "[0. 0. 0.]\n",
      "[[-0.  0.  0.]\n",
      " [ 0.  0.  0.]\n",
      " [ 0.  0.  0.]]\n",
      "[0. 0. 0.]\n",
      "[0. 0. 0. 0.]\n",
      "[ 0.  0.  0. -0.]\n",
      "[0. 0. 0. 0.]\n",
      "[0. 0. 0.]\n",
      "[[0. 0. 0.]\n",
      " [0. 0. 0.]\n",
      " [0. 0. 0.]]\n",
      "[0. 0. 0.]\n",
      "[0. 0. 0. 0.]\n",
      "[-0. -0. -0.  0.]\n",
      "[0. 0. 0. 0.]\n",
      "[0. 0. 0.]\n",
      "[[ 0.  0.  0.]\n",
      " [ 0.  0.  0.]\n",
      " [ 0.  0. -0.]]\n",
      "[0. 0. 0.]\n",
      "[0. 0. 0. 0.]\n",
      "[ 0.  0.  0. -0.]\n",
      "[0. 0. 0. 0.]\n",
      "[0. 0. 0.]\n",
      "[[ 0.  0.  0.]\n",
      " [ 0. -0.  0.]\n",
      " [ 0.  0. -0.]]\n",
      "[0. 0. 0.]\n",
      "[0. 0. 0. 0.]\n",
      "[0. 0. 0. 0.]\n",
      "[0. 0. 0. 0.]\n",
      "[0. 0. 0.]\n",
      "[[0. 0. 0.]\n",
      " [0. 0. 0.]\n",
      " [0. 0. 0.]]\n",
      "[0. 0. 0.]\n",
      "[0. 0. 0. 0.]\n",
      "[ 0.  0.  0. -0.]\n",
      "[0. 0. 0. 0.]\n",
      "[0. 0. 0.]\n",
      "[[0. 0. 0.]\n",
      " [0. 0. 0.]\n",
      " [0. 0. 0.]]\n",
      "[0. 0. 0.]\n",
      "[0. 0. 0. 0.]\n",
      "[ 0. -0. -0.  0.]\n",
      "[0. 0. 0. 0.]\n",
      "[ 0. -0.  0.]\n",
      "[[0. 0. 0.]\n",
      " [0. 0. 0.]\n",
      " [0. 0. 0.]]\n",
      "[0. 0. 0.]\n",
      "[0. 0. 0. 0.]\n",
      "[ 0.  0. -0.  0.]\n"
     ]
    }
   ],
   "source": [
    "for i in range(100):\n",
    "    x = np.random.random(3) * 10*np.pi -5*np.pi\n",
    "    r = np.zeros(4)\n",
    "    u =np.zeros((3))\n",
    "    # sanity check zyz to quat\n",
    "    qu.ZYZ2quat(r, x)\n",
    "    r1 = R.from_euler(seq='zyz', angles=x)\n",
    "    print(r - np.roll(r1.as_quat(),1))\n",
    "    # sanity check quat to zyz\n",
    "    h =np.zeros((3))\n",
    "    qu.quat2ZYZ(h, r)\n",
    "\n",
    "  #  h = quat2zyz(r)\n",
    "    print(np.round(r1.as_euler('zyz')- h, 5) )\n",
    "    # sanity check quat to rot: \n",
    "    h =np.zeros((3,3))\n",
    "    h1 =np.zeros((3,3))\n",
    "    r_z_r_y_r_z(h, x)\n",
    "    qu.quat2rot(h1, r)\n",
    "    print(np.round(r1.as_matrix() - h1,4))\n",
    "    # R mapping check:\n",
    "    ret = np.zeros((3))\n",
    "    qu.MPR_H2R_q(ret, r, r, 1, 1)\n",
    "    print(ret)\n",
    "    r2 = np.zeros((4))\n",
    "    qu.MPR_R2H_q(r2, ret, r, 1, 1)\n",
    "    print(r-r2)\n",
    "    r3 = np.random.random(4)\n",
    "    r3 *= 1/np.linalg.norm(r3)\n",
    "    ret = np.zeros((3))\n",
    "    qu.MPR_H2R_q(ret, r, r3, 1, 1)\n",
    "    r2 = np.zeros((4))\n",
    "    qu.MPR_R2H_q(r2, ret, r3, 1, 1)\n",
    "    print(np.round(r2-r,4))\n",
    "    \n",
    "\n",
    " \n",
    "    "
   ]
  },
  {
   "cell_type": "code",
   "execution_count": 24,
   "id": "9a279eab-f6e0-4ee4-b74a-1110ac6ddbc3",
   "metadata": {
    "pycharm": {
     "name": "#%%\n"
    }
   },
   "outputs": [],
   "source": [
    "import nrrd\n",
    "import nibabel as nib \n",
    "watson_file, b = nrrd.read('/mnt/uni/HCPTestFolder/922854/infolder/watson.nrrd')\n",
    "fodf = nib.load('/mnt/uni/HCPTestFolder/922854/infolder/fodf.nii.gz')\n",
    "fodf = fodf.get_fdata()\n"
   ]
  },
  {
   "cell_type": "code",
   "execution_count": 25,
   "id": "9f1b80c4-e408-47f4-87a7-8ffc1631f4f9",
   "metadata": {
    "pycharm": {
     "name": "#%%\n"
    }
   },
   "outputs": [],
   "source": [
    "import numpy as np\n",
    "dj_o4 = np.array([\n",
    "    [[1.0,0.0, -0.5, -0.0,0.375],\n",
    "    [0.0, -0.70710678, -0.0,0.4330127,0.],\n",
    "    [0.0,0.0,0.61237244,0.0, -0.39528471],\n",
    "    [0.0,0.0,0.0, -0.55901699, -0.],\n",
    "    [0.0,0.0,0.0,0.0,0.52291252]\n",
    "    ],\n",
    "    [[0.0,0.70710678,0.0, -0.4330127, -0.],\n",
    "    [0.0,0.5, -0.5, -0.125,0.375],\n",
    "    [0.0,0.0, -0.5,0.39528471,0.1767767],\n",
    "    [0.0,0.0,0.0,0.48412292, -0.33071891],\n",
    "    [0.0,0.0,0.0,0.0, -0.46770717]\n",
    "    ],\n",
    "    [[0.0,0.0,0.61237244,0.0, -0.39528471],\n",
    "    [0.0,0.0,0.5, -0.39528471, -0.1767767],\n",
    "    [0.0,0.0,0.25, -0.5,0.25],\n",
    "    [0.0,0.0,0.0, -0.30618622,0.46770717],\n",
    "    [0.0,0.0,0.0,0.0,0.33071891]\n",
    "    ],\n",
    "    [[0.0,0.0,0.0,0.55901699,0.],\n",
    "    [0.0,0.0,0.0,0.48412292, -0.33071891],\n",
    "    [0.0,0.0,0.0,0.30618622, -0.46770717],\n",
    "    [0.0,0.0,0.0,0.125, -0.375],\n",
    "    [0.0,0.0,0.0,0.0, -0.1767767]\n",
    "    ],\n",
    "    [[0.0,0.0,0.0,0.0,0.52291252],\n",
    "    [0.0,0.0,0.0,0.0,0.46770717],\n",
    "    [0.0,0.0,0.0,0.0,0.33071891],\n",
    "    [0.0,0.0,0.0,0.0,0.1767767],\n",
    "    [0.0,0.0,0.0,0.0,0.0625]]])"
   ]
  },
  {
   "cell_type": "code",
   "execution_count": 31,
   "id": "2c392efb-fabd-4b01-aba7-ede8ca7dd7eb",
   "metadata": {
    "pycharm": {
     "name": "#%%\n"
    }
   },
   "outputs": [],
   "source": [
    "import bonndit.utilc.watsonfitwrapper as w\n",
    "from bonndit.utilc.cython_helpers import cart2sphere, r_z_r_y_r_z"
   ]
  },
  {
   "cell_type": "code",
   "execution_count": 27,
   "id": "c5e8a671-8084-40f6-b8af-e599c9339297",
   "metadata": {
    "pycharm": {
     "name": "#%%\n"
    }
   },
   "outputs": [],
   "source": [
    "## Watson reference:"
   ]
  },
  {
   "cell_type": "code",
   "execution_count": 28,
   "id": "f3ac6341-edb7-414e-889b-f9d55886df65",
   "metadata": {
    "tags": [],
    "pycharm": {
     "name": "#%%\n"
    }
   },
   "outputs": [],
   "source": [
    "x = 83\n",
    "y = 109\n",
    "z = 100\n",
    "d = watson_file[2:,0,x,y,z]\n",
    "d[0] *= -1\n",
    "d[2] *= -1\n",
    "d = d.astype(np.float64)\n",
    "s = np.zeros(3, dtype=np.float64)\n",
    "cart2sphere(s[1:], d)\n",
    "s[0] = -2\n"
   ]
  },
  {
   "cell_type": "code",
   "execution_count": null,
   "id": "92b8f96f-d8cd-461d-945e-f280e79ae0e3",
   "metadata": {
    "pycharm": {
     "name": "#%%\n"
    }
   },
   "outputs": [],
   "source": []
  },
  {
   "cell_type": "code",
   "execution_count": null,
   "id": "6e6db87c-f840-4d68-a86c-d809294ac18e",
   "metadata": {
    "pycharm": {
     "name": "#%%\n"
    }
   },
   "outputs": [],
   "source": []
  },
  {
   "cell_type": "code",
   "execution_count": 29,
   "id": "b357ffad-0c9c-4ad8-b1b0-acfb69bbe204",
   "metadata": {
    "pycharm": {
     "name": "#%%\n"
    }
   },
   "outputs": [],
   "source": [
    "kappa = watson_file[0,0,x,y,z]\n",
    "l = watson_file[1,0,x,y,z]\n",
    "v = np.zeros((15), dtype=np.float64)\n",
    "w.p_sh_watson_coeffs(kappa, v, 4)\n"
   ]
  },
  {
   "cell_type": "code",
   "execution_count": 30,
   "id": "0aed971d-12d8-4ca8-845e-bd9fe9940c08",
   "metadata": {
    "pycharm": {
     "name": "#%%\n"
    }
   },
   "outputs": [],
   "source": [
    "v[0] *=2.51327412\n",
    "v[3] *=  1.43615664\n",
    "v[10] *= 0.31914592"
   ]
  },
  {
   "cell_type": "code",
   "execution_count": 31,
   "id": "b5a08d3f-c4ef-46bb-81ea-27d91335154e",
   "metadata": {
    "pycharm": {
     "name": "#%%\n"
    }
   },
   "outputs": [
    {
     "data": {
      "text/plain": [
       "array([0.70898154, 0.        , 0.        , 0.81405978, 0.        ,\n",
       "       0.        , 0.        , 0.        , 0.        , 0.        ,\n",
       "       0.18965412, 0.        , 0.        , 0.        , 0.        ])"
      ]
     },
     "execution_count": 31,
     "metadata": {},
     "output_type": "execute_result"
    }
   ],
   "source": [
    "v"
   ]
  },
  {
   "cell_type": "code",
   "execution_count": 32,
   "id": "bfb1f2bb-64dd-4cf8-8c7e-d276435b1c5a",
   "metadata": {
    "pycharm": {
     "name": "#%%\n"
    }
   },
   "outputs": [],
   "source": [
    "pysh = np.zeros(50, dtype=np.float64)\n",
    "w.p_map_dipy_to_pysh_o4(v, pysh)"
   ]
  },
  {
   "cell_type": "code",
   "execution_count": 33,
   "id": "1214f07a-f5fb-4ece-b68e-4b1190086613",
   "metadata": {
    "pycharm": {
     "name": "#%%\n"
    }
   },
   "outputs": [],
   "source": [
    "rot_pysh = np.zeros(50, dtype=np.float64)\n",
    "w.p_sh_rotate_real_coef(rot_pysh, pysh, 4, s, dj_o4)"
   ]
  },
  {
   "cell_type": "code",
   "execution_count": 34,
   "id": "7f3e361a-f341-4759-ba23-5044071dcdcb",
   "metadata": {
    "pycharm": {
     "name": "#%%\n"
    }
   },
   "outputs": [],
   "source": [
    "v2  = np.zeros((15), dtype=np.float64)\n",
    "w.p_map_pysh_to_dipy_o4(rot_pysh, v2)"
   ]
  },
  {
   "cell_type": "code",
   "execution_count": 35,
   "id": "2fcc7c61-3dfd-4435-a744-32344ee8794c",
   "metadata": {
    "pycharm": {
     "name": "#%%\n"
    }
   },
   "outputs": [
    {
     "data": {
      "text/plain": [
       "0.44857523197934224"
      ]
     },
     "execution_count": 35,
     "metadata": {},
     "output_type": "execute_result"
    }
   ],
   "source": [
    "np.linalg.norm(v2 * l - fodf[x,y,z,:])"
   ]
  },
  {
   "cell_type": "code",
   "execution_count": 32,
   "id": "40a24710-1dd0-4323-a18d-b4aea1049302",
   "metadata": {
    "pycharm": {
     "name": "#%%\n"
    }
   },
   "outputs": [],
   "source": [
    "#Now bingham:\n",
    "\n",
    "import bonndit.utilc.quaternions as qu"
   ]
  },
  {
   "cell_type": "code",
   "execution_count": 37,
   "id": "00dc47e1-577b-47f8-8cd2-8192f3485623",
   "metadata": {
    "pycharm": {
     "name": "#%%\n"
    }
   },
   "outputs": [],
   "source": [
    "b = np.load('./src/bonndit/tracking/kalman/bingham_coefs_versuch1001.npy')\n",
    "n = np.load('./src/bonndit/tracking/kalman/normalize_const_versuch1000.npy')"
   ]
  },
  {
   "cell_type": "code",
   "execution_count": 38,
   "id": "8c1c48bc-5305-43b8-9ea7-f63ee4a7935b",
   "metadata": {
    "pycharm": {
     "name": "#%%\n"
    }
   },
   "outputs": [],
   "source": [
    "for i,j in np.ndindex(b.shape[:2]):\n",
    "    if n[i,j] != 0:\n",
    "        b[i,j] *= 1/n[i,j]\n",
    "    else:\n",
    "        b[i,j] = 0"
   ]
  },
  {
   "cell_type": "code",
   "execution_count": 39,
   "id": "618fb673-e5eb-4201-b24f-731f02fab481",
   "metadata": {
    "pycharm": {
     "name": "#%%\n"
    }
   },
   "outputs": [],
   "source": [
    "b[...,0,:] *= 2.51327412\n",
    "b[...,1,:] *= 1.43615664\n",
    "b[...,2,:] *= 0.31914592"
   ]
  },
  {
   "cell_type": "code",
   "execution_count": 40,
   "id": "f2c1ebd4-0a28-4087-892c-431afd90551a",
   "metadata": {
    "pycharm": {
     "name": "#%%\n"
    }
   },
   "outputs": [],
   "source": [
    "quater = np.zeros(4, dtype=np.float64)\n",
    "qu.ZYZ2quat(quater, s)\n",
    "mean = np.array([l, min(kappa, 50), 0.2, *quater])"
   ]
  },
  {
   "cell_type": "code",
   "execution_count": 41,
   "id": "95f37931-ca36-4d09-81f0-6a4679d1e759",
   "metadata": {
    "pycharm": {
     "name": "#%%\n"
    }
   },
   "outputs": [
    {
     "data": {
      "text/plain": [
       "15.383438"
      ]
     },
     "execution_count": 41,
     "metadata": {},
     "output_type": "execute_result"
    }
   ],
   "source": [
    "kappa"
   ]
  },
  {
   "cell_type": "code",
   "execution_count": 42,
   "id": "c93922a4-3dd2-454b-b987-1be2f0c0c271",
   "metadata": {
    "pycharm": {
     "name": "#%%\n"
    }
   },
   "outputs": [],
   "source": [
    "angels = np.zeros(3, dtype=np.float64)\n",
    "kappa=mean[1]\n",
    "beta=mean[2]\n",
    "qu.quat2ZYZ(angels, mean[3:])\n",
    "dipy_v = np.zeros(15, dtype=np.float64)\n",
    "dipy_v[0] = b[int(kappa*10),  int(beta*10), 0, 0]\n",
    "dipy_v[1] = b[int(kappa*10),  int(beta*10), 1, 2]\n",
    "dipy_v[2] = b[int(kappa*10),  int(beta*10), 1, 1]\n",
    "dipy_v[3] = b[int(kappa*10),  int(beta*10), 1, 0]\n",
    "dipy_v[4] = b[int(kappa*10),  int(beta*10), 1, 8]\n",
    "dipy_v[5] = b[int(kappa*10),  int(beta*10), 1, 7]\n",
    "dipy_v[6] = b[int(kappa*10),  int(beta*10), 2, 4]\n",
    "dipy_v[7] = b[int(kappa*10),  int(beta*10), 2, 3]\n",
    "dipy_v[8] = b[int(kappa*10),  int(beta*10), 2, 2]\n",
    "dipy_v[9] = b[int(kappa*10),  int(beta*10), 2, 1]\n",
    "dipy_v[10] = b[int(kappa*10),  int(beta*10), 2, 0]\n",
    "dipy_v[11] = b[int(kappa*10),  int(beta*10), 2, 8]\n",
    "dipy_v[12] = b[int(kappa*10),  int(beta*10), 2, 7]\n",
    "dipy_v[13] = b[int(kappa*10),  int(beta*10), 2, 6]\n",
    "dipy_v[14] = b[int(kappa*10),  int(beta*10), 2, 5]\n"
   ]
  },
  {
   "cell_type": "code",
   "execution_count": 43,
   "id": "048214e0-d461-4dcf-9303-1f6b14257b0b",
   "metadata": {
    "pycharm": {
     "name": "#%%\n"
    }
   },
   "outputs": [
    {
     "data": {
      "text/plain": [
       "0.44844375278566123"
      ]
     },
     "execution_count": 43,
     "metadata": {},
     "output_type": "execute_result"
    }
   ],
   "source": [
    "pysh = np.zeros(50, dtype=np.float64)\n",
    "w.p_map_dipy_to_pysh_o4(dipy_v, pysh)\n",
    "rot_pysh = np.zeros(50, dtype=np.float64)\n",
    "w.p_sh_rotate_real_coef(rot_pysh, pysh, 4, s, dj_o4)\n",
    "v2  = np.zeros((15), dtype=np.float64)\n",
    "w.p_map_pysh_to_dipy_o4(rot_pysh, v2)\n",
    "np.linalg.norm(v2 * l - fodf[x,y,z,:])"
   ]
  },
  {
   "cell_type": "code",
   "execution_count": 34,
   "id": "417f0ae4-e82b-4c3b-ba09-dca17e500eb7",
   "metadata": {
    "pycharm": {
     "name": "#%%\n"
    }
   },
   "outputs": [
    {
     "name": "stdout",
     "output_type": "stream",
     "text": [
      "[[0. 0. 0.]\n",
      " [0. 0. 0.]\n",
      " [0. 0. 0.]]\n",
      "[[ 0. -0.  0.]\n",
      " [-0.  0.  0.]\n",
      " [ 0.  0. -0.]]\n",
      "[[-0. -0.  0.]\n",
      " [ 0. -0.  0.]\n",
      " [ 0.  0.  0.]]\n",
      "[[ 0. -0.  0.]\n",
      " [-0.  0.  0.]\n",
      " [ 0.  0.  0.]]\n",
      "[[ 0. -0.  0.]\n",
      " [-0.  0.  0.]\n",
      " [ 0.  0.  0.]]\n",
      "[[0. 0. 0.]\n",
      " [0. 0. 0.]\n",
      " [0. 0. 0.]]\n",
      "[[ 0.  0.  0.]\n",
      " [ 0.  0. -0.]\n",
      " [ 0.  0. -0.]]\n",
      "[[ 0. -0.  0.]\n",
      " [-0. -0.  0.]\n",
      " [ 0.  0.  0.]]\n",
      "[[ 0. -0.  0.]\n",
      " [-0. -0.  0.]\n",
      " [ 0.  0.  0.]]\n",
      "[[ 0. -0.  0.]\n",
      " [-0. -0.  0.]\n",
      " [ 0.  0.  0.]]\n",
      "[[-0. -0.  0.]\n",
      " [-0.  0. -0.]\n",
      " [ 0. -0. -0.]]\n",
      "[[ 0. -0.  0.]\n",
      " [-0. -0.  0.]\n",
      " [ 0.  0.  0.]]\n",
      "[[ 0.  0.  0.]\n",
      " [-0.  0.  0.]\n",
      " [ 0.  0.  0.]]\n",
      "[[ 0. -0. -0.]\n",
      " [-0.  0.  0.]\n",
      " [ 0.  0.  0.]]\n",
      "[[ 0. -0.  0.]\n",
      " [-0. -0.  0.]\n",
      " [ 0.  0.  0.]]\n",
      "[[-0.  0.  0.]\n",
      " [-0.  0. -0.]\n",
      " [-0. -0. -0.]]\n",
      "[[ 0. -0.  0.]\n",
      " [-0.  0.  0.]\n",
      " [ 0.  0.  0.]]\n",
      "[[ 0. -0. -0.]\n",
      " [ 0. -0.  0.]\n",
      " [ 0.  0.  0.]]\n",
      "[[ 0. -0. -0.]\n",
      " [ 0.  0.  0.]\n",
      " [ 0.  0. -0.]]\n",
      "[[ 0. -0.  0.]\n",
      " [-0.  0.  0.]\n",
      " [ 0. -0. -0.]]\n",
      "[[ 0.  0.  0.]\n",
      " [-0.  0. -0.]\n",
      " [-0. -0.  0.]]\n",
      "[[ 0. -0.  0.]\n",
      " [-0. -0.  0.]\n",
      " [ 0.  0.  0.]]\n",
      "[[ 0.  0.  0.]\n",
      " [-0.  0.  0.]\n",
      " [ 0. -0.  0.]]\n",
      "[[ 0.  0.  0.]\n",
      " [-0.  0. -0.]\n",
      " [ 0.  0.  0.]]\n",
      "[[ 0.  0.  0.]\n",
      " [-0.  0. -0.]\n",
      " [-0.  0.  0.]]\n",
      "[[-0. -0.  0.]\n",
      " [-0.  0.  0.]\n",
      " [ 0. -0. -0.]]\n",
      "[[ 0. -0.  0.]\n",
      " [-0. -0.  0.]\n",
      " [ 0.  0.  0.]]\n",
      "[[ 0. -0.  0.]\n",
      " [-0.  0.  0.]\n",
      " [ 0.  0. -0.]]\n",
      "[[-0. -0.  0.]\n",
      " [-0.  0.  0.]\n",
      " [ 0. -0.  0.]]\n",
      "[[ 0.  0. -0.]\n",
      " [-0.  0.  0.]\n",
      " [ 0.  0.  0.]]\n",
      "[[ 0.  0.  0.]\n",
      " [-0.  0.  0.]\n",
      " [ 0.  0.  0.]]\n",
      "[[ 0.  0.  0.]\n",
      " [-0.  0.  0.]\n",
      " [ 0. -0.  0.]]\n",
      "[[-0.  0.  0.]\n",
      " [-0.  0. -0.]\n",
      " [-0. -0. -0.]]\n",
      "[[ 0.  0.  0.]\n",
      " [-0. -0.  0.]\n",
      " [ 0.  0.  0.]]\n",
      "[[-0. -0.  0.]\n",
      " [-0.  0. -0.]\n",
      " [ 0.  0. -0.]]\n",
      "[[-0. -0.  0.]\n",
      " [-0.  0.  0.]\n",
      " [ 0.  0. -0.]]\n",
      "[[ 0. -0.  0.]\n",
      " [-0.  0.  0.]\n",
      " [ 0.  0.  0.]]\n",
      "[[ 0. -0.  0.]\n",
      " [-0.  0.  0.]\n",
      " [ 0.  0. -0.]]\n",
      "[[ 0.  0.  0.]\n",
      " [-0.  0.  0.]\n",
      " [ 0. -0.  0.]]\n",
      "[[-0. -0.  0.]\n",
      " [-0.  0.  0.]\n",
      " [ 0. -0. -0.]]\n",
      "[[ 0. -0.  0.]\n",
      " [-0. -0.  0.]\n",
      " [ 0.  0.  0.]]\n",
      "[[-0. -0.  0.]\n",
      " [-0.  0.  0.]\n",
      " [ 0.  0. -0.]]\n",
      "[[-0. -0.  0.]\n",
      " [-0.  0.  0.]\n",
      " [ 0. -0. -0.]]\n",
      "[[ 0.  0.  0.]\n",
      " [-0.  0.  0.]\n",
      " [-0.  0.  0.]]\n",
      "[[ 0. -0. -0.]\n",
      " [-0.  0.  0.]\n",
      " [ 0.  0.  0.]]\n",
      "[[ 0. -0.  0.]\n",
      " [-0. -0.  0.]\n",
      " [ 0.  0.  0.]]\n",
      "[[-0. -0.  0.]\n",
      " [-0.  0. -0.]\n",
      " [ 0. -0. -0.]]\n",
      "[[-0. -0.  0.]\n",
      " [-0.  0.  0.]\n",
      " [ 0.  0. -0.]]\n",
      "[[ 0. -0. -0.]\n",
      " [ 0. -0.  0.]\n",
      " [ 0.  0.  0.]]\n",
      "[[ 0.  0.  0.]\n",
      " [-0.  0.  0.]\n",
      " [ 0.  0.  0.]]\n",
      "[[ 0. -0.  0.]\n",
      " [ 0.  0.  0.]\n",
      " [ 0.  0. -0.]]\n",
      "[[-0.  0.  0.]\n",
      " [-0.  0. -0.]\n",
      " [-0. -0.  0.]]\n",
      "[[ 0. -0.  0.]\n",
      " [-0. -0.  0.]\n",
      " [ 0.  0.  0.]]\n",
      "[[-0. -0.  0.]\n",
      " [-0.  0.  0.]\n",
      " [ 0.  0. -0.]]\n",
      "[[-0. -0.  0.]\n",
      " [-0.  0.  0.]\n",
      " [ 0.  0. -0.]]\n",
      "[[ 0.  0.  0.]\n",
      " [-0.  0.  0.]\n",
      " [ 0.  0.  0.]]\n",
      "[[ 0. -0.  0.]\n",
      " [-0.  0. -0.]\n",
      " [ 0. -0.  0.]]\n",
      "[[-0.  0.  0.]\n",
      " [ 0.  0.  0.]\n",
      " [ 0. -0. -0.]]\n",
      "[[ 0. -0. -0.]\n",
      " [ 0. -0.  0.]\n",
      " [ 0.  0.  0.]]\n",
      "[[ 0. -0.  0.]\n",
      " [ 0. -0.  0.]\n",
      " [ 0.  0.  0.]]\n",
      "[[ 0. -0. -0.]\n",
      " [-0. -0.  0.]\n",
      " [ 0.  0.  0.]]\n",
      "[[ 0. -0.  0.]\n",
      " [-0. -0.  0.]\n",
      " [ 0.  0.  0.]]\n",
      "[[ 0. -0. -0.]\n",
      " [-0. -0.  0.]\n",
      " [ 0.  0.  0.]]\n",
      "[[ 0.  0.  0.]\n",
      " [-0.  0.  0.]\n",
      " [-0.  0.  0.]]\n",
      "[[ 0. -0.  0.]\n",
      " [ 0. -0.  0.]\n",
      " [ 0.  0.  0.]]\n",
      "[[-0.  0.  0.]\n",
      " [ 0.  0.  0.]\n",
      " [-0. -0. -0.]]\n",
      "[[-0.  0.  0.]\n",
      " [ 0.  0. -0.]\n",
      " [ 0. -0. -0.]]\n",
      "[[0. 0. 0.]\n",
      " [0. 0. 0.]\n",
      " [0. 0. 0.]]\n",
      "[[ 0. -0.  0.]\n",
      " [-0.  0.  0.]\n",
      " [ 0.  0. -0.]]\n",
      "[[ 0. -0.  0.]\n",
      " [-0.  0. -0.]\n",
      " [ 0. -0.  0.]]\n",
      "[[ 0. -0.  0.]\n",
      " [ 0.  0.  0.]\n",
      " [ 0.  0. -0.]]\n",
      "[[ 0. -0.  0.]\n",
      " [-0.  0.  0.]\n",
      " [ 0. -0.  0.]]\n",
      "[[ 0.  0.  0.]\n",
      " [-0. -0.  0.]\n",
      " [ 0.  0.  0.]]\n",
      "[[-0. -0.  0.]\n",
      " [-0.  0. -0.]\n",
      " [ 0. -0. -0.]]\n",
      "[[0. 0. 0.]\n",
      " [0. 0. 0.]\n",
      " [0. 0. 0.]]\n",
      "[[ 0. -0.  0.]\n",
      " [-0.  0.  0.]\n",
      " [ 0.  0.  0.]]\n",
      "[[ 0. -0. -0.]\n",
      " [-0. -0.  0.]\n",
      " [ 0.  0.  0.]]\n",
      "[[ 0. -0. -0.]\n",
      " [-0. -0.  0.]\n",
      " [ 0.  0.  0.]]\n",
      "[[-0. -0.  0.]\n",
      " [-0.  0.  0.]\n",
      " [ 0.  0.  0.]]\n",
      "[[ 0.  0.  0.]\n",
      " [ 0.  0.  0.]\n",
      " [-0.  0.  0.]]\n",
      "[[ 0.  0.  0.]\n",
      " [-0.  0. -0.]\n",
      " [-0.  0.  0.]]\n",
      "[[ 0. -0.  0.]\n",
      " [-0. -0.  0.]\n",
      " [ 0.  0.  0.]]\n",
      "[[ 0. -0.  0.]\n",
      " [-0. -0.  0.]\n",
      " [ 0.  0.  0.]]\n",
      "[[ 0. -0.  0.]\n",
      " [-0.  0.  0.]\n",
      " [ 0.  0. -0.]]\n",
      "[[-0. -0.  0.]\n",
      " [-0.  0.  0.]\n",
      " [ 0.  0.  0.]]\n",
      "[[-0. -0.  0.]\n",
      " [ 0.  0.  0.]\n",
      " [ 0.  0. -0.]]\n",
      "[[0. 0. 0.]\n",
      " [0. 0. 0.]\n",
      " [0. 0. 0.]]\n",
      "[[-0.  0.  0.]\n",
      " [-0.  0. -0.]\n",
      " [-0.  0. -0.]]\n",
      "[[-0.  0.  0.]\n",
      " [ 0.  0.  0.]\n",
      " [ 0.  0. -0.]]\n",
      "[[ 0. -0. -0.]\n",
      " [-0. -0.  0.]\n",
      " [ 0.  0.  0.]]\n",
      "[[ 0. -0.  0.]\n",
      " [-0.  0.  0.]\n",
      " [-0.  0.  0.]]\n",
      "[[ 0.  0.  0.]\n",
      " [-0.  0.  0.]\n",
      " [ 0.  0.  0.]]\n",
      "[[ 0. -0.  0.]\n",
      " [-0.  0.  0.]\n",
      " [ 0.  0.  0.]]\n",
      "[[ 0. -0.  0.]\n",
      " [-0. -0.  0.]\n",
      " [ 0.  0.  0.]]\n",
      "[[ 0. -0.  0.]\n",
      " [-0. -0.  0.]\n",
      " [ 0.  0.  0.]]\n",
      "[[ 0.  0.  0.]\n",
      " [-0.  0.  0.]\n",
      " [-0.  0. -0.]]\n",
      "[[ 0. -0.  0.]\n",
      " [-0. -0.  0.]\n",
      " [ 0.  0.  0.]]\n",
      "[[ 0.  0.  0.]\n",
      " [-0.  0.  0.]\n",
      " [-0.  0.  0.]]\n",
      "[[ 0.  0.  0.]\n",
      " [-0.  0.  0.]\n",
      " [-0.  0. -0.]]\n",
      "[[ 0. -0. -0.]\n",
      " [-0.  0.  0.]\n",
      " [ 0. -0. -0.]]\n"
     ]
    }
   ],
   "source": [
    "import numpy as np\n",
    "for i in range(100):\n",
    "    d = np.random.random(3) *10 -20\n",
    "    s = np.zeros(3, dtype=np.float64)\n",
    "    cart2sphere(s[1:], d)\n",
    "    s[0] = -2\n",
    "    quater = np.zeros(4, dtype=np.float64)\n",
    "    qu.ZYZ2quat(quater, s)\n",
    "    R = np.zeros((3,3), dtype=np.float64)\n",
    "    qu.quat2rot(R, quater)\n",
    "    #print(np.round(R, 4))\n",
    "    R2 = np.zeros((3,3), dtype=np.float64)\n",
    "    r_z_r_y_r_z(R2, s)    \n",
    "    print(np.round(R2-R.T,4))"
   ]
  },
  {
   "cell_type": "code",
   "execution_count": null,
   "id": "2f44f904-f2ae-4f9c-95fa-41b22522b968",
   "metadata": {
    "pycharm": {
     "name": "#%%\n"
    }
   },
   "outputs": [],
   "source": []
  },
  {
   "cell_type": "code",
   "execution_count": 85,
   "id": "c5d4ecfd-154b-4248-a619-d2ece6f23d52",
   "metadata": {
    "pycharm": {
     "name": "#%%\n"
    }
   },
   "outputs": [],
   "source": []
  },
  {
   "cell_type": "code",
   "execution_count": 86,
   "id": "6e11801b-753e-48c3-9733-38429e1d32e0",
   "metadata": {
    "pycharm": {
     "name": "#%%\n"
    }
   },
   "outputs": [
    {
     "data": {
      "text/plain": [
       "array([[ 0.23156693,  0.86145553, -0.45196364],\n",
       "       [ 0.94554749, -0.09007537,  0.31277207],\n",
       "       [ 0.22872844, -0.49978075, -0.83540559]])"
      ]
     },
     "execution_count": 86,
     "metadata": {},
     "output_type": "execute_result"
    }
   ],
   "source": []
  },
  {
   "cell_type": "code",
   "execution_count": 29,
   "id": "55af3845-a65a-4cac-974b-12df2bbeecda",
   "metadata": {
    "pycharm": {
     "name": "#%%\n"
    }
   },
   "outputs": [],
   "source": []
  },
  {
   "cell_type": "code",
   "execution_count": 29,
   "id": "bdf17db2-47e1-496c-92d9-f61d1b82fe25",
   "metadata": {
    "pycharm": {
     "name": "#%%\n"
    }
   },
   "outputs": [],
   "source": []
  },
  {
   "cell_type": "code",
   "execution_count": 29,
   "id": "fcb9ee3f-ac3f-456c-a999-a21692841166",
   "metadata": {
    "pycharm": {
     "name": "#%%\n"
    }
   },
   "outputs": [],
   "source": []
  },
  {
   "cell_type": "code",
   "execution_count": 29,
   "id": "bc5c7340-c9ce-4728-9f7e-ad65dc5bb9c1",
   "metadata": {
    "pycharm": {
     "name": "#%%\n"
    }
   },
   "outputs": [
    {
     "data": {
      "text/plain": [
       "0.0758594"
      ]
     },
     "execution_count": 29,
     "metadata": {},
     "output_type": "execute_result"
    }
   ],
   "source": []
  },
  {
   "cell_type": "code",
   "execution_count": 4,
   "id": "5d01568c-bef4-4a6f-a02c-135c66132676",
   "metadata": {
    "pycharm": {
     "name": "#%%\n"
    }
   },
   "outputs": [
    {
     "name": "stdout",
     "output_type": "stream",
     "text": [
      "Processing /home/johannes/UniBonn/forschung/bonndit\n",
      "  Installing build dependencies ... \u001B[?25ldone\n",
      "\u001B[?25h  Getting requirements to build wheel ... \u001B[?25ldone\n",
      "\u001B[?25h  Installing backend dependencies ... \u001B[?25ldone\n",
      "\u001B[?25h  Preparing metadata (pyproject.toml) ... \u001B[?25ldone\n",
      "\u001B[?25hRequirement already satisfied: numpy in ./venv/lib/python3.8/site-packages (from bonndit==0.2.0) (1.20.0)\n",
      "Requirement already satisfied: pandas in ./venv/lib/python3.8/site-packages (from bonndit==0.2.0) (1.4.2)\n",
      "Requirement already satisfied: scipy in ./venv/lib/python3.8/site-packages (from bonndit==0.2.0) (1.10.0)\n",
      "Requirement already satisfied: nibabel in ./venv/lib/python3.8/site-packages (from bonndit==0.2.0) (3.2.2)\n",
      "Requirement already satisfied: dipy in ./venv/lib/python3.8/site-packages (from bonndit==0.2.0) (1.3.0)\n",
      "Requirement already satisfied: mpmath in ./venv/lib/python3.8/site-packages (from bonndit==0.2.0) (1.1.0)\n",
      "Requirement already satisfied: plyfile in ./venv/lib/python3.8/site-packages (from bonndit==0.2.0) (0.7.4)\n",
      "Requirement already satisfied: cvxopt in ./venv/lib/python3.8/site-packages (from bonndit==0.2.0) (1.2.7)\n",
      "Requirement already satisfied: pynrrd in ./venv/lib/python3.8/site-packages (from bonndit==0.2.0) (0.4.2)\n",
      "Requirement already satisfied: pyshtools in ./venv/lib/python3.8/site-packages (from bonndit==0.2.0) (4.10.1)\n",
      "Requirement already satisfied: tqdm in ./venv/lib/python3.8/site-packages (from bonndit==0.2.0) (4.56.2)\n",
      "Requirement already satisfied: Cython in ./venv/lib/python3.8/site-packages (from bonndit==0.2.0) (3.0.0a10)\n",
      "Requirement already satisfied: h5py>=2.5.0 in ./venv/lib/python3.8/site-packages (from dipy->bonndit==0.2.0) (3.6.0)\n",
      "Requirement already satisfied: setuptools in ./venv/lib/python3.8/site-packages (from nibabel->bonndit==0.2.0) (57.0.0)\n",
      "Requirement already satisfied: packaging>=14.3 in ./venv/lib/python3.8/site-packages (from nibabel->bonndit==0.2.0) (21.3)\n",
      "Requirement already satisfied: pytz>=2020.1 in ./venv/lib/python3.8/site-packages (from pandas->bonndit==0.2.0) (2022.1)\n",
      "Requirement already satisfied: python-dateutil>=2.8.1 in ./venv/lib/python3.8/site-packages (from pandas->bonndit==0.2.0) (2.8.2)\n",
      "Requirement already satisfied: pooch>=1.1 in ./venv/lib/python3.8/site-packages (from pyshtools->bonndit==0.2.0) (1.6.0)\n",
      "Requirement already satisfied: requests in ./venv/lib/python3.8/site-packages (from pyshtools->bonndit==0.2.0) (2.28.2)\n",
      "Collecting numpy\n",
      "  Using cached numpy-1.24.3-cp38-cp38-manylinux_2_17_x86_64.manylinux2014_x86_64.whl (17.3 MB)\n",
      "Requirement already satisfied: astropy>=4.0 in ./venv/lib/python3.8/site-packages (from pyshtools->bonndit==0.2.0) (5.2.1)\n",
      "Requirement already satisfied: matplotlib>=3.3 in ./venv/lib/python3.8/site-packages (from pyshtools->bonndit==0.2.0) (3.5.2)\n",
      "Requirement already satisfied: xarray in ./venv/lib/python3.8/site-packages (from pyshtools->bonndit==0.2.0) (2023.1.0)\n",
      "Requirement already satisfied: PyYAML>=3.13 in ./venv/lib/python3.8/site-packages (from astropy>=4.0->pyshtools->bonndit==0.2.0) (6.0)\n",
      "Requirement already satisfied: pyerfa>=2.0 in ./venv/lib/python3.8/site-packages (from astropy>=4.0->pyshtools->bonndit==0.2.0) (2.0.0.1)\n",
      "Requirement already satisfied: cycler>=0.10 in ./venv/lib/python3.8/site-packages (from matplotlib>=3.3->pyshtools->bonndit==0.2.0) (0.11.0)\n",
      "Requirement already satisfied: pillow>=6.2.0 in ./venv/lib/python3.8/site-packages (from matplotlib>=3.3->pyshtools->bonndit==0.2.0) (9.2.0)\n",
      "Requirement already satisfied: fonttools>=4.22.0 in ./venv/lib/python3.8/site-packages (from matplotlib>=3.3->pyshtools->bonndit==0.2.0) (4.34.4)\n",
      "Requirement already satisfied: pyparsing>=2.2.1 in ./venv/lib/python3.8/site-packages (from matplotlib>=3.3->pyshtools->bonndit==0.2.0) (3.0.7)\n",
      "Requirement already satisfied: kiwisolver>=1.0.1 in ./venv/lib/python3.8/site-packages (from matplotlib>=3.3->pyshtools->bonndit==0.2.0) (1.4.4)\n",
      "Requirement already satisfied: appdirs>=1.3.0 in ./venv/lib/python3.8/site-packages (from pooch>=1.1->pyshtools->bonndit==0.2.0) (1.4.4)\n",
      "Requirement already satisfied: six>=1.5 in ./venv/lib/python3.8/site-packages (from python-dateutil>=2.8.1->pandas->bonndit==0.2.0) (1.16.0)\n",
      "Requirement already satisfied: idna<4,>=2.5 in ./venv/lib/python3.8/site-packages (from requests->pyshtools->bonndit==0.2.0) (3.3)\n",
      "Requirement already satisfied: certifi>=2017.4.17 in ./venv/lib/python3.8/site-packages (from requests->pyshtools->bonndit==0.2.0) (2022.12.7)\n",
      "Requirement already satisfied: charset-normalizer<4,>=2 in ./venv/lib/python3.8/site-packages (from requests->pyshtools->bonndit==0.2.0) (2.1.0)\n",
      "Requirement already satisfied: urllib3<1.27,>=1.21.1 in ./venv/lib/python3.8/site-packages (from requests->pyshtools->bonndit==0.2.0) (1.26.14)\n",
      "Building wheels for collected packages: bonndit\n",
      "  Building wheel for bonndit (pyproject.toml) ... \u001B[?25ldone\n",
      "\u001B[?25h  Created wheel for bonndit: filename=bonndit-0.2.0-cp38-cp38-linux_x86_64.whl size=30458170 sha256=dc5b8355ce98b66ac8f35f77ae03e052c0acf90880bcd7fd4b67395983f9c3b7\n",
      "  Stored in directory: /tmp/pip-ephem-wheel-cache-de5vkzbk/wheels/2e/1e/92/44625976e847c3f0ac3a02bc8b14a2722cbba93db73d0e6491\n",
      "Successfully built bonndit\n",
      "Installing collected packages: numpy, bonndit\n",
      "  Attempting uninstall: numpy\n",
      "    Found existing installation: numpy 1.20.0\n",
      "    Uninstalling numpy-1.20.0:\n",
      "      Successfully uninstalled numpy-1.20.0\n",
      "  Attempting uninstall: bonndit\n",
      "    Found existing installation: bonndit 0.2.0\n",
      "    Uninstalling bonndit-0.2.0:\n",
      "      Successfully uninstalled bonndit-0.2.0\n",
      "Successfully installed bonndit-0.2.0 numpy-1.24.3\n",
      "\n",
      "\u001B[1m[\u001B[0m\u001B[34;49mnotice\u001B[0m\u001B[1;39;49m]\u001B[0m\u001B[39;49m A new release of pip is available: \u001B[0m\u001B[31;49m23.0.1\u001B[0m\u001B[39;49m -> \u001B[0m\u001B[32;49m23.1.1\u001B[0m\n",
      "\u001B[1m[\u001B[0m\u001B[34;49mnotice\u001B[0m\u001B[1;39;49m]\u001B[0m\u001B[39;49m To update, run: \u001B[0m\u001B[32;49m/home/johannes/UniBonn/forschung/bonndit/venv/bin/python -m pip install --upgrade pip\u001B[0m\n",
      "Note: you may need to restart the kernel to use updated packages.\n"
     ]
    }
   ],
   "source": [
    "pip install ."
   ]
  },
  {
   "cell_type": "code",
   "execution_count": 5,
   "id": "a8712c96-6af8-45f5-bf24-dbab14dae230",
   "metadata": {
    "pycharm": {
     "name": "#%%\n"
    }
   },
   "outputs": [
    {
     "name": "stdout",
     "output_type": "stream",
     "text": [
      "Found existing installation: numpy 1.24.3\n",
      "Uninstalling numpy-1.24.3:\n",
      "  Successfully uninstalled numpy-1.24.3\n",
      "Note: you may need to restart the kernel to use updated packages.\n"
     ]
    }
   ],
   "source": [
    "pip uninstall numpy -y"
   ]
  },
  {
   "cell_type": "code",
   "execution_count": 6,
   "id": "d3778852-79f9-49c1-b5f8-b324414c5f89",
   "metadata": {
    "pycharm": {
     "name": "#%%\n"
    }
   },
   "outputs": [
    {
     "name": "stdout",
     "output_type": "stream",
     "text": [
      "Collecting numpy==1.20.0\n",
      "  Using cached numpy-1.20.0-cp38-cp38-manylinux2010_x86_64.whl (15.4 MB)\n",
      "Installing collected packages: numpy\n",
      "\u001B[31mERROR: pip's dependency resolver does not currently take into account all the packages that are installed. This behaviour is the source of the following dependency conflicts.\n",
      "pyshtools 4.10.1 requires numpy>=1.23.2, but you have numpy 1.20.0 which is incompatible.\u001B[0m\u001B[31m\n",
      "\u001B[0mSuccessfully installed numpy-1.20.0\n",
      "\n",
      "\u001B[1m[\u001B[0m\u001B[34;49mnotice\u001B[0m\u001B[1;39;49m]\u001B[0m\u001B[39;49m A new release of pip is available: \u001B[0m\u001B[31;49m23.0.1\u001B[0m\u001B[39;49m -> \u001B[0m\u001B[32;49m23.1.1\u001B[0m\n",
      "\u001B[1m[\u001B[0m\u001B[34;49mnotice\u001B[0m\u001B[1;39;49m]\u001B[0m\u001B[39;49m To update, run: \u001B[0m\u001B[32;49m/home/johannes/UniBonn/forschung/bonndit/venv/bin/python -m pip install --upgrade pip\u001B[0m\n",
      "Note: you may need to restart the kernel to use updated packages.\n"
     ]
    }
   ],
   "source": [
    "pip install numpy==1.20.0"
   ]
  },
  {
   "cell_type": "code",
   "execution_count": null,
   "id": "4da593bb-4435-48fc-989a-e5f428d5b163",
   "metadata": {
    "pycharm": {
     "name": "#%%\n"
    }
   },
   "outputs": [],
   "source": []
  },
  {
   "cell_type": "code",
   "execution_count": null,
   "id": "ece7f2b5-558a-4e95-98bb-168f9c1f969f",
   "metadata": {
    "pycharm": {
     "name": "#%%\n"
    }
   },
   "outputs": [],
   "source": []
  }
 ],
 "metadata": {
  "kernelspec": {
   "display_name": "bonndit",
   "language": "python",
   "name": "bonndit"
  },
  "language_info": {
   "codemirror_mode": {
    "name": "ipython",
    "version": 3
   },
   "file_extension": ".py",
   "mimetype": "text/x-python",
   "name": "python",
   "nbconvert_exporter": "python",
   "pygments_lexer": "ipython3",
   "version": "3.9.13"
  }
 },
 "nbformat": 4,
 "nbformat_minor": 5
}