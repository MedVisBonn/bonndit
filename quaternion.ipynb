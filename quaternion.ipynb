{
 "cells": [
  {
   "cell_type": "code",
   "execution_count": 1,
   "id": "74445790-10b7-4b65-87f3-ebb7cf2f03d6",
   "metadata": {
    "pycharm": {
     "name": "#%%\n"
    }
   },
   "outputs": [],
   "source": [
    "import numpy as np "
   ]
  },
  {
   "cell_type": "code",
   "execution_count": 114,
   "id": "01eacd80-7ce3-4f22-a541-8dfb3758d0df",
   "metadata": {
    "pycharm": {
     "name": "#%%\n"
    }
   },
   "outputs": [],
   "source": [
    "def quat2rot(q):\n",
    "    R = np.array([[q[0]**2 + q[1]**2 - q[2]**2 - q[3]**2, - 2*(q[1] * q[2] - q[0] * q[3]),    -      2*(q[1] * q[3] + q[0] * q[2])],\n",
    "                  [- 2*(q[1] * q[2] + q[0] * q[3]),         q[0]**2 - q[1]**2 + q[2]**2 - q[3]**2, 2*(q[2] * q[3] - q[0] * q[1])],\n",
    "                  [- 2*(q[1] * q[3] - q[0] * q[2]),         2*(q[2] * q[3] + q[0] * q[1]),         q[0]**2 - q[1]**2 - q[2]**2 + q[3]**2]])\n",
    "    return R\n",
    "                  \n",
    "\n",
    "def quat2zyz(q):\n",
    "    r23 =  (q[2] * q[3] - q[1] * q[0])\n",
    "    r13 =  (q[1] * q[3] + q[2] * q[0])\n",
    "    r33 =  1 - 2*(q[1]**2 + q[2] ** 2)\n",
    "    r31 =  (q[1] * q[3] - q[2] * q[0])\n",
    "    r32 =  (q[2] * q[3] + q[1] * q[0])\n",
    "    if r33 != 0:\n",
    "        y = np.arccos(r33)\n",
    "        x = np.arctan2(r32, r31)\n",
    "        z = np.arctan2(r23, -r13)\n",
    "        \n",
    "    return np.array([x,y,z])\n",
    "\n",
    "def quaternion_to_euler(q):\n",
    "    (w, x, y, z) = (q[0], q[1], q[2], q[3])\n",
    "    t0 = +2.0 * (w * x + y * z)\n",
    "    t1 = +1.0 - 2.0 * (x * x + y * y)\n",
    "    roll = np.arctan2(t0, t1)\n",
    "    t2 = +2.0 * (w * y - z * x)\n",
    "    t2 = +1.0 if t2 > +1.0 else t2\n",
    "    t2 = -1.0 if t2 < -1.0 else t2\n",
    "    pitch = np.arcsin(t2)\n",
    "    t3 = +2.0 * (w * z + x * y)\n",
    "    t4 = +1.0 - 2.0 * (y * y + z * z)\n",
    "    yaw = np.arctan2(t3, t4)\n",
    "    return np.array([roll, pitch, yaw])\n",
    "\n",
    "def quatmult(x,y):\n",
    "    return np.array([x[0]*y[0] - x[1]*y[1] - x[2]*y[2] - x[3]*y[3],\n",
    "                     x[0]*y[1] + x[1]*y[0] + x[2]*y[3] - x[3]*y[2],\n",
    "                     x[0]*y[2] - x[1]*y[3] + x[2]*y[0] + x[3]*y[1],\n",
    "                     x[0]*y[3] + x[1]*y[2] - x[2]*y[1] + x[3]*y[0]])\n",
    "\n",
    "def euler_to_quaternion(r):\n",
    "    (yaw, pitch, roll) = (r[0], r[1], r[2])\n",
    "    qz = np.sin(roll/2) * np.cos(pitch/2) * np.cos(yaw/2) - np.cos(roll/2) * np.sin(pitch/2) * np.sin(yaw/2)\n",
    "    qy = np.cos(roll/2) * np.sin(pitch/2) * np.cos(yaw/2) + np.sin(roll/2) * np.cos(pitch/2) * np.sin(yaw/2)\n",
    "    qx = np.cos(roll/2) * np.cos(pitch/2) * np.sin(yaw/2) - np.sin(roll/2) * np.sin(pitch/2) * np.cos(yaw/2)\n",
    "    qw = np.cos(roll/2) * np.cos(pitch/2) * np.cos(yaw/2) + np.sin(roll/2) * np.sin(pitch/2) * np.sin(yaw/2)\n",
    "    return np.array([qw, qx, qy, qz])"
   ]
  },
  {
   "cell_type": "code",
   "execution_count": 112,
   "id": "2be713a2-48c7-41c3-95ab-68563c743c94",
   "metadata": {
    "pycharm": {
     "name": "#%%\n"
    }
   },
   "outputs": [],
   "source": [
    "def r_x(x): \n",
    "    return np.array([[1,0,0], [0, np.cos(x), - np.sin(x)], [0, np. sin(x), np.cos(x)]])\n",
    "def r_y(x): \n",
    "    return np.array( [[np.cos(x), 0, np.sin(x)], [0,1,0], [-np. sin(x), 0 ,  np.cos(x)]])\n",
    "def r_z(x): \n",
    "    return np.array([[np.cos(x), - np.sin(x), 0], [np. sin(x), np.cos(x),0], [0,0,1]])\n",
    "\n",
    "\n",
    "def xyz2quat(x,y,z):\n",
    "    qx = np.array([np.cos(x/2), np.sin(x/2), 0, 0])\n",
    "    qy = np.array([np.cos(y/2), 0, np.sin(y/2), 0])\n",
    "    qz = np.array([np.cos(z/2), 0, 0, np.sin(z/2)])\n",
    "    return quatmult(qx, quatmult(qy, qz))\n",
    "\n",
    "def zyz2quat(x,y,z):\n",
    "    qx = np.array([np.cos(x/2), 0, 0, np.sin(x/2)])\n",
    "    qy = np.array([np.cos(y/2), 0, np.sin(y/2), 0])\n",
    "    qz = np.array([np.cos(z/2), 0, 0, np.sin(z/2)])\n",
    "    return quatmult(qx, quatmult(qy, qz))\n",
    "\n",
    "def zyz2xyz(x,y,z):\n",
    "    R = r_z(x) @ r_y(y) @ r_z(z)\n",
    "    x = np.arctan(- R[1,2]/R[2,2])\n",
    "    y = np.arcsin(R[0,2])\n",
    "    z = np.arctan(-R[0,1] /R[0,0])\n",
    "    return x,y,z\n",
    "\n",
    "def xyz2zyz(e):\n",
    "    R = r_x(e[0]) @ r_y(e[1]) @ r_z(e[2])\n",
    "    if R[2,2] != 0:\n",
    "        y = np.arccos(R[2,2])\n",
    "        z = -np.arctan2(R[2,1], R[2,0]) +np.pi\n",
    "        x = np.arctan2(R[1,2], R[0,2])\n",
    "        \n",
    "    return np.array([x,y,z])"
   ]
  },
  {
   "cell_type": "code",
   "execution_count": 103,
   "id": "33bf4323-1cb2-414d-b430-7a65977a8ee1",
   "metadata": {
    "pycharm": {
     "name": "#%%\n"
    }
   },
   "outputs": [
    {
     "data": {
      "text/plain": [
       "array([ 0.78714464, -0.09043793,  0.11896528,  0.59839081])"
      ]
     },
     "execution_count": 103,
     "metadata": {},
     "output_type": "execute_result"
    }
   ],
   "source": [
    "# transforms points to quaterniions and back\n",
    "x = 0.0\n",
    "y = 0.3 \n",
    "z = 1.3\n",
    "xyz2quat(*zyz2xyz(x,y,z)) #- euler_to_quaternion(zyz2xyz(x,y,z))"
   ]
  },
  {
   "cell_type": "code",
   "execution_count": null,
   "id": "696d8101-8cdd-478f-aad2-220d81f22fa7",
   "metadata": {
    "pycharm": {
     "name": "#%%\n"
    }
   },
   "outputs": [],
   "source": []
  },
  {
   "cell_type": "code",
   "execution_count": 104,
   "id": "bb322d78-f987-40d6-834e-bc09648c3e7c",
   "metadata": {
    "pycharm": {
     "name": "#%%\n"
    }
   },
   "outputs": [
    {
     "ename": "NameError",
     "evalue": "name 'MRP_H2R' is not defined",
     "output_type": "error",
     "traceback": [
      "\u001b[0;31m---------------------------------------------------------------------------\u001b[0m",
      "\u001b[0;31mNameError\u001b[0m                                 Traceback (most recent call last)",
      "Input \u001b[0;32mIn [104]\u001b[0m, in \u001b[0;36m<cell line: 1>\u001b[0;34m()\u001b[0m\n\u001b[0;32m----> 1\u001b[0m \u001b[43mMRP_H2R\u001b[49m(np\u001b[38;5;241m.\u001b[39marray([\u001b[38;5;241m1\u001b[39m,\u001b[38;5;241m0\u001b[39m,\u001b[38;5;241m0\u001b[39m,\u001b[38;5;241m0\u001b[39m]))\n",
      "\u001b[0;31mNameError\u001b[0m: name 'MRP_H2R' is not defined"
     ]
    }
   ],
   "source": [
    "MRP_H2R(np.array([1,0,0,0]))"
   ]
  },
  {
   "cell_type": "code",
   "execution_count": 8,
   "id": "638cb0aa-7451-4200-8193-fa80e0782a08",
   "metadata": {
    "pycharm": {
     "name": "#%%\n"
    }
   },
   "outputs": [],
   "source": [
    "#define transformation from H to R³\n",
    "## works\n",
    "\n",
    "def MRP_H2R(q):\n",
    "    return 4 * q[1:]/(1+q[0])\n",
    "\n",
    "def MRP_R2H(e):\n",
    "    return 1/(16 + np.linalg.norm(e)**2) * np.array([16 - np.linalg.norm(e)**2, *8*e])"
   ]
  },
  {
   "cell_type": "code",
   "execution_count": 12,
   "id": "e2000527-cc62-49b0-9931-824b8b6d6893",
   "metadata": {
    "pycharm": {
     "name": "#%%\n"
    }
   },
   "outputs": [],
   "source": [
    "# complex conjugated \n",
    "def quat_cc(q):\n",
    "    d = np.copy(q)\n",
    "    d[1:] *= -1\n",
    "    return d"
   ]
  },
  {
   "cell_type": "code",
   "execution_count": 13,
   "id": "3912604c-04b9-4f6f-b79c-3446967d92a5",
   "metadata": {
    "pycharm": {
     "name": "#%%\n"
    }
   },
   "outputs": [],
   "source": [
    "x = 0\n",
    "y = 0.5 \n",
    "z = 1\n",
    "a = euler_to_quaternion(zyz2xyz(x,y,z))"
   ]
  },
  {
   "cell_type": "code",
   "execution_count": null,
   "id": "deed5bb7",
   "metadata": {
    "collapsed": false,
    "jupyter": {
     "outputs_hidden": false
    },
    "pycharm": {
     "name": "#%%\n"
    }
   },
   "outputs": [],
   "source": [
    "quat2rot(a).T"
   ]
  },
  {
   "cell_type": "code",
   "execution_count": 52,
   "id": "2acf2ed9",
   "metadata": {
    "collapsed": false,
    "jupyter": {
     "outputs_hidden": false
    },
    "pycharm": {
     "name": "#%%\n"
    }
   },
   "outputs": [],
   "source": [
    "from numpy import sin, cos\n",
    "def r_z_r_y_r_z(ret, v):\n",
    "    ret[0,0] = -sin(v[0])*sin(v[2]) + cos(v[0])*cos(v[1])*cos(v[2])\n",
    "    ret[0,1] = sin(v[0])*cos(v[2]) + sin(v[2])*cos(v[0])*cos(v[1])\n",
    "    ret[0,2] = - sin(v[1])*cos(v[0])\n",
    "    ret[1,0] = - sin(v[0])*cos(v[1])*cos(v[2]) - sin(v[2])*cos(v[0])\n",
    "    ret[1,1] = -sin(v[0])*sin(v[2])*cos(v[1]) + cos(v[0])*cos(v[2])\n",
    "    ret[1,2] = sin(v[0])*sin(v[1])\n",
    "    ret[2,0] = sin(v[1])*cos(v[2])\n",
    "    ret[2,1] = sin(v[1])*sin(v[2])\n",
    "    ret[2,2] = cos(v[1])\n",
    "    "
   ]
  },
  {
   "cell_type": "code",
   "execution_count": null,
   "id": "690c69dd",
   "metadata": {
    "collapsed": false,
    "jupyter": {
     "outputs_hidden": false
    },
    "pycharm": {
     "name": "#%%\n"
    }
   },
   "outputs": [],
   "source": [
    "R = np.zeros((3,3))\n",
    "r_z_r_y_r_z(R, [0,0.5,1])"
   ]
  },
  {
   "cell_type": "code",
   "execution_count": null,
   "id": "21811b41",
   "metadata": {
    "collapsed": false,
    "jupyter": {
     "outputs_hidden": false
    },
    "pycharm": {
     "name": "#%%\n"
    }
   },
   "outputs": [],
   "source": [
    "R"
   ]
  },
  {
   "cell_type": "code",
   "execution_count": 22,
   "id": "6d610081-9cd1-48b7-b75b-ad6d71ac7c69",
   "metadata": {
    "pycharm": {
     "name": "#%%\n"
    }
   },
   "outputs": [],
   "source": [
    "R = np.zeros((3,3))\n",
    "r_z_r_y_r_z(R, [0,0.5,1])"
   ]
  },
  {
   "cell_type": "code",
   "execution_count": 23,
   "id": "248b5057-154a-4ec0-8ecb-99fea29333e6",
   "metadata": {
    "pycharm": {
     "name": "#%%\n"
    }
   },
   "outputs": [
    {
     "data": {
      "text/plain": [
       "array([[ 0.47415988,  0.73846026, -0.47942554],\n",
       "       [-0.84147098,  0.54030231,  0.        ],\n",
       "       [ 0.25903472,  0.40342268,  0.87758256]])"
      ]
     },
     "execution_count": 23,
     "metadata": {},
     "output_type": "execute_result"
    }
   ],
   "source": [
    "R"
   ]
  },
  {
   "cell_type": "code",
   "execution_count": 364,
   "id": "032b570c-eb87-4089-9b8c-8910e589582d",
   "metadata": {
    "pycharm": {
     "name": "#%%\n"
    }
   },
   "outputs": [
    {
     "data": {
      "text/plain": [
       "array([0., 0., 0.])"
      ]
     },
     "execution_count": 364,
     "metadata": {},
     "output_type": "execute_result"
    }
   ],
   "source": [
    "MRP_H2R(np.array([1,0,0,0]))"
   ]
  },
  {
   "cell_type": "code",
   "execution_count": 365,
   "id": "ea18b1b0-b3ce-4ac8-9e05-c9f99f6bc59a",
   "metadata": {
    "pycharm": {
     "name": "#%%\n"
    }
   },
   "outputs": [],
   "source": [
    "import sympy as s\n",
    "def r_x(x): \n",
    "    return np.array([[1,0,0], [0, s.cos(x), - s.sin(x)], [0, s.sin(x), s.cos(x)]])\n",
    "def r_y(x): \n",
    "    return np.array( [[s.cos(x), 0, s.sin(x)], [0,1,0], [-s.sin(x), 0 ,  s.cos(x)]])\n",
    "def r_z(x): \n",
    "    return np.array([[s.cos(x), - s.sin(x), 0], [s.sin(x), s.cos(x),0], [0,0,1]])\n",
    "\n"
   ]
  },
  {
   "cell_type": "code",
   "execution_count": 367,
   "id": "6f98e171-c242-4763-996e-3d0484d897ba",
   "metadata": {
    "pycharm": {
     "name": "#%%\n"
    }
   },
   "outputs": [
    {
     "data": {
      "text/plain": [
       "array([[-sin(zyz[0])*sin(zyz[2]) + cos(zyz[0])*cos(zyz[1])*cos(zyz[2]),\n",
       "        -sin(zyz[0])*cos(zyz[2]) - sin(zyz[2])*cos(zyz[0])*cos(zyz[1]),\n",
       "        sin(zyz[1])*cos(zyz[0])],\n",
       "       [sin(zyz[0])*cos(zyz[1])*cos(zyz[2]) + sin(zyz[2])*cos(zyz[0]),\n",
       "        -sin(zyz[0])*sin(zyz[2])*cos(zyz[1]) + cos(zyz[0])*cos(zyz[2]),\n",
       "        sin(zyz[0])*sin(zyz[1])],\n",
       "       [-sin(zyz[1])*cos(zyz[2]), sin(zyz[1])*sin(zyz[2]), cos(zyz[1])]],\n",
       "      dtype=object)"
      ]
     },
     "execution_count": 367,
     "metadata": {},
     "output_type": "execute_result"
    }
   ],
   "source": [
    "x = s.Symbol('zyz[0]')\n",
    "y = s.Symbol('zyz[1]')\n",
    "z = s.Symbol('zyz[2]')\n",
    "r_z(x) @ r_y(y) @ r_z(z)"
   ]
  },
  {
   "cell_type": "code",
   "execution_count": 4,
   "id": "df8f0572",
   "metadata": {
    "collapsed": false,
    "jupyter": {
     "outputs_hidden": false
    },
    "pycharm": {
     "name": "#%%\n"
    }
   },
   "outputs": [],
   "source": [
    "import bonndit.utilc.quaternions as qu\n",
    "import matplotlib.pyplot as plt\n",
    "import numpy as np"
   ]
  },
  {
   "cell_type": "code",
   "execution_count": 18,
   "id": "ef8f0e09-cbc3-421d-8406-c56532bb6067",
   "metadata": {
    "collapsed": false,
    "jupyter": {
     "outputs_hidden": false
    },
    "pycharm": {
     "name": "#%%\n"
    }
   },
   "outputs": [],
   "source": [
    "a = np.zeros((4))\n",
    "a = np.random.random(size=4)\n",
    "ret = np.zeros((3))\n",
    "qu.MPR_H2R_q(ret, a,a)"
   ]
  },
  {
   "cell_type": "code",
   "execution_count": 107,
   "id": "f7ff12a1-d6cf-4074-86a9-777e63827e8c",
   "metadata": {
    "collapsed": false,
    "jupyter": {
     "outputs_hidden": false
    },
    "pycharm": {
     "name": "#%%\n"
    }
   },
   "outputs": [],
   "source": [
    "x = np.array((0.5,0.5,0.5))\n",
    "qu.ZYZ2quat(a,x)"
   ]
  },
  {
   "cell_type": "code",
   "execution_count": 33,
   "id": "7f7417ea-c04e-473c-a461-a290a45234cd",
   "metadata": {
    "collapsed": false,
    "jupyter": {
     "outputs_hidden": false
    },
    "pycharm": {
     "name": "#%%\n"
    }
   },
   "outputs": [],
   "source": [
    "b = np.random.normal(0,0.05,(3, 20))"
   ]
  },
  {
   "cell_type": "code",
   "execution_count": 75,
   "id": "5e01263e-9bef-46a7-9c51-481cf3247924",
   "metadata": {
    "collapsed": false,
    "jupyter": {
     "outputs_hidden": false
    },
    "pycharm": {
     "name": "#%%\n"
    }
   },
   "outputs": [],
   "source": [
    "c = np.zeros((4,20))\n",
    "d = np.zeros((3,3,20))\n",
    "e = np.zeros((3,3))\n",
    "for i in range(20):\n",
    "    qu.MPR_R2H_q(c[:,i], b[:,i], a)"
   ]
  },
  {
   "cell_type": "code",
   "execution_count": 47,
   "id": "d64a1356-4184-4e1d-b67d-40f24363f798",
   "metadata": {},
   "outputs": [],
   "source": [
    "for i in range(20):\n",
    "    qu.quat2rot(d[:,:,i], c[:,i])"
   ]
  },
  {
   "cell_type": "code",
   "execution_count": 72,
   "id": "23c0a47a-008d-4f31-bfa6-58a65a76d3f8",
   "metadata": {},
   "outputs": [
    {
     "data": {
      "text/plain": [
       "array([[ 0.4286965 ,  0.80116917, -0.41754913],\n",
       "       [-0.90147423,  0.34879498, -0.25629335],\n",
       "       [-0.05969529,  0.48628184,  0.87176054]])"
      ]
     },
     "execution_count": 72,
     "metadata": {},
     "output_type": "execute_result"
    }
   ],
   "source": [
    "d[...,0] "
   ]
  },
  {
   "cell_type": "code",
   "execution_count": 115,
   "id": "8b6809f4-e577-4764-be9b-5732473b32d9",
   "metadata": {},
   "outputs": [
    {
     "data": {
      "text/plain": [
       "array([[ 0.44602237,  0.78996562, -0.42073549],\n",
       "       [-0.78996562,  0.56843981,  0.22984885],\n",
       "       [ 0.42073549,  0.22984885,  0.87758256]])"
      ]
     },
     "execution_count": 115,
     "metadata": {},
     "output_type": "execute_result"
    }
   ],
   "source": [
    "quat2rot(xyz2quat(*zyz2xyz(*x)))"
   ]
  },
  {
   "cell_type": "code",
   "execution_count": 116,
   "id": "25b851f7-1b77-43c1-90f6-158cf2d714a9",
   "metadata": {},
   "outputs": [],
   "source": [
    "qu.quat2rot(e, a)"
   ]
  },
  {
   "cell_type": "code",
   "execution_count": 117,
   "id": "652d507a-5801-4719-834b-68bf35517f3c",
   "metadata": {},
   "outputs": [],
   "source": [
    "h =np.zeros((3,3))\n",
    "r_z_r_y_r_z(h, x)"
   ]
  },
  {
   "cell_type": "code",
   "execution_count": 119,
   "id": "c80ae49e-100f-49da-8c50-c5e19e3fdeb3",
   "metadata": {},
   "outputs": [
    {
     "data": {
      "text/plain": [
       "array([[-1.11022302e-16, -1.11022302e-16,  1.11022302e-16],\n",
       "       [ 1.11022302e-16, -1.11022302e-16, -1.11022302e-16],\n",
       "       [-1.11022302e-16,  0.00000000e+00, -2.22044605e-16]])"
      ]
     },
     "execution_count": 119,
     "metadata": {},
     "output_type": "execute_result"
    }
   ],
   "source": [
    "h - quat2rot(xyz2quat(*zyz2xyz(*x)))"
   ]
  },
  {
   "cell_type": "code",
   "execution_count": 79,
   "id": "6e6db87c-f840-4d68-a86c-d809294ac18e",
   "metadata": {},
   "outputs": [
    {
     "data": {
      "text/plain": [
       "array([[-3.33066907e-16,  1.57993125e+00, -8.41470985e-01],\n",
       "       [-1.57993125e+00, -3.33066907e-16, -1.11022302e-16],\n",
       "       [ 8.41470985e-01,  0.00000000e+00, -4.44089210e-16]])"
      ]
     },
     "execution_count": 100,
     "metadata": {},
     "output_type": "execute_result"
    }
   ],
   "source": [
    "e "
   ]
  },
  {
   "cell_type": "code",
   "execution_count": 83,
   "id": "de9b36f1-7036-4aa9-b2c2-8821d357e3a3",
   "metadata": {},
   "outputs": [
    {
     "data": {
      "text/plain": [
       "array([[-0.87758256,  0.47898619, -0.02052025],\n",
       "       [-0.22984885, -0.38278786,  0.89478654],\n",
       "       [ 0.42073549,  0.78996562,  0.44602237]])"
      ]
     },
     "execution_count": 91,
     "metadata": {},
     "output_type": "execute_result"
    }
   ],
   "source": [
    "quat2rot(a)"
   ]
  },
  {
   "cell_type": "code",
   "execution_count": 28,
   "id": "f966650c-3e2d-4181-9f10-204ffe71c7f1",
   "metadata": {},
   "outputs": [
    {
     "data": {
      "text/plain": [
       "<mpl_toolkits.mplot3d.art3d.Path3DCollection at 0x7ff9aed100a0>"
      ]
     },
     "execution_count": 28,
     "metadata": {},
     "output_type": "execute_result"
    }
   ],
   "source": [
    "%matplotlib qt\n",
    "from matplotlib import cm\n",
    "fig = plt.figure()\n",
    "ax = fig.add_subplot(projection='3d')\n",
    "ax.scatter3D(c[0], c[1], c[2], alpha=0.1)"
   ]
  },
  {
   "cell_type": "code",
   "execution_count": null,
   "id": "e3c75a5a-2e22-4b3a-bb5d-8c5193e7cca9",
   "metadata": {},
   "outputs": [],
   "source": []
  }
 ],
 "metadata": {
  "kernelspec": {
   "display_name": "bonndit",
   "language": "python",
   "name": "bonndit"
  },
  "language_info": {
   "codemirror_mode": {
    "name": "ipython",
    "version": 3
   },
   "file_extension": ".py",
   "mimetype": "text/x-python",
   "name": "python",
   "nbconvert_exporter": "python",
   "pygments_lexer": "ipython3",
   "version": "3.8.10"
  }
 },
 "nbformat": 4,
 "nbformat_minor": 5
}
