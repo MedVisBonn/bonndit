{
 "cells": [
  {
   "cell_type": "code",
   "execution_count": 1,
   "id": "74445790-10b7-4b65-87f3-ebb7cf2f03d6",
   "metadata": {
    "pycharm": {
     "name": "#%%\n"
    }
   },
   "outputs": [],
   "source": [
    "import numpy as np "
   ]
  },
  {
   "cell_type": "code",
   "execution_count": 2,
   "id": "01eacd80-7ce3-4f22-a541-8dfb3758d0df",
   "metadata": {
    "pycharm": {
     "name": "#%%\n"
    }
   },
   "outputs": [],
   "source": [
    "def quat2rot(q):\n",
    "    R = np.array([[q[0]**2 + q[1]**2 - q[2]**2 - q[3]**2, 2*(q[1] * q[2] - q[0] * q[3]),         2*(q[1] * q[3] + q[0] * q[2])],\n",
    "                  [2*(q[1] * q[2] + q[0] * q[3]),         q[0]**2 - q[1]**2 + q[2]**2 - q[3]**2, 2*(q[2] * q[3] - q[0] * q[1])],\n",
    "                  [2*(q[1] * q[3] - q[0] * q[2]),         2*(q[2] * q[3] + q[0] * q[1]),         q[0]**2 - q[1]**2 - q[2]**2 + q[3]**2]])\n",
    "    return R\n",
    "                  \n",
    "\n",
    "def quat2zyz(q):\n",
    "    r23 =  (q[2] * q[3] - q[1] * q[0])\n",
    "    r13 =  (q[1] * q[3] + q[2] * q[0])\n",
    "    r33 =  1 - 2*(q[1]**2 + q[2] ** 2)\n",
    "    r31 =  (q[1] * q[3] - q[2] * q[0])\n",
    "    r32 =  (q[2] * q[3] + q[1] * q[0])\n",
    "    if r33 != 0:\n",
    "        y = np.arccos(r33)\n",
    "        x = np.arctan2(r32, r31)\n",
    "        z = np.arctan2(r23, -r13)\n",
    "        \n",
    "    return np.array([x,y,z])\n",
    "\n",
    "def quaternion_to_euler(q):\n",
    "    (w, x, y, z) = (q[0], q[1], q[2], q[3])\n",
    "    t0 = +2.0 * (w * x + y * z)\n",
    "    t1 = +1.0 - 2.0 * (x * x + y * y)\n",
    "    roll = np.arctan2(t0, t1)\n",
    "    t2 = +2.0 * (w * y - z * x)\n",
    "    t2 = +1.0 if t2 > +1.0 else t2\n",
    "    t2 = -1.0 if t2 < -1.0 else t2\n",
    "    pitch = np.arcsin(t2)\n",
    "    t3 = +2.0 * (w * z + x * y)\n",
    "    t4 = +1.0 - 2.0 * (y * y + z * z)\n",
    "    yaw = np.arctan2(t3, t4)\n",
    "    return np.array([roll, pitch, yaw])\n",
    "\n",
    "def quatmult(x,y):\n",
    "    return np.array([x[0]*y[0] - x[1]*y[1] - x[2]*y[2] - x[3]*y[3],\n",
    "                     x[0]*y[1] + x[1]*y[0] + x[2]*y[3] - x[3]*y[2],\n",
    "                     x[0]*y[2] - x[1]*y[3] + x[2]*y[0] + x[3]*y[1],\n",
    "                     x[0]*y[3] + x[1]*y[2] - x[2]*y[1] + x[3]*y[0]])\n",
    "\n",
    "def euler_to_quaternion(r):\n",
    "    (yaw, pitch, roll) = (r[0], r[1], r[2])\n",
    "    qz = np.sin(roll/2) * np.cos(pitch/2) * np.cos(yaw/2) - np.cos(roll/2) * np.sin(pitch/2) * np.sin(yaw/2)\n",
    "    qy = np.cos(roll/2) * np.sin(pitch/2) * np.cos(yaw/2) + np.sin(roll/2) * np.cos(pitch/2) * np.sin(yaw/2)\n",
    "    qx = np.cos(roll/2) * np.cos(pitch/2) * np.sin(yaw/2) - np.sin(roll/2) * np.sin(pitch/2) * np.cos(yaw/2)\n",
    "    qw = np.cos(roll/2) * np.cos(pitch/2) * np.cos(yaw/2) + np.sin(roll/2) * np.sin(pitch/2) * np.sin(yaw/2)\n",
    "    return np.array([qw, qx, qy, qz])"
   ]
  },
  {
   "cell_type": "code",
   "execution_count": 3,
   "id": "2be713a2-48c7-41c3-95ab-68563c743c94",
   "metadata": {
    "pycharm": {
     "name": "#%%\n"
    }
   },
   "outputs": [],
   "source": [
    "def r_x(x): \n",
    "    return np.array([[1,0,0], [0, np.cos(x), - np.sin(x)], [0, np. sin(x), np.cos(x)]])\n",
    "def r_y(x): \n",
    "    return np.array( [[np.cos(x), 0, np.sin(x)], [0,1,0], [-np. sin(x), 0 ,  np.cos(x)]])\n",
    "def r_z(x): \n",
    "    return np.array([[np.cos(x), - np.sin(x), 0], [np. sin(x), np.cos(x),0], [0,0,1]])\n",
    "\n",
    "\n",
    "def xyz2quat(x,y,z):\n",
    "    qx = np.array([np.cos(x/2), np.sin(x/2), 0, 0])\n",
    "    qy = np.array([np.cos(y/2), 0, np.sin(y/2), 0])\n",
    "    qz = np.array([np.cos(z/2), 0, 0, np.sin(z/2)])\n",
    "    return quatmult(qz, quatmult(qy, qx))\n",
    "\n",
    "def zyz2quat(x,y,z):\n",
    "    qx = np.array([np.cos(x/2), 0, 0, np.sin(x/2)])\n",
    "    qy = np.array([np.cos(y/2), 0, np.sin(y/2), 0])\n",
    "    qz = np.array([np.cos(z/2), 0, 0, np.sin(z/2)])\n",
    "    return quatmult(qx, quatmult(qy, qz))\n",
    "\n",
    "def zyz2xyz(x,y,z):\n",
    "    R = r_z(x) @ r_y(y) @ r_z(z)\n",
    "    x = np.arctan(- R[1,2]/R[2,2])\n",
    "    y = np.arcsin(R[0,2])\n",
    "    z = np.arctan(-R[0,1] /R[0,0])\n",
    "    return x,y,z\n",
    "\n",
    "def xyz2zyz(e):\n",
    "    R = r_x(e[0]) @ r_y(e[1]) @ r_z(e[2])\n",
    "    if R[2,2] != 0:\n",
    "        y = np.arccos(R[2,2])\n",
    "        z = -np.arctan2(R[2,1], R[2,0]) +np.pi\n",
    "        x = np.arctan2(R[1,2], R[0,2])\n",
    "        \n",
    "    return np.array([x,y,z])"
   ]
  },
  {
   "cell_type": "code",
   "execution_count": 4,
   "id": "33bf4323-1cb2-414d-b430-7a65977a8ee1",
   "metadata": {
    "pycharm": {
     "name": "#%%\n"
    }
   },
   "outputs": [
    {
     "data": {
      "text/plain": [
       "array([ 0.78714464, -0.09043793,  0.11896528,  0.59839081])"
      ]
     },
     "execution_count": 4,
     "metadata": {},
     "output_type": "execute_result"
    }
   ],
   "source": [
    "# transforms points to quaterniions and back\n",
    "x = 0.0\n",
    "y = 0.3 \n",
    "z = 1.3\n",
    "xyz2quat(*zyz2xyz(x,y,z)) #- euler_to_quaternion(zyz2xyz(x,y,z))"
   ]
  },
  {
   "cell_type": "code",
   "execution_count": null,
   "id": "696d8101-8cdd-478f-aad2-220d81f22fa7",
   "metadata": {
    "pycharm": {
     "name": "#%%\n"
    }
   },
   "outputs": [],
   "source": []
  },
  {
   "cell_type": "code",
   "execution_count": 10,
   "id": "bb322d78-f987-40d6-834e-bc09648c3e7c",
   "metadata": {
    "pycharm": {
     "name": "#%%\n"
    }
   },
   "outputs": [
    {
     "data": {
      "text/plain": [
       "array([0., 0., 0.])"
      ]
     },
     "execution_count": 10,
     "metadata": {},
     "output_type": "execute_result"
    }
   ],
   "source": [
    "MRP_H2R(np.array([1,0,0,0]))"
   ]
  },
  {
   "cell_type": "code",
   "execution_count": 8,
   "id": "638cb0aa-7451-4200-8193-fa80e0782a08",
   "metadata": {
    "pycharm": {
     "name": "#%%\n"
    }
   },
   "outputs": [],
   "source": [
    "#define transformation from H to R³\n",
    "## works\n",
    "\n",
    "def MRP_H2R(q):\n",
    "    return 4 * q[1:]/(1+q[0])\n",
    "\n",
    "def MRP_R2H(e):\n",
    "    return 1/(16 + np.linalg.norm(e)**2) * np.array([16 - np.linalg.norm(e)**2, *8*e])"
   ]
  },
  {
   "cell_type": "code",
   "execution_count": 12,
   "id": "e2000527-cc62-49b0-9931-824b8b6d6893",
   "metadata": {
    "pycharm": {
     "name": "#%%\n"
    }
   },
   "outputs": [],
   "source": [
    "# complex conjugated \n",
    "def quat_cc(q):\n",
    "    d = np.copy(q)\n",
    "    d[1:] *= -1\n",
    "    return d"
   ]
  },
  {
   "cell_type": "code",
   "execution_count": 13,
   "id": "3912604c-04b9-4f6f-b79c-3446967d92a5",
   "metadata": {
    "pycharm": {
     "name": "#%%\n"
    }
   },
   "outputs": [],
   "source": [
    "x = 0\n",
    "y = 0.5 \n",
    "z = 1\n",
    "a = euler_to_quaternion(zyz2xyz(x,y,z))"
   ]
  },
  {
   "cell_type": "code",
   "execution_count": null,
   "id": "deed5bb7",
   "metadata": {
    "collapsed": false,
    "jupyter": {
     "outputs_hidden": false
    },
    "pycharm": {
     "name": "#%%\n"
    }
   },
   "outputs": [],
   "source": [
    "quat2rot(a).T"
   ]
  },
  {
   "cell_type": "code",
   "execution_count": null,
   "id": "2acf2ed9",
   "metadata": {
    "collapsed": false,
    "jupyter": {
     "outputs_hidden": false
    },
    "pycharm": {
     "name": "#%%\n"
    }
   },
   "outputs": [],
   "source": [
    "from numpy import sin, cos\n",
    "def r_z_r_y_r_z(ret, v):\n",
    "    ret[0,0] = -sin(v[0])*sin(v[2]) + cos(v[0])*cos(v[1])*cos(v[2])\n",
    "    ret[0,1] = sin(v[0])*cos(v[2]) + sin(v[2])*cos(v[0])*cos(v[1])\n",
    "    ret[0,2] = - sin(v[1])*cos(v[0])\n",
    "    ret[1,0] = - sin(v[0])*cos(v[1])*cos(v[2]) - sin(v[2])*cos(v[0])\n",
    "    ret[1,1] = -sin(v[0])*sin(v[2])*cos(v[1]) + cos(v[0])*cos(v[2])\n",
    "    ret[1,2] = sin(v[0])*sin(v[1])\n",
    "    ret[2,0] = sin(v[1])*cos(v[2])\n",
    "    ret[2,1] = sin(v[1])*sin(v[2])\n",
    "    ret[2,2] = cos(v[1])\n",
    "    "
   ]
  },
  {
   "cell_type": "code",
   "execution_count": null,
   "id": "690c69dd",
   "metadata": {
    "collapsed": false,
    "jupyter": {
     "outputs_hidden": false
    },
    "pycharm": {
     "name": "#%%\n"
    }
   },
   "outputs": [],
   "source": [
    "R = np.zeros((3,3))\n",
    "r_z_r_y_r_z(R, [0,0.5,1])"
   ]
  },
  {
   "cell_type": "code",
   "execution_count": null,
   "id": "21811b41",
   "metadata": {
    "collapsed": false,
    "jupyter": {
     "outputs_hidden": false
    },
    "pycharm": {
     "name": "#%%\n"
    }
   },
   "outputs": [],
   "source": [
    "R"
   ]
  },
  {
   "cell_type": "code",
   "execution_count": 22,
   "id": "6d610081-9cd1-48b7-b75b-ad6d71ac7c69",
   "metadata": {
    "pycharm": {
     "name": "#%%\n"
    }
   },
   "outputs": [],
   "source": [
    "R = np.zeros((3,3))\n",
    "r_z_r_y_r_z(R, [0,0.5,1])"
   ]
  },
  {
   "cell_type": "code",
   "execution_count": 23,
   "id": "248b5057-154a-4ec0-8ecb-99fea29333e6",
   "metadata": {
    "pycharm": {
     "name": "#%%\n"
    }
   },
   "outputs": [
    {
     "data": {
      "text/plain": [
       "array([[ 0.47415988,  0.73846026, -0.47942554],\n",
       "       [-0.84147098,  0.54030231,  0.        ],\n",
       "       [ 0.25903472,  0.40342268,  0.87758256]])"
      ]
     },
     "execution_count": 23,
     "metadata": {},
     "output_type": "execute_result"
    }
   ],
   "source": [
    "R"
   ]
  },
  {
   "cell_type": "code",
   "execution_count": 364,
   "id": "032b570c-eb87-4089-9b8c-8910e589582d",
   "metadata": {
    "pycharm": {
     "name": "#%%\n"
    }
   },
   "outputs": [
    {
     "data": {
      "text/plain": [
       "array([0., 0., 0.])"
      ]
     },
     "execution_count": 364,
     "metadata": {},
     "output_type": "execute_result"
    }
   ],
   "source": [
    "MRP_H2R(np.array([1,0,0,0]))"
   ]
  },
  {
   "cell_type": "code",
   "execution_count": 365,
   "id": "ea18b1b0-b3ce-4ac8-9e05-c9f99f6bc59a",
   "metadata": {
    "pycharm": {
     "name": "#%%\n"
    }
   },
   "outputs": [],
   "source": [
    "import sympy as s\n",
    "def r_x(x): \n",
    "    return np.array([[1,0,0], [0, s.cos(x), - s.sin(x)], [0, s.sin(x), s.cos(x)]])\n",
    "def r_y(x): \n",
    "    return np.array( [[s.cos(x), 0, s.sin(x)], [0,1,0], [-s.sin(x), 0 ,  s.cos(x)]])\n",
    "def r_z(x): \n",
    "    return np.array([[s.cos(x), - s.sin(x), 0], [s.sin(x), s.cos(x),0], [0,0,1]])\n",
    "\n"
   ]
  },
  {
   "cell_type": "code",
   "execution_count": 367,
   "id": "6f98e171-c242-4763-996e-3d0484d897ba",
   "metadata": {
    "pycharm": {
     "name": "#%%\n"
    }
   },
   "outputs": [
    {
     "data": {
      "text/plain": [
       "array([[-sin(zyz[0])*sin(zyz[2]) + cos(zyz[0])*cos(zyz[1])*cos(zyz[2]),\n",
       "        -sin(zyz[0])*cos(zyz[2]) - sin(zyz[2])*cos(zyz[0])*cos(zyz[1]),\n",
       "        sin(zyz[1])*cos(zyz[0])],\n",
       "       [sin(zyz[0])*cos(zyz[1])*cos(zyz[2]) + sin(zyz[2])*cos(zyz[0]),\n",
       "        -sin(zyz[0])*sin(zyz[2])*cos(zyz[1]) + cos(zyz[0])*cos(zyz[2]),\n",
       "        sin(zyz[0])*sin(zyz[1])],\n",
       "       [-sin(zyz[1])*cos(zyz[2]), sin(zyz[1])*sin(zyz[2]), cos(zyz[1])]],\n",
       "      dtype=object)"
      ]
     },
     "execution_count": 367,
     "metadata": {},
     "output_type": "execute_result"
    }
   ],
   "source": [
    "x = s.Symbol('zyz[0]')\n",
    "y = s.Symbol('zyz[1]')\n",
    "z = s.Symbol('zyz[2]')\n",
    "r_z(x) @ r_y(y) @ r_z(z)"
   ]
  },
  {
   "cell_type": "code",
   "execution_count": 5,
   "id": "df8f0572",
   "metadata": {
    "collapsed": false,
    "jupyter": {
     "outputs_hidden": false
    },
    "pycharm": {
     "name": "#%%\n"
    }
   },
   "outputs": [],
   "source": [
    "import bonndit.utilc.quaternions as qu"
   ]
  },
  {
   "cell_type": "code",
   "execution_count": 3,
   "id": "3f5e7e9c",
   "metadata": {
    "collapsed": false,
    "jupyter": {
     "outputs_hidden": false
    },
    "pycharm": {
     "name": "#%%\n"
    }
   },
   "outputs": [
    {
     "name": "stdout",
     "output_type": "stream",
     "text": [
      "Processing /home/johannes/UniBonn/forschung/bonndit\n",
      "  Installing build dependencies ... \u001b[?25ldone\n",
      "\u001b[?25h  Getting requirements to build wheel ... \u001b[?25ldone\n",
      "\u001b[?25h  Installing backend dependencies ... \u001b[?25ldone\n",
      "\u001b[?25h  Preparing metadata (pyproject.toml) ... \u001b[?25ldone\n",
      "\u001b[?25hRequirement already satisfied: mpmath in ./venv/lib/python3.8/site-packages (from bonndit==0.2.0) (1.1.0)\n",
      "Requirement already satisfied: plyfile in ./venv/lib/python3.8/site-packages (from bonndit==0.2.0) (0.7.4)\n",
      "Requirement already satisfied: pynrrd in ./venv/lib/python3.8/site-packages (from bonndit==0.2.0) (0.4.2)\n",
      "Requirement already satisfied: scipy in ./venv/lib/python3.8/site-packages (from bonndit==0.2.0) (1.10.0)\n",
      "Requirement already satisfied: pandas in ./venv/lib/python3.8/site-packages (from bonndit==0.2.0) (1.4.2)\n",
      "Requirement already satisfied: dipy in ./venv/lib/python3.8/site-packages (from bonndit==0.2.0) (1.3.0)\n",
      "Requirement already satisfied: numpy in ./venv/lib/python3.8/site-packages (from bonndit==0.2.0) (1.20.0)\n",
      "Requirement already satisfied: nibabel in ./venv/lib/python3.8/site-packages (from bonndit==0.2.0) (3.2.2)\n",
      "Requirement already satisfied: tqdm in ./venv/lib/python3.8/site-packages (from bonndit==0.2.0) (4.56.2)\n",
      "Requirement already satisfied: Cython in ./venv/lib/python3.8/site-packages (from bonndit==0.2.0) (3.0.0a10)\n",
      "Requirement already satisfied: pyshtools in ./venv/lib/python3.8/site-packages (from bonndit==0.2.0) (4.10.1)\n",
      "Requirement already satisfied: cvxopt in ./venv/lib/python3.8/site-packages (from bonndit==0.2.0) (1.2.7)\n",
      "Requirement already satisfied: h5py>=2.5.0 in ./venv/lib/python3.8/site-packages (from dipy->bonndit==0.2.0) (3.6.0)\n",
      "Requirement already satisfied: packaging>=14.3 in ./venv/lib/python3.8/site-packages (from nibabel->bonndit==0.2.0) (21.3)\n",
      "Requirement already satisfied: setuptools in ./venv/lib/python3.8/site-packages (from nibabel->bonndit==0.2.0) (57.0.0)\n",
      "Requirement already satisfied: pytz>=2020.1 in ./venv/lib/python3.8/site-packages (from pandas->bonndit==0.2.0) (2022.1)\n",
      "Requirement already satisfied: python-dateutil>=2.8.1 in ./venv/lib/python3.8/site-packages (from pandas->bonndit==0.2.0) (2.8.2)\n",
      "Requirement already satisfied: xarray in ./venv/lib/python3.8/site-packages (from pyshtools->bonndit==0.2.0) (2023.1.0)\n",
      "Requirement already satisfied: matplotlib>=3.3 in ./venv/lib/python3.8/site-packages (from pyshtools->bonndit==0.2.0) (3.5.2)\n",
      "Requirement already satisfied: requests in ./venv/lib/python3.8/site-packages (from pyshtools->bonndit==0.2.0) (2.28.2)\n",
      "Collecting numpy\n",
      "  Using cached numpy-1.24.2-cp38-cp38-manylinux_2_17_x86_64.manylinux2014_x86_64.whl (17.3 MB)\n",
      "Requirement already satisfied: pooch>=1.1 in ./venv/lib/python3.8/site-packages (from pyshtools->bonndit==0.2.0) (1.6.0)\n",
      "Requirement already satisfied: astropy>=4.0 in ./venv/lib/python3.8/site-packages (from pyshtools->bonndit==0.2.0) (5.2.1)\n",
      "Requirement already satisfied: PyYAML>=3.13 in ./venv/lib/python3.8/site-packages (from astropy>=4.0->pyshtools->bonndit==0.2.0) (6.0)\n",
      "Requirement already satisfied: pyerfa>=2.0 in ./venv/lib/python3.8/site-packages (from astropy>=4.0->pyshtools->bonndit==0.2.0) (2.0.0.1)\n",
      "Requirement already satisfied: fonttools>=4.22.0 in ./venv/lib/python3.8/site-packages (from matplotlib>=3.3->pyshtools->bonndit==0.2.0) (4.34.4)\n",
      "Requirement already satisfied: cycler>=0.10 in ./venv/lib/python3.8/site-packages (from matplotlib>=3.3->pyshtools->bonndit==0.2.0) (0.11.0)\n",
      "Requirement already satisfied: pillow>=6.2.0 in ./venv/lib/python3.8/site-packages (from matplotlib>=3.3->pyshtools->bonndit==0.2.0) (9.2.0)\n",
      "Requirement already satisfied: kiwisolver>=1.0.1 in ./venv/lib/python3.8/site-packages (from matplotlib>=3.3->pyshtools->bonndit==0.2.0) (1.4.4)\n",
      "Requirement already satisfied: pyparsing>=2.2.1 in ./venv/lib/python3.8/site-packages (from matplotlib>=3.3->pyshtools->bonndit==0.2.0) (3.0.7)\n",
      "Requirement already satisfied: appdirs>=1.3.0 in ./venv/lib/python3.8/site-packages (from pooch>=1.1->pyshtools->bonndit==0.2.0) (1.4.4)\n",
      "Requirement already satisfied: six>=1.5 in ./venv/lib/python3.8/site-packages (from python-dateutil>=2.8.1->pandas->bonndit==0.2.0) (1.16.0)\n",
      "Requirement already satisfied: urllib3<1.27,>=1.21.1 in ./venv/lib/python3.8/site-packages (from requests->pyshtools->bonndit==0.2.0) (1.26.14)\n",
      "Requirement already satisfied: charset-normalizer<4,>=2 in ./venv/lib/python3.8/site-packages (from requests->pyshtools->bonndit==0.2.0) (2.1.0)\n",
      "Requirement already satisfied: certifi>=2017.4.17 in ./venv/lib/python3.8/site-packages (from requests->pyshtools->bonndit==0.2.0) (2022.12.7)\n",
      "Requirement already satisfied: idna<4,>=2.5 in ./venv/lib/python3.8/site-packages (from requests->pyshtools->bonndit==0.2.0) (3.3)\n",
      "Building wheels for collected packages: bonndit\n",
      "  Building wheel for bonndit (pyproject.toml) ... \u001b[?25ldone\n",
      "\u001b[?25h  Created wheel for bonndit: filename=bonndit-0.2.0-cp38-cp38-linux_x86_64.whl size=30364533 sha256=7a0c9644efe60b23e2ce94f1e0704d8839cb3082e87357e05a9518724544732a\n",
      "  Stored in directory: /tmp/pip-ephem-wheel-cache-elq6nu5z/wheels/2e/1e/92/44625976e847c3f0ac3a02bc8b14a2722cbba93db73d0e6491\n",
      "Successfully built bonndit\n",
      "Installing collected packages: numpy, bonndit\n",
      "  Attempting uninstall: numpy\n",
      "    Found existing installation: numpy 1.20.0\n",
      "    Uninstalling numpy-1.20.0:\n",
      "      Successfully uninstalled numpy-1.20.0\n",
      "Successfully installed bonndit-0.2.0 numpy-1.24.2\n",
      "\n",
      "\u001b[1m[\u001b[0m\u001b[34;49mnotice\u001b[0m\u001b[1;39;49m]\u001b[0m\u001b[39;49m A new release of pip is available: \u001b[0m\u001b[31;49m23.0.1\u001b[0m\u001b[39;49m -> \u001b[0m\u001b[32;49m23.1\u001b[0m\n",
      "\u001b[1m[\u001b[0m\u001b[34;49mnotice\u001b[0m\u001b[1;39;49m]\u001b[0m\u001b[39;49m To update, run: \u001b[0m\u001b[32;49mpython -m pip install --upgrade pip\u001b[0m\n",
      "Note: you may need to restart the kernel to use updated packages.\n"
     ]
    }
   ],
   "source": [
    "qu.MPR_H2R_q"
   ]
  },
  {
   "cell_type": "code",
   "execution_count": null,
   "id": "d64a1356-4184-4e1d-b67d-40f24363f798",
   "metadata": {},
   "outputs": [
    {
     "name": "stdout",
     "output_type": "stream",
     "text": [
      "Defaulting to user installation because normal site-packages is not writeable\n",
      "Processing /home/xderes/bonndit\n",
      "  Installing build dependencies ... \u001b[?25ldone\n",
      "\u001b[?25h  Getting requirements to build wheel ... \u001b[?25ldone\n",
      "\u001b[?25h  Installing backend dependencies ... \u001b[?25ldone\n",
      "\u001b[?25h  Preparing metadata (pyproject.toml) ... \u001b[?25ldone\n",
      "\u001b[?25hRequirement already satisfied: nibabel in /home/xderes/.local/lib/python3.9/site-packages (from bonndit==0.2.0) (5.0.1)\n",
      "Requirement already satisfied: cvxopt in /home/xderes/.local/lib/python3.9/site-packages (from bonndit==0.2.0) (1.3.0)\n",
      "Requirement already satisfied: pyshtools in /home/xderes/.local/lib/python3.9/site-packages (from bonndit==0.2.0) (4.10.1)\n",
      "Requirement already satisfied: Cython in /opt/anaconda3/lib/python3.9/site-packages (from bonndit==0.2.0) (0.29.32)\n",
      "Requirement already satisfied: pynrrd in /home/xderes/.local/lib/python3.9/site-packages (from bonndit==0.2.0) (1.0.0)\n",
      "Requirement already satisfied: plyfile in /home/xderes/.local/lib/python3.9/site-packages (from bonndit==0.2.0) (0.7.4)\n",
      "Requirement already satisfied: numpy in /home/xderes/.local/lib/python3.9/site-packages (from bonndit==0.2.0) (1.24.2)\n",
      "Requirement already satisfied: pandas in /opt/anaconda3/lib/python3.9/site-packages (from bonndit==0.2.0) (1.4.4)\n",
      "Requirement already satisfied: mpmath in /home/xderes/.local/lib/python3.9/site-packages (from bonndit==0.2.0) (1.3.0)\n",
      "Requirement already satisfied: dipy in /home/xderes/.local/lib/python3.9/site-packages (from bonndit==0.2.0) (1.6.0)\n",
      "Requirement already satisfied: scipy in /opt/anaconda3/lib/python3.9/site-packages (from bonndit==0.2.0) (1.9.1)\n",
      "Requirement already satisfied: tqdm in /opt/anaconda3/lib/python3.9/site-packages (from bonndit==0.2.0) (4.64.1)\n",
      "Requirement already satisfied: h5py>=2.8.0 in /home/xderes/.local/lib/python3.9/site-packages (from dipy->bonndit==0.2.0) (3.8.0)\n",
      "Requirement already satisfied: packaging>=17 in /opt/anaconda3/lib/python3.9/site-packages (from nibabel->bonndit==0.2.0) (21.3)\n",
      "Requirement already satisfied: setuptools in /opt/anaconda3/lib/python3.9/site-packages (from nibabel->bonndit==0.2.0) (63.4.1)\n",
      "Requirement already satisfied: python-dateutil>=2.8.1 in /opt/anaconda3/lib/python3.9/site-packages (from pandas->bonndit==0.2.0) (2.8.2)\n",
      "Requirement already satisfied: pytz>=2020.1 in /opt/anaconda3/lib/python3.9/site-packages (from pandas->bonndit==0.2.0) (2022.1)\n",
      "Requirement already satisfied: nptyping in /home/xderes/.local/lib/python3.9/site-packages (from pynrrd->bonndit==0.2.0) (2.5.0)\n",
      "Requirement already satisfied: typing-extensions in /home/xderes/.local/lib/python3.9/site-packages (from pynrrd->bonndit==0.2.0) (4.5.0)\n",
      "Requirement already satisfied: astropy>=4.0 in /opt/anaconda3/lib/python3.9/site-packages (from pyshtools->bonndit==0.2.0) (5.1)\n",
      "Requirement already satisfied: requests in /opt/anaconda3/lib/python3.9/site-packages (from pyshtools->bonndit==0.2.0) (2.28.1)\n",
      "Requirement already satisfied: xarray in /opt/anaconda3/lib/python3.9/site-packages (from pyshtools->bonndit==0.2.0) (0.20.1)\n",
      "Requirement already satisfied: matplotlib>=3.3 in /opt/anaconda3/lib/python3.9/site-packages (from pyshtools->bonndit==0.2.0) (3.5.2)\n",
      "Requirement already satisfied: pooch>=1.1 in /home/xderes/.local/lib/python3.9/site-packages (from pyshtools->bonndit==0.2.0) (1.7.0)\n",
      "Requirement already satisfied: PyYAML>=3.13 in /opt/anaconda3/lib/python3.9/site-packages (from astropy>=4.0->pyshtools->bonndit==0.2.0) (6.0)\n",
      "Requirement already satisfied: pyerfa>=2.0 in /opt/anaconda3/lib/python3.9/site-packages (from astropy>=4.0->pyshtools->bonndit==0.2.0) (2.0.0)\n",
      "Requirement already satisfied: cycler>=0.10 in /opt/anaconda3/lib/python3.9/site-packages (from matplotlib>=3.3->pyshtools->bonndit==0.2.0) (0.11.0)\n",
      "Requirement already satisfied: pyparsing>=2.2.1 in /opt/anaconda3/lib/python3.9/site-packages (from matplotlib>=3.3->pyshtools->bonndit==0.2.0) (3.0.9)\n",
      "Requirement already satisfied: pillow>=6.2.0 in /opt/anaconda3/lib/python3.9/site-packages (from matplotlib>=3.3->pyshtools->bonndit==0.2.0) (9.2.0)\n",
      "Requirement already satisfied: fonttools>=4.22.0 in /opt/anaconda3/lib/python3.9/site-packages (from matplotlib>=3.3->pyshtools->bonndit==0.2.0) (4.25.0)\n",
      "Requirement already satisfied: kiwisolver>=1.0.1 in /opt/anaconda3/lib/python3.9/site-packages (from matplotlib>=3.3->pyshtools->bonndit==0.2.0) (1.4.2)\n",
      "Requirement already satisfied: platformdirs>=2.5.0 in /opt/anaconda3/lib/python3.9/site-packages (from pooch>=1.1->pyshtools->bonndit==0.2.0) (2.5.2)\n",
      "Requirement already satisfied: six>=1.5 in /opt/anaconda3/lib/python3.9/site-packages (from python-dateutil>=2.8.1->pandas->bonndit==0.2.0) (1.16.0)\n",
      "Requirement already satisfied: charset-normalizer<3,>=2 in /opt/anaconda3/lib/python3.9/site-packages (from requests->pyshtools->bonndit==0.2.0) (2.0.4)\n",
      "Requirement already satisfied: urllib3<1.27,>=1.21.1 in /opt/anaconda3/lib/python3.9/site-packages (from requests->pyshtools->bonndit==0.2.0) (1.26.11)\n",
      "Requirement already satisfied: idna<4,>=2.5 in /opt/anaconda3/lib/python3.9/site-packages (from requests->pyshtools->bonndit==0.2.0) (3.3)\n",
      "Requirement already satisfied: certifi>=2017.4.17 in /opt/anaconda3/lib/python3.9/site-packages (from requests->pyshtools->bonndit==0.2.0) (2022.9.14)\n",
      "Building wheels for collected packages: bonndit\n",
      "  Building wheel for bonndit (pyproject.toml) ... \u001b[?25l-"
     ]
    }
   ],
   "source": [
    "pip install .\n"
   ]
  },
  {
   "cell_type": "code",
   "execution_count": null,
   "id": "574a4954-6390-4564-967a-0ea17160b1f2",
   "metadata": {},
   "outputs": [],
   "source": []
  }
 ],
 "metadata": {
  "kernelspec": {
   "display_name": "bonndit",
   "language": "python",
   "name": "bonndit"
  },
  "language_info": {
   "codemirror_mode": {
    "name": "ipython",
    "version": 3
   },
   "file_extension": ".py",
   "mimetype": "text/x-python",
   "name": "python",
   "nbconvert_exporter": "python",
   "pygments_lexer": "ipython3",
   "version": "3.9.13"
  }
 },
 "nbformat": 4,
 "nbformat_minor": 5
}
