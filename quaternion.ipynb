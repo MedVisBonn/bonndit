{
 "cells": [
  {
   "cell_type": "code",
   "execution_count": 324,
   "id": "74445790-10b7-4b65-87f3-ebb7cf2f03d6",
   "metadata": {
    "pycharm": {
     "name": "#%%\n"
    }
   },
   "outputs": [],
   "source": [
    "import numpy as np "
   ]
  },
  {
   "cell_type": "code",
   "execution_count": 346,
   "id": "01eacd80-7ce3-4f22-a541-8dfb3758d0df",
   "metadata": {
    "pycharm": {
     "name": "#%%\n"
    }
   },
   "outputs": [],
   "source": [
    "def quat2rot(q):\n",
    "    R = np.array([[q[0]**2 + q[1]**2 - q[2]**2 - q[3]**2, 2*(q[1] * q[2] - q[0] * q[3]),         2*(q[1] * q[3] + q[0] * q[2])],\n",
    "                  [2*(q[1] * q[2] + q[0] * q[3]),         q[0]**2 - q[1]**2 + q[2]**2 - q[3]**2, 2*(q[2] * q[3] - q[0] * q[1])],\n",
    "                  [2*(q[1] * q[3] - q[0] * q[2]),         2*(q[2] * q[3] + q[0] * q[1]),         q[0]**2 - q[1]**2 - q[2]**2 + q[3]**2]])\n",
    "    return R\n",
    "                  \n",
    "\n",
    "def quat2zyz(q):\n",
    "    r23 =  (q[2] * q[3] - q[1] * q[0])\n",
    "    r13 =  (q[1] * q[3] + q[2] * q[0])\n",
    "    r33 =  1 - 2*(q[1]**2 + q[2] ** 2)\n",
    "    r31 =  (q[1] * q[3] - q[2] * q[0])\n",
    "    r32 =  (q[2] * q[3] + q[1] * q[0])\n",
    "    if r33 != 0:\n",
    "        y = np.arccos(r33)\n",
    "        x = np.arctan2(r32, r31)\n",
    "        z = np.arctan2(r23, -r13)\n",
    "        \n",
    "    return np.array([x,y,z])\n",
    "\n",
    "def quaternion_to_euler(q):\n",
    "    (w, x, y, z) = (q[0], q[1], q[2], q[3])\n",
    "    t0 = +2.0 * (w * x + y * z)\n",
    "    t1 = +1.0 - 2.0 * (x * x + y * y)\n",
    "    roll = np.arctan2(t0, t1)\n",
    "    t2 = +2.0 * (w * y - z * x)\n",
    "    t2 = +1.0 if t2 > +1.0 else t2\n",
    "    t2 = -1.0 if t2 < -1.0 else t2\n",
    "    pitch = np.arcsin(t2)\n",
    "    t3 = +2.0 * (w * z + x * y)\n",
    "    t4 = +1.0 - 2.0 * (y * y + z * z)\n",
    "    yaw = np.arctan2(t3, t4)\n",
    "    return np.array([roll, pitch, yaw])\n",
    "\n",
    "def quatmult(x,y):\n",
    "    return np.array([x[0]*y[0] - x[1]*y[1] - x[2]*y[2] - x[3]*y[3],\n",
    "                     x[0]*y[1] + x[1]*y[0] + x[2]*y[3] - x[3]*y[2],\n",
    "                     x[0]*y[2] - x[1]*y[3] + x[2]*y[0] + x[3]*y[1],\n",
    "                     x[0]*y[3] + x[1]*y[2] - x[2]*y[1] + x[3]*y[0]])\n",
    "\n",
    "def euler_to_quaternion(r):\n",
    "    (yaw, pitch, roll) = (r[0], r[1], r[2])\n",
    "    qz = np.sin(roll/2) * np.cos(pitch/2) * np.cos(yaw/2) - np.cos(roll/2) * np.sin(pitch/2) * np.sin(yaw/2)\n",
    "    qy = np.cos(roll/2) * np.sin(pitch/2) * np.cos(yaw/2) + np.sin(roll/2) * np.cos(pitch/2) * np.sin(yaw/2)\n",
    "    qx = np.cos(roll/2) * np.cos(pitch/2) * np.sin(yaw/2) - np.sin(roll/2) * np.sin(pitch/2) * np.cos(yaw/2)\n",
    "    qw = np.cos(roll/2) * np.cos(pitch/2) * np.cos(yaw/2) + np.sin(roll/2) * np.sin(pitch/2) * np.sin(yaw/2)\n",
    "    return np.array([qw, qx, qy, qz])"
   ]
  },
  {
   "cell_type": "code",
   "execution_count": 377,
   "id": "2be713a2-48c7-41c3-95ab-68563c743c94",
   "metadata": {
    "pycharm": {
     "name": "#%%\n"
    }
   },
   "outputs": [],
   "source": [
    "def r_x(x): \n",
    "    return np.array([[1,0,0], [0, np.cos(x), - np.sin(x)], [0, np. sin(x), np.cos(x)]])\n",
    "def r_y(x): \n",
    "    return np.array( [[np.cos(x), 0, np.sin(x)], [0,1,0], [-np. sin(x), 0 ,  np.cos(x)]])\n",
    "def r_z(x): \n",
    "    return np.array([[np.cos(x), - np.sin(x), 0], [np. sin(x), np.cos(x),0], [0,0,1]])\n",
    "\n",
    "\n",
    "def xyz2quat(x,y,z):\n",
    "    qx = np.array([np.cos(x/2), np.sin(x/2), 0, 0])\n",
    "    qy = np.array([np.cos(y/2), 0, np.sin(y/2), 0])\n",
    "    qz = np.array([np.cos(z/2), 0, 0, np.sin(z/2)])\n",
    "    return quatmult(qz, quatmult(qy, qx))\n",
    "\n",
    "def zyz2quat(x,y,z):\n",
    "    qx = np.array([np.cos(x/2), 0, 0, np.sin(x/2)])\n",
    "    qy = np.array([np.cos(y/2), 0, np.sin(y/2), 0])\n",
    "    qz = np.array([np.cos(z/2), 0, 0, np.sin(z/2)])\n",
    "    return quatmult(qx, quatmult(qy, qz))\n",
    "\n",
    "def zyz2xyz(x,y,z):\n",
    "    R = r_z(x) @ r_y(y) @ r_z(z)\n",
    "    x = np.arctan(- R[1,2]/R[2,2])\n",
    "    y = np.arcsin(R[0,2])\n",
    "    z = np.arctan(-R[0,1] /R[0,0])\n",
    "    return x,y,z\n",
    "\n",
    "def xyz2zyz(e):\n",
    "    R = r_x(e[0]) @ r_y(e[1]) @ r_z(e[2])\n",
    "    if R[2,2] != 0:\n",
    "        y = np.arccos(R[2,2])\n",
    "        z = -np.arctan2(R[2,1], R[2,0]) +np.pi\n",
    "        x = np.arctan2(R[1,2], R[0,2])\n",
    "        \n",
    "    return np.array([x,y,z])"
   ]
  },
  {
   "cell_type": "code",
   "execution_count": 378,
   "id": "33bf4323-1cb2-414d-b430-7a65977a8ee1",
   "metadata": {
    "pycharm": {
     "name": "#%%\n"
    }
   },
   "outputs": [
    {
     "data": {
      "text/plain": [
       "array([ 0.78634338,  0.02252942,  0.14773009, -0.59944336])"
      ]
     },
     "execution_count": 378,
     "metadata": {},
     "output_type": "execute_result"
    }
   ],
   "source": [
    "# transforms points to quaterniions and back\n",
    "x = 0.5\n",
    "y = 0.3 \n",
    "z = 1.3\n",
    "xyz2quat(*zyz2xyz(x,y,z)) #- euler_to_quaternion(zyz2xyz(x,y,z))"
   ]
  },
  {
   "cell_type": "code",
   "execution_count": 381,
   "id": "696d8101-8cdd-478f-aad2-220d81f22fa7",
   "metadata": {
    "pycharm": {
     "name": "#%%\n"
    }
   },
   "outputs": [
    {
     "data": {
      "text/plain": [
       "1.0000000000000002"
      ]
     },
     "execution_count": 381,
     "metadata": {},
     "output_type": "execute_result"
    }
   ],
   "source": [
    "zyz2quat(z,y,x)"
   ]
  },
  {
   "cell_type": "code",
   "execution_count": 383,
   "id": "bb322d78-f987-40d6-834e-bc09648c3e7c",
   "metadata": {
    "pycharm": {
     "name": "#%%\n"
    }
   },
   "outputs": [
    {
     "data": {
      "text/plain": [
       "(-0.14723056121615463, 0.2623422587933126, -1.3221341750839772)"
      ]
     },
     "execution_count": 383,
     "metadata": {},
     "output_type": "execute_result"
    }
   ],
   "source": [
    "\n",
    "zyz2xyz(x,y,z)"
   ]
  },
  {
   "cell_type": "code",
   "execution_count": 349,
   "id": "638cb0aa-7451-4200-8193-fa80e0782a08",
   "metadata": {
    "pycharm": {
     "name": "#%%\n"
    }
   },
   "outputs": [],
   "source": [
    "#define transformation from H to R³\n",
    "## works\n",
    "\n",
    "def MRP_H2R(q):\n",
    "    return 4 * q[1:]/(1+q[0])\n",
    "\n",
    "def MRP_R2H(e):\n",
    "    return 1/(16 + np.linalg.norm(e)**2) * np.array([16 - np.linalg.norm(e)**2, *8*e])"
   ]
  },
  {
   "cell_type": "code",
   "execution_count": 358,
   "id": "e2000527-cc62-49b0-9931-824b8b6d6893",
   "metadata": {
    "pycharm": {
     "name": "#%%\n"
    }
   },
   "outputs": [],
   "source": [
    "# complex conjugated \n",
    "def quat_cc(q):\n",
    "    d = np.copy(q)\n",
    "    d[1:] *= -1\n",
    "    return d"
   ]
  },
  {
   "cell_type": "code",
   "execution_count": 359,
   "id": "3912604c-04b9-4f6f-b79c-3446967d92a5",
   "metadata": {
    "pycharm": {
     "name": "#%%\n"
    }
   },
   "outputs": [],
   "source": [
    "a = euler_to_quaternion(zyz2xyz(x,y,z))"
   ]
  },
  {
   "cell_type": "code",
   "execution_count": 363,
   "id": "9f388625-52da-44d7-883c-1bbb16f57bb0",
   "metadata": {
    "pycharm": {
     "name": "#%%\n"
    }
   },
   "outputs": [
    {
     "data": {
      "text/plain": [
       "array([ 1.00000000e+00,  0.00000000e+00, -3.46944695e-18,  0.00000000e+00])"
      ]
     },
     "execution_count": 363,
     "metadata": {},
     "output_type": "execute_result"
    }
   ],
   "source": [
    "quatmult(quat_cc(a), a)"
   ]
  },
  {
   "cell_type": "code",
   "execution_count": 361,
   "id": "248b5057-154a-4ec0-8ecb-99fea29333e6",
   "metadata": {
    "pycharm": {
     "name": "#%%\n"
    }
   },
   "outputs": [
    {
     "data": {
      "text/plain": [
       "array([ 0.78634338, -0.02252942, -0.14773009,  0.59944336])"
      ]
     },
     "execution_count": 361,
     "metadata": {},
     "output_type": "execute_result"
    }
   ],
   "source": [
    "quat_cc(a)"
   ]
  },
  {
   "cell_type": "code",
   "execution_count": 364,
   "id": "032b570c-eb87-4089-9b8c-8910e589582d",
   "metadata": {
    "pycharm": {
     "name": "#%%\n"
    }
   },
   "outputs": [
    {
     "data": {
      "text/plain": [
       "array([0., 0., 0.])"
      ]
     },
     "execution_count": 364,
     "metadata": {},
     "output_type": "execute_result"
    }
   ],
   "source": [
    "MRP_H2R(np.array([1,0,0,0]))"
   ]
  },
  {
   "cell_type": "code",
   "execution_count": 365,
   "id": "ea18b1b0-b3ce-4ac8-9e05-c9f99f6bc59a",
   "metadata": {
    "pycharm": {
     "name": "#%%\n"
    }
   },
   "outputs": [],
   "source": [
    "import sympy as s\n",
    "def r_x(x): \n",
    "    return np.array([[1,0,0], [0, s.cos(x), - s.sin(x)], [0, s.sin(x), s.cos(x)]])\n",
    "def r_y(x): \n",
    "    return np.array( [[s.cos(x), 0, s.sin(x)], [0,1,0], [-s.sin(x), 0 ,  s.cos(x)]])\n",
    "def r_z(x): \n",
    "    return np.array([[s.cos(x), - s.sin(x), 0], [s.sin(x), s.cos(x),0], [0,0,1]])\n",
    "\n"
   ]
  },
  {
   "cell_type": "code",
   "execution_count": 367,
   "id": "6f98e171-c242-4763-996e-3d0484d897ba",
   "metadata": {
    "pycharm": {
     "name": "#%%\n"
    }
   },
   "outputs": [
    {
     "data": {
      "text/plain": [
       "array([[-sin(zyz[0])*sin(zyz[2]) + cos(zyz[0])*cos(zyz[1])*cos(zyz[2]),\n",
       "        -sin(zyz[0])*cos(zyz[2]) - sin(zyz[2])*cos(zyz[0])*cos(zyz[1]),\n",
       "        sin(zyz[1])*cos(zyz[0])],\n",
       "       [sin(zyz[0])*cos(zyz[1])*cos(zyz[2]) + sin(zyz[2])*cos(zyz[0]),\n",
       "        -sin(zyz[0])*sin(zyz[2])*cos(zyz[1]) + cos(zyz[0])*cos(zyz[2]),\n",
       "        sin(zyz[0])*sin(zyz[1])],\n",
       "       [-sin(zyz[1])*cos(zyz[2]), sin(zyz[1])*sin(zyz[2]), cos(zyz[1])]],\n",
       "      dtype=object)"
      ]
     },
     "execution_count": 367,
     "metadata": {},
     "output_type": "execute_result"
    }
   ],
   "source": [
    "x = s.Symbol('zyz[0]')\n",
    "y = s.Symbol('zyz[1]')\n",
    "z = s.Symbol('zyz[2]')\n",
    "r_z(x) @ r_y(y) @ r_z(z)"
   ]
  },
  {
   "cell_type": "code",
   "execution_count": 1,
   "id": "df8f0572",
   "metadata": {
    "collapsed": false,
    "jupyter": {
     "outputs_hidden": false
    },
    "pycharm": {
     "name": "#%%\n"
    }
   },
   "outputs": [
    {
     "ename": "AttributeError",
     "evalue": "module 'numpy' has no attribute 'float'.\n`np.float` was a deprecated alias for the builtin `float`. To avoid this error in existing code, use `float` by itself. Doing this will not modify any behavior and is safe. If you specifically wanted the numpy scalar type, use `np.float64` here.\nThe aliases was originally deprecated in NumPy 1.20; for more details and guidance see the original release note at:\n    https://numpy.org/devdocs/release/1.20.0-notes.html#deprecations",
     "output_type": "error",
     "traceback": [
      "\u001B[0;31m---------------------------------------------------------------------------\u001B[0m",
      "\u001B[0;31mAttributeError\u001B[0m                            Traceback (most recent call last)",
      "Input \u001B[0;32mIn [1]\u001B[0m, in \u001B[0;36m<cell line: 1>\u001B[0;34m()\u001B[0m\n\u001B[0;32m----> 1\u001B[0m \u001B[38;5;28;01mfrom\u001B[39;00m \u001B[38;5;21;01mbonndit\u001B[39;00m\u001B[38;5;21;01m.\u001B[39;00m\u001B[38;5;21;01mutilc\u001B[39;00m\u001B[38;5;21;01m.\u001B[39;00m\u001B[38;5;21;01mquaternions\u001B[39;00m \u001B[38;5;28;01mimport\u001B[39;00m \u001B[38;5;241m*\u001B[39m\n",
      "File \u001B[0;32m~/UniBonn/forschung/bonndit/venv/lib/python3.8/site-packages/bonndit/__init__.py:9\u001B[0m, in \u001B[0;36m<module>\u001B[0;34m\u001B[0m\n\u001B[1;32m      6\u001B[0m __email__ \u001B[38;5;241m=\u001B[39m \u001B[38;5;124m'\u001B[39m\u001B[38;5;124mmorelle@uni-bonn.de\u001B[39m\u001B[38;5;124m'\u001B[39m\n\u001B[1;32m      7\u001B[0m __version__ \u001B[38;5;241m=\u001B[39m \u001B[38;5;124m'\u001B[39m\u001B[38;5;124m0.1.2\u001B[39m\u001B[38;5;124m'\u001B[39m\n\u001B[0;32m----> 9\u001B[0m \u001B[38;5;28;01mfrom\u001B[39;00m \u001B[38;5;21;01mbonndit\u001B[39;00m\u001B[38;5;21;01m.\u001B[39;00m\u001B[38;5;21;01mdeconv\u001B[39;00m\u001B[38;5;21;01m.\u001B[39;00m\u001B[38;5;21;01mdki\u001B[39;00m \u001B[38;5;28;01mimport\u001B[39;00m DkiModel, DkiFit\n\u001B[1;32m     10\u001B[0m \u001B[38;5;28;01mfrom\u001B[39;00m \u001B[38;5;21;01mbonndit\u001B[39;00m\u001B[38;5;21;01m.\u001B[39;00m\u001B[38;5;21;01mdeconv\u001B[39;00m\u001B[38;5;21;01m.\u001B[39;00m\u001B[38;5;21;01mdki\u001B[39;00m \u001B[38;5;28;01mimport\u001B[39;00m DkiModel, DkiFit\n\u001B[1;32m     11\u001B[0m \u001B[38;5;28;01mfrom\u001B[39;00m \u001B[38;5;21;01mbonndit\u001B[39;00m\u001B[38;5;21;01m.\u001B[39;00m\u001B[38;5;21;01mutils\u001B[39;00m\u001B[38;5;21;01m.\u001B[39;00m\u001B[38;5;21;01mio\u001B[39;00m \u001B[38;5;28;01mimport\u001B[39;00m load\n",
      "File \u001B[0;32m~/UniBonn/forschung/bonndit/venv/lib/python3.8/site-packages/bonndit/deconv/dki.py:10\u001B[0m, in \u001B[0;36m<module>\u001B[0;34m\u001B[0m\n\u001B[1;32m      7\u001B[0m \u001B[38;5;28;01mimport\u001B[39;00m \u001B[38;5;21;01mnumpy\u001B[39;00m\u001B[38;5;21;01m.\u001B[39;00m\u001B[38;5;21;01mlinalg\u001B[39;00m \u001B[38;5;28;01mas\u001B[39;00m \u001B[38;5;21;01mla\u001B[39;00m\n\u001B[1;32m      9\u001B[0m \u001B[38;5;28;01mfrom\u001B[39;00m \u001B[38;5;21;01mbonndit\u001B[39;00m\u001B[38;5;21;01m.\u001B[39;00m\u001B[38;5;21;01mdeconv\u001B[39;00m\u001B[38;5;21;01m.\u001B[39;00m\u001B[38;5;21;01mbase\u001B[39;00m \u001B[38;5;28;01mimport\u001B[39;00m ReconstModel, ReconstFit\n\u001B[0;32m---> 10\u001B[0m \u001B[38;5;28;01mfrom\u001B[39;00m \u001B[38;5;21;01mbonndit\u001B[39;00m\u001B[38;5;21;01m.\u001B[39;00m\u001B[38;5;21;01mdeconv\u001B[39;00m\u001B[38;5;21;01m.\u001B[39;00m\u001B[38;5;21;01mmultivoxel\u001B[39;00m \u001B[38;5;28;01mimport\u001B[39;00m MultiVoxel, MultiVoxelFitter\n\u001B[1;32m     13\u001B[0m \u001B[38;5;28;01mclass\u001B[39;00m \u001B[38;5;21;01mDkiModel\u001B[39;00m(ReconstModel):\n\u001B[1;32m     15\u001B[0m     \u001B[38;5;28;01mdef\u001B[39;00m \u001B[38;5;21m__init__\u001B[39m(\u001B[38;5;28mself\u001B[39m, gtab, constraint\u001B[38;5;241m=\u001B[39m\u001B[38;5;28;01mTrue\u001B[39;00m):\n",
      "File \u001B[0;32m~/UniBonn/forschung/bonndit/venv/lib/python3.8/site-packages/bonndit/deconv/multivoxel.py:7\u001B[0m, in \u001B[0;36m<module>\u001B[0;34m\u001B[0m\n\u001B[1;32m      5\u001B[0m \u001B[38;5;28;01mimport\u001B[39;00m \u001B[38;5;21;01mnibabel\u001B[39;00m \u001B[38;5;28;01mas\u001B[39;00m \u001B[38;5;21;01mnib\u001B[39;00m\n\u001B[1;32m      6\u001B[0m \u001B[38;5;28;01mimport\u001B[39;00m \u001B[38;5;21;01mnumpy\u001B[39;00m \u001B[38;5;28;01mas\u001B[39;00m \u001B[38;5;21;01mnp\u001B[39;00m\n\u001B[0;32m----> 7\u001B[0m \u001B[38;5;28;01mfrom\u001B[39;00m \u001B[38;5;21;01mdipy\u001B[39;00m\u001B[38;5;21;01m.\u001B[39;00m\u001B[38;5;21;01mcore\u001B[39;00m\u001B[38;5;21;01m.\u001B[39;00m\u001B[38;5;21;01mgradients\u001B[39;00m \u001B[38;5;28;01mimport\u001B[39;00m gradient_table\n\u001B[1;32m      8\u001B[0m \u001B[38;5;28;01mfrom\u001B[39;00m \u001B[38;5;21;01mdipy\u001B[39;00m\u001B[38;5;21;01m.\u001B[39;00m\u001B[38;5;21;01mreconst\u001B[39;00m\u001B[38;5;21;01m.\u001B[39;00m\u001B[38;5;21;01mmulti_voxel\u001B[39;00m \u001B[38;5;28;01mimport\u001B[39;00m MultiVoxelFit\n\u001B[1;32m      9\u001B[0m \u001B[38;5;28;01mfrom\u001B[39;00m \u001B[38;5;21;01mtqdm\u001B[39;00m \u001B[38;5;28;01mimport\u001B[39;00m tqdm\n",
      "File \u001B[0;32m~/UniBonn/forschung/bonndit/venv/lib/python3.8/site-packages/dipy/core/gradients.py:10\u001B[0m, in \u001B[0;36m<module>\u001B[0;34m\u001B[0m\n\u001B[1;32m      8\u001B[0m \u001B[38;5;28;01mfrom\u001B[39;00m \u001B[38;5;21;01mdipy\u001B[39;00m\u001B[38;5;21;01m.\u001B[39;00m\u001B[38;5;21;01mcore\u001B[39;00m\u001B[38;5;21;01m.\u001B[39;00m\u001B[38;5;21;01monetime\u001B[39;00m \u001B[38;5;28;01mimport\u001B[39;00m auto_attr\n\u001B[1;32m      9\u001B[0m \u001B[38;5;28;01mfrom\u001B[39;00m \u001B[38;5;21;01mdipy\u001B[39;00m\u001B[38;5;21;01m.\u001B[39;00m\u001B[38;5;21;01mcore\u001B[39;00m\u001B[38;5;21;01m.\u001B[39;00m\u001B[38;5;21;01mgeometry\u001B[39;00m \u001B[38;5;28;01mimport\u001B[39;00m vector_norm, vec2vec_rotmat\n\u001B[0;32m---> 10\u001B[0m \u001B[38;5;28;01mfrom\u001B[39;00m \u001B[38;5;21;01mdipy\u001B[39;00m\u001B[38;5;21;01m.\u001B[39;00m\u001B[38;5;21;01mcore\u001B[39;00m\u001B[38;5;21;01m.\u001B[39;00m\u001B[38;5;21;01msphere\u001B[39;00m \u001B[38;5;28;01mimport\u001B[39;00m disperse_charges, HemiSphere\n\u001B[1;32m     12\u001B[0m \u001B[38;5;28;01mfrom\u001B[39;00m \u001B[38;5;21;01mdipy\u001B[39;00m\u001B[38;5;21;01m.\u001B[39;00m\u001B[38;5;21;01mutils\u001B[39;00m\u001B[38;5;21;01m.\u001B[39;00m\u001B[38;5;21;01mdeprecator\u001B[39;00m \u001B[38;5;28;01mimport\u001B[39;00m deprecate_with_version\n\u001B[1;32m     15\u001B[0m WATER_GYROMAGNETIC_RATIO \u001B[38;5;241m=\u001B[39m \u001B[38;5;241m267.513e6\u001B[39m  \u001B[38;5;66;03m# 1/(sT)\u001B[39;00m\n",
      "File \u001B[0;32m~/UniBonn/forschung/bonndit/venv/lib/python3.8/site-packages/dipy/core/sphere.py:776\u001B[0m, in \u001B[0;36m<module>\u001B[0;34m\u001B[0m\n\u001B[1;32m    774\u001B[0m unit_octahedron \u001B[38;5;241m=\u001B[39m Sphere(xyz\u001B[38;5;241m=\u001B[39moctahedron_vertices, faces\u001B[38;5;241m=\u001B[39moctahedron_faces)\n\u001B[1;32m    775\u001B[0m unit_icosahedron \u001B[38;5;241m=\u001B[39m Sphere(xyz\u001B[38;5;241m=\u001B[39micosahedron_vertices, faces\u001B[38;5;241m=\u001B[39micosahedron_faces)\n\u001B[0;32m--> 776\u001B[0m hemi_icosahedron \u001B[38;5;241m=\u001B[39m \u001B[43mHemiSphere\u001B[49m\u001B[38;5;241;43m.\u001B[39;49m\u001B[43mfrom_sphere\u001B[49m\u001B[43m(\u001B[49m\u001B[43munit_icosahedron\u001B[49m\u001B[43m)\u001B[49m\n",
      "File \u001B[0;32m~/UniBonn/forschung/bonndit/venv/lib/python3.8/site-packages/dipy/core/sphere.py:342\u001B[0m, in \u001B[0;36mHemiSphere.from_sphere\u001B[0;34m(klass, sphere, tol)\u001B[0m\n\u001B[1;32m    339\u001B[0m \u001B[38;5;129m@classmethod\u001B[39m\n\u001B[1;32m    340\u001B[0m \u001B[38;5;28;01mdef\u001B[39;00m \u001B[38;5;21mfrom_sphere\u001B[39m(klass, sphere, tol\u001B[38;5;241m=\u001B[39m\u001B[38;5;241m1e-5\u001B[39m):\n\u001B[1;32m    341\u001B[0m \u001B[38;5;250m    \u001B[39m\u001B[38;5;124;03m\"\"\"Create instance from a Sphere\"\"\"\u001B[39;00m\n\u001B[0;32m--> 342\u001B[0m     \u001B[38;5;28;01mreturn\u001B[39;00m \u001B[43mklass\u001B[49m\u001B[43m(\u001B[49m\u001B[43mtheta\u001B[49m\u001B[38;5;241;43m=\u001B[39;49m\u001B[43msphere\u001B[49m\u001B[38;5;241;43m.\u001B[39;49m\u001B[43mtheta\u001B[49m\u001B[43m,\u001B[49m\u001B[43m \u001B[49m\u001B[43mphi\u001B[49m\u001B[38;5;241;43m=\u001B[39;49m\u001B[43msphere\u001B[49m\u001B[38;5;241;43m.\u001B[39;49m\u001B[43mphi\u001B[49m\u001B[43m,\u001B[49m\n\u001B[1;32m    343\u001B[0m \u001B[43m                 \u001B[49m\u001B[43medges\u001B[49m\u001B[38;5;241;43m=\u001B[39;49m\u001B[43msphere\u001B[49m\u001B[38;5;241;43m.\u001B[39;49m\u001B[43medges\u001B[49m\u001B[43m,\u001B[49m\u001B[43m \u001B[49m\u001B[43mfaces\u001B[49m\u001B[38;5;241;43m=\u001B[39;49m\u001B[43msphere\u001B[49m\u001B[38;5;241;43m.\u001B[39;49m\u001B[43mfaces\u001B[49m\u001B[43m,\u001B[49m\u001B[43m \u001B[49m\u001B[43mtol\u001B[49m\u001B[38;5;241;43m=\u001B[39;49m\u001B[43mtol\u001B[49m\u001B[43m)\u001B[49m\n",
      "File \u001B[0;32m~/UniBonn/forschung/bonndit/venv/lib/python3.8/site-packages/dipy/core/sphere.py:328\u001B[0m, in \u001B[0;36mHemiSphere.__init__\u001B[0;34m(self, x, y, z, theta, phi, xyz, faces, edges, tol)\u001B[0m\n\u001B[1;32m    325\u001B[0m \u001B[38;5;250m\u001B[39m\u001B[38;5;124;03m\"\"\"Create a HemiSphere from points\"\"\"\u001B[39;00m\n\u001B[1;32m    327\u001B[0m sphere \u001B[38;5;241m=\u001B[39m Sphere(x\u001B[38;5;241m=\u001B[39mx, y\u001B[38;5;241m=\u001B[39my, z\u001B[38;5;241m=\u001B[39mz, theta\u001B[38;5;241m=\u001B[39mtheta, phi\u001B[38;5;241m=\u001B[39mphi, xyz\u001B[38;5;241m=\u001B[39mxyz)\n\u001B[0;32m--> 328\u001B[0m uniq_vertices, mapping \u001B[38;5;241m=\u001B[39m \u001B[43mremove_similar_vertices\u001B[49m\u001B[43m(\u001B[49m\u001B[43msphere\u001B[49m\u001B[38;5;241;43m.\u001B[39;49m\u001B[43mvertices\u001B[49m\u001B[43m,\u001B[49m\u001B[43m \u001B[49m\u001B[43mtol\u001B[49m\u001B[43m,\u001B[49m\n\u001B[1;32m    329\u001B[0m \u001B[43m                                                 \u001B[49m\u001B[43mreturn_mapping\u001B[49m\u001B[38;5;241;43m=\u001B[39;49m\u001B[38;5;28;43;01mTrue\u001B[39;49;00m\u001B[43m)\u001B[49m\n\u001B[1;32m    330\u001B[0m uniq_vertices \u001B[38;5;241m*\u001B[39m\u001B[38;5;241m=\u001B[39m \u001B[38;5;241m1\u001B[39m \u001B[38;5;241m-\u001B[39m \u001B[38;5;241m2\u001B[39m\u001B[38;5;241m*\u001B[39m(uniq_vertices[:, \u001B[38;5;241m-\u001B[39m\u001B[38;5;241m1\u001B[39m:] \u001B[38;5;241m<\u001B[39m \u001B[38;5;241m0\u001B[39m)\n\u001B[1;32m    331\u001B[0m \u001B[38;5;28;01mif\u001B[39;00m faces \u001B[38;5;129;01mis\u001B[39;00m \u001B[38;5;129;01mnot\u001B[39;00m \u001B[38;5;28;01mNone\u001B[39;00m:\n",
      "File \u001B[0;32mdipy/reconst/recspeed.pyx:97\u001B[0m, in \u001B[0;36mdipy.reconst.recspeed.remove_similar_vertices\u001B[0;34m()\u001B[0m\n",
      "File \u001B[0;32m~/UniBonn/forschung/bonndit/venv/lib/python3.8/site-packages/numpy/__init__.py:305\u001B[0m, in \u001B[0;36m__getattr__\u001B[0;34m(attr)\u001B[0m\n\u001B[1;32m    300\u001B[0m     warnings\u001B[38;5;241m.\u001B[39mwarn(\n\u001B[1;32m    301\u001B[0m         \u001B[38;5;124mf\u001B[39m\u001B[38;5;124m\"\u001B[39m\u001B[38;5;124mIn the future `np.\u001B[39m\u001B[38;5;132;01m{\u001B[39;00mattr\u001B[38;5;132;01m}\u001B[39;00m\u001B[38;5;124m` will be defined as the \u001B[39m\u001B[38;5;124m\"\u001B[39m\n\u001B[1;32m    302\u001B[0m         \u001B[38;5;124m\"\u001B[39m\u001B[38;5;124mcorresponding NumPy scalar.\u001B[39m\u001B[38;5;124m\"\u001B[39m, \u001B[38;5;167;01mFutureWarning\u001B[39;00m, stacklevel\u001B[38;5;241m=\u001B[39m\u001B[38;5;241m2\u001B[39m)\n\u001B[1;32m    304\u001B[0m \u001B[38;5;28;01mif\u001B[39;00m attr \u001B[38;5;129;01min\u001B[39;00m __former_attrs__:\n\u001B[0;32m--> 305\u001B[0m     \u001B[38;5;28;01mraise\u001B[39;00m \u001B[38;5;167;01mAttributeError\u001B[39;00m(__former_attrs__[attr])\n\u001B[1;32m    307\u001B[0m \u001B[38;5;66;03m# Importing Tester requires importing all of UnitTest which is not a\u001B[39;00m\n\u001B[1;32m    308\u001B[0m \u001B[38;5;66;03m# cheap import Since it is mainly used in test suits, we lazy import it\u001B[39;00m\n\u001B[1;32m    309\u001B[0m \u001B[38;5;66;03m# here to save on the order of 10 ms of import time for most users\u001B[39;00m\n\u001B[1;32m    310\u001B[0m \u001B[38;5;66;03m#\u001B[39;00m\n\u001B[1;32m    311\u001B[0m \u001B[38;5;66;03m# The previous way Tester was imported also had a side effect of adding\u001B[39;00m\n\u001B[1;32m    312\u001B[0m \u001B[38;5;66;03m# the full `numpy.testing` namespace\u001B[39;00m\n\u001B[1;32m    313\u001B[0m \u001B[38;5;28;01mif\u001B[39;00m attr \u001B[38;5;241m==\u001B[39m \u001B[38;5;124m'\u001B[39m\u001B[38;5;124mtesting\u001B[39m\u001B[38;5;124m'\u001B[39m:\n",
      "\u001B[0;31mAttributeError\u001B[0m: module 'numpy' has no attribute 'float'.\n`np.float` was a deprecated alias for the builtin `float`. To avoid this error in existing code, use `float` by itself. Doing this will not modify any behavior and is safe. If you specifically wanted the numpy scalar type, use `np.float64` here.\nThe aliases was originally deprecated in NumPy 1.20; for more details and guidance see the original release note at:\n    https://numpy.org/devdocs/release/1.20.0-notes.html#deprecations"
     ]
    }
   ],
   "source": [
    "from bonndit.utilc.quaternions import qu"
   ]
  },
  {
   "cell_type": "code",
   "execution_count": null,
   "id": "3f5e7e9c",
   "metadata": {
    "collapsed": false,
    "jupyter": {
     "outputs_hidden": false
    },
    "pycharm": {
     "name": "#%%\n"
    }
   },
   "outputs": [],
   "source": []
  }
 ],
 "metadata": {
  "kernelspec": {
   "display_name": "bonndit",
   "language": "python",
   "name": "bonndit"
  },
  "language_info": {
   "codemirror_mode": {
    "name": "ipython",
    "version": 3
   },
   "file_extension": ".py",
   "mimetype": "text/x-python",
   "name": "python",
   "nbconvert_exporter": "python",
   "pygments_lexer": "ipython3",
   "version": "3.8.10"
  }
 },
 "nbformat": 4,
 "nbformat_minor": 5
}