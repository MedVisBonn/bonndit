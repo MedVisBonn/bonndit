{
 "cells": [
  {
   "cell_type": "code",
   "execution_count": null,
   "metadata": {},
   "outputs": [],
   "source": [
    "%%time\n",
    "%%bash --out output --err error\n",
    "source /home/olivier/Devel/venvs/bonndit/bin/activate\n",
    "shore-deconvolve.py /home/olivier/Devel/test/samuel/in4michi/data.nii.gz \\\n",
    "                    /home/olivier/Devel/test/samuel/in4michi/bonndit_result/response.npz \\\n",
    "                    /home/olivier/Devel/test/samuel/in4michi/michi_result/odfnoconstraint.nrrd \\\n",
    "                    --pos none \\\n",
    "                    --csf /home/olivier/Devel/test/samuel/in4michi/michi_result/csfnoconstraint.nrrd \\\n",
    "                    --gm /home/olivier/Devel/test/samuel/in4michi/michi_result/gmnoconstraint.nrrd \\\n",
    "                    --wm /home/olivier/Devel/test/samuel/in4michi/michi_result/wmnoconstraint.nrrd \\"
   ]
  },
  {
   "cell_type": "code",
   "execution_count": 14,
   "metadata": {},
   "outputs": [],
   "source": [
    "import subprocess"
   ]
  },
  {
   "cell_type": "code",
   "execution_count": 55,
   "metadata": {},
   "outputs": [
    {
     "data": {
      "text/plain": [
       "b'order (radial / angular): 4 / 4\\n[[281.77762371   0.           0.         ...   0.         455.33339525\\n  651.25522943]\\n [281.77762371   0.           0.         ...   0.         455.33339525\\n  651.25522943]\\n [281.77762371   0.           0.         ...   0.         455.33339525\\n  651.25522943]\\n ...\\n [ 93.2258914    0.           0.         ...   0.          82.49415443\\n   29.13357179]\\n [ 93.2258914    0.           0.         ...   0.          82.49415443\\n   29.13357179]\\n [ 93.2258914    0.           0.         ...   0.          82.49415443\\n   29.13357179]]\\nCondition number of M: inf\\nOptimizing...\\n  0.0%\\x08\\x08\\x08\\x08\\x08\\x08\\x08\\x08   done   \\n'"
      ]
     },
     "execution_count": 55,
     "metadata": {},
     "output_type": "execute_result"
    }
   ],
   "source": [
    "SCRIPT = 'shore-deconvolve.py '\n",
    "DATA_DIR = '/home/olivier/Devel/test/samuel/in4michi'\n",
    "OUT_DIR ='/home/olivier/Devel/test/samuel/in4michi/test_results'\n",
    "OPTIONS = ['hpsd', 'nonneg', 'none']\n",
    "venv = '. /home/olivier/Devel/venvs/bonndit/bin/activate && '\n",
    "\n",
    "for option in OPTIONS:\n",
    "    command = venv + SCRIPT + '{di}/data.nii.gz {out}/response.npz \\\n",
    "{out}/odf{opt}.nrrd --pos {opt} --csf {out}/csf{opt}.nrrd \\\n",
    "--gm {out}/gm{opt}.nrrd --wm {out}/wm{opt}.nrrd'.format(di=DATA_DIR, opt=option, out=OUT_DIR)\n",
    "    out = check_output(command, shell = True)\n",
    "    #print(command)\n",
    "\n",
    "out"
   ]
  },
  {
   "cell_type": "code",
   "execution_count": 36,
   "metadata": {},
   "outputs": [],
   "source": [
    "p = subprocess.Popen('python --version', shell=True, stdout=subprocess.PIPE)"
   ]
  },
  {
   "cell_type": "code",
   "execution_count": 37,
   "metadata": {},
   "outputs": [
    {
     "data": {
      "text/plain": [
       "b''"
      ]
     },
     "execution_count": 37,
     "metadata": {},
     "output_type": "execute_result"
    }
   ],
   "source": [
    "out, err = p.communicate()\n",
    "out"
   ]
  },
  {
   "cell_type": "code",
   "execution_count": 39,
   "metadata": {},
   "outputs": [
    {
     "data": {
      "text/plain": [
       "['.',\n",
       " '/home/olivier/Devel/venvs/bonndit/bin/activate',\n",
       " '&&',\n",
       " 'python',\n",
       " '--version']"
      ]
     },
     "execution_count": 39,
     "metadata": {},
     "output_type": "execute_result"
    }
   ],
   "source": [
    "venv.split() + 'python --version'.split()"
   ]
  },
  {
   "cell_type": "code",
   "execution_count": 51,
   "metadata": {},
   "outputs": [
    {
     "data": {
      "text/plain": [
       "b'Python 3.5.2\\n'"
      ]
     },
     "execution_count": 51,
     "metadata": {},
     "output_type": "execute_result"
    }
   ],
   "source": [
    "from subprocess import check_output\n",
    "errout = c\n",
    "errout"
   ]
  }
 ],
 "metadata": {
  "kernelspec": {
   "display_name": "bonndit",
   "language": "python",
   "name": "bonndit"
  },
  "language_info": {
   "codemirror_mode": {
    "name": "ipython",
    "version": 3
   },
   "file_extension": ".py",
   "mimetype": "text/x-python",
   "name": "python",
   "nbconvert_exporter": "python",
   "pygments_lexer": "ipython3",
   "version": "3.5.2"
  }
 },
 "nbformat": 4,
 "nbformat_minor": 2
}
