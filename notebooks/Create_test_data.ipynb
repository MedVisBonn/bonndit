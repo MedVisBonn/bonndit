{
 "cells": [
  {
   "cell_type": "markdown",
   "metadata": {},
   "source": [
    "## Create test data"
   ]
  },
  {
   "cell_type": "markdown",
   "metadata": {},
   "source": [
    "Load all needed data"
   ]
  },
  {
   "cell_type": "code",
   "execution_count": 1,
   "metadata": {},
   "outputs": [
    {
     "name": "stderr",
     "output_type": "stream",
     "text": [
      "/home/olivier/Devel/venvs/bonndit/lib/python3.5/site-packages/h5py/__init__.py:36: FutureWarning: Conversion of the second argument of issubdtype from `float` to `np.floating` is deprecated. In future, it will be treated as `np.float64 == np.dtype(float).type`.\n",
      "  from ._conv import register_converters as _register_converters\n"
     ]
    }
   ],
   "source": [
    "import os\n",
    "import dipy as dp\n",
    "import nibabel as nib\n",
    "import numpy as np\n",
    "from dipy.io import read_bvals_bvecs\n",
    "from dipy.core.gradients import gradient_table, reorient_bvecs, GradientTable\n",
    "from bonndit.shore import ShoreModel, ShoreFit\n",
    "\n",
    "os.chdir(\"/home/olivier/Devel/test/samuel/in4michi/\")\n",
    "\n",
    "# Load fractional anisotropy\n",
    "dti_fa = nib.load(\"dti_FA.nii.gz\")\n",
    "\n",
    "# Load DTI mask\n",
    "dti_mask = nib.load(\"mask.nii.gz\")\n",
    "\n",
    "# Load and adjust tissue segmentation masks\n",
    "csf_mask = nib.load(\"fast_pve_0.nii.gz\")\n",
    "gm_mask = nib.load(\"fast_pve_1.nii.gz\")\n",
    "wm_mask = nib.load(\"fast_pve_2.nii.gz\")\n",
    "\n",
    "dti_vecs = nib.load(\"dti_V1.nii.gz\")\n",
    "\n",
    "data = nib.load(\"complete_data/data.nii.gz\")\n",
    "\n",
    "bvals, bvecs = read_bvals_bvecs(\"bvals\", \"bvecs\")\n",
    "gtab = gradient_table(bvals, bvecs)"
   ]
  },
  {
   "cell_type": "markdown",
   "metadata": {},
   "source": [
    "Specify the voxels you want in the test data"
   ]
  },
  {
   "cell_type": "code",
   "execution_count": 2,
   "metadata": {},
   "outputs": [],
   "source": [
    "wm_voxels = [(65,42,33),(32,47,31),(43,39,19)]\n",
    "gm_voxels = [(25,44,25),(50,46,25),(55,38,20)]\n",
    "csf_voxels = [(49,55,25),(38,68,45),(61,28,45)]\n",
    "add_voxels = [(61,26,23),(60,49,37),(65,24,37)]\n",
    "\n",
    "TEST_DATA = \"/home/olivier/Devel/test/samuel/in4michi/test_data\"\n",
    "\n",
    "files = {\"dti_FA.nii.gz\": dti_fa,\n",
    "         \"mask.nii.gz\": dti_mask,\n",
    "         \"fast_pve_0.nii.gz\": csf_mask,\n",
    "         \"fast_pve_1.nii.gz\": gm_mask,\n",
    "         \"fast_pve_2.nii.gz\": wm_mask}"
   ]
  },
  {
   "cell_type": "markdown",
   "metadata": {},
   "source": [
    "Build the test data for the scalar files "
   ]
  },
  {
   "cell_type": "code",
   "execution_count": 3,
   "metadata": {},
   "outputs": [],
   "source": [
    "def build_test_data(files, shape):\n",
    "    for name, img in files.items():\n",
    "        w = np.array([img.get_data()[wm_voxels[x]] for x in range(2)])\n",
    "        g = np.array([img.get_data()[gm_voxels[x]] for x in range(2)])\n",
    "        c = np.array([img.get_data()[csf_voxels[x]] for x in range(2)])\n",
    "        a = np.array([img.get_data()[add_voxels[x]] for x in range(2)])\n",
    "\n",
    "        stacked = np.vstack((w, g, c, a)).reshape(shape)\n",
    "        img_data = nib.Nifti1Image(stacked, img.affine)\n",
    "        nib.save(img_data, os.path.join(TEST_DATA, name))"
   ]
  },
  {
   "cell_type": "code",
   "execution_count": 4,
   "metadata": {},
   "outputs": [],
   "source": [
    "build_test_data(files, (2,2,2))\n",
    "build_test_data({\"dti_V1.nii.gz\": dti_vecs}, (2,2,2,3))\n",
    "build_test_data({\"data.nii.gz\": data}, (2,2,2,97))g"
   ]
  },
  {
   "cell_type": "markdown",
   "metadata": {},
   "source": [
    "## Calculate response result for test data with old code"
   ]
  },
  {
   "cell_type": "code",
   "execution_count": 5,
   "metadata": {},
   "outputs": [],
   "source": [
    "from subprocess import check_output\n",
    "from os.path import expanduser\n",
    "import os"
   ]
  },
  {
   "cell_type": "code",
   "execution_count": 6,
   "metadata": {},
   "outputs": [
    {
     "name": "stdout",
     "output_type": "stream",
     "text": [
      "order (radial / angular): 4 / 4\n",
      "Using provided DTI mask.\n",
      "loading data....\n",
      "csf response:\n",
      "  0.   done   \n",
      "1 voxel\n",
      "[ 91630.14341921 -90293.49816839 198821.42034613]\n",
      "grey matter response:\n",
      "  0.   done   \n",
      "1 voxel\n",
      "[ 93831.55649995 -11433.93332202  24600.73636067]\n",
      "white matter response:\n",
      "  0.   done   \n",
      "1 voxel\n",
      "[ 85887.77198972 -34586.89802036  21162.80444017      0.\n",
      "      0.              0.        ]\n"
     ]
    }
   ],
   "source": [
    "home = expanduser(\"~\")\n",
    "\n",
    "SCRIPT = 'shore-response.py '\n",
    "DATA_DIR = os.path.join(home, 'Devel/test/samuel/in4michi/test_data/')\n",
    "OUT_DIR = os.path.join(DATA_DIR, 'results')\n",
    "venv = '. ' + os.path.join(home, 'Devel/venvs/bonndit/bin/activate') + ' && '\n",
    "\n",
    "command = venv + SCRIPT + '{dire} {out}/response.npz --mask \\\n",
    "{dire}mask.nii.gz'.format(dire=DATA_DIR, out = OUT_DIR)\n",
    "out = check_output(command, shell = True)\n",
    "\n",
    "for line in out.splitlines():\n",
    "    print(line.decode(\"utf-8\") )"
   ]
  },
  {
   "cell_type": "markdown",
   "metadata": {},
   "source": [
    "## Calculate deconvolution results for test data with old code"
   ]
  },
  {
   "cell_type": "code",
   "execution_count": 9,
   "metadata": {},
   "outputs": [
    {
     "ename": "CalledProcessError",
     "evalue": "Command '. /home/olivier/Devel/venvs/bonndit/bin/activate && shore-deconvolve.py /home/olivier/Devel/test/samuel/in4michi/test_data/data.nii.gz /home/olivier/Devel/test/samuel/in4michi/test_data/response_complete.npz /home/olivier/Devel/test/samuel/in4michi/test_data/results/odfhpsd.nrrd --pos hpsd --csf /home/olivier/Devel/test/samuel/in4michi/test_data/results/csfhpsd.nrrd --gm /home/olivier/Devel/test/samuel/in4michi/test_data/results/gmhpsd.nrrd --wm /home/olivier/Devel/test/samuel/in4michi/test_data/results/wmhpsd.nrrd' returned non-zero exit status 1",
     "output_type": "error",
     "traceback": [
      "\u001b[0;31m---------------------------------------------------------------------------\u001b[0m",
      "\u001b[0;31mCalledProcessError\u001b[0m                        Traceback (most recent call last)",
      "\u001b[0;32m<ipython-input-9-7a27f823cd00>\u001b[0m in \u001b[0;36m<module>\u001b[0;34m()\u001b[0m\n\u001b[1;32m      9\u001b[0m \u001b[0;32mfor\u001b[0m \u001b[0moption\u001b[0m \u001b[0;32min\u001b[0m \u001b[0mOPTIONS\u001b[0m\u001b[0;34m:\u001b[0m\u001b[0;34m\u001b[0m\u001b[0m\n\u001b[1;32m     10\u001b[0m     \u001b[0mcommand\u001b[0m \u001b[0;34m=\u001b[0m \u001b[0mvenv\u001b[0m \u001b[0;34m+\u001b[0m \u001b[0mSCRIPT\u001b[0m \u001b[0;34m+\u001b[0m \u001b[0;34m'{dire}/data.nii.gz {dire}/response_complete.npz {out}/odf{opt}.nrrd --pos {opt} --csf {out}/csf{opt}.nrrd --gm {out}/gm{opt}.nrrd --wm {out}/wm{opt}.nrrd'\u001b[0m\u001b[0;34m.\u001b[0m\u001b[0mformat\u001b[0m\u001b[0;34m(\u001b[0m\u001b[0mdire\u001b[0m\u001b[0;34m=\u001b[0m\u001b[0mDATA_DIR\u001b[0m\u001b[0;34m,\u001b[0m \u001b[0mopt\u001b[0m\u001b[0;34m=\u001b[0m\u001b[0moption\u001b[0m\u001b[0;34m,\u001b[0m \u001b[0mout\u001b[0m\u001b[0;34m=\u001b[0m\u001b[0mOUT_DIR\u001b[0m\u001b[0;34m)\u001b[0m\u001b[0;34m\u001b[0m\u001b[0m\n\u001b[0;32m---> 11\u001b[0;31m     \u001b[0mout\u001b[0m \u001b[0;34m=\u001b[0m \u001b[0mcheck_output\u001b[0m\u001b[0;34m(\u001b[0m\u001b[0mcommand\u001b[0m\u001b[0;34m,\u001b[0m \u001b[0mshell\u001b[0m \u001b[0;34m=\u001b[0m \u001b[0;32mTrue\u001b[0m\u001b[0;34m)\u001b[0m\u001b[0;34m\u001b[0m\u001b[0m\n\u001b[0m\u001b[1;32m     12\u001b[0m     \u001b[0;32mfor\u001b[0m \u001b[0mline\u001b[0m \u001b[0;32min\u001b[0m \u001b[0mout\u001b[0m\u001b[0;34m.\u001b[0m\u001b[0msplitlines\u001b[0m\u001b[0;34m(\u001b[0m\u001b[0;34m)\u001b[0m\u001b[0;34m:\u001b[0m\u001b[0;34m\u001b[0m\u001b[0m\n\u001b[1;32m     13\u001b[0m         \u001b[0mprint\u001b[0m\u001b[0;34m(\u001b[0m\u001b[0mline\u001b[0m\u001b[0;34m.\u001b[0m\u001b[0mdecode\u001b[0m\u001b[0;34m(\u001b[0m\u001b[0;34m\"utf-8\"\u001b[0m\u001b[0;34m)\u001b[0m \u001b[0;34m)\u001b[0m\u001b[0;34m\u001b[0m\u001b[0m\n",
      "\u001b[0;32m/usr/lib/python3.5/subprocess.py\u001b[0m in \u001b[0;36mcheck_output\u001b[0;34m(timeout, *popenargs, **kwargs)\u001b[0m\n\u001b[1;32m    624\u001b[0m \u001b[0;34m\u001b[0m\u001b[0m\n\u001b[1;32m    625\u001b[0m     return run(*popenargs, stdout=PIPE, timeout=timeout, check=True,\n\u001b[0;32m--> 626\u001b[0;31m                **kwargs).stdout\n\u001b[0m\u001b[1;32m    627\u001b[0m \u001b[0;34m\u001b[0m\u001b[0m\n\u001b[1;32m    628\u001b[0m \u001b[0;34m\u001b[0m\u001b[0m\n",
      "\u001b[0;32m/usr/lib/python3.5/subprocess.py\u001b[0m in \u001b[0;36mrun\u001b[0;34m(input, timeout, check, *popenargs, **kwargs)\u001b[0m\n\u001b[1;32m    706\u001b[0m         \u001b[0;32mif\u001b[0m \u001b[0mcheck\u001b[0m \u001b[0;32mand\u001b[0m \u001b[0mretcode\u001b[0m\u001b[0;34m:\u001b[0m\u001b[0;34m\u001b[0m\u001b[0m\n\u001b[1;32m    707\u001b[0m             raise CalledProcessError(retcode, process.args,\n\u001b[0;32m--> 708\u001b[0;31m                                      output=stdout, stderr=stderr)\n\u001b[0m\u001b[1;32m    709\u001b[0m     \u001b[0;32mreturn\u001b[0m \u001b[0mCompletedProcess\u001b[0m\u001b[0;34m(\u001b[0m\u001b[0mprocess\u001b[0m\u001b[0;34m.\u001b[0m\u001b[0margs\u001b[0m\u001b[0;34m,\u001b[0m \u001b[0mretcode\u001b[0m\u001b[0;34m,\u001b[0m \u001b[0mstdout\u001b[0m\u001b[0;34m,\u001b[0m \u001b[0mstderr\u001b[0m\u001b[0;34m)\u001b[0m\u001b[0;34m\u001b[0m\u001b[0m\n\u001b[1;32m    710\u001b[0m \u001b[0;34m\u001b[0m\u001b[0m\n",
      "\u001b[0;31mCalledProcessError\u001b[0m: Command '. /home/olivier/Devel/venvs/bonndit/bin/activate && shore-deconvolve.py /home/olivier/Devel/test/samuel/in4michi/test_data/data.nii.gz /home/olivier/Devel/test/samuel/in4michi/test_data/response_complete.npz /home/olivier/Devel/test/samuel/in4michi/test_data/results/odfhpsd.nrrd --pos hpsd --csf /home/olivier/Devel/test/samuel/in4michi/test_data/results/csfhpsd.nrrd --gm /home/olivier/Devel/test/samuel/in4michi/test_data/results/gmhpsd.nrrd --wm /home/olivier/Devel/test/samuel/in4michi/test_data/results/wmhpsd.nrrd' returned non-zero exit status 1"
     ]
    }
   ],
   "source": [
    "home = expanduser(\"~\")\n",
    "\n",
    "SCRIPT = 'shore-deconvolve.py '\n",
    "DATA_DIR = os.path.join(home, 'Devel/test/samuel/in4michi/test_data')\n",
    "OUT_DIR = os.path.join(home, 'Devel/test/samuel/in4michi/test_data/results')\n",
    "OPTIONS = ['hpsd', 'nonneg', 'none']\n",
    "venv = '. ' + os.path.join(home, 'Devel/venvs/bonndit/bin/activate') + ' && '\n",
    "\n",
    "for option in OPTIONS:\n",
    "    command = venv + SCRIPT + '{dire}/data.nii.gz {dire}/response_complete.npz \\\n",
    "{out}/odf{opt}.nrrd --pos {opt} --csf {out}/csf{opt}.nrrd \\\n",
    "--gm {out}/gm{opt}.nrrd --wm {out}/wm{opt}.nrrd'.format(dire=DATA_DIR, opt=option, out=OUT_DIR)\n",
    "    out = check_output(command, shell = True)\n",
    "    for line in out.splitlines():\n",
    "        print(line.decode(\"utf-8\") )"
   ]
  },
  {
   "cell_type": "code",
   "execution_count": null,
   "metadata": {},
   "outputs": [],
   "source": []
  },
  {
   "cell_type": "code",
   "execution_count": 8,
   "metadata": {},
   "outputs": [],
   "source": [
    "import pyshtools as sh"
   ]
  }
 ],
 "metadata": {
  "kernelspec": {
   "display_name": "bonndit",
   "language": "python",
   "name": "bonndit"
  },
  "language_info": {
   "codemirror_mode": {
    "name": "ipython",
    "version": 3
   },
   "file_extension": ".py",
   "mimetype": "text/x-python",
   "name": "python",
   "nbconvert_exporter": "python",
   "pygments_lexer": "ipython3",
   "version": "3.5.2"
  }
 },
 "nbformat": 4,
 "nbformat_minor": 2
}
