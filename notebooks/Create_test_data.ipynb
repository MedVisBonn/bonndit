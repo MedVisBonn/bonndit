{
 "cells": [
  {
   "cell_type": "markdown",
   "metadata": {},
   "source": [
    "## Create test data"
   ]
  },
  {
   "cell_type": "markdown",
   "metadata": {},
   "source": [
    "Load all needed data"
   ]
  },
  {
   "cell_type": "code",
   "execution_count": 33,
   "metadata": {},
   "outputs": [],
   "source": [
    "import os\n",
    "import dipy as dp\n",
    "import nibabel as nib\n",
    "import numpy as np\n",
    "from dipy.io import read_bvals_bvecs\n",
    "from dipy.core.gradients import gradient_table, reorient_bvecs, GradientTable\n",
    "from bonndit.shore import ShoreModel, ShoreFit\n",
    "\n",
    "os.chdir(\"/home/olivier/Devel/test/samuel/in4michi/\")\n",
    "\n",
    "# Load fractional anisotropy\n",
    "dti_fa = nib.load(\"dti_FA.nii.gz\")\n",
    "\n",
    "# Load DTI mask\n",
    "dti_mask = nib.load(\"mask.nii.gz\")\n",
    "\n",
    "# Load and adjust tissue segmentation masks\n",
    "csf_mask = nib.load(\"fast_pve_0.nii.gz\")\n",
    "gm_mask = nib.load(\"fast_pve_1.nii.gz\")\n",
    "wm_mask = nib.load(\"fast_pve_2.nii.gz\")\n",
    "\n",
    "dti_vecs = nib.load(\"dti_V1.nii.gz\")\n",
    "\n",
    "data = nib.load(\"complete_data/data.nii.gz\")\n",
    "\n",
    "bvals, bvecs = read_bvals_bvecs(\"bvals\", \"bvecs\")\n",
    "gtab = gradient_table(bvals, bvecs)"
   ]
  },
  {
   "cell_type": "markdown",
   "metadata": {},
   "source": [
    "Specify the voxels you want in the test data"
   ]
  },
  {
   "cell_type": "code",
   "execution_count": 34,
   "metadata": {},
   "outputs": [],
   "source": [
    "wm_voxels = [(65,42,33),(32,47,31),(43,39,19)]\n",
    "gm_voxels = [(25,44,25),(50,46,25),(55,38,20)]\n",
    "csf_voxels = [(49,55,25),(38,68,45),(61,28,45)]\n",
    "add_voxels = [(61,26,23),(60,49,37),(65,24,37)]\n",
    "\n",
    "TEST_DATA = \"/home/olivier/Devel/test/samuel/in4michi/test_data\"\n",
    "\n",
    "files = {\"dti_FA.nii.gz\": dti_fa,\n",
    "         \"mask.nii.gz\": dti_mask,\n",
    "         \"fast_pve_0.nii.gz\": csf_mask,\n",
    "         \"fast_pve_1.nii.gz\": gm_mask,\n",
    "         \"fast_pve_2.nii.gz\": wm_mask}"
   ]
  },
  {
   "cell_type": "markdown",
   "metadata": {},
   "source": [
    "Build the test data for the scalar files "
   ]
  },
  {
   "cell_type": "code",
   "execution_count": 35,
   "metadata": {},
   "outputs": [],
   "source": [
    "def build_test_data(files, shape):\n",
    "    for name, img in files.items():\n",
    "        w = np.array([img.get_data()[wm_voxels[x]] for x in range(2)])\n",
    "        g = np.array([img.get_data()[gm_voxels[x]] for x in range(2)])\n",
    "        c = np.array([img.get_data()[csf_voxels[x]] for x in range(2)])\n",
    "        a = np.array([img.get_data()[add_voxels[x]] for x in range(2)])\n",
    "\n",
    "        stacked = np.vstack((w, g, c, a)).reshape(shape)\n",
    "        img_data = nib.Nifti1Image(stacked, img.affine)\n",
    "        nib.save(img_data, os.path.join(TEST_DATA, name))"
   ]
  },
  {
   "cell_type": "code",
   "execution_count": 36,
   "metadata": {},
   "outputs": [],
   "source": [
    "build_test_data(files, (2,2,2))\n",
    "build_test_data({\"dti_V1.nii.gz\": dti_vecs}, (2,2,2,3))\n",
    "build_test_data({\"data.nii.gz\": data}, (2,2,2,97))\n",
    "\n"
   ]
  },
  {
   "cell_type": "markdown",
   "metadata": {},
   "source": [
    "## Calculate response result for test data with old code"
   ]
  },
  {
   "cell_type": "code",
   "execution_count": 37,
   "metadata": {},
   "outputs": [],
   "source": [
    "from subprocess import check_output\n",
    "from os.path import expanduser\n",
    "import os"
   ]
  },
  {
   "cell_type": "code",
   "execution_count": 40,
   "metadata": {},
   "outputs": [
    {
     "name": "stdout",
     "output_type": "stream",
     "text": [
      "order (radial / angular): 4 / 4\n",
      "Using provided DTI mask.\n",
      "loading data....\n",
      "csf response:\n",
      "  0.   done   \n",
      "1 voxel\n",
      "[ 91630.14341921 -90293.49816839 198821.42034613]\n",
      "grey matter response:\n",
      "  0.   done   \n",
      "1 voxel\n",
      "[ 93831.55649995 -11433.93332202  24600.73636067]\n",
      "white matter response:\n",
      "  0.   done   \n",
      "1 voxel\n",
      "[ 85887.77198972 -34586.89802036  21162.80444017      0.\n",
      "      0.              0.        ]\n"
     ]
    }
   ],
   "source": [
    "home = expanduser(\"~\")\n",
    "\n",
    "SCRIPT = 'shore-response.py '\n",
    "DATA_DIR = os.path.join(home, 'Devel/test/samuel/in4michi/test_data/')\n",
    "OUT_DIR = os.path.join(DATA_DIR, 'results')\n",
    "venv = '. ' + os.path.join(home, 'Devel/venvs/bonndit/bin/activate') + ' && '\n",
    "\n",
    "command = venv + SCRIPT + '{dire} {out}/response.npz --mask \\\n",
    "{dire}mask.nii.gz'.format(dire=DATA_DIR, out = OUT_DIR)\n",
    "out = check_output(command, shell = True)\n",
    "\n",
    "for line in out.splitlines():\n",
    "    print(line.decode(\"utf-8\") )"
   ]
  },
  {
   "cell_type": "markdown",
   "metadata": {},
   "source": [
    "## Calculate deconvolution results for test data with old code"
   ]
  },
  {
   "cell_type": "code",
   "execution_count": 41,
   "metadata": {},
   "outputs": [
    {
     "name": "stdout",
     "output_type": "stream",
     "text": [
      "order (radial / angular): 4 / 4\n",
      "[[281.77762371   0.           0.         ...   0.         455.33339525\n",
      "  651.25522943]\n",
      " [281.77762371   0.           0.         ...   0.         455.33339525\n",
      "  651.25522943]\n",
      " [281.77762371   0.           0.         ...   0.         455.33339525\n",
      "  651.25522943]\n",
      " ...\n",
      " [ 93.2258914    0.           0.         ...   0.          82.49415443\n",
      "   29.13357179]\n",
      " [ 93.2258914    0.           0.         ...   0.          82.49415443\n",
      "   29.13357179]\n",
      " [ 93.2258914    0.           0.         ...   0.          82.49415443\n",
      "   29.13357179]]\n",
      "Condition number of M: 4.644362534940907e+117\n",
      "Optimizing...\n",
      "  0.   done   \n",
      "order (radial / angular): 4 / 4\n",
      "[[281.77762371   0.           0.         ...   0.         455.33339525\n",
      "  651.25522943]\n",
      " [281.77762371   0.           0.         ...   0.         455.33339525\n",
      "  651.25522943]\n",
      " [281.77762371   0.           0.         ...   0.         455.33339525\n",
      "  651.25522943]\n",
      " ...\n",
      " [ 93.2258914    0.           0.         ...   0.          82.49415443\n",
      "   29.13357179]\n",
      " [ 93.2258914    0.           0.         ...   0.          82.49415443\n",
      "   29.13357179]\n",
      " [ 93.2258914    0.           0.         ...   0.          82.49415443\n",
      "   29.13357179]]\n",
      "Condition number of M: 4.644362534940907e+117\n",
      "(302, 17)\n",
      "300\n",
      "Optimizing...\n",
      "  0.   done   \n",
      "order (radial / angular): 4 / 4\n",
      "[[281.77762371   0.           0.         ...   0.         455.33339525\n",
      "  651.25522943]\n",
      " [281.77762371   0.           0.         ...   0.         455.33339525\n",
      "  651.25522943]\n",
      " [281.77762371   0.           0.         ...   0.         455.33339525\n",
      "  651.25522943]\n",
      " ...\n",
      " [ 93.2258914    0.           0.         ...   0.          82.49415443\n",
      "   29.13357179]\n",
      " [ 93.2258914    0.           0.         ...   0.          82.49415443\n",
      "   29.13357179]\n",
      " [ 93.2258914    0.           0.         ...   0.          82.49415443\n",
      "   29.13357179]]\n",
      "Condition number of M: 4.644362534940907e+117\n",
      "Optimizing...\n",
      "  0.   done   \n"
     ]
    }
   ],
   "source": [
    "home = expanduser(\"~\")\n",
    "\n",
    "SCRIPT = 'shore-deconvolve.py '\n",
    "DATA_DIR = os.path.join(home, 'Devel/test/samuel/in4michi/test_data')\n",
    "OUT_DIR = os.path.join(home, 'Devel/test/samuel/in4michi/test_data/results')\n",
    "OPTIONS = ['hpsd', 'nonneg', 'none']\n",
    "venv = '. ' + os.path.join(home, 'Devel/venvs/bonndit/bin/activate') + ' && '\n",
    "\n",
    "for option in OPTIONS:\n",
    "    command = venv + SCRIPT + '{dire}/data.nii.gz {dire}/response.npz \\\n",
    "{out}/odf{opt}.nrrd --pos {opt} --csf {out}/csf{opt}.nrrd \\\n",
    "--gm {out}/gm{opt}.nrrd --wm {out}/wm{opt}.nrrd'.format(dire=DATA_DIR, opt=option, out=OUT_DIR)\n",
    "    out = check_output(command, shell = True)\n",
    "    for line in out.splitlines():\n",
    "        print(line.decode(\"utf-8\") )"
   ]
  },
  {
   "cell_type": "code",
   "execution_count": null,
   "metadata": {},
   "outputs": [],
   "source": []
  },
  {
   "cell_type": "code",
   "execution_count": 8,
   "metadata": {},
   "outputs": [],
   "source": [
    "import pyshtools as sh"
   ]
  }
 ],
 "metadata": {
  "kernelspec": {
   "display_name": "bonndit",
   "language": "python",
   "name": "bonndit"
  },
  "language_info": {
   "codemirror_mode": {
    "name": "ipython",
    "version": 3
   },
   "file_extension": ".py",
   "mimetype": "text/x-python",
   "name": "python",
   "nbconvert_exporter": "python",
   "pygments_lexer": "ipython3",
   "version": "3.5.2"
  }
 },
 "nbformat": 4,
 "nbformat_minor": 2
}
