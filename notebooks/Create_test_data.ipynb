{
 "cells": [
  {
   "cell_type": "code",
   "execution_count": 5,
   "metadata": {},
   "outputs": [],
   "source": [
    "from subprocess import check_output\n",
    "from os.path import expanduser\n",
    "import os"
   ]
  },
  {
   "cell_type": "code",
   "execution_count": 6,
   "metadata": {},
   "outputs": [
    {
     "name": "stdout",
     "output_type": "stream",
     "text": [
      "b'order (radial / angular): 4 / 4\\n[[281.77762371   0.           0.         ...   0.         455.33339525\\n  651.25522943]\\n [281.77762371   0.           0.         ...   0.         455.33339525\\n  651.25522943]\\n [281.77762371   0.           0.         ...   0.         455.33339525\\n  651.25522943]\\n ...\\n [ 93.2258914    0.           0.         ...   0.          82.49415443\\n   29.13357179]\\n [ 93.2258914    0.           0.         ...   0.          82.49415443\\n   29.13357179]\\n [ 93.2258914    0.           0.         ...   0.          82.49415443\\n   29.13357179]]\\nCondition number of M: inf\\nOptimizing...\\n  0.0%\\x08\\x08\\x08\\x08\\x08\\x08\\x08\\x08   done   \\n'\n",
      "b'order (radial / angular): 4 / 4\\n[[281.77762371   0.           0.         ...   0.         455.33339525\\n  651.25522943]\\n [281.77762371   0.           0.         ...   0.         455.33339525\\n  651.25522943]\\n [281.77762371   0.           0.         ...   0.         455.33339525\\n  651.25522943]\\n ...\\n [ 93.2258914    0.           0.         ...   0.          82.49415443\\n   29.13357179]\\n [ 93.2258914    0.           0.         ...   0.          82.49415443\\n   29.13357179]\\n [ 93.2258914    0.           0.         ...   0.          82.49415443\\n   29.13357179]]\\nCondition number of M: inf\\n(302, 17)\\n300\\nOptimizing...\\n  0.0%\\x08\\x08\\x08\\x08\\x08\\x08\\x08\\x08   done   \\n'\n",
      "b'order (radial / angular): 4 / 4\\n[[281.77762371   0.           0.         ...   0.         455.33339525\\n  651.25522943]\\n [281.77762371   0.           0.         ...   0.         455.33339525\\n  651.25522943]\\n [281.77762371   0.           0.         ...   0.         455.33339525\\n  651.25522943]\\n ...\\n [ 93.2258914    0.           0.         ...   0.          82.49415443\\n   29.13357179]\\n [ 93.2258914    0.           0.         ...   0.          82.49415443\\n   29.13357179]\\n [ 93.2258914    0.           0.         ...   0.          82.49415443\\n   29.13357179]]\\nCondition number of M: inf\\nOptimizing...\\n  0.0%\\x08\\x08\\x08\\x08\\x08\\x08\\x08\\x08   done   \\n'\n"
     ]
    }
   ],
   "source": [
    "home = expanduser(\"~\")\n",
    "\n",
    "SCRIPT = 'shore-deconvolve.py '\n",
    "DATA_DIR = os.path.join(home, 'Devel/test/samuel/in4michi')\n",
    "OUT_DIR = os.path.join(home, 'Devel/test/samuel/in4michi/test_results')\n",
    "OPTIONS = ['hpsd', 'nonneg', 'none']\n",
    "venv = '. ' + os.path.join(home, 'Devel/venvs/bonndit/bin/activate') + ' && '\n",
    "\n",
    "for option in OPTIONS:\n",
    "    command = venv + SCRIPT + '{di}/data.nii.gz {out}/response.npz \\\n",
    "{out}/odf{opt}.nrrd --pos {opt} --csf {out}/csf{opt}.nrrd \\\n",
    "--gm {out}/gm{opt}.nrrd --wm {out}/wm{opt}.nrrd'.format(di=DATA_DIR, opt=option, out=OUT_DIR)\n",
    "    out = check_output(command, shell = True)\n",
    "    print(out)"
   ]
  },
  {
   "cell_type": "code",
   "execution_count": null,
   "metadata": {},
   "outputs": [],
   "source": []
  },
  {
   "cell_type": "code",
   "execution_count": 4,
   "metadata": {},
   "outputs": [],
   "source": [
    "import pyshtools as sh"
   ]
  },
  {
   "cell_type": "code",
   "execution_count": 34,
   "metadata": {},
   "outputs": [
    {
     "name": "stdout",
     "output_type": "stream",
     "text": [
      "CPU times: user 9 µs, sys: 2 µs, total: 11 µs\n",
      "Wall time: 15 µs\n"
     ]
    },
    {
     "data": {
      "text/plain": [
       "25"
      ]
     },
     "execution_count": 34,
     "metadata": {},
     "output_type": "execute_result"
    }
   ],
   "source": [
    "%%time\n",
    "sh.legendre.PlmIndex(6,4)"
   ]
  },
  {
   "cell_type": "code",
   "execution_count": 10,
   "metadata": {},
   "outputs": [],
   "source": [
    "def _get_size(a, r):\n",
    "    if (a % 2) == 1 or (r % 2) == 1:\n",
    "        return 0\n",
    "    return sum([l * r - l * l + r // 2 + l // 2 * 3 + 1 for l in range(0, a + 1, 2)])\n",
    "MAX_ORDER = 12\n",
    "SIZES = [[_get_size(a, r) if r >= a else 0 for a in range(MAX_ORDER + 1)] for r in range(MAX_ORDER + 1)]"
   ]
  },
  {
   "cell_type": "code",
   "execution_count": 71,
   "metadata": {},
   "outputs": [
    {
     "name": "stdout",
     "output_type": "stream",
     "text": [
      "CPU times: user 22 µs, sys: 0 ns, total: 22 µs\n",
      "Wall time: 28.1 µs\n"
     ]
    },
    {
     "data": {
      "text/plain": [
       "array([ 0.28209479,  0.195441  , -0.16400361, -0.32839517, -0.09563013,\n",
       "        0.25321148,  0.29764219, -0.01594072, -0.31054865, -0.23210796,\n",
       "        0.12518587,  0.33220361,  0.14032553, -0.22006898, -0.31628272,\n",
       "       -0.03279847])"
      ]
     },
     "execution_count": 71,
     "metadata": {},
     "output_type": "execute_result"
    }
   ],
   "source": [
    "%%time\n",
    "sh.legendre.PlON(15, 0.4)"
   ]
  },
  {
   "cell_type": "code",
   "execution_count": 56,
   "metadata": {},
   "outputs": [],
   "source": [
    "from bonndit.michi.esh import legendre_slow"
   ]
  },
  {
   "cell_type": "code",
   "execution_count": 74,
   "metadata": {},
   "outputs": [
    {
     "name": "stdout",
     "output_type": "stream",
     "text": [
      "CPU times: user 28 µs, sys: 5 µs, total: 33 µs\n",
      "Wall time: 39.3 µs\n"
     ]
    },
    {
     "data": {
      "text/plain": [
       "array([ 0.28209479,  0.17416376, -0.50914892,  0.32912265, -0.50914892,\n",
       "        0.17416376])"
      ]
     },
     "execution_count": 74,
     "metadata": {},
     "output_type": "execute_result"
    }
   ],
   "source": [
    "%%time\n",
    "legendre(2, 0.6)"
   ]
  }
 ],
 "metadata": {
  "kernelspec": {
   "display_name": "bonndit",
   "language": "python",
   "name": "bonndit"
  },
  "language_info": {
   "codemirror_mode": {
    "name": "ipython",
    "version": 3
   },
   "file_extension": ".py",
   "mimetype": "text/x-python",
   "name": "python",
   "nbconvert_exporter": "python",
   "pygments_lexer": "ipython3",
   "version": "3.5.2"
  }
 },
 "nbformat": 4,
 "nbformat_minor": 2
}
