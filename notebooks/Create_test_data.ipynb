{
 "cells": [
  {
   "cell_type": "markdown",
   "metadata": {},
   "source": [
    "## Create test data"
   ]
  },
  {
   "cell_type": "markdown",
   "metadata": {},
   "source": [
    "Load all needed data"
   ]
  },
  {
   "cell_type": "code",
   "execution_count": 1,
   "metadata": {},
   "outputs": [
    {
     "name": "stderr",
     "output_type": "stream",
     "text": [
      "/home/olivier/Devel/venvs/bonndit/lib/python3.5/site-packages/h5py/__init__.py:36: FutureWarning: Conversion of the second argument of issubdtype from `float` to `np.floating` is deprecated. In future, it will be treated as `np.float64 == np.dtype(float).type`.\n",
      "  from ._conv import register_converters as _register_converters\n"
     ]
    }
   ],
   "source": [
    "import os\n",
    "import dipy as dp\n",
    "import nibabel as nib\n",
    "import numpy as np\n",
    "from dipy.io import read_bvals_bvecs\n",
    "from dipy.core.gradients import gradient_table, reorient_bvecs, GradientTable\n",
    "from bonndit.shore import ShoreModel, ShoreFit\n",
    "\n",
    "os.chdir(\"/home/olivier/Devel/test/samuel/in4michi/\")\n",
    "\n",
    "# Load fractional anisotropy\n",
    "dti_fa = nib.load(\"dti_FA.nii.gz\")\n",
    "\n",
    "# Load DTI mask\n",
    "dti_mask = nib.load(\"mask.nii.gz\")\n",
    "\n",
    "# Load and adjust tissue segmentation masks\n",
    "csf_mask = nib.load(\"fast_pve_0.nii.gz\")\n",
    "gm_mask = nib.load(\"fast_pve_1.nii.gz\")\n",
    "wm_mask = nib.load(\"fast_pve_2.nii.gz\")\n",
    "\n",
    "dti_vecs = nib.load(\"dti_V1.nii.gz\")\n",
    "\n",
    "data = nib.load(\"data.nii.gz\")\n",
    "\n",
    "bvals, bvecs = read_bvals_bvecs(\"bvals\", \"bvecs\")\n",
    "gtab = gradient_table(bvals, bvecs)"
   ]
  },
  {
   "cell_type": "code",
   "execution_count": 2,
   "metadata": {},
   "outputs": [],
   "source": [
    "def vvi_to_numpy_index(vvi_index):\n",
    "    new_ind = data.shape[:3] - vvi_index\n",
    "    return new_ind + (-1,-1,-1)"
   ]
  },
  {
   "cell_type": "code",
   "execution_count": 3,
   "metadata": {},
   "outputs": [
    {
     "data": {
      "text/plain": [
       "array([0, 0, 0])"
      ]
     },
     "execution_count": 3,
     "metadata": {},
     "output_type": "execute_result"
    }
   ],
   "source": [
    "vvi_to_numpy_index(np.array((95,95,49)))"
   ]
  },
  {
   "cell_type": "markdown",
   "metadata": {},
   "source": [
    "Specify the voxels you want in the test data"
   ]
  },
  {
   "cell_type": "code",
   "execution_count": 4,
   "metadata": {},
   "outputs": [],
   "source": [
    "wm_voxels = np.array([(49,58,27),(59,33,34),(64,33,32)])\n",
    "gm_voxels = np.array([(25,44,25),(50,46,25),(55,38,20)])\n",
    "csf_voxels = np.array([(49,55,25),(38,68,45),(61,28,45)])\n",
    "add_voxels = np.array([(61,26,23),(60,49,37),(65,24,37)])\n",
    "\n",
    "TEST_DATA = \"/home/olivier/Devel/test/samuel/in4michi/test_data_3d\"\n",
    "if not os.path.exists(TEST_DATA):\n",
    "    os.mkdir(TEST_DATA)\n",
    "\n",
    "files = {\"dti_FA.nii.gz\": dti_fa,\n",
    "         \"mask.nii.gz\": dti_mask,\n",
    "         \"fast_pve_0.nii.gz\": csf_mask,\n",
    "         \"fast_pve_1.nii.gz\": gm_mask,\n",
    "         \"fast_pve_2.nii.gz\": wm_mask}"
   ]
  },
  {
   "cell_type": "code",
   "execution_count": 5,
   "metadata": {},
   "outputs": [],
   "source": [
    "wm_voxels = np.array([tuple(vvi_to_numpy_index(np.array(x))) for x in wm_voxels])"
   ]
  },
  {
   "cell_type": "markdown",
   "metadata": {},
   "source": [
    "Build the test data"
   ]
  },
  {
   "cell_type": "code",
   "execution_count": 6,
   "metadata": {},
   "outputs": [],
   "source": [
    "def build_test_data_3d(files):\n",
    "    for name, img in files.items():\n",
    "        wm_regions = []\n",
    "        for voxel in wm_voxels:\n",
    "            wm_regions.append(np.stack([img.get_data()[tuple(voxel+x)] for x in [(0,0,-1), (0,0,0), (0,0,1)]], axis=0))\n",
    "        wm_stacked = np.stack(wm_regions, 1)\n",
    "        \n",
    "        gm_regions = []\n",
    "        for voxel in gm_voxels:\n",
    "            gm_regions.append(np.stack([img.get_data()[tuple(voxel+x)] for x in [(0,0,0), (0,0,0), (0,0,0)]], axis=0))\n",
    "        gm_stacked = np.stack(gm_regions, 1)\n",
    "            \n",
    "        csf_regions = []\n",
    "        for voxel in csf_voxels:\n",
    "            csf_regions.append(np.stack([img.get_data()[tuple(voxel+x)] for x in [(0,0,0), (0,0,0), (0,0,0)]], axis=0))\n",
    "        csf_stacked = np.stack(csf_regions, 1)\n",
    "        \n",
    "        complete = np.stack([wm_stacked, gm_stacked, csf_stacked], axis=2)\n",
    "        print(name, complete.shape)\n",
    "        img_data = nib.Nifti1Image(complete, img.affine)\n",
    "        nib.save(img_data, os.path.join(TEST_DATA, name))        "
   ]
  },
  {
   "cell_type": "code",
   "execution_count": 7,
   "metadata": {},
   "outputs": [
    {
     "name": "stdout",
     "output_type": "stream",
     "text": [
      "fast_pve_1.nii.gz (3, 3, 3)\n",
      "fast_pve_0.nii.gz (3, 3, 3)\n",
      "mask.nii.gz (3, 3, 3)\n",
      "dti_FA.nii.gz (3, 3, 3)\n",
      "fast_pve_2.nii.gz (3, 3, 3)\n",
      "dti_V1.nii.gz (3, 3, 3, 3)\n",
      "data.nii.gz (3, 3, 3, 97)\n"
     ]
    }
   ],
   "source": [
    "build_test_data_3d(files)\n",
    "build_test_data_3d({\"dti_V1.nii.gz\": dti_vecs})\n",
    "build_test_data_3d({\"data.nii.gz\": data})"
   ]
  },
  {
   "cell_type": "markdown",
   "metadata": {},
   "source": [
    "## Calculate response result for test data with old code"
   ]
  },
  {
   "cell_type": "code",
   "execution_count": 13,
   "metadata": {},
   "outputs": [],
   "source": [
    "from subprocess import check_output\n",
    "from os.path import expanduser\n",
    "import os"
   ]
  },
  {
   "cell_type": "code",
   "execution_count": 14,
   "metadata": {},
   "outputs": [],
   "source": [
    "home = expanduser(\"~\")\n",
    "DATA_DIR = os.path.join(home, 'Devel/test/samuel/in4michi/test_data_3d')\n",
    "OUT_DIR = os.path.join(DATA_DIR, 'results')"
   ]
  },
  {
   "cell_type": "code",
   "execution_count": 15,
   "metadata": {},
   "outputs": [
    {
     "name": "stdout",
     "output_type": "stream",
     "text": [
      ". /home/olivier/Devel/venvs/bonndit/bin/activate && python2 /home/olivier/Devel/mic-tools/scripts/msmt-deconv/shore-response.py /home/olivier/Devel/test/samuel/in4michi/test_data_3d/ /home/olivier/Devel/test/samuel/in4michi/test_data_3d/results\n",
      "('shore path:', '/home/olivier/Devel/mic-tools/packages/dwmri/shore.pyc')\n",
      "4 4\n",
      "/home/olivier/Devel/test/samuel/in4michi/test_data_3d/dti_FA.nii.gz\n",
      "Using provided DTI mask.\n",
      "loading data....\n",
      "reshaping...\n",
      "csf response:\n",
      "('  0.0%',)\n",
      "    done   \n",
      "3 voxel\n",
      "[  9.16301660e+04  -9.02934493e+04   1.98821362e+05  -2.23875288e+03\n",
      "   3.44210202e+03   1.16744800e+03  -6.97973007e+03  -1.78303965e+03\n",
      "   8.46359966e+03  -1.03158867e+04  -3.25269229e+03   1.48611223e+04\n",
      "   7.66528862e+03   3.40274544e+03  -1.90877332e+03  -7.99447267e+02\n",
      "   2.13461183e+03  -1.22077248e+02   1.54785180e+03  -1.76300482e+03\n",
      "   2.37200709e+02  -1.33040030e+03]\n",
      "[  91630.16601105  -90293.44934797  198821.36167508]\n",
      "grey matter response:\n",
      "('  0.0%',)\n",
      "    done   \n",
      "5 voxel\n",
      "[  8.70920574e+04  -6.57033379e+03   9.91880255e+03   2.54672819e+03\n",
      "   8.02103552e+02   6.96522761e+02   7.85175398e+02  -4.28080239e+02\n",
      "   3.75243965e+02  -1.08342269e+03  -5.86293785e+02   1.37484272e+02\n",
      "  -9.35917544e+02  -8.92080896e+01   1.50777839e+02   2.78066151e+02\n",
      "  -7.19049550e-01   1.27018862e+03  -5.43723277e+02   1.20114237e+03\n",
      "  -5.56052973e+02   6.10937723e+01]\n",
      "[ 87092.05740841  -6570.33378911   9918.80255351]\n",
      "white matter response:\n",
      "('  0.0%',)\n",
      "0 voxel\n",
      "    done   \n",
      "[ 0.  0.  0.  0.  0.  0.]\n"
     ]
    }
   ],
   "source": [
    "SCRIPT = 'python2 /home/olivier/Devel/mic-tools/scripts/msmt-deconv/shore-response.py '\n",
    "venv = '. ' + os.path.join(home, 'Devel/venvs/bonndit/bin/activate') + ' && '\n",
    "\n",
    "command = venv + SCRIPT + '{dire}/ {out}'.format(dire=DATA_DIR, out = OUT_DIR)\n",
    "print(command)\n",
    "out = check_output(command, shell = True)\n",
    "\n",
    "for line in out.splitlines():\n",
    "    print(line.decode(\"utf-8\") )"
   ]
  },
  {
   "cell_type": "markdown",
   "metadata": {},
   "source": [
    "## Calculate deconvolution results for test data with old code"
   ]
  },
  {
   "cell_type": "code",
   "execution_count": 12,
   "metadata": {},
   "outputs": [
    {
     "name": "stdout",
     "output_type": "stream",
     "text": [
      ". /home/olivier/Devel/venvs/bonndit/bin/activate && shore-deconvolve.py /home/olivier/Devel/test/samuel/in4michi/test_data_3d/data.nii.gz /home/olivier/Devel/test/samuel/in4michi/test_data_3d/response_complete.npz /home/olivier/Devel/test/samuel/in4michi/test_data_3d/results/odfhpsd.nrrd --pos hpsd --csf /home/olivier/Devel/test/samuel/in4michi/test_data_3d/results/csfhpsd.nrrd --gm /home/olivier/Devel/test/samuel/in4michi/test_data_3d/results/gmhpsd.nrrd --wm /home/olivier/Devel/test/samuel/in4michi/test_data_3d/results/wmhpsd.nrrd\n",
      "order (radial / angular): 4 / 4\n",
      "[[281.77762371   0.           0.         ...   0.         455.33339525\n",
      "  651.25522943]\n",
      " [281.77762371   0.           0.         ...   0.         455.33339525\n",
      "  651.25522943]\n",
      " [281.77762371   0.           0.         ...   0.         455.33339525\n",
      "  651.25522943]\n",
      " ...\n",
      " [ 93.2258914  -56.85521783  47.55097727 ...   5.57354002  82.49415443\n",
      "   29.13357179]\n",
      " [ 93.2258914  -16.71205418 -29.03170502 ... -35.39412036  82.49415443\n",
      "   29.13357179]\n",
      " [ 93.2258914  -42.98884873  62.78565938 ... -16.26962004  82.49415443\n",
      "   29.13357179]]\n",
      "Condition number of M: 21.398167118635953\n",
      "Optimizing...\n",
      "  0.   done   \n",
      ". /home/olivier/Devel/venvs/bonndit/bin/activate && shore-deconvolve.py /home/olivier/Devel/test/samuel/in4michi/test_data_3d/data.nii.gz /home/olivier/Devel/test/samuel/in4michi/test_data_3d/response_complete.npz /home/olivier/Devel/test/samuel/in4michi/test_data_3d/results/odfnonneg.nrrd --pos nonneg --csf /home/olivier/Devel/test/samuel/in4michi/test_data_3d/results/csfnonneg.nrrd --gm /home/olivier/Devel/test/samuel/in4michi/test_data_3d/results/gmnonneg.nrrd --wm /home/olivier/Devel/test/samuel/in4michi/test_data_3d/results/wmnonneg.nrrd\n",
      "order (radial / angular): 4 / 4\n",
      "[[281.77762371   0.           0.         ...   0.         455.33339525\n",
      "  651.25522943]\n",
      " [281.77762371   0.           0.         ...   0.         455.33339525\n",
      "  651.25522943]\n",
      " [281.77762371   0.           0.         ...   0.         455.33339525\n",
      "  651.25522943]\n",
      " ...\n",
      " [ 93.2258914  -56.85521783  47.55097727 ...   5.57354002  82.49415443\n",
      "   29.13357179]\n",
      " [ 93.2258914  -16.71205418 -29.03170502 ... -35.39412036  82.49415443\n",
      "   29.13357179]\n",
      " [ 93.2258914  -42.98884873  62.78565938 ... -16.26962004  82.49415443\n",
      "   29.13357179]]\n",
      "Condition number of M: 21.398167118635953\n",
      "(302, 17)\n",
      "300\n",
      "Optimizing...\n",
      "  0.   done   \n",
      ". /home/olivier/Devel/venvs/bonndit/bin/activate && shore-deconvolve.py /home/olivier/Devel/test/samuel/in4michi/test_data_3d/data.nii.gz /home/olivier/Devel/test/samuel/in4michi/test_data_3d/response_complete.npz /home/olivier/Devel/test/samuel/in4michi/test_data_3d/results/odfnone.nrrd --pos none --csf /home/olivier/Devel/test/samuel/in4michi/test_data_3d/results/csfnone.nrrd --gm /home/olivier/Devel/test/samuel/in4michi/test_data_3d/results/gmnone.nrrd --wm /home/olivier/Devel/test/samuel/in4michi/test_data_3d/results/wmnone.nrrd\n",
      "order (radial / angular): 4 / 4\n",
      "[[281.77762371   0.           0.         ...   0.         455.33339525\n",
      "  651.25522943]\n",
      " [281.77762371   0.           0.         ...   0.         455.33339525\n",
      "  651.25522943]\n",
      " [281.77762371   0.           0.         ...   0.         455.33339525\n",
      "  651.25522943]\n",
      " ...\n",
      " [ 93.2258914  -56.85521783  47.55097727 ...   5.57354002  82.49415443\n",
      "   29.13357179]\n",
      " [ 93.2258914  -16.71205418 -29.03170502 ... -35.39412036  82.49415443\n",
      "   29.13357179]\n",
      " [ 93.2258914  -42.98884873  62.78565938 ... -16.26962004  82.49415443\n",
      "   29.13357179]]\n",
      "Condition number of M: 21.398167118635953\n",
      "Optimizing...\n",
      "  0.   done   \n"
     ]
    }
   ],
   "source": [
    "SCRIPT = 'shore-deconvolve.py '\n",
    "OPTIONS = ['hpsd', 'nonneg', 'none']\n",
    "venv = '. ' + os.path.join(home, 'Devel/venvs/bonndit/bin/activate') + ' && '\n",
    "\n",
    "for option in OPTIONS:\n",
    "    command = venv + SCRIPT + '{dire}/data.nii.gz {dire}/response_complete.npz \\\n",
    "{out}/odf{opt}.nrrd --pos {opt} --csf {out}/csf{opt}.nrrd \\\n",
    "--gm {out}/gm{opt}.nrrd --wm {out}/wm{opt}.nrrd'.format(dire=DATA_DIR, opt=option, out=OUT_DIR)\n",
    "    print(command)\n",
    "    out = check_output(command, shell = True)\n",
    "    for line in out.splitlines():\n",
    "        print(line.decode(\"utf-8\") )"
   ]
  }
 ],
 "metadata": {
  "kernelspec": {
   "display_name": "bonndit",
   "language": "python",
   "name": "bonndit"
  },
  "language_info": {
   "codemirror_mode": {
    "name": "ipython",
    "version": 3
   },
   "file_extension": ".py",
   "mimetype": "text/x-python",
   "name": "python",
   "nbconvert_exporter": "python",
   "pygments_lexer": "ipython3",
   "version": "3.5.2"
  }
 },
 "nbformat": 4,
 "nbformat_minor": 2
}
