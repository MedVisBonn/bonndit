{
 "cells": [
  {
   "cell_type": "markdown",
   "metadata": {},
   "source": [
    "## Create test data"
   ]
  },
  {
   "cell_type": "markdown",
   "metadata": {},
   "source": [
    "Load all needed data"
   ]
  },
  {
   "cell_type": "code",
   "execution_count": 1,
   "metadata": {},
   "outputs": [
    {
     "name": "stderr",
     "output_type": "stream",
     "text": [
      "/home/olivier/Devel/venvs/bonndit/lib/python3.5/site-packages/h5py/__init__.py:36: FutureWarning: Conversion of the second argument of issubdtype from `float` to `np.floating` is deprecated. In future, it will be treated as `np.float64 == np.dtype(float).type`.\n",
      "  from ._conv import register_converters as _register_converters\n"
     ]
    }
   ],
   "source": [
    "import os\n",
    "import dipy as dp\n",
    "import nibabel as nib\n",
    "import numpy as np\n",
    "from dipy.io import read_bvals_bvecs\n",
    "from dipy.core.gradients import gradient_table, reorient_bvecs, GradientTable\n",
    "from bonndit.shore import ShoreModel, ShoreFit\n",
    "\n",
    "os.chdir(\"/home/olivier/Devel/test/samuel/in4michi/\")\n",
    "\n",
    "# Load fractional anisotropy\n",
    "dti_fa = nib.load(\"dti_FA.nii.gz\")\n",
    "\n",
    "# Load DTI mask\n",
    "dti_mask = nib.load(\"mask.nii.gz\")\n",
    "\n",
    "# Load and adjust tissue segmentation masks\n",
    "csf_mask = nib.load(\"fast_pve_0.nii.gz\")\n",
    "gm_mask = nib.load(\"fast_pve_1.nii.gz\")\n",
    "wm_mask = nib.load(\"fast_pve_2.nii.gz\")\n",
    "\n",
    "dti_vecs = nib.load(\"dti_V1.nii.gz\")\n",
    "\n",
    "data = nib.load(\"data.nii.gz\")\n",
    "\n",
    "bvals, bvecs = read_bvals_bvecs(\"bvals\", \"bvecs\")\n",
    "gtab = gradient_table(bvals, bvecs)"
   ]
  },
  {
   "cell_type": "code",
   "execution_count": 2,
   "metadata": {},
   "outputs": [],
   "source": [
    "def vvi_to_numpy_index(vvi_index):\n",
    "    new_ind = data.shape[:3] - vvi_index\n",
    "    return new_ind + (-1,-1,-1)"
   ]
  },
  {
   "cell_type": "code",
   "execution_count": 3,
   "metadata": {},
   "outputs": [
    {
     "data": {
      "text/plain": [
       "array([0, 0, 0])"
      ]
     },
     "execution_count": 3,
     "metadata": {},
     "output_type": "execute_result"
    }
   ],
   "source": [
    "vvi_to_numpy_index(np.array((95,95,49)))"
   ]
  },
  {
   "cell_type": "markdown",
   "metadata": {},
   "source": [
    "Specify the voxels you want in the test data"
   ]
  },
  {
   "cell_type": "code",
   "execution_count": 4,
   "metadata": {},
   "outputs": [],
   "source": [
    "wm_voxels = np.array([(49,58,27),(59,33,34),(64,33,32)])\n",
    "gm_voxels = np.array([(25,44,25),(50,46,25),(55,38,20)])\n",
    "csf_voxels = np.array([(49,55,25),(38,68,45),(61,28,45)])\n",
    "add_voxels = np.array([(61,26,23),(60,49,37),(65,24,37)])\n",
    "\n",
    "TEST_DATA = \"/home/olivier/Devel/test/samuel/in4michi/test_data_3d\"\n",
    "if not os.path.exists(TEST_DATA):\n",
    "    os.mkdir(TEST_DATA)\n",
    "\n",
    "files = {\"dti_FA.nii.gz\": dti_fa,\n",
    "         \"mask.nii.gz\": dti_mask,\n",
    "         \"fast_pve_0.nii.gz\": csf_mask,\n",
    "         \"fast_pve_1.nii.gz\": gm_mask,\n",
    "         \"fast_pve_2.nii.gz\": wm_mask}"
   ]
  },
  {
   "cell_type": "code",
   "execution_count": 5,
   "metadata": {},
   "outputs": [],
   "source": [
    "wm_voxels = np.array([tuple(vvi_to_numpy_index(np.array(x))) for x in wm_voxels])"
   ]
  },
  {
   "cell_type": "markdown",
   "metadata": {},
   "source": [
    "Build the test data"
   ]
  },
  {
   "cell_type": "code",
   "execution_count": 6,
   "metadata": {},
   "outputs": [],
   "source": [
    "def build_test_data_3d(files):\n",
    "    for name, img in files.items():\n",
    "        wm_regions = []\n",
    "        for voxel in wm_voxels:\n",
    "            wm_regions.append(np.stack([img.get_data()[tuple(voxel+x)] for x in [(0,0,-1), (0,0,0), (0,0,1)]], axis=0))\n",
    "        wm_stacked = np.stack(wm_regions, 1)\n",
    "        \n",
    "        gm_regions = []\n",
    "        for voxel in gm_voxels:\n",
    "            gm_regions.append(np.stack([img.get_data()[tuple(voxel+x)] for x in [(0,0,0), (0,0,0), (0,0,0)]], axis=0))\n",
    "        gm_stacked = np.stack(gm_regions, 1)\n",
    "            \n",
    "        csf_regions = []\n",
    "        for voxel in csf_voxels:\n",
    "            csf_regions.append(np.stack([img.get_data()[tuple(voxel+x)] for x in [(0,0,0), (0,0,0), (0,0,0)]], axis=0))\n",
    "        csf_stacked = np.stack(csf_regions, 1)\n",
    "        \n",
    "        complete = np.stack([wm_stacked, gm_stacked, csf_stacked], axis=2)\n",
    "        print(name, complete.shape)\n",
    "        img_data = nib.Nifti1Image(complete, img.affine)\n",
    "        nib.save(img_data, os.path.join(TEST_DATA, name))        "
   ]
  },
  {
   "cell_type": "code",
   "execution_count": 7,
   "metadata": {},
   "outputs": [
    {
     "name": "stdout",
     "output_type": "stream",
     "text": [
      "fast_pve_2.nii.gz (3, 3, 3)\n",
      "fast_pve_1.nii.gz (3, 3, 3)\n",
      "dti_FA.nii.gz (3, 3, 3)\n",
      "mask.nii.gz (3, 3, 3)\n",
      "fast_pve_0.nii.gz (3, 3, 3)\n",
      "dti_V1.nii.gz (3, 3, 3, 3)\n",
      "data.nii.gz (3, 3, 3, 97)\n"
     ]
    }
   ],
   "source": [
    "build_test_data_3d(files)\n",
    "build_test_data_3d({\"dti_V1.nii.gz\": dti_vecs})\n",
    "build_test_data_3d({\"data.nii.gz\": data})"
   ]
  },
  {
   "cell_type": "markdown",
   "metadata": {},
   "source": [
    "## Calculate response result for test data with old code"
   ]
  },
  {
   "cell_type": "code",
   "execution_count": 8,
   "metadata": {},
   "outputs": [],
   "source": [
    "from subprocess import check_output\n",
    "from os.path import expanduser\n",
    "import os"
   ]
  },
  {
   "cell_type": "code",
   "execution_count": 9,
   "metadata": {},
   "outputs": [],
   "source": [
    "home = expanduser(\"~\")\n",
    "DATA_DIR = os.path.join(home, 'Devel/test/samuel/in4michi/test_data_3d')\n",
    "OUT_DIR = os.path.join(DATA_DIR, 'results')"
   ]
  },
  {
   "cell_type": "code",
   "execution_count": 10,
   "metadata": {},
   "outputs": [
    {
     "name": "stdout",
     "output_type": "stream",
     "text": [
      ". /home/olivier/Devel/venvs/bonndit/bin/activate && shore-response.py /home/olivier/Devel/test/samuel/in4michi/test_data_3d/ /home/olivier/Devel/test/samuel/in4michi/test_data_3d/results/response.npz --mask /home/olivier/Devel/test/samuel/in4michi/test_data_3d/mask.nii.gz\n",
      "order (radial / angular): 4 / 4\n",
      "Using provided DTI mask.\n",
      "loading data....\n",
      "csf response:\n",
      "  0.   done   \n",
      "3 voxel\n",
      "[ 91630.14341921 -90293.49816839 198821.42034613]\n",
      "grey matter response:\n",
      "  0.   done   \n",
      "5 voxel\n",
      "[87092.07357143 -6570.3734587   9918.82517223]\n",
      "white matter response:\n",
      "  0.   done   \n",
      "0 voxel\n",
      "[0. 0. 0. 0. 0. 0.]\n"
     ]
    }
   ],
   "source": [
    "SCRIPT = 'shore-response.py '\n",
    "venv = '. ' + os.path.join(home, 'Devel/venvs/bonndit/bin/activate') + ' && '\n",
    "\n",
    "command = venv + SCRIPT + '{dire}/ {out}/response.npz --mask \\\n",
    "{dire}/mask.nii.gz'.format(dire=DATA_DIR, out = OUT_DIR)\n",
    "print(command)\n",
    "out = check_output(command, shell = True)\n",
    "\n",
    "for line in out.splitlines():\n",
    "    print(line.decode(\"utf-8\") )"
   ]
  },
  {
   "cell_type": "markdown",
   "metadata": {},
   "source": [
    "## Calculate deconvolution results for test data with old code"
   ]
  },
  {
   "cell_type": "code",
   "execution_count": 11,
   "metadata": {},
   "outputs": [
    {
     "name": "stdout",
     "output_type": "stream",
     "text": [
      ". /home/olivier/Devel/venvs/bonndit/bin/activate && shore-deconvolve.py /home/olivier/Devel/test/samuel/in4michi/test_data_3d/data.nii.gz /home/olivier/Devel/test/samuel/in4michi/test_data_3d/response_complete.npz /home/olivier/Devel/test/samuel/in4michi/test_data_3d/results/odfhpsd.nrrd --pos hpsd --csf /home/olivier/Devel/test/samuel/in4michi/test_data_3d/results/csfhpsd.nrrd --gm /home/olivier/Devel/test/samuel/in4michi/test_data_3d/results/gmhpsd.nrrd --wm /home/olivier/Devel/test/samuel/in4michi/test_data_3d/results/wmhpsd.nrrd\n",
      "order (radial / angular): 4 / 4\n",
      "[[281.77762318   0.           0.         ...   0.         455.3333953\n",
      "  651.25522922]\n",
      " [281.77762318   0.           0.         ...   0.         455.3333953\n",
      "  651.25522922]\n",
      " [281.77762318   0.           0.         ...   0.         455.3333953\n",
      "  651.25522922]\n",
      " ...\n",
      " [ 93.22590013 -56.69754511  47.41910738 ...   5.52542865  82.49419902\n",
      "   29.13357967]\n",
      " [ 93.22590013 -16.66570777 -28.95119336 ... -35.08859464  82.49419902\n",
      "   29.13357967]\n",
      " [ 93.22590013 -42.86963067  62.61154017 ... -16.12917898  82.49419902\n",
      "   29.13357967]]\n",
      "Condition number of M: 21.39836053835811\n",
      "Optimizing...\n",
      "  0.   done   \n",
      ". /home/olivier/Devel/venvs/bonndit/bin/activate && shore-deconvolve.py /home/olivier/Devel/test/samuel/in4michi/test_data_3d/data.nii.gz /home/olivier/Devel/test/samuel/in4michi/test_data_3d/response_complete.npz /home/olivier/Devel/test/samuel/in4michi/test_data_3d/results/odfnonneg.nrrd --pos nonneg --csf /home/olivier/Devel/test/samuel/in4michi/test_data_3d/results/csfnonneg.nrrd --gm /home/olivier/Devel/test/samuel/in4michi/test_data_3d/results/gmnonneg.nrrd --wm /home/olivier/Devel/test/samuel/in4michi/test_data_3d/results/wmnonneg.nrrd\n",
      "order (radial / angular): 4 / 4\n",
      "[[281.77762318   0.           0.         ...   0.         455.3333953\n",
      "  651.25522922]\n",
      " [281.77762318   0.           0.         ...   0.         455.3333953\n",
      "  651.25522922]\n",
      " [281.77762318   0.           0.         ...   0.         455.3333953\n",
      "  651.25522922]\n",
      " ...\n",
      " [ 93.22590013 -56.69754511  47.41910738 ...   5.52542865  82.49419902\n",
      "   29.13357967]\n",
      " [ 93.22590013 -16.66570777 -28.95119336 ... -35.08859464  82.49419902\n",
      "   29.13357967]\n",
      " [ 93.22590013 -42.86963067  62.61154017 ... -16.12917898  82.49419902\n",
      "   29.13357967]]\n",
      "Condition number of M: 21.39836053835811\n",
      "(302, 17)\n",
      "300\n",
      "Optimizing...\n",
      "  0.   done   \n",
      ". /home/olivier/Devel/venvs/bonndit/bin/activate && shore-deconvolve.py /home/olivier/Devel/test/samuel/in4michi/test_data_3d/data.nii.gz /home/olivier/Devel/test/samuel/in4michi/test_data_3d/response_complete.npz /home/olivier/Devel/test/samuel/in4michi/test_data_3d/results/odfnone.nrrd --pos none --csf /home/olivier/Devel/test/samuel/in4michi/test_data_3d/results/csfnone.nrrd --gm /home/olivier/Devel/test/samuel/in4michi/test_data_3d/results/gmnone.nrrd --wm /home/olivier/Devel/test/samuel/in4michi/test_data_3d/results/wmnone.nrrd\n",
      "order (radial / angular): 4 / 4\n",
      "[[281.77762318   0.           0.         ...   0.         455.3333953\n",
      "  651.25522922]\n",
      " [281.77762318   0.           0.         ...   0.         455.3333953\n",
      "  651.25522922]\n",
      " [281.77762318   0.           0.         ...   0.         455.3333953\n",
      "  651.25522922]\n",
      " ...\n",
      " [ 93.22590013 -56.69754511  47.41910738 ...   5.52542865  82.49419902\n",
      "   29.13357967]\n",
      " [ 93.22590013 -16.66570777 -28.95119336 ... -35.08859464  82.49419902\n",
      "   29.13357967]\n",
      " [ 93.22590013 -42.86963067  62.61154017 ... -16.12917898  82.49419902\n",
      "   29.13357967]]\n",
      "Condition number of M: 21.39836053835811\n",
      "Optimizing...\n",
      "  0.   done   \n"
     ]
    }
   ],
   "source": [
    "SCRIPT = 'shore-deconvolve.py '\n",
    "OPTIONS = ['hpsd', 'nonneg', 'none']\n",
    "venv = '. ' + os.path.join(home, 'Devel/venvs/bonndit/bin/activate') + ' && '\n",
    "\n",
    "for option in OPTIONS:\n",
    "    command = venv + SCRIPT + '{dire}/data.nii.gz {dire}/response_complete.npz \\\n",
    "{out}/odf{opt}.nrrd --pos {opt} --csf {out}/csf{opt}.nrrd \\\n",
    "--gm {out}/gm{opt}.nrrd --wm {out}/wm{opt}.nrrd'.format(dire=DATA_DIR, opt=option, out=OUT_DIR)\n",
    "    print(command)\n",
    "    out = check_output(command, shell = True)\n",
    "    for line in out.splitlines():\n",
    "        print(line.decode(\"utf-8\") )"
   ]
  }
 ],
 "metadata": {
  "kernelspec": {
   "display_name": "bonndit",
   "language": "python",
   "name": "bonndit"
  },
  "language_info": {
   "codemirror_mode": {
    "name": "ipython",
    "version": 3
   },
   "file_extension": ".py",
   "mimetype": "text/x-python",
   "name": "python",
   "nbconvert_exporter": "python",
   "pygments_lexer": "ipython3",
   "version": "3.5.2"
  }
 },
 "nbformat": 4,
 "nbformat_minor": 2
}
