{
 "cells": [
  {
   "cell_type": "code",
   "execution_count": 4,
   "metadata": {},
   "outputs": [],
   "source": [
    "import os\n",
    "import dipy as dp\n",
    "import nibabel as nib\n",
    "import numpy as np\n",
    "from dipy.io import read_bvals_bvecs\n",
    "from dipy.core.gradients import gradient_table, reorient_bvecs, GradientTable\n",
    "from bonndit.shore import ShoreModel\n",
    "\n",
    "os.chdir(\"/home/olivier/Devel/test/samuel/in4michi/\")\n",
    "\n",
    "\n",
    "# Load fractional anisotropy\n",
    "dti_fa = nib.load(\"dti_FA.nii.gz\")\n",
    "\n",
    "# Load DTI mask\n",
    "dti_mask = nib.load(\"mask.nii.gz\")\n",
    "\n",
    "# Load and adjust issue segmentation masks\n",
    "csf_mask = nib.load(\"fast_pve_0.nii.gz\")\n",
    "gm_mask = nib.load(\"fast_pve_1.nii.gz\")\n",
    "wm_mask = nib.load(\"fast_pve_2.nii.gz\")\n",
    "\n",
    "dti_vecs = nib.load(\"dti_V1.nii.gz\")\n",
    "\n",
    "data = nib.load(\"data.nii\")\n",
    "\n",
    "bvals, bvecs = read_bvals_bvecs(\"bvals\", \"bvecs\")\n",
    "gtab = gradient_table(bvals, bvecs)"
   ]
  },
  {
   "cell_type": "code",
   "execution_count": 8,
   "metadata": {},
   "outputs": [
    {
     "name": "stderr",
     "output_type": "stream",
     "text": [
      "100%|██████████| 460800/460800 [00:09<00:00, 46360.01it/s] \n",
      "100%|██████████| 460800/460800 [00:22<00:00, 20520.08it/s]\n",
      "100%|██████████| 460800/460800 [00:35<00:00, 13030.04it/s] \n"
     ]
    }
   ],
   "source": [
    "model = ShoreModel(gtab)\n",
    "fit = model.fit(data, wm_mask, gm_mask, csf_mask, dti_mask, \n",
    "                    dti_fa, dti_vecs, verbose=True)"
   ]
  }
 ],
 "metadata": {
  "kernelspec": {
   "display_name": "Python 3",
   "language": "python",
   "name": "python3"
  },
  "language_info": {
   "codemirror_mode": {
    "name": "ipython",
    "version": 3
   },
   "file_extension": ".py",
   "mimetype": "text/x-python",
   "name": "python",
   "nbconvert_exporter": "python",
   "pygments_lexer": "ipython3",
   "version": "3.5.2"
  }
 },
 "nbformat": 4,
 "nbformat_minor": 2
}
