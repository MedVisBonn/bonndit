{
 "cells": [
  {
   "cell_type": "markdown",
   "metadata": {},
   "source": [
    "# Compare response functions"
   ]
  },
  {
   "cell_type": "code",
   "execution_count": 10,
   "metadata": {},
   "outputs": [],
   "source": [
    "import numpy as np\n",
    "from os.path import expanduser\n",
    "import os"
   ]
  },
  {
   "cell_type": "code",
   "execution_count": 16,
   "metadata": {},
   "outputs": [],
   "source": [
    "home = expanduser(\"~\")\n",
    "DATA_DIR = os.path.join(home, 'Devel/test/samuel/in4michi')\n",
    "NEW_MICHI = os.path.join(DATA_DIR, 'michi-temp_results')\n",
    "OLD_MICHI = os.path.join(DATA_DIR, '../mictools_results')\n",
    "BONNDIT = os.path.join(DATA_DIR, '../bonndit_results/')"
   ]
  },
  {
   "cell_type": "code",
   "execution_count": 17,
   "metadata": {},
   "outputs": [],
   "source": [
    "new = np.load(os.path.join(NEW_MICHI, 'response.npz'))\n",
    "old = np.load(os.path.join(OLD_MICHI, 'response.npz'))\n",
    "bonndit = np.load(os.path.join(BONNDIT, 'response.npz'))"
   ]
  },
  {
   "cell_type": "code",
   "execution_count": 18,
   "metadata": {},
   "outputs": [
    {
     "name": "stdout",
     "output_type": "stream",
     "text": [
      "['zeta', 'tau', 'bvals', 'wm', 'bvecs', 'order', 'csf', 'gm']\n",
      "['tau', 'bvecs', 'bvals', 'wm', 'csf', 'order', 'zeta', 'gm']\n",
      "['gm', 'csf', 'order', 'tau', 'bvals', 'zeta', 'wm', 'bvecs']\n"
     ]
    }
   ],
   "source": [
    "print(new.keys())\n",
    "print(old.keys())\n",
    "print(bonndit.keys())"
   ]
  },
  {
   "cell_type": "code",
   "execution_count": 20,
   "metadata": {},
   "outputs": [
    {
     "name": "stdout",
     "output_type": "stream",
     "text": [
      "zeta 0.0\n",
      "tau 0.0\n",
      "wm [-3.54934358e-12  4.39660255e-11  7.63643857e-11 -2.46380938e-10\n",
      "  6.41957277e-10 -3.48007367e-10]\n",
      "gm [ 0.00000000e+00 -4.63990906e-15  3.22527278e-15 -2.25227302e-14\n",
      " -2.17370912e-14  4.91329320e-16]\n",
      "csf [-2.19435392e-16 -2.20174755e-15 -3.05311748e-16 -8.30703630e-14\n",
      " -1.16095793e-14  2.17381954e-13]\n"
     ]
    }
   ],
   "source": [
    "for key in ['zeta', 'tau', 'wm', 'gm', 'csf']:\n",
    "    try:\n",
    "        print(key, (bonndit[key] - new[key]) / new[key])\n",
    "    except KeyError:\n",
    "        pass"
   ]
  },
  {
   "cell_type": "code",
   "execution_count": 22,
   "metadata": {},
   "outputs": [
    {
     "data": {
      "text/plain": [
       "array([ 85534.38240517, -12937.02624567,  24815.13413662,    527.47067914,\n",
       "          515.42863164,    -90.90733872])"
      ]
     },
     "execution_count": 22,
     "metadata": {},
     "output_type": "execute_result"
    }
   ],
   "source": [
    "old['gm']"
   ]
  }
 ],
 "metadata": {
  "kernelspec": {
   "display_name": "bonndit",
   "language": "python",
   "name": "bonndit"
  },
  "language_info": {
   "codemirror_mode": {
    "name": "ipython",
    "version": 3
   },
   "file_extension": ".py",
   "mimetype": "text/x-python",
   "name": "python",
   "nbconvert_exporter": "python",
   "pygments_lexer": "ipython3",
   "version": "3.5.2"
  }
 },
 "nbformat": 4,
 "nbformat_minor": 2
}
