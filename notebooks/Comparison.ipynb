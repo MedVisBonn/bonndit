{
 "cells": [
  {
   "cell_type": "markdown",
   "metadata": {},
   "source": [
    "# This notebook is used to compare the output of Michaels old scripts with the new output of bonndit"
   ]
  },
  {
   "cell_type": "markdown",
   "metadata": {},
   "source": [
    "First we compute the results with michis scripts and the bonndit script"
   ]
  },
  {
   "cell_type": "code",
   "execution_count": 62,
   "metadata": {},
   "outputs": [],
   "source": [
    "import numpy as np"
   ]
  },
  {
   "cell_type": "code",
   "execution_count": 4,
   "metadata": {},
   "outputs": [],
   "source": [
    "DATA_DIR = '/home/olivier/Devel/test/samuel/in4michi/'"
   ]
  },
  {
   "cell_type": "code",
   "execution_count": 25,
   "metadata": {},
   "outputs": [
    {
     "name": "stdout",
     "output_type": "stream",
     "text": [
      "CPU times: user 8.66 ms, sys: 0 ns, total: 8.66 ms\n",
      "Wall time: 1min 3s\n"
     ]
    }
   ],
   "source": [
    "%%time\n",
    "%%bash --out output --err error\n",
    "source /home/olivier/Devel/venvs/bonndit/bin/activate\n",
    "shore-response.py /home/olivier/Devel/test/samuel/in4michi/complete_data/ /home/olivier/Devel/test/samuel/in4michi/michi_result/response"
   ]
  },
  {
   "cell_type": "code",
   "execution_count": 32,
   "metadata": {},
   "outputs": [
    {
     "name": "stdout",
     "output_type": "stream",
     "text": [
      "CPU times: user 1.13 ms, sys: 4.56 ms, total: 5.69 ms\n",
      "Wall time: 704 ms\n"
     ]
    }
   ],
   "source": [
    "%%time\n",
    "%%bash --out output --err error\n",
    "source /home/olivier/Devel/venvs/bonndit/bin/activate\n",
    "shore-deconvolve.py /home/olivier/Devel/test/samuel/in4michi/data.nii.gz \\\n",
    "                    /home/olivier/Devel/test/samuel/in4michi/bonndit_result/response.npz \\\n",
    "                    /home/olivier/Devel/test/samuel/in4michi/michi_result/odfnoconstraint.nrrd \\\n",
    "                    --pos none \\\n",
    "                    --csf /home/olivier/Devel/test/samuel/in4michi/michi_result/csfnoconstraint.nrrd \\\n",
    "                    --gm /home/olivier/Devel/test/samuel/in4michi/michi_result/gmnoconstraint.nrrd \\\n",
    "                    --wm /home/olivier/Devel/test/samuel/in4michi/michi_result/wmnoconstraint.nrrd \\"
   ]
  },
  {
   "cell_type": "code",
   "execution_count": 19,
   "metadata": {},
   "outputs": [
    {
     "name": "stdout",
     "output_type": "stream",
     "text": [
      "\n"
     ]
    }
   ],
   "source": [
    "print(output)"
   ]
  },
  {
   "cell_type": "code",
   "execution_count": 29,
   "metadata": {},
   "outputs": [
    {
     "name": "stdout",
     "output_type": "stream",
     "text": [
      "/home/olivier/Devel/venvs/bonndit/lib/python3.5/site-packages/h5py/__init__.py:36: FutureWarning: Conversion of the second argument of issubdtype from `float` to `np.floating` is deprecated. In future, it will be treated as `np.float64 == np.dtype(float).type`.\n",
      "  from ._conv import register_converters as _register_converters\n",
      "/home/olivier/Devel/venvs/bonndit/lib/python3.5/site-packages/numpy/linalg/linalg.py:1543: RuntimeWarning: divide by zero encountered in true_divide\n",
      "  return s[..., 0]/s[..., -1]\n",
      "\n"
     ]
    }
   ],
   "source": [
    "print(error)"
   ]
  },
  {
   "cell_type": "code",
   "execution_count": 6,
   "metadata": {},
   "outputs": [
    {
     "name": "stdout",
     "output_type": "stream",
     "text": [
      "CPU times: user 2.76 ms, sys: 2.76 ms, total: 5.53 ms\n",
      "Wall time: 826 ms\n"
     ]
    }
   ],
   "source": [
    "%%time\n",
    "%%bash --out output1 --err error1\n",
    "source /home/olivier/Devel/venvs/bonndit/bin/activate\n",
    "get_fodfs.py -i /home/olivier/Devel/test/samuel/in4michi/ -o /home/olivier/Devel/test/samuel/in4michi/bonndit_result/ -v"
   ]
  },
  {
   "cell_type": "code",
   "execution_count": 7,
   "metadata": {},
   "outputs": [
    {
     "name": "stdout",
     "output_type": "stream",
     "text": [
      "\n"
     ]
    }
   ],
   "source": [
    "print(output1)"
   ]
  },
  {
   "cell_type": "code",
   "execution_count": 8,
   "metadata": {},
   "outputs": [
    {
     "name": "stdout",
     "output_type": "stream",
     "text": [
      "/home/olivier/Devel/venvs/bonndit/lib/python3.5/site-packages/h5py/__init__.py:36: FutureWarning: Conversion of the second argument of issubdtype from `float` to `np.floating` is deprecated. In future, it will be treated as `np.float64 == np.dtype(float).type`.\n",
      "  from ._conv import register_converters as _register_converters\n",
      "100%|██████████| 27/27 [00:00<00:00, 114621.67it/s]\n",
      "Traceback (most recent call last):\n",
      "  File \"/home/olivier/Devel/venvs/bonndit/bin/get_fodfs.py\", line 6, in <module>\n",
      "    exec(compile(open(__file__).read(), __file__, 'exec'))\n",
      "  File \"/home/olivier/Devel/bonndit/scripts/get_fodfs.py\", line 91, in <module>\n",
      "    main()\n",
      "  File \"/home/olivier/Devel/bonndit/scripts/get_fodfs.py\", line 81, in main\n",
      "    dti_fa, dti_vecs, fawm, verbose=verbose)\n",
      "  File \"/home/olivier/Devel/bonndit/src/bonndit/shore.py\", line 54, in fit\n",
      "    shore_coeff = self._get_response(data, mask_csf, verbose)\n",
      "  File \"/home/olivier/Devel/bonndit/src/bonndit/shore.py\", line 118, in _get_response\n",
      "    return self._accumulate_shore(shore_coeff, mask)\n",
      "  File \"/home/olivier/Devel/bonndit/src/bonndit/shore.py\", line 95, in _accumulate_shore\n",
      "    shore_accum += shore_coeff[i]\n",
      "IndexError: index 14 is out of bounds for axis 0 with size 3\n",
      "\n"
     ]
    }
   ],
   "source": [
    "print(error1)"
   ]
  },
  {
   "cell_type": "markdown",
   "metadata": {},
   "source": [
    "Now we load the response functions and check how much they differ."
   ]
  },
  {
   "cell_type": "code",
   "execution_count": 63,
   "metadata": {},
   "outputs": [],
   "source": [
    "michi_response = np.load(DATA_DIR + 'michi_result/response.npz')\n",
    "michi_signal_csf = michi_response['csf']\n",
    "michi_signal_gm = michi_response['gm']\n",
    "michi_signal_wm = michi_response['wm']"
   ]
  },
  {
   "cell_type": "code",
   "execution_count": 64,
   "metadata": {},
   "outputs": [],
   "source": [
    "response = np.load(DATA_DIR + 'bonndit_result/response.npz')\n",
    "signal_csf = response['csf']\n",
    "signal_gm = response['gm']\n",
    "signal_wm = response['wm']"
   ]
  },
  {
   "cell_type": "code",
   "execution_count": null,
   "metadata": {},
   "outputs": [],
   "source": [
    "np.seterr(divide='ignore', invalid='ignore')\n",
    "(michi_signal_csf-signal_csf)/michi_signal_csf"
   ]
  },
  {
   "cell_type": "code",
   "execution_count": null,
   "metadata": {},
   "outputs": [],
   "source": [
    "(michi_signal_gm-signal_gm)/michi_signal_gm"
   ]
  },
  {
   "cell_type": "code",
   "execution_count": null,
   "metadata": {},
   "outputs": [],
   "source": [
    "(michi_signal_wm-signal_wm)/michi_signal_wm"
   ]
  },
  {
   "cell_type": "code",
   "execution_count": null,
   "metadata": {},
   "outputs": [],
   "source": []
  },
  {
   "cell_type": "code",
   "execution_count": null,
   "metadata": {},
   "outputs": [],
   "source": []
  },
  {
   "cell_type": "markdown",
   "metadata": {},
   "source": [
    "Now we load the calculated ODFs and compare them"
   ]
  },
  {
   "cell_type": "code",
   "execution_count": 65,
   "metadata": {},
   "outputs": [],
   "source": [
    "import nrrd"
   ]
  },
  {
   "cell_type": "code",
   "execution_count": 74,
   "metadata": {},
   "outputs": [],
   "source": [
    "michi_odf, options = nrrd.read(DATA_DIR + 'michi_result/odf.nrrd')\n",
    "michi_odf2, options = nrrd.read(DATA_DIR + 'michi_result/odf2.nrrd')\n",
    "bonndit_odf, options2 = nrrd.read(DATA_DIR + 'bonndit_result/odf_michi.nrrd')"
   ]
  },
  {
   "cell_type": "code",
   "execution_count": 19,
   "metadata": {},
   "outputs": [
    {
     "data": {
      "text/plain": [
       "(16, 3, 3, 3)"
      ]
     },
     "execution_count": 19,
     "metadata": {},
     "output_type": "execute_result"
    }
   ],
   "source": [
    "michi_odf.shape"
   ]
  },
  {
   "cell_type": "code",
   "execution_count": 22,
   "metadata": {},
   "outputs": [
    {
     "data": {
      "text/plain": [
       "(16, 3, 3, 3)"
      ]
     },
     "execution_count": 22,
     "metadata": {},
     "output_type": "execute_result"
    }
   ],
   "source": [
    "bonndit_odf.shape"
   ]
  },
  {
   "cell_type": "code",
   "execution_count": 75,
   "metadata": {},
   "outputs": [
    {
     "data": {
      "text/plain": [
       "array([[[ 1.0977648e+00,  9.8660207e-01,  2.4256656e+00],\n",
       "        [-1.4154944e+00,  5.7278299e-01, -4.6633720e-01],\n",
       "        [-7.2049398e+00,  2.1017464e-01,  9.5323539e-01]],\n",
       "\n",
       "       [[ 1.6375872e-01,  1.0284528e+00, -1.5610442e-02],\n",
       "        [-6.4690791e-02, -1.7208376e+01,  1.6342794e+00],\n",
       "        [ 9.3855399e-01, -5.0661693e+00, -2.8632977e+00]],\n",
       "\n",
       "       [[ 2.1025751e+00,  2.3027145e+01,  9.9796791e+00],\n",
       "        [ 3.5082271e+00,  1.5874412e+00, -2.1131596e-01],\n",
       "        [ 3.1784301e+00, -4.0044469e-01,  1.1185819e+00]]], dtype=float32)"
      ]
     },
     "execution_count": 75,
     "metadata": {},
     "output_type": "execute_result"
    }
   ],
   "source": [
    "(michi_odf[3] - bonndit_odf[3])/ michi_odf[3]"
   ]
  }
 ],
 "metadata": {
  "kernelspec": {
   "display_name": "bonndit",
   "language": "python",
   "name": "bonndit"
  },
  "language_info": {
   "codemirror_mode": {
    "name": "ipython",
    "version": 3
   },
   "file_extension": ".py",
   "mimetype": "text/x-python",
   "name": "python",
   "nbconvert_exporter": "python",
   "pygments_lexer": "ipython3",
   "version": "3.5.2"
  }
 },
 "nbformat": 4,
 "nbformat_minor": 2
}
