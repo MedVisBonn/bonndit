{
 "cells": [
  {
   "cell_type": "markdown",
   "metadata": {},
   "source": [
    "# This notebook is used to compare the output of Michaels old scripts with the new output of bonndit"
   ]
  },
  {
   "cell_type": "markdown",
   "metadata": {},
   "source": [
    "First we compute the results with michis scripts and the bonndit script"
   ]
  },
  {
   "cell_type": "code",
   "execution_count": 14,
   "metadata": {},
   "outputs": [],
   "source": [
    "import numpy as np"
   ]
  },
  {
   "cell_type": "code",
   "execution_count": 15,
   "metadata": {},
   "outputs": [],
   "source": [
    "DATA_DIR = '/home/olivier/Devel/test/samuel/in4michi/'"
   ]
  },
  {
   "cell_type": "code",
   "execution_count": null,
   "metadata": {},
   "outputs": [],
   "source": [
    "%%time\n",
    "%%bash --out output --err error\n",
    "source /home/olivier/Devel/venvs/bonndit/bin/activate\n",
    "shore-response.py /home/olivier/Devel/test/samuel/in4michi/ /home/olivier/Devel/test/samuel/in4michi/michi_result/response\n",
    "shore-deconvolve.py /home/olivier/Devel/test/samuel/in4michi/data.nii.gz \\\n",
    "                    /home/olivier/Devel/test/samuel/in4michi/michi_result/response.npz \\\n",
    "                    /home/olivier/Devel/test/samuel/in4michi/michi_result/odf.nrrd \\\n",
    "                    --csf /home/olivier/Devel/test/samuel/in4michi/michi_result/csf.nrrd \\\n",
    "                    --gm /home/olivier/Devel/test/samuel/in4michi/michi_result/gm.nrrd \\\n",
    "                    --wm /home/olivier/Devel/test/samuel/in4michi/michi_result/wm.nrrd \\"
   ]
  },
  {
   "cell_type": "code",
   "execution_count": null,
   "metadata": {},
   "outputs": [],
   "source": [
    "print(output)"
   ]
  },
  {
   "cell_type": "code",
   "execution_count": null,
   "metadata": {},
   "outputs": [],
   "source": [
    "print(error)"
   ]
  },
  {
   "cell_type": "code",
   "execution_count": null,
   "metadata": {},
   "outputs": [],
   "source": [
    "%%time\n",
    "%%bash --out output1 --err error1\n",
    "source /home/olivier/Devel/venvs/bonndit/bin/activate\n",
    "get_fodfs.py -i /home/olivier/Devel/test/samuel/in4michi/ -o /home/olivier/Devel/test/samuel/in4michi/bonndit_result/ -v"
   ]
  },
  {
   "cell_type": "code",
   "execution_count": null,
   "metadata": {},
   "outputs": [],
   "source": [
    "print(output1)"
   ]
  },
  {
   "cell_type": "code",
   "execution_count": null,
   "metadata": {},
   "outputs": [],
   "source": [
    "print(error1)"
   ]
  },
  {
   "cell_type": "markdown",
   "metadata": {},
   "source": [
    "Now we load the response functions and check how much they differ."
   ]
  },
  {
   "cell_type": "code",
   "execution_count": null,
   "metadata": {},
   "outputs": [],
   "source": [
    "michi_response = np.load(DATA_DIR + 'michi_result/response.npz')\n",
    "michi_signal_csf = michi_response['csf']\n",
    "michi_signal_gm = michi_response['gm']\n",
    "michi_signal_wm = michi_response['wm']"
   ]
  },
  {
   "cell_type": "code",
   "execution_count": null,
   "metadata": {},
   "outputs": [],
   "source": [
    "response = np.load(DATA_DIR + 'bonndit_result/response.npz')\n",
    "signal_csf = response['csf']\n",
    "signal_gm = response['gm']\n",
    "signal_wm = response['wm']"
   ]
  },
  {
   "cell_type": "code",
   "execution_count": null,
   "metadata": {},
   "outputs": [],
   "source": [
    "np.seterr(divide='ignore', invalid='ignore')\n",
    "(michi_signal_csf-signal_csf)/michi_signal_csf"
   ]
  },
  {
   "cell_type": "code",
   "execution_count": null,
   "metadata": {},
   "outputs": [],
   "source": [
    "(michi_signal_gm-signal_gm)/michi_signal_gm"
   ]
  },
  {
   "cell_type": "code",
   "execution_count": null,
   "metadata": {},
   "outputs": [],
   "source": [
    "(michi_signal_wm-signal_wm)/michi_signal_wm"
   ]
  }
 ],
 "metadata": {
  "kernelspec": {
   "display_name": "bonndit",
   "language": "python",
   "name": "bonndit"
  },
  "language_info": {
   "codemirror_mode": {
    "name": "ipython",
    "version": 3
   },
   "file_extension": ".py",
   "mimetype": "text/x-python",
   "name": "python",
   "nbconvert_exporter": "python",
   "pygments_lexer": "ipython3",
   "version": "3.5.2"
  }
 },
 "nbformat": 4,
 "nbformat_minor": 2
}
