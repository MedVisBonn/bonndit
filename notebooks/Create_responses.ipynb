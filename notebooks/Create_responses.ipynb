{
 "cells": [
  {
   "cell_type": "markdown",
   "metadata": {},
   "source": [
    "# Create response with michis old code (mic-tools)"
   ]
  },
  {
   "cell_type": "code",
   "execution_count": 8,
   "metadata": {},
   "outputs": [
    {
     "name": "stdout",
     "output_type": "stream",
     "text": [
      ". /home/olivier/Devel/venvs/bonndit/bin/activate && python2 /home/olivier/Devel/mic-tools/scripts/msmt-deconv/shore-response.py /home/olivier/Devel/test/samuel/in4michi/ /home/olivier/Devel/test/samuel/in4michi/../mictools_results/\n",
      "('shore path:', '/home/olivier/Devel/mic-tools/packages/dwmri/shore.pyc')\n",
      "4 4\n",
      "/home/olivier/Devel/test/samuel/in4michi/dti_FA.nii.gz\n",
      "Using provided DTI mask.\n",
      "loading data....\n",
      "reshaping...\n",
      "csf response:\n",
      "('  0.0%',)\n",
      " (' 43.6%',)\n",
      " (' 59.4%',)\n",
      "    done   \n",
      "13169 voxel\n",
      "[  6.63152513e+04  -3.96555644e+04   9.53249881e+04  -3.67208476e+02\n",
      "  -7.35905419e+01   1.05103369e+02  -2.53682288e+01   5.80324180e+01\n",
      "   1.06293846e+03   4.50459828e+01   6.66277144e+02   3.63562321e+02\n",
      "  -1.20116268e+02   7.02977228e+01   3.25583620e+01   4.52711879e+00\n",
      "  -3.07358453e+01  -1.86486783e+01  -1.10549390e+01  -3.39255786e+00\n",
      "  -1.91630816e+00   3.45451323e+01]\n",
      "[ 66315.25134601 -39655.56435794  95324.98808202]\n",
      "grey matter response:\n",
      "('  0.0%',)\n",
      " (' 29.4%',)\n",
      " (' 38.3%',)\n",
      " (' 48.7%',)\n",
      " (' 57.5%',)\n",
      " (' 68.3%',)\n",
      " (' 76.8%',)\n",
      "    done   \n",
      "32432 voxel\n",
      "[  8.55343824e+04  -1.29370262e+04   2.48151341e+04  -1.20639965e+02\n",
      "   1.45602656e+02   5.27470679e+02   2.75751684e+02   6.30256679e+00\n",
      "   8.48675670e+01   5.98090586e+01   5.15428632e+02   4.41472843e+00\n",
      "  -7.37799108e+01   8.60402875e+01  -3.72749729e+01   1.63951892e+01\n",
      "   9.53201754e+00  -9.09073387e+01  -1.75745232e+01   2.13171283e+01\n",
      "   5.00885028e+01  -3.13361258e+01]\n",
      "[ 85534.38240517 -12937.02624567  24815.13413662]\n",
      "white matter response:\n",
      "('  0.0%',)\n",
      " (' 36.7%',)\n",
      " (' 41.1%',)\n",
      " (' 45.2%',)\n",
      " (' 50.4%',)\n",
      " (' 56.7%',)\n",
      " (' 60.1%',)\n",
      " (' 64.9%',)\n",
      " (' 70.1%',)\n",
      "5319 voxel\n",
      "    done   \n",
      "[ 73920.9953363  -25410.73335606  15595.63700512 -27965.98214637\n",
      "  -1280.11390016  12289.81205289]\n"
     ]
    }
   ],
   "source": [
    "from subprocess import check_output\n",
    "from os.path import expanduser\n",
    "import os\n",
    "\n",
    "home = expanduser(\"~\")\n",
    "DATA_DIR = os.path.join(home, 'Devel/test/samuel/in4michi')\n",
    "OUT_DIR = os.path.join(DATA_DIR, '../mictools_results')\n",
    "\n",
    "SCRIPT = 'python2 /home/olivier/Devel/mic-tools/scripts/msmt-deconv/shore-response.py '\n",
    "venv = '. ' + os.path.join(home, 'Devel/venvs/bonndit/bin/activate') + ' && '\n",
    "\n",
    "command = venv + SCRIPT + '{dire}/ {out}/'.format(dire=DATA_DIR, out = OUT_DIR)\n",
    "print(command)\n",
    "out = check_output(command, shell = True)\n",
    "\n",
    "for line in out.splitlines():\n",
    "    print(line.decode(\"utf-8\") )"
   ]
  },
  {
   "cell_type": "markdown",
   "metadata": {},
   "source": [
    "# Create response with bonndit"
   ]
  },
  {
   "cell_type": "code",
   "execution_count": 3,
   "metadata": {},
   "outputs": [
    {
     "name": "stdout",
     "output_type": "stream",
     "text": [
      ". /home/olivier/Devel/venvs/bonndit/bin/activate && mtdeconv /home/olivier/Devel/test/samuel/in4michi// -o /home/olivier/Devel/test/samuel/in4michi/../bonndit_results/ -Rv\n"
     ]
    }
   ],
   "source": [
    "from subprocess import check_output\n",
    "from os.path import expanduser\n",
    "import os\n",
    "\n",
    "home = expanduser(\"~\")\n",
    "DATA_DIR = os.path.join(home, 'Devel/test/samuel/in4michi/')\n",
    "OUT_DIR = os.path.join(DATA_DIR, '../bonndit_results')\n",
    "\n",
    "SCRIPT = 'mtdeconv '\n",
    "venv = '. ' + os.path.join(home, 'Devel/venvs/bonndit/bin/activate') + ' && '\n",
    "\n",
    "command = venv + SCRIPT + '{dire}/ -o {out}/ -Rv'.format(dire=DATA_DIR, out = OUT_DIR)\n",
    "print(command)\n",
    "out = check_output(command, shell = True)\n",
    "\n",
    "for line in out.splitlines():\n",
    "    print(line.decode(\"utf-8\") )"
   ]
  },
  {
   "cell_type": "markdown",
   "metadata": {},
   "source": []
  },
  {
   "cell_type": "code",
   "execution_count": 4,
   "metadata": {},
   "outputs": [],
   "source": [
    "import numpy as np\n",
    "import importlib.util\n",
    "import nibabel as nib\n",
    "from dipy.core.gradients import gradient_table\n",
    "from dipy.io import read_bvals_bvecs\n",
    "import bonndit as bd\n",
    "import os"
   ]
  },
  {
   "cell_type": "code",
   "execution_count": 5,
   "metadata": {},
   "outputs": [],
   "source": [
    "spec = importlib.util.spec_from_file_location(\"shore\", \"/home/olivier/Devel/mic-tools/packages/dwmri/shore.py\")\n",
    "mic_shore = importlib.util.module_from_spec(spec)\n",
    "spec.loader.exec_module(mic_shore)"
   ]
  },
  {
   "cell_type": "code",
   "execution_count": 63,
   "metadata": {},
   "outputs": [],
   "source": [
    "DATA_DIR = \"/home/olivier/Devel/test/samuel/in4michi/\"\n",
    "\n",
    "zeta = 700\n",
    "tau = 1 / (4 * np.pi ** 2)\n",
    "radial_order = angular_order = order = 4\n",
    "\n",
    "data = nib.load(os.path.join(DATA_DIR,\"data.nii.gz\")).get_data()\n",
    "\n",
    "bvals, bvecs = read_bvals_bvecs(os.path.join(DATA_DIR,\"bvals\"), os.path.join(DATA_DIR,\"bvecs\"))\n",
    "gtab = gradient_table(bvals, bvecs)\n",
    "\n",
    "dti_mask = nib.load(os.path.join(DATA_DIR,\"mask.nii.gz\")).get_data()\n",
    "dti_fa = nib.load(os.path.join(DATA_DIR,\"dti_FA.nii.gz\")).get_data()\n",
    "gm_mask = nib.load(os.path.join(DATA_DIR,\"fast_pve_1.nii.gz\")).get_data()\n",
    "mask = np.logical_and(dti_mask, np.logical_and(gm_mask > 0.95, dti_fa < 0.2)).astype('int')"
   ]
  },
  {
   "cell_type": "code",
   "execution_count": 7,
   "metadata": {},
   "outputs": [],
   "source": [
    "def accumulate_shore(shore_coeff, mask):\n",
    "    N = shore_coeff.shape[0]\n",
    "    shore_accum = np.zeros(mic_shore.get_size(radial_order, angular_order))\n",
    "    accum_count = 0\n",
    "    nan_count = 0\n",
    "    for i in range(N):\n",
    "        if mask[i] == 0:\n",
    "            continue\n",
    "        for s in shore_coeff[i,:]:\n",
    "            if np.isnan(s):\n",
    "                nan += 1\n",
    "                break\n",
    "        else:\n",
    "            shore_accum += shore_coeff[i,:]\n",
    "            accum_count += 1\n",
    "\n",
    "    print(accum_count, \"voxel\")\n",
    "    if nan_count > 0:\n",
    "        print(nan_count, \"nans\")\n",
    "    if accum_count == 0:\n",
    "        return shore_accum\n",
    "    return shore_accum / accum_count"
   ]
  },
  {
   "cell_type": "code",
   "execution_count": 33,
   "metadata": {},
   "outputs": [
    {
     "name": "stdout",
     "output_type": "stream",
     "text": [
      "  0.0%\n"
     ]
    },
    {
     "name": "stderr",
     "output_type": "stream",
     "text": [
      "/home/olivier/Devel/venvs/bonndit/lib/python3.5/site-packages/dipy/core/geometry.py:129: RuntimeWarning: invalid value encountered in true_divide\n",
      "  theta = np.arccos(z / r)\n",
      "/home/olivier/Devel/mic-tools/packages/dwmri/shore.py:154: FutureWarning: `rcond` parameter will change to the default of machine precision times ``max(M, N)`` where M and N are the input matrix dimensions.\n",
      "To use the future default and silence this warning we advise to pass `rcond=None`, to keep using the old, explicitly pass `rcond=-1`.\n",
      "  r = la.lstsq(M, data[i, :])\n"
     ]
    },
    {
     "name": "stdout",
     "output_type": "stream",
     "text": [
      "\n",
      " 28.8%\n",
      "\n",
      " 38.1%\n",
      "\n",
      " 47.7%\n",
      "\n",
      " 55.8%\n",
      "\n",
      " 65.3%\n",
      "\n",
      " 73.4%\n",
      "\n",
      " 84.7%\n",
      "\n",
      "   done   \n"
     ]
    }
   ],
   "source": [
    "NX, NY, NZ = data.shape[0:3]\n",
    "N = NX*NY*NZ\n",
    "mic_complete = mic_shore.fit(data.reshape((N,-1)), radial_order, angular_order, gtab, zeta, tau, mask.flatten())"
   ]
  },
  {
   "cell_type": "code",
   "execution_count": 34,
   "metadata": {},
   "outputs": [
    {
     "name": "stdout",
     "output_type": "stream",
     "text": [
      "32432 voxel\n"
     ]
    }
   ],
   "source": [
    "mic_gm_response = accumulate_shore(mic_complete, mask.flatten())"
   ]
  },
  {
   "cell_type": "code",
   "execution_count": 64,
   "metadata": {},
   "outputs": [],
   "source": [
    "from bonndit.michi import fields, dwmri\n",
    "dti_fa, meta = fields.load_scalar(os.path.join(DATA_DIR, \"dti_FA.nii.gz\"))\n",
    "dti_mask, _ = fields.load_scalar(os.path.join(DATA_DIR, \"mask.nii.gz\"))\n",
    "gm_mask, _ = fields.load_scalar(os.path.join(DATA_DIR, \"fast_pve_1.nii.gz\"))\n",
    "data, gtabm, meta = dwmri.load(os.path.join(DATA_DIR, \"data.nii.gz\"))\n",
    "#gtab = gradient_table(gtabm.bvals, gtabm.bvecs)"
   ]
  },
  {
   "cell_type": "code",
   "execution_count": 65,
   "metadata": {},
   "outputs": [],
   "source": [
    "sm = bd.ShoreModel(gtab, order, zeta, tau)\n",
    "bonndit_complete = sm._get_response(data, mask)"
   ]
  },
  {
   "cell_type": "code",
   "execution_count": 66,
   "metadata": {},
   "outputs": [],
   "source": [
    "bonndit_gm_response = sm._accumulate_shore(bonndit_complete, mask)"
   ]
  },
  {
   "cell_type": "code",
   "execution_count": 67,
   "metadata": {},
   "outputs": [
    {
     "data": {
      "text/plain": [
       "True"
      ]
     },
     "execution_count": 67,
     "metadata": {},
     "output_type": "execute_result"
    }
   ],
   "source": [
    "((bonndit_complete.flatten() - mic_complete.flatten())==0).all()"
   ]
  },
  {
   "cell_type": "code",
   "execution_count": 70,
   "metadata": {},
   "outputs": [
    {
     "data": {
      "text/plain": [
       "array([0., 0., 0., 0., 0., 0., 0., 0., 0., 0., 0., 0., 0., 0., 0., 0., 0.,\n",
       "       0., 0., 0., 0., 0.])"
      ]
     },
     "execution_count": 70,
     "metadata": {},
     "output_type": "execute_result"
    }
   ],
   "source": [
    "(bonndit_gm_response - mic_gm_response)"
   ]
  },
  {
   "cell_type": "code",
   "execution_count": 17,
   "metadata": {},
   "outputs": [
    {
     "name": "stdout",
     "output_type": "stream",
     "text": [
      "32432 voxel\n"
     ]
    }
   ],
   "source": [
    "mic_complete_reshaped = mic_complete.reshape((N,-1))\n",
    "mic_gm_response_reshaped = accumulate_shore(mic_complete_reshaped, mask.flatten())"
   ]
  },
  {
   "cell_type": "code",
   "execution_count": 18,
   "metadata": {},
   "outputs": [
    {
     "data": {
      "text/plain": [
       "array([0., 0., 0., 0., 0., 0., 0., 0., 0., 0., 0., 0., 0., 0., 0., 0., 0.,\n",
       "       0., 0., 0., 0., 0.])"
      ]
     },
     "execution_count": 18,
     "metadata": {},
     "output_type": "execute_result"
    }
   ],
   "source": [
    "bonndit_gm_response - mic_gm_response_reshaped"
   ]
  },
  {
   "cell_type": "code",
   "execution_count": 29,
   "metadata": {},
   "outputs": [
    {
     "data": {
      "text/plain": [
       "array([0., 0., 0., 0., 0., 0., 0., 0., 0., 0., 0., 0., 0., 0., 0., 0., 0.,\n",
       "       0., 0., 0., 0., 0.])"
      ]
     },
     "execution_count": 29,
     "metadata": {},
     "output_type": "execute_result"
    }
   ],
   "source": [
    "mic_gm_response"
   ]
  }
 ],
 "metadata": {
  "kernelspec": {
   "display_name": "bonndit",
   "language": "python",
   "name": "bonndit"
  },
  "language_info": {
   "codemirror_mode": {
    "name": "ipython",
    "version": 3
   },
   "file_extension": ".py",
   "mimetype": "text/x-python",
   "name": "python",
   "nbconvert_exporter": "python",
   "pygments_lexer": "ipython3",
   "version": "3.5.2"
  }
 },
 "nbformat": 4,
 "nbformat_minor": 2
}
