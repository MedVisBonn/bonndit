{
 "cells": [
  {
   "cell_type": "code",
   "execution_count": 8,
   "metadata": {},
   "outputs": [],
   "source": [
    "import os\n",
    "import dipy as dp\n",
    "import nibabel as nib\n",
    "import numpy as np\n",
    "from dipy.io import read_bvals_bvecs\n",
    "from dipy.core.gradients import gradient_table, reorient_bvecs, GradientTable\n",
    "from bonndit.shore import ShoreModel, ShoreFit\n",
    "\n",
    "os.chdir(\"/home/olivier/Devel/test/samuel/in4michi/\")\n",
    "\n",
    "\n",
    "# Load fractional anisotropy\n",
    "dti_fa = nib.load(\"dti_FA.nii.gz\")\n",
    "\n",
    "# Load DTI mask\n",
    "dti_mask = nib.load(\"mask.nii.gz\")\n",
    "\n",
    "# Load and adjust tissue segmentation masks\n",
    "csf_mask = nib.load(\"fast_pve_0.nii.gz\")\n",
    "gm_mask = nib.load(\"fast_pve_1.nii.gz\")\n",
    "wm_mask = nib.load(\"fast_pve_2.nii.gz\")\n",
    "\n",
    "dti_vecs = nib.load(\"dti_V1.nii.gz\")\n",
    "\n",
    "data = nib.load(\"complete_data/data.nii.gz\").get_data()\n",
    "\n",
    "bvals, bvecs = read_bvals_bvecs(\"bvals\", \"bvecs\")\n",
    "gtab = gradient_table(bvals, bvecs)"
   ]
  },
  {
   "cell_type": "code",
   "execution_count": 14,
   "metadata": {},
   "outputs": [
    {
     "data": {
      "text/plain": [
       "array([[-2.00000000e+00,  0.00000000e+00, -0.00000000e+00,\n",
       "         9.66024094e+01],\n",
       "       [ 0.00000000e+00,  1.99708164e+00, -1.08000085e-01,\n",
       "        -1.16507339e+02],\n",
       "       [ 0.00000000e+00,  1.08004414e-01,  1.99700165e+00,\n",
       "        -4.14616928e+01],\n",
       "       [ 0.00000000e+00,  0.00000000e+00,  0.00000000e+00,\n",
       "         1.00000000e+00]])"
      ]
     },
     "execution_count": 14,
     "metadata": {},
     "output_type": "execute_result"
    }
   ],
   "source": [
    "dti_fa.affine"
   ]
  },
  {
   "cell_type": "code",
   "execution_count": 5,
   "metadata": {},
   "outputs": [
    {
     "name": "stderr",
     "output_type": "stream",
     "text": [
      "100%|██████████| 460800/460800 [00:09<00:00, 48785.51it/s] \n",
      "100%|██████████| 460800/460800 [00:21<00:00, 21921.44it/s] \n",
      "100%|██████████| 460800/460800 [00:32<00:00, 14189.76it/s] \n"
     ]
    }
   ],
   "source": [
    "model = ShoreModel(gtab)\n",
    "fit = model.fit(data, wm_mask, gm_mask, csf_mask, dti_mask, \n",
    "                    dti_fa, dti_vecs, verbose=True)"
   ]
  },
  {
   "cell_type": "code",
   "execution_count": 6,
   "metadata": {},
   "outputs": [],
   "source": [
    "fit.old_save('/home/olivier/Devel/test/samuel/in4michi/bonndit_result/')\n",
    "fit.save(\"/home/olivier/Devel/test/samuel/in4michi/bonndit_result/\"+\"fit.pkl\")"
   ]
  },
  {
   "cell_type": "code",
   "execution_count": 3,
   "metadata": {},
   "outputs": [],
   "source": [
    "fit = ShoreFit.load(\"/home/olivier/Devel/test/samuel/in4michi/bonndit_result/\"+\"fit.pkl\")"
   ]
  },
  {
   "cell_type": "code",
   "execution_count": 5,
   "metadata": {},
   "outputs": [
    {
     "name": "stderr",
     "output_type": "stream",
     "text": [
      "Optimization:  33%|███▎      | 9/27 [00:00<00:00, 79.95it/s]"
     ]
    },
    {
     "name": "stdout",
     "output_type": "stream",
     "text": [
      "Condition number of M: inf\n"
     ]
    },
    {
     "name": "stderr",
     "output_type": "stream",
     "text": [
      "Optimization: 100%|██████████| 27/27 [00:00<00:00, 68.32it/s]\n"
     ]
    }
   ],
   "source": [
    "out, wmout, gmout, csfout, mask, meta = fit.fodf(\"data.nii\", verbose=True)"
   ]
  },
  {
   "cell_type": "code",
   "execution_count": 8,
   "metadata": {},
   "outputs": [],
   "source": [
    "img = nib.Nifti1Image(out, data.affine)\n",
    "nib.save(img, '/home/olivier/Devel/test/samuel/in4michi/bonndit_result/odf.nii.gz')"
   ]
  },
  {
   "cell_type": "code",
   "execution_count": 14,
   "metadata": {},
   "outputs": [
    {
     "data": {
      "text/plain": [
       "array([[    0.,     0., -2500.],\n",
       "       [    0.,  2500.,     0.],\n",
       "       [ 2500.,     0.,     0.],\n",
       "       [    0.,     0.,     0.]])"
      ]
     },
     "execution_count": 14,
     "metadata": {},
     "output_type": "execute_result"
    }
   ],
   "source": [
    "from bonndit.shore import gtab_reorient, gtab_rotate\n",
    "from dipy.core.gradients import GradientTable\n",
    "import numpy as np\n",
    "GRADIENTS = np.array([[2500,0,0],\n",
    "                      [0,2500,0],\n",
    "                      [0,0,2500],\n",
    "                      [0,0,0]])\n",
    "gtab = GradientTable(GRADIENTS)\n",
    "old_vec = np.array((0, 0, 1))\n",
    "new_vec = np.array((1, 0, 0))\n",
    "gtab_reorient(gtab, old_vec, new_vec).gradients"
   ]
  }
 ],
 "metadata": {
  "kernelspec": {
   "display_name": "bonndit",
   "language": "python",
   "name": "bonndit"
  },
  "language_info": {
   "codemirror_mode": {
    "name": "ipython",
    "version": 3
   },
   "file_extension": ".py",
   "mimetype": "text/x-python",
   "name": "python",
   "nbconvert_exporter": "python",
   "pygments_lexer": "ipython3",
   "version": "3.5.2"
  }
 },
 "nbformat": 4,
 "nbformat_minor": 2
}
