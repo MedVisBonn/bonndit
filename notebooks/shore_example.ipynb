{
 "cells": [
  {
   "cell_type": "code",
   "execution_count": 1,
   "metadata": {},
   "outputs": [
    {
     "name": "stderr",
     "output_type": "stream",
     "text": [
      "/home/olivier/Devel/venvs/bonndit/lib/python3.5/site-packages/h5py/__init__.py:36: FutureWarning: Conversion of the second argument of issubdtype from `float` to `np.floating` is deprecated. In future, it will be treated as `np.float64 == np.dtype(float).type`.\n",
      "  from ._conv import register_converters as _register_converters\n"
     ]
    }
   ],
   "source": [
    "import os\n",
    "import dipy as dp\n",
    "import nibabel as nib\n",
    "import numpy as np\n",
    "from dipy.io import read_bvals_bvecs\n",
    "from dipy.core.gradients import gradient_table, reorient_bvecs, GradientTable\n",
    "from bonndit.shore import ShoreModel, ShoreFit\n",
    "\n",
    "os.chdir(\"/home/olivier/Devel/test/samuel/in4michi/\")\n",
    "\n",
    "\n",
    "# Load fractional anisotropy\n",
    "dti_fa = nib.load(\"dti_FA.nii.gz\")\n",
    "\n",
    "# Load DTI mask\n",
    "dti_mask = nib.load(\"mask.nii.gz\")\n",
    "\n",
    "# Load and adjust issue segmentation masks\n",
    "csf_mask = nib.load(\"fast_pve_0.nii.gz\")\n",
    "gm_mask = nib.load(\"fast_pve_1.nii.gz\")\n",
    "wm_mask = nib.load(\"fast_pve_2.nii.gz\")\n",
    "\n",
    "dti_vecs = nib.load(\"dti_V1.nii.gz\")\n",
    "\n",
    "data = nib.load(\"data.nii\")\n",
    "\n",
    "bvals, bvecs = read_bvals_bvecs(\"bvals\", \"bvecs\")\n",
    "gtab = gradient_table(bvals, bvecs)"
   ]
  },
  {
   "cell_type": "code",
   "execution_count": 2,
   "metadata": {},
   "outputs": [],
   "source": [
    "#model = ShoreModel(gtab)\n",
    "#fit = model.fit(data, wm_mask, gm_mask, csf_mask, dti_mask, \n",
    "#                    dti_fa, dti_vecs, verbose=True)"
   ]
  },
  {
   "cell_type": "code",
   "execution_count": 3,
   "metadata": {},
   "outputs": [
    {
     "ename": "NameError",
     "evalue": "name 'fit' is not defined",
     "output_type": "error",
     "traceback": [
      "\u001b[0;31m---------------------------------------------------------------------------\u001b[0m",
      "\u001b[0;31mNameError\u001b[0m                                 Traceback (most recent call last)",
      "\u001b[0;32m<ipython-input-3-d7c2bc81f8ff>\u001b[0m in \u001b[0;36m<module>\u001b[0;34m()\u001b[0m\n\u001b[0;32m----> 1\u001b[0;31m \u001b[0mfit\u001b[0m\u001b[0;34m.\u001b[0m\u001b[0msave\u001b[0m\u001b[0;34m(\u001b[0m\u001b[0;34m\"/home/olivier/Devel/test/samuel/in4michi/\"\u001b[0m\u001b[0;34m+\u001b[0m\u001b[0;34m\"fit.pkl\"\u001b[0m\u001b[0;34m)\u001b[0m\u001b[0;34m\u001b[0m\u001b[0m\n\u001b[0m",
      "\u001b[0;31mNameError\u001b[0m: name 'fit' is not defined"
     ]
    }
   ],
   "source": [
    "fit.save(\"/home/olivier/Devel/test/samuel/in4michi/\"+\"fit.pkl\")"
   ]
  },
  {
   "cell_type": "code",
   "execution_count": 4,
   "metadata": {},
   "outputs": [],
   "source": [
    "fit = ShoreFit.load(\"/home/olivier/Devel/test/samuel/in4michi/\"+\"fit.pkl\")"
   ]
  },
  {
   "cell_type": "code",
   "execution_count": null,
   "metadata": {},
   "outputs": [
    {
     "name": "stderr",
     "output_type": "stream",
     "text": [
      "/home/olivier/Devel/venvs/bonndit/lib/python3.5/site-packages/dipy/core/geometry.py:129: RuntimeWarning: invalid value encountered in true_divide\n",
      "  theta = np.arccos(z / r)\n",
      "Optimization:   0%|          | 3/460800 [00:00<4:18:09, 29.75it/s]"
     ]
    },
    {
     "name": "stdout",
     "output_type": "stream",
     "text": [
      "Condition number of M: 9.246390603572164e+114\n"
     ]
    },
    {
     "name": "stderr",
     "output_type": "stream",
     "text": [
      "Optimization:   0%|          | 1796/460800 [01:30<6:23:50, 19.93it/s]"
     ]
    }
   ],
   "source": [
    "#fit.fiber_orientation_distribution_functions(data.get_data(), outdir = '/home/olivier/Devel/test/samuel/in4michi/bonndit_result/',verbose=True)"
   ]
  },
  {
   "cell_type": "code",
   "execution_count": 14,
   "metadata": {},
   "outputs": [
    {
     "data": {
      "text/plain": [
       "array([[    0.,     0., -2500.],\n",
       "       [    0.,  2500.,     0.],\n",
       "       [ 2500.,     0.,     0.],\n",
       "       [    0.,     0.,     0.]])"
      ]
     },
     "execution_count": 14,
     "metadata": {},
     "output_type": "execute_result"
    }
   ],
   "source": [
    "from bonndit.shore import gtab_reorient, gtab_rotate\n",
    "from dipy.core.gradients import GradientTable\n",
    "import numpy as np\n",
    "GRADIENTS = np.array([[2500,0,0],\n",
    "                      [0,2500,0],\n",
    "                      [0,0,2500],\n",
    "                      [0,0,0]])\n",
    "gtab = GradientTable(GRADIENTS)\n",
    "old_vec = np.array((0, 0, 1))\n",
    "new_vec = np.array((1, 0, 0))\n",
    "gtab_reorient(gtab, old_vec, new_vec).gradients"
   ]
  }
 ],
 "metadata": {
  "kernelspec": {
   "display_name": "bonndit",
   "language": "python",
   "name": "bonndit"
  },
  "language_info": {
   "codemirror_mode": {
    "name": "ipython",
    "version": 3
   },
   "file_extension": ".py",
   "mimetype": "text/x-python",
   "name": "python",
   "nbconvert_exporter": "python",
   "pygments_lexer": "ipython3",
   "version": "3.5.2"
  }
 },
 "nbformat": 4,
 "nbformat_minor": 2
}
