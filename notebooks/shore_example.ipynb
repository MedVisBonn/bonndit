{
 "cells": [
  {
   "cell_type": "code",
   "execution_count": null,
   "metadata": {},
   "outputs": [],
   "source": []
  },
  {
   "cell_type": "code",
   "execution_count": 6,
   "metadata": {},
   "outputs": [],
   "source": [
    "import os\n",
    "import dipy as dp\n",
    "import nibabel as nib\n",
    "import numpy as np\n",
    "from dipy.io import read_bvals_bvecs\n",
    "from dipy.core.gradients import gradient_table, reorient_bvecs, GradientTable\n",
    "from bonndit.shore import ShoreModel, ShoreFit\n",
    "\n",
    "os.chdir(\"/home/olivier/Devel/test/samuel/in4michi/\")\n",
    "\n",
    "\n",
    "# Load fractional anisotropy\n",
    "dti_fa = nib.load(\"dti_FA.nii.gz\")\n",
    "\n",
    "# Load DTI mask\n",
    "dti_mask = nib.load(\"mask.nii.gz\")\n",
    "\n",
    "# Load and adjust tissue segmentation masks\n",
    "csf_mask = nib.load(\"fast_pve_0.nii.gz\")\n",
    "gm_mask = nib.load(\"fast_pve_1.nii.gz\")\n",
    "wm_mask = nib.load(\"fast_pve_2.nii.gz\")\n",
    "\n",
    "dti_vecs = nib.load(\"dti_V1.nii.gz\")\n",
    "\n",
    "data = nib.load(\"complete_data/data.nii\")\n",
    "\n",
    "bvals, bvecs = read_bvals_bvecs(\"bvals\", \"bvecs\")\n",
    "gtab = gradient_table(bvals, bvecs)"
   ]
  },
  {
   "cell_type": "code",
   "execution_count": 7,
   "metadata": {},
   "outputs": [
    {
     "name": "stderr",
     "output_type": "stream",
     "text": [
      "100%|██████████| 460800/460800 [00:10<00:00, 43756.04it/s]\n",
      "100%|██████████| 460800/460800 [00:21<00:00, 21818.21it/s] \n",
      "100%|██████████| 460800/460800 [00:31<00:00, 14409.28it/s] \n"
     ]
    }
   ],
   "source": [
    "model = ShoreModel(gtab)\n",
    "fit = model.fit(data, wm_mask, gm_mask, csf_mask, dti_mask, \n",
    "                    dti_fa, dti_vecs, verbose=True)"
   ]
  },
  {
   "cell_type": "code",
   "execution_count": 8,
   "metadata": {},
   "outputs": [],
   "source": [
    "fit.old_save('/home/olivier/Devel/test/samuel/in4michi/bonndit_result/')\n",
    "fit.save(\"/home/olivier/Devel/test/samuel/in4michi/bonndit_result/\"+\"fit.pkl\")"
   ]
  },
  {
   "cell_type": "code",
   "execution_count": 2,
   "metadata": {},
   "outputs": [],
   "source": [
    "fit = ShoreFit.load(\"/home/olivier/Devel/test/samuel/in4michi/bonndit_result/\"+\"fit.pkl\")"
   ]
  },
  {
   "cell_type": "code",
   "execution_count": 3,
   "metadata": {},
   "outputs": [
    {
     "name": "stderr",
     "output_type": "stream",
     "text": [
      "/home/olivier/Devel/venvs/bonndit/lib/python3.5/site-packages/numpy/linalg/linalg.py:1543: RuntimeWarning: divide by zero encountered in true_divide\n",
      "  return s[..., 0]/s[..., -1]\n",
      "Optimization:  22%|██▏       | 6/27 [00:00<00:00, 57.81it/s]"
     ]
    },
    {
     "name": "stdout",
     "output_type": "stream",
     "text": [
      "[[ 0.         0.         0.       ]\n",
      " [ 0.         0.         0.       ]\n",
      " [ 0.         0.         0.       ]\n",
      " [ 0.4492     0.259316   0.854971 ]\n",
      " [ 0.710982  -0.172307  -0.681774 ]\n",
      " [-0.377588   0.89793   -0.22616  ]\n",
      " [ 0.634051   0.571626   0.52079  ]\n",
      " [-0.645306  -0.762471  -0.0470946]\n",
      " [ 0.180011   0.186358   0.96585  ]\n",
      " [-0.154821  -0.973693   0.167192 ]]\n",
      "Condition number of M: inf\n"
     ]
    },
    {
     "name": "stderr",
     "output_type": "stream",
     "text": [
      "Optimization: 100%|██████████| 27/27 [00:00<00:00, 62.90it/s]\n"
     ]
    }
   ],
   "source": [
    "out, wmout, gmout, csfout = fit.fodf(data, verbose=True)"
   ]
  },
  {
   "cell_type": "code",
   "execution_count": 8,
   "metadata": {},
   "outputs": [],
   "source": [
    "img = nib.Nifti1Image(out, data.affine)\n",
    "nib.save(img, '/home/olivier/Devel/test/samuel/in4michi/bonndit_result/odf.nii.gz')"
   ]
  },
  {
   "cell_type": "code",
   "execution_count": 14,
   "metadata": {},
   "outputs": [
    {
     "data": {
      "text/plain": [
       "array([[    0.,     0., -2500.],\n",
       "       [    0.,  2500.,     0.],\n",
       "       [ 2500.,     0.,     0.],\n",
       "       [    0.,     0.,     0.]])"
      ]
     },
     "execution_count": 14,
     "metadata": {},
     "output_type": "execute_result"
    }
   ],
   "source": [
    "from bonndit.shore import gtab_reorient, gtab_rotate\n",
    "from dipy.core.gradients import GradientTable\n",
    "import numpy as np\n",
    "GRADIENTS = np.array([[2500,0,0],\n",
    "                      [0,2500,0],\n",
    "                      [0,0,2500],\n",
    "                      [0,0,0]])\n",
    "gtab = GradientTable(GRADIENTS)\n",
    "old_vec = np.array((0, 0, 1))\n",
    "new_vec = np.array((1, 0, 0))\n",
    "gtab_reorient(gtab, old_vec, new_vec).gradients"
   ]
  }
 ],
 "metadata": {
  "kernelspec": {
   "display_name": "bonndit",
   "language": "python",
   "name": "bonndit"
  },
  "language_info": {
   "codemirror_mode": {
    "name": "ipython",
    "version": 3
   },
   "file_extension": ".py",
   "mimetype": "text/x-python",
   "name": "python",
   "nbconvert_exporter": "python",
   "pygments_lexer": "ipython3",
   "version": "3.5.2"
  }
 },
 "nbformat": 4,
 "nbformat_minor": 2
}
