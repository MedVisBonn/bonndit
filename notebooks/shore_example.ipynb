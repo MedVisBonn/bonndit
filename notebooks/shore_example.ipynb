{
 "cells": [
  {
   "cell_type": "code",
   "execution_count": null,
   "metadata": {},
   "outputs": [],
   "source": []
  },
  {
   "cell_type": "code",
   "execution_count": 9,
   "metadata": {},
   "outputs": [],
   "source": [
    "import os\n",
    "import dipy as dp\n",
    "import nibabel as nib\n",
    "import numpy as np\n",
    "from dipy.io import read_bvals_bvecs\n",
    "from dipy.core.gradients import gradient_table, reorient_bvecs, GradientTable\n",
    "from bonndit.shore import ShoreModel, ShoreFit\n",
    "\n",
    "os.chdir(\"/home/olivier/Devel/test/samuel/in4michi/\")\n",
    "\n",
    "\n",
    "# Load fractional anisotropy\n",
    "dti_fa = nib.load(\"dti_FA.nii.gz\")\n",
    "\n",
    "# Load DTI mask\n",
    "dti_mask = nib.load(\"mask.nii.gz\")\n",
    "\n",
    "# Load and adjust tissue segmentation masks\n",
    "csf_mask = nib.load(\"fast_pve_0.nii.gz\")\n",
    "gm_mask = nib.load(\"fast_pve_1.nii.gz\")\n",
    "wm_mask = nib.load(\"fast_pve_2.nii.gz\")\n",
    "\n",
    "dti_vecs = nib.load(\"dti_V1.nii.gz\")\n",
    "\n",
    "data = nib.load(\"complete_data/data.nii\")\n",
    "\n",
    "bvals, bvecs = read_bvals_bvecs(\"bvals\", \"bvecs\")\n",
    "gtab = gradient_table(bvals, bvecs)"
   ]
  },
  {
   "cell_type": "code",
   "execution_count": 7,
   "metadata": {},
   "outputs": [
    {
     "name": "stderr",
     "output_type": "stream",
     "text": [
      "100%|██████████| 460800/460800 [00:10<00:00, 43756.04it/s]\n",
      "100%|██████████| 460800/460800 [00:21<00:00, 21818.21it/s] \n",
      "100%|██████████| 460800/460800 [00:31<00:00, 14409.28it/s] \n"
     ]
    }
   ],
   "source": [
    "model = ShoreModel(gtab)\n",
    "fit = model.fit(data, wm_mask, gm_mask, csf_mask, dti_mask, \n",
    "                    dti_fa, dti_vecs, verbose=True)"
   ]
  },
  {
   "cell_type": "code",
   "execution_count": 8,
   "metadata": {},
   "outputs": [],
   "source": [
    "fit.old_save('/home/olivier/Devel/test/samuel/in4michi/bonndit_result/')\n",
    "fit.save(\"/home/olivier/Devel/test/samuel/in4michi/bonndit_result/\"+\"fit.pkl\")"
   ]
  },
  {
   "cell_type": "code",
   "execution_count": 10,
   "metadata": {},
   "outputs": [],
   "source": [
    "fit = ShoreFit.load(\"/home/olivier/Devel/test/samuel/in4michi/bonndit_result/\"+\"fit.pkl\")"
   ]
  },
  {
   "cell_type": "code",
   "execution_count": 13,
   "metadata": {},
   "outputs": [
    {
     "name": "stderr",
     "output_type": "stream",
     "text": [
      "\n",
      "Optimization:   0%|          | 0/27 [00:00<?, ?it/s]\u001b[A\n",
      "Optimization:  19%|█▊        | 5/27 [00:00<00:00, 48.56it/s]\u001b[A"
     ]
    },
    {
     "name": "stdout",
     "output_type": "stream",
     "text": [
      "Condition number of M: inf\n"
     ]
    },
    {
     "name": "stderr",
     "output_type": "stream",
     "text": [
      "\n",
      "Optimization:  41%|████      | 11/27 [00:00<00:00, 52.90it/s]\u001b[A\n",
      "Optimization:  52%|█████▏    | 14/27 [00:00<00:00, 43.82it/s]\u001b[A\n",
      "Optimization:  74%|███████▍  | 20/27 [00:00<00:00, 45.95it/s]\u001b[A\n",
      "Optimization:  89%|████████▉ | 24/27 [00:00<00:00, 45.71it/s]\u001b[A\n",
      "Optimization:   0%|          | 1140/460800 [00:30<3:21:51, 37.95it/s]"
     ]
    }
   ],
   "source": [
    "out, wmout, gmout, csfout = fit.fodf(\"data.nii\", verbose=True)"
   ]
  },
  {
   "cell_type": "code",
   "execution_count": 20,
   "metadata": {},
   "outputs": [
    {
     "data": {
      "text/plain": [
       "array([[[0.0048819 , 0.00600839, 0.00557819],\n",
       "        [0.00522271, 0.00509482, 0.0057228 ],\n",
       "        [0.00539661, 0.00519445, 0.00438422]],\n",
       "\n",
       "       [[0.00495465, 0.00541302, 0.00497942],\n",
       "        [0.00514935, 0.00566533, 0.00546024],\n",
       "        [0.00507425, 0.00520792, 0.00552798]],\n",
       "\n",
       "       [[0.00483064, 0.00503548, 0.00524289],\n",
       "        [0.00481169, 0.00466158, 0.00497798],\n",
       "        [0.00518401, 0.00469915, 0.00531369]]])"
      ]
     },
     "execution_count": 20,
     "metadata": {},
     "output_type": "execute_result"
    }
   ],
   "source": [
    "wmout\n"
   ]
  },
  {
   "cell_type": "code",
   "execution_count": 8,
   "metadata": {},
   "outputs": [],
   "source": [
    "img = nib.Nifti1Image(out, data.affine)\n",
    "nib.save(img, '/home/olivier/Devel/test/samuel/in4michi/bonndit_result/odf.nii.gz')"
   ]
  },
  {
   "cell_type": "code",
   "execution_count": 14,
   "metadata": {},
   "outputs": [
    {
     "data": {
      "text/plain": [
       "array([[    0.,     0., -2500.],\n",
       "       [    0.,  2500.,     0.],\n",
       "       [ 2500.,     0.,     0.],\n",
       "       [    0.,     0.,     0.]])"
      ]
     },
     "execution_count": 14,
     "metadata": {},
     "output_type": "execute_result"
    }
   ],
   "source": [
    "from bonndit.shore import gtab_reorient, gtab_rotate\n",
    "from dipy.core.gradients import GradientTable\n",
    "import numpy as np\n",
    "GRADIENTS = np.array([[2500,0,0],\n",
    "                      [0,2500,0],\n",
    "                      [0,0,2500],\n",
    "                      [0,0,0]])\n",
    "gtab = GradientTable(GRADIENTS)\n",
    "old_vec = np.array((0, 0, 1))\n",
    "new_vec = np.array((1, 0, 0))\n",
    "gtab_reorient(gtab, old_vec, new_vec).gradients"
   ]
  }
 ],
 "metadata": {
  "kernelspec": {
   "display_name": "bonndit",
   "language": "python",
   "name": "bonndit"
  },
  "language_info": {
   "codemirror_mode": {
    "name": "ipython",
    "version": 3
   },
   "file_extension": ".py",
   "mimetype": "text/x-python",
   "name": "python",
   "nbconvert_exporter": "python",
   "pygments_lexer": "ipython3",
   "version": "3.5.2"
  }
 },
 "nbformat": 4,
 "nbformat_minor": 2
}
