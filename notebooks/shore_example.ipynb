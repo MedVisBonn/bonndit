{
 "cells": [
  {
   "cell_type": "code",
   "execution_count": 1,
   "metadata": {},
   "outputs": [
    {
     "name": "stderr",
     "output_type": "stream",
     "text": [
      "/home/olivier/Devel/venvs/bonndit/lib/python3.5/site-packages/h5py/__init__.py:36: FutureWarning: Conversion of the second argument of issubdtype from `float` to `np.floating` is deprecated. In future, it will be treated as `np.float64 == np.dtype(float).type`.\n",
      "  from ._conv import register_converters as _register_converters\n"
     ]
    }
   ],
   "source": [
    "import os\n",
    "import dipy as dp\n",
    "import nibabel as nib\n",
    "import numpy as np\n",
    "from dipy.io import read_bvals_bvecs\n",
    "from dipy.core.gradients import gradient_table, reorient_bvecs, GradientTable\n",
    "from bonndit import ShoreModel, ShoreFit\n",
    "from bonndit.michi import fields, dwmri\n",
    "\n",
    "DATA_DIR = \"/home/olivier/Devel/test/samuel/in4michi/\"\n",
    "\n",
    "# Load fractional anisotropy\n",
    "dti_fa = nib.load(os.path.join(DATA_DIR,\"dti_FA.nii.gz\"))\n",
    "\n",
    "# Load DTI mask\n",
    "dti_mask = nib.load(os.path.join(DATA_DIR,\"mask.nii.gz\"))\n",
    "\n",
    "# Load and adjust tissue segmentation masks\n",
    "csf_mask = nib.load(os.path.join(DATA_DIR,\"fast_pve_0.nii.gz\"))\n",
    "gm_mask = nib.load(os.path.join(DATA_DIR,\"fast_pve_1.nii.gz\"))\n",
    "wm_mask = nib.load(os.path.join(DATA_DIR,\"fast_pve_2.nii.gz\"))\n",
    "\n",
    "dti_vecs = nib.load(os.path.join(DATA_DIR,\"dti_V1.nii.gz\"))\n",
    "\n",
    "data = nib.load(os.path.join(DATA_DIR,\"data.nii.gz\")).get_data()\n",
    "\n",
    "bvals, bvecs = read_bvals_bvecs(os.path.join(DATA_DIR,\"bvals\"), os.path.join(DATA_DIR,\"bvecs\"))\n",
    "gtab = gradient_table(bvals, bvecs)"
   ]
  },
  {
   "cell_type": "code",
   "execution_count": 2,
   "metadata": {},
   "outputs": [],
   "source": [
    "# Load fractional anisotropy\n",
    "# dti_fa = nib.load(os.path.join(DATA_DIR, \"dti_FA.nii.gz\"))\n",
    "dti_fa, meta = fields.load_scalar(os.path.join(DATA_DIR, \"dti_FA.nii.gz\"))\n",
    "\n",
    "# Load DTI mask\n",
    "# dti_mask = nib.load(os.path.join(DATA_DIR, \"mask.nii.gz\"))\n",
    "dti_mask, _ = fields.load_scalar(os.path.join(DATA_DIR, \"mask.nii.gz\"))\n",
    "\n",
    "# Load and adjust tissue segmentation masks\n",
    "# csf_mask = nib.load(os.path.join(DATA_DIR, \"fast_pve_0.nii.gz\"))\n",
    "csf_mask, _ = fields.load_scalar(os.path.join(DATA_DIR, \"fast_pve_0.nii.gz\"))\n",
    "# gm_mask = nib.load(os.path.join(DATA_DIR, \"fast_pve_1.nii.gz\"))\n",
    "gm_mask, _ = fields.load_scalar(os.path.join(DATA_DIR, \"fast_pve_1.nii.gz\"))\n",
    "# wm_mask = nib.load(os.path.join(DATA_DIR, \"fast_pve_2.nii.gz\"))\n",
    "wm_mask, _ = fields.load_scalar(os.path.join(DATA_DIR, \"fast_pve_2.nii.gz\"))\n",
    "\n",
    "# dti_vecs = nib.load(os.path.join(DATA_DIR, \"dti_V1.nii.gz\"))\n",
    "dti_vecs, _ = fields.load_vector(os.path.join(DATA_DIR, \"dti_V1.nii.gz\"))\n",
    "\n",
    "# data = nib.load(os.path.join(DATA_DIR, \"data.nii.gz\"))\n",
    "\n",
    "# bvals, bvecs = read_bvals_bvecs(os.path.join(DATA_DIR, \"bvals\"),\n",
    "#                                os.path.join(DATA_DIR, \"bvecs\"))\n",
    "# gtab = gradient_table(bvals, bvecs)\n",
    "data, gtabm, meta = dwmri.load(os.path.join(DATA_DIR, \"data.nii.gz\"))\n",
    "\n",
    "gtab = gradient_table(gtabm.bvals, gtabm.bvecs)"
   ]
  },
  {
   "cell_type": "code",
   "execution_count": 3,
   "metadata": {},
   "outputs": [
    {
     "name": "stderr",
     "output_type": "stream",
     "text": [
      "CSF response: 100%|██████████| 460800/460800 [00:09<00:00, 46777.47it/s] \n",
      "GM response: 100%|██████████| 460800/460800 [00:21<00:00, 21300.19it/s] \n",
      "WM response: 100%|██████████| 460800/460800 [00:33<00:00, 13756.82it/s] \n"
     ]
    }
   ],
   "source": [
    "model = ShoreModel(gtab)\n",
    "fit = model.fit(data, wm_mask, gm_mask, csf_mask, dti_mask, \n",
    "                    dti_fa, dti_vecs, verbose=True)"
   ]
  },
  {
   "cell_type": "code",
   "execution_count": 4,
   "metadata": {},
   "outputs": [],
   "source": [
    "fit.old_save('/home/olivier/Devel/test/samuel/in4michi/results/bonndit_response')\n",
    "#fit.save(\"/home/olivier/Devel/test/samuel/in4michi/results/\"+\"fit.pkl\")"
   ]
  },
  {
   "cell_type": "code",
   "execution_count": 5,
   "metadata": {},
   "outputs": [],
   "source": [
    "fit = ShoreFit.old_load(\"/home/olivier/Devel/test/samuel/in4michi/results/\"+\"response_bonndit.npz\")"
   ]
  },
  {
   "cell_type": "code",
   "execution_count": 6,
   "metadata": {},
   "outputs": [],
   "source": [
    "#out, wmout, gmout, csfout, mask, meta = fit.fodf(os.path.join(DATA_DIR,\"data.nii.gz\"), verbose=True)"
   ]
  },
  {
   "cell_type": "code",
   "execution_count": 7,
   "metadata": {},
   "outputs": [],
   "source": [
    "#img = nib.Nifti1Image(out, data.affine)\n",
    "#nib.save(img, '/home/olivier/Devel/test/samuel/in4michi/bonndit_result/odf.nii.gz')"
   ]
  }
 ],
 "metadata": {
  "kernelspec": {
   "display_name": "bonndit",
   "language": "python",
   "name": "bonndit"
  },
  "language_info": {
   "codemirror_mode": {
    "name": "ipython",
    "version": 3
   },
   "file_extension": ".py",
   "mimetype": "text/x-python",
   "name": "python",
   "nbconvert_exporter": "python",
   "pygments_lexer": "ipython3",
   "version": "3.5.2"
  }
 },
 "nbformat": 4,
 "nbformat_minor": 2
}
