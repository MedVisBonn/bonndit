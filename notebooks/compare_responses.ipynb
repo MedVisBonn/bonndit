{
 "cells": [
  {
   "cell_type": "markdown",
   "metadata": {},
   "source": [
    "# Compare response functions"
   ]
  },
  {
   "cell_type": "code",
   "execution_count": 1,
   "metadata": {},
   "outputs": [],
   "source": [
    "import numpy as np\n",
    "from os.path import expanduser\n",
    "import os"
   ]
  },
  {
   "cell_type": "code",
   "execution_count": 2,
   "metadata": {},
   "outputs": [],
   "source": [
    "home = expanduser(\"~\")\n",
    "DATA_DIR = os.path.join(home, 'Devel/test/samuel/in4michi')\n",
    "NEW_MICHI = os.path.join(DATA_DIR, '../michi_results')\n",
    "OLD_MICHI = os.path.join(DATA_DIR, '../response_out')\n",
    "BONNDIT = os.path.join(DATA_DIR, 'results/')"
   ]
  },
  {
   "cell_type": "code",
   "execution_count": 3,
   "metadata": {},
   "outputs": [],
   "source": [
    "new = np.load(os.path.join(NEW_MICHI, 'response.npz'))\n",
    "old = np.load(os.path.join(OLD_MICHI, 'response.npz'))\n",
    "bonndit = np.load(os.path.join(BONNDIT, 'response.npz'))"
   ]
  },
  {
   "cell_type": "code",
   "execution_count": 4,
   "metadata": {},
   "outputs": [
    {
     "name": "stdout",
     "output_type": "stream",
     "text": [
      "['gm', 'wm', 'radial_order', 'angular_order', 'csf', 'zeta', 'tau']\n",
      "['zeta', 'tau', 'gm', 'csf', 'wm']\n",
      "['csf', 'zeta', 'tau', 'bvals', 'order', 'bvecs', 'wm', 'gm']\n"
     ]
    }
   ],
   "source": [
    "print(new.keys())\n",
    "print(old.keys())\n",
    "print(bonndit.keys())"
   ]
  },
  {
   "cell_type": "code",
   "execution_count": 5,
   "metadata": {},
   "outputs": [
    {
     "name": "stdout",
     "output_type": "stream",
     "text": [
      "gm [ 2.48450257e-02 -5.40575862e-03 -1.33017233e-02 -2.77534221e+01\n",
      " -2.88028719e+00  4.13750354e+00]\n",
      "wm [ 6.02021189e-03  4.77040598e-03 -8.75260394e-03  7.75801862e+01\n",
      "  3.48016480e+00 -1.06086938e+02]\n",
      "csf [ 9.23337151e-03  2.28484478e-02 -2.72132593e-02  2.84185955e+00\n",
      " -3.95569675e+01  2.09303108e+00]\n",
      "zeta 0\n",
      "tau 0.0\n"
     ]
    }
   ],
   "source": [
    "for key in new.keys():\n",
    "    try:\n",
    "        print(key, bonndit[key] - old[key])\n",
    "    except KeyError:\n",
    "        pass"
   ]
  }
 ],
 "metadata": {
  "kernelspec": {
   "display_name": "bonndit",
   "language": "python",
   "name": "bonndit"
  },
  "language_info": {
   "codemirror_mode": {
    "name": "ipython",
    "version": 3
   },
   "file_extension": ".py",
   "mimetype": "text/x-python",
   "name": "python",
   "nbconvert_exporter": "python",
   "pygments_lexer": "ipython3",
   "version": "3.5.2"
  }
 },
 "nbformat": 4,
 "nbformat_minor": 2
}
