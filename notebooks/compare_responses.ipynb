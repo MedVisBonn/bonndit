{
 "cells": [
  {
   "cell_type": "markdown",
   "metadata": {},
   "source": [
    "# Compare response functions"
   ]
  },
  {
   "cell_type": "code",
   "execution_count": 1,
   "metadata": {},
   "outputs": [],
   "source": [
    "import numpy as np\n",
    "from os.path import expanduser\n",
    "import os"
   ]
  },
  {
   "cell_type": "code",
   "execution_count": 2,
   "metadata": {},
   "outputs": [],
   "source": [
    "home = expanduser(\"~\")\n",
    "DATA_DIR = os.path.join(home, 'Devel/test/samuel/in4michi')\n",
    "NEW_MICHI = os.path.join(DATA_DIR, '../michi_results')\n",
    "OLD_MICHI = os.path.join(DATA_DIR, '../response_out')\n",
    "BONNDIT = os.path.join(DATA_DIR, 'results/')"
   ]
  },
  {
   "cell_type": "code",
   "execution_count": 3,
   "metadata": {},
   "outputs": [],
   "source": [
    "new = np.load(os.path.join(NEW_MICHI, 'response.npz'))\n",
    "old = np.load(os.path.join(OLD_MICHI, 'response.npz'))\n",
    "bonndit = np.load(os.path.join(BONNDIT, 'response.npz'))"
   ]
  },
  {
   "cell_type": "code",
   "execution_count": 4,
   "metadata": {},
   "outputs": [
    {
     "name": "stdout",
     "output_type": "stream",
     "text": [
      "['gm', 'wm', 'radial_order', 'angular_order', 'csf', 'zeta', 'tau']\n",
      "['zeta', 'tau', 'gm', 'csf', 'wm']\n",
      "['csf', 'zeta', 'tau', 'bvals', 'order', 'bvecs', 'wm', 'gm']\n"
     ]
    }
   ],
   "source": [
    "print(new.keys())\n",
    "print(old.keys())\n",
    "print(bonndit.keys())"
   ]
  },
  {
   "cell_type": "code",
   "execution_count": 6,
   "metadata": {},
   "outputs": [
    {
     "name": "stdout",
     "output_type": "stream",
     "text": [
      "gm [ 2.90468288e-07  4.17851716e-07 -5.36032696e-07 -5.26160471e-02\n",
      " -5.58813968e-03 -4.55134162e-02]\n",
      "wm [ 8.14411638e-08 -1.87731929e-07 -5.61221318e-07 -2.77409124e-03\n",
      " -2.71863685e-03 -8.63210422e-03]\n",
      "csf [ 1.39234510e-07 -5.76172554e-07 -2.85478759e-07  2.70387103e-02\n",
      " -5.93701403e-02 -1.12234821e-01]\n",
      "zeta 0.0\n",
      "tau 0.0\n"
     ]
    }
   ],
   "source": [
    "for key in new.keys():\n",
    "    try:\n",
    "        print(key, (bonndit[key] - old[key]) / old[key])\n",
    "    except KeyError:\n",
    "        pass"
   ]
  },
  {
   "cell_type": "markdown",
   "metadata": {},
   "source": [
    "## bonndit: response"
   ]
  },
  {
   "cell_type": "code",
   "execution_count": 24,
   "metadata": {},
   "outputs": [
    {
     "name": "stdout",
     "output_type": "stream",
     "text": [
      ". /home/olivier/Devel/venvs/bonndit/bin/activate && mtdeconv.py /home/olivier/Devel/test/samuel/in4michi/test_data_3d/ -o /home/olivier/Devel/test/samuel/in4michi/test_data_3d/results/bonndit/response.npz -R\n",
      "[[[0 0 1]\n",
      "  [0 0 0]\n",
      "  [0 0 0]]\n",
      "\n",
      " [[0 0 1]\n",
      "  [0 0 0]\n",
      "  [0 0 0]]\n",
      "\n",
      " [[0 0 1]\n",
      "  [0 0 0]\n",
      "  [0 0 0]]]\n"
     ]
    }
   ],
   "source": [
    "from subprocess import check_output\n",
    "from os.path import expanduser\n",
    "import os\n",
    "\n",
    "home = expanduser(\"~\")\n",
    "DATA_DIR = os.path.join(home, 'Devel/test/samuel/in4michi/test_data_3d')\n",
    "OUT_DIR = os.path.join(DATA_DIR, 'results')\n",
    "\n",
    "SCRIPT = 'mtdeconv.py '\n",
    "venv = '. ' + os.path.join(home, 'Devel/venvs/bonndit/bin/activate') + ' && '\n",
    "\n",
    "command = venv + SCRIPT + '{dire}/ -o {out}/bonndit/response.npz -R'.format(dire=DATA_DIR, out = OUT_DIR)\n",
    "print(command)\n",
    "out = check_output(command, shell = True)\n",
    "\n",
    "for line in out.splitlines():\n",
    "    print(line.decode(\"utf-8\") )"
   ]
  },
  {
   "cell_type": "markdown",
   "metadata": {},
   "source": [
    "## Old code michi: response"
   ]
  },
  {
   "cell_type": "code",
   "execution_count": 31,
   "metadata": {},
   "outputs": [
    {
     "name": "stdout",
     "output_type": "stream",
     "text": [
      ". /home/olivier/Devel/venvs/bonndit/bin/activate && python2 /home/olivier/Devel/mic-tools/scripts/msmt-deconv/shore-response.py /home/olivier/Devel/test/samuel/in4michi/test_data_3d/ /home/olivier/Devel/test/samuel/in4michi/test_data_3d/results/old_michi/\n",
      "4 4\n",
      "/home/olivier/Devel/test/samuel/in4michi/test_data_3d/dti_FA.nii.gz\n",
      "Using provided DTI mask.\n",
      "[[[0 0 1]\n",
      "  [0 0 0]\n",
      "  [0 0 0]]\n",
      "\n",
      " [[0 0 1]\n",
      "  [0 0 0]\n",
      "  [0 0 0]]\n",
      "\n",
      " [[0 0 1]\n",
      "  [0 0 0]\n",
      "  [0 0 0]]]\n",
      "loading data....\n",
      "reshaping...\n",
      "csf response:\n",
      "  0.0    done   \n",
      "3 voxel\n",
      "[  91630.16601105  -90293.44934797  198821.36167508]\n",
      "grey matter response:\n",
      "  0.0    done   \n",
      "5 voxel\n",
      "[ 87092.05740841  -6570.33378911   9918.80255351]\n",
      "white matter response:\n",
      "  0.0% 0 voxel\n",
      "    done   \n",
      "[ 0.  0.  0.  0.  0.  0.]\n"
     ]
    }
   ],
   "source": [
    "SCRIPT = 'python2 /home/olivier/Devel/mic-tools/scripts/msmt-deconv/shore-response.py '\n",
    "venv = '. ' + os.path.join(home, 'Devel/venvs/bonndit/bin/activate') + ' && '\n",
    "\n",
    "command = venv + SCRIPT + '{dire}/ {out}/old_michi/'.format(dire=DATA_DIR, out = OUT_DIR)\n",
    "print(command)\n",
    "out = check_output(command, shell = True)\n",
    "\n",
    "for line in out.splitlines():\n",
    "    print(line.decode(\"utf-8\") )"
   ]
  }
 ],
 "metadata": {
  "kernelspec": {
   "display_name": "bonndit",
   "language": "python",
   "name": "bonndit"
  },
  "language_info": {
   "codemirror_mode": {
    "name": "ipython",
    "version": 3
   },
   "file_extension": ".py",
   "mimetype": "text/x-python",
   "name": "python",
   "nbconvert_exporter": "python",
   "pygments_lexer": "ipython3",
   "version": "3.5.2"
  }
 },
 "nbformat": 4,
 "nbformat_minor": 2
}
