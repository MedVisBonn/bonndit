{
 "cells": [
  {
   "cell_type": "markdown",
   "metadata": {},
   "source": [
    "# Compare response functions"
   ]
  },
  {
   "cell_type": "code",
   "execution_count": 52,
   "metadata": {},
   "outputs": [],
   "source": [
    "import numpy as np\n",
    "from os.path import expanduser\n",
    "import os"
   ]
  },
  {
   "cell_type": "code",
   "execution_count": 53,
   "metadata": {},
   "outputs": [],
   "source": [
    "home = expanduser(\"~\")\n",
    "DATA_DIR = os.path.join(home, 'Devel/test/samuel/in4michi')\n",
    "NEW_MICHI = os.path.join(DATA_DIR, '../michi_results')\n",
    "OLD_MICHI = os.path.join(DATA_DIR, '../mictools_results')\n",
    "BONNDIT = os.path.join(DATA_DIR, '../bonndit_results/')"
   ]
  },
  {
   "cell_type": "code",
   "execution_count": 54,
   "metadata": {},
   "outputs": [],
   "source": [
    "new = np.load(os.path.join(NEW_MICHI, 'response.npz'))\n",
    "old = np.load(os.path.join(OLD_MICHI, 'response.npz'))\n",
    "bonndit = np.load(os.path.join(BONNDIT, 'response.npz'))"
   ]
  },
  {
   "cell_type": "code",
   "execution_count": 55,
   "metadata": {},
   "outputs": [
    {
     "name": "stdout",
     "output_type": "stream",
     "text": [
      "['gm', 'wm', 'radial_order', 'angular_order', 'csf', 'zeta', 'tau']\n",
      "['tau', 'bvecs', 'bvals', 'wm', 'csf', 'order', 'zeta', 'gm']\n",
      "['zeta', 'order', 'bvals', 'tau', 'csf', 'gm', 'bvecs', 'wm']\n"
     ]
    }
   ],
   "source": [
    "print(new.keys())\n",
    "print(old.keys())\n",
    "print(bonndit.keys())"
   ]
  },
  {
   "cell_type": "code",
   "execution_count": 56,
   "metadata": {},
   "outputs": [
    {
     "name": "stdout",
     "output_type": "stream",
     "text": [
      "gm [ 0. -0.  0.  0.  0. -0.]\n",
      "wm [ 0.00000000e+00 -0.00000000e+00  2.33269010e-16 -0.00000000e+00\n",
      "  5.32859636e-16  0.00000000e+00]\n",
      "csf [ 0. -0.  0.  0.  0. -0.]\n",
      "zeta 0.0\n",
      "tau 0.0\n"
     ]
    }
   ],
   "source": [
    "for key in new.keys():\n",
    "    try:\n",
    "        print(key, (bonndit[key] - old[key]) / old[key])\n",
    "    except KeyError:\n",
    "        pass"
   ]
  },
  {
   "cell_type": "code",
   "execution_count": 22,
   "metadata": {},
   "outputs": [
    {
     "data": {
      "text/plain": [
       "array([ 85534.38240517, -12937.02624567,  24815.13413662,    527.47067914,\n",
       "          515.42863164,    -90.90733872])"
      ]
     },
     "execution_count": 22,
     "metadata": {},
     "output_type": "execute_result"
    }
   ],
   "source": [
    "old['gm']"
   ]
  }
 ],
 "metadata": {
  "kernelspec": {
   "display_name": "bonndit",
   "language": "python",
   "name": "bonndit"
  },
  "language_info": {
   "codemirror_mode": {
    "name": "ipython",
    "version": 3
   },
   "file_extension": ".py",
   "mimetype": "text/x-python",
   "name": "python",
   "nbconvert_exporter": "python",
   "pygments_lexer": "ipython3",
   "version": "3.5.2"
  }
 },
 "nbformat": 4,
 "nbformat_minor": 2
}
