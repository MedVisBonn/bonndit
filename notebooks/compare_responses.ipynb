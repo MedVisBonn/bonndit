{
 "cells": [
  {
   "cell_type": "markdown",
   "metadata": {},
   "source": [
    "# Compare response functions"
   ]
  },
  {
   "cell_type": "code",
   "execution_count": 1,
   "metadata": {},
   "outputs": [],
   "source": [
    "import numpy as np\n",
    "from os.path import expanduser\n",
    "import os"
   ]
  },
  {
   "cell_type": "code",
   "execution_count": 2,
   "metadata": {},
   "outputs": [],
   "source": [
    "home = expanduser(\"~\")\n",
    "DATA_DIR = os.path.join(home, 'Devel/test/samuel/in4michi')\n",
    "NEW_MICHI = os.path.join(DATA_DIR, '../michi_results')\n",
    "OLD_MICHI = os.path.join(DATA_DIR, '../response_out')\n",
    "BONNDIT = os.path.join(DATA_DIR, 'results/')"
   ]
  },
  {
   "cell_type": "code",
   "execution_count": 3,
   "metadata": {},
   "outputs": [],
   "source": [
    "new = np.load(os.path.join(NEW_MICHI, 'response.npz'))\n",
    "old = np.load(os.path.join(OLD_MICHI, 'response.npz'))\n",
    "bonndit = np.load(os.path.join(BONNDIT, 'response.npz'))"
   ]
  },
  {
   "cell_type": "code",
   "execution_count": 4,
   "metadata": {},
   "outputs": [
    {
     "name": "stdout",
     "output_type": "stream",
     "text": [
      "['gm', 'wm', 'radial_order', 'angular_order', 'csf', 'zeta', 'tau']\n",
      "['zeta', 'tau', 'gm', 'csf', 'wm']\n",
      "['csf', 'zeta', 'tau', 'bvals', 'order', 'bvecs', 'wm', 'gm']\n"
     ]
    }
   ],
   "source": [
    "print(new.keys())\n",
    "print(old.keys())\n",
    "print(bonndit.keys())"
   ]
  },
  {
   "cell_type": "code",
   "execution_count": 6,
   "metadata": {},
   "outputs": [
    {
     "name": "stdout",
     "output_type": "stream",
     "text": [
      "gm [ 2.90468288e-07  4.17851716e-07 -5.36032696e-07 -5.26160471e-02\n",
      " -5.58813968e-03 -4.55134162e-02]\n",
      "wm [ 8.14411638e-08 -1.87731929e-07 -5.61221318e-07 -2.77409124e-03\n",
      " -2.71863685e-03 -8.63210422e-03]\n",
      "csf [ 1.39234510e-07 -5.76172554e-07 -2.85478759e-07  2.70387103e-02\n",
      " -5.93701403e-02 -1.12234821e-01]\n",
      "zeta 0.0\n",
      "tau 0.0\n"
     ]
    }
   ],
   "source": [
    "for key in new.keys():\n",
    "    try:\n",
    "        print(key, (bonndit[key] - old[key]) / old[key])\n",
    "    except KeyError:\n",
    "        pass"
   ]
  },
  {
   "cell_type": "markdown",
   "metadata": {},
   "source": [
    "## bonndit: response"
   ]
  },
  {
   "cell_type": "code",
   "execution_count": 13,
   "metadata": {},
   "outputs": [
    {
     "name": "stdout",
     "output_type": "stream",
     "text": [
      ". /home/olivier/Devel/venvs/bonndit/bin/activate && mtdeconv /home/olivier/Devel/test/samuel/in4michi/test_data_3d/ -o /home/olivier/Devel/test/samuel/in4michi/test_data_3d/results/bonndit/response.npz -R\n",
      "[ 91630.14341921 -90293.49816839 198821.42034613  -1862.08321471\n",
      "  -3533.46985724   1819.94948964  -6950.72853925   1594.54974228\n",
      "   7658.01907531  10714.8513791   -4648.0012886   14927.16297285\n",
      "  -7096.84849699   3378.03902714   1627.07112555  -1001.82836474\n",
      "  -2332.79240924   -374.92361589   1401.79979683   1685.72044752\n",
      "    405.32203625   1465.4953763 ]\n",
      "[ 8.70920736e+04 -6.57037346e+03  9.91882517e+03  2.49892301e+03\n",
      " -8.24038099e+02  6.13779173e+02  9.82964705e+02  3.84092796e+02\n",
      "  3.68710544e+02  1.03128125e+03 -5.97560442e+02  1.02164337e+02\n",
      "  9.93072979e+02 -4.77292769e+01 -2.40448954e+01  3.80460506e+02\n",
      "  1.38669246e+02  1.34105873e+03 -2.81963948e+02 -1.20198890e+03\n",
      " -5.27712811e+02 -6.77988373e+01]\n"
     ]
    }
   ],
   "source": [
    "from subprocess import check_output\n",
    "from os.path import expanduser\n",
    "import os\n",
    "\n",
    "home = expanduser(\"~\")\n",
    "DATA_DIR = os.path.join(home, 'Devel/test/samuel/in4michi/test_data_3d')\n",
    "OUT_DIR = os.path.join(DATA_DIR, 'results')\n",
    "\n",
    "SCRIPT = 'mtdeconv '\n",
    "venv = '. ' + os.path.join(home, 'Devel/venvs/bonndit/bin/activate') + ' && '\n",
    "\n",
    "command = venv + SCRIPT + '{dire}/ -o {out}/bonndit/response.npz -R'.format(dire=DATA_DIR, out = OUT_DIR)\n",
    "print(command)\n",
    "out = check_output(command, shell = True)\n",
    "\n",
    "for line in out.splitlines():\n",
    "    print(line.decode(\"utf-8\") )"
   ]
  },
  {
   "cell_type": "markdown",
   "metadata": {},
   "source": [
    "## Old code michi: response"
   ]
  },
  {
   "cell_type": "code",
   "execution_count": 1,
   "metadata": {},
   "outputs": [
    {
     "name": "stdout",
     "output_type": "stream",
     "text": [
      ". /home/olivier/Devel/venvs/bonndit/bin/activate && python2 /home/olivier/Devel/mic-tools/scripts/msmt-deconv/shore-response.py /home/olivier/Devel/test/samuel/in4michi/test_data_3d/ /home/olivier/Devel/test/samuel/in4michi/test_data_3d/results/old_michi/\n",
      "4 4\n",
      "/home/olivier/Devel/test/samuel/in4michi/test_data_3d/dti_FA.nii.gz\n",
      "Using provided DTI mask.\n",
      "loading data....\n",
      "reshaping...\n",
      "csf response:\n",
      "('  0.0%',)\n",
      "    done   \n",
      "3 voxel\n",
      "[  9.16301660e+04  -9.02934493e+04   1.98821362e+05  -2.23875288e+03\n",
      "   3.44210202e+03   1.16744800e+03  -6.97973007e+03  -1.78303965e+03\n",
      "   8.46359966e+03  -1.03158867e+04  -3.25269229e+03   1.48611223e+04\n",
      "   7.66528862e+03   3.40274544e+03  -1.90877332e+03  -7.99447267e+02\n",
      "   2.13461183e+03  -1.22077248e+02   1.54785180e+03  -1.76300482e+03\n",
      "   2.37200709e+02  -1.33040030e+03]\n",
      "[  91630.16601105  -90293.44934797  198821.36167508]\n",
      "grey matter response:\n",
      "('  0.0%',)\n",
      "    done   \n",
      "5 voxel\n",
      "[  8.70920574e+04  -6.57033379e+03   9.91880255e+03   2.54672819e+03\n",
      "   8.02103552e+02   6.96522761e+02   7.85175398e+02  -4.28080239e+02\n",
      "   3.75243965e+02  -1.08342269e+03  -5.86293785e+02   1.37484272e+02\n",
      "  -9.35917544e+02  -8.92080896e+01   1.50777839e+02   2.78066151e+02\n",
      "  -7.19049550e-01   1.27018862e+03  -5.43723277e+02   1.20114237e+03\n",
      "  -5.56052973e+02   6.10937723e+01]\n",
      "[ 87092.05740841  -6570.33378911   9918.80255351]\n",
      "white matter response:\n",
      "('  0.0%',)\n",
      "0 voxel\n",
      "    done   \n",
      "[ 0.  0.  0.  0.  0.  0.]\n"
     ]
    }
   ],
   "source": [
    "from subprocess import check_output\n",
    "from os.path import expanduser\n",
    "import os\n",
    "\n",
    "home = expanduser(\"~\")\n",
    "DATA_DIR = os.path.join(home, 'Devel/test/samuel/in4michi/test_data_3d')\n",
    "OUT_DIR = os.path.join(DATA_DIR, 'results')\n",
    "\n",
    "SCRIPT = 'python2 /home/olivier/Devel/mic-tools/scripts/msmt-deconv/shore-response.py '\n",
    "venv = '. ' + os.path.join(home, 'Devel/venvs/bonndit/bin/activate') + ' && '\n",
    "\n",
    "command = venv + SCRIPT + '{dire}/ {out}/old_michi/'.format(dire=DATA_DIR, out = OUT_DIR)\n",
    "print(command)\n",
    "out = check_output(command, shell = True)\n",
    "\n",
    "for line in out.splitlines():\n",
    "    print(line.decode(\"utf-8\") )"
   ]
  },
  {
   "cell_type": "code",
   "execution_count": 18,
   "metadata": {},
   "outputs": [
    {
     "data": {
      "text/plain": [
       "array([-2.25807900e-02, -4.88683900e-02,  5.83461300e-02,  3.76669665e+02,\n",
       "       -6.97557188e+03,  6.52501490e+02,  2.90015307e+01,  3.37758939e+03,\n",
       "       -8.05580585e+02,  2.10307381e+04, -1.39530900e+03,  6.60406728e+01,\n",
       "       -1.47621371e+04, -2.47064129e+01,  3.53584445e+03, -2.02381098e+02,\n",
       "       -4.46740424e+03, -2.52846368e+02, -1.46052003e+02,  3.44872527e+03,\n",
       "        1.68121327e+02,  2.79589568e+03])"
      ]
     },
     "execution_count": 18,
     "metadata": {},
     "output_type": "execute_result"
    }
   ],
   "source": [
    "bonndit = '91630.14341921 -90293.49816839 198821.42034613  -1862.08321471 -3533.46985724   1819.94948964  -6950.72853925 \\\n",
    "1594.54974228 7658.01907531  10714.8513791   -4648.0012886   14927.16297285 \\\n",
    "-7096.84849699   3378.03902714   1627.07112555  -1001.82836474 \\\n",
    "-2332.79240924   -374.92361589   1401.79979683   1685.72044752 \\\n",
    "405.32203625   1465.4953763'.replace('  ', ' ').replace('  ', ' ').split(' ')\n",
    "\n",
    "old = '9.16301660e+04  -9.02934493e+04   1.98821362e+05  -2.23875288e+03 \\\n",
    "3.44210202e+03   1.16744800e+03  -6.97973007e+03  -1.78303965e+03 \\\n",
    "8.46359966e+03  -1.03158867e+04  -3.25269229e+03   1.48611223e+04 \\\n",
    "7.66528862e+03   3.40274544e+03  -1.90877332e+03  -7.99447267e+02 \\\n",
    "2.13461183e+03  -1.22077248e+02   1.54785180e+03  -1.76300482e+03 \\\n",
    "2.37200709e+02  -1.33040030e+03'.replace('  ', ' ').replace('  ', ' ').split(' ')\n",
    "\n",
    "import numpy as np\n",
    "np.array([float(x) for x in bonndit]) - [float(x) for x in old]"
   ]
  },
  {
   "cell_type": "code",
   "execution_count": 19,
   "metadata": {},
   "outputs": [
    {
     "data": {
      "text/plain": [
       "array([ True,  True,  True,  True,  True,  True,  True,  True,  True,\n",
       "        True,  True,  True,  True,  True,  True,  True,  True,  True,\n",
       "        True,  True,  True,  True])"
      ]
     },
     "execution_count": 19,
     "metadata": {},
     "output_type": "execute_result"
    }
   ],
   "source": [
    "np.array([-2.25807900e-02, -4.88683900e-02,  5.83461300e-02,  3.76669665e+02,\n",
    "       -6.97557188e+03,  6.52501490e+02,  2.90015307e+01,  3.37758939e+03,\n",
    "       -8.05580585e+02,  2.10307381e+04, -1.39530900e+03,  6.60406728e+01,\n",
    "       -1.47621371e+04, -2.47064129e+01,  3.53584445e+03, -2.02381098e+02,\n",
    "       -4.46740424e+03, -2.52846368e+02, -1.46052003e+02,  3.44872527e+03,\n",
    "        1.68121327e+02,  2.79589568e+03]) == np.array([-2.25807900e-02, -4.88683900e-02,  5.83461300e-02,  3.76669665e+02,\n",
    "       -6.97557188e+03,  6.52501490e+02,  2.90015307e+01,  3.37758939e+03,\n",
    "       -8.05580585e+02,  2.10307381e+04, -1.39530900e+03,  6.60406728e+01,\n",
    "       -1.47621371e+04, -2.47064129e+01,  3.53584445e+03, -2.02381098e+02,\n",
    "       -4.46740424e+03, -2.52846368e+02, -1.46052003e+02,  3.44872527e+03,\n",
    "        1.68121327e+02,  2.79589568e+03])\n",
    "\n"
   ]
  },
  {
   "cell_type": "code",
   "execution_count": null,
   "metadata": {},
   "outputs": [],
   "source": []
  },
  {
   "cell_type": "markdown",
   "metadata": {},
   "source": [
    "## Compare shore matrix"
   ]
  },
  {
   "cell_type": "code",
   "execution_count": 44,
   "metadata": {},
   "outputs": [],
   "source": [
    "import importlib.util\n",
    "spec = importlib.util.spec_from_file_location(\"shore_old\", \"/home/olivier/Devel/mic-tools/packages/dwmri/shore.py\")\n",
    "old_shore = importlib.util.module_from_spec(spec)\n",
    "spec.loader.exec_module(old_shore)"
   ]
  },
  {
   "cell_type": "code",
   "execution_count": 47,
   "metadata": {},
   "outputs": [],
   "source": [
    "from bonndit.michi import shore as new_shore"
   ]
  },
  {
   "cell_type": "code",
   "execution_count": 49,
   "metadata": {},
   "outputs": [],
   "source": [
    "order = 4\n",
    "zeta = 700\n",
    "\n",
    "\n",
    "import os\n",
    "from dipy.io import read_bvals_bvecs\n",
    "from dipy.core.gradients import gradient_table\n",
    "\n",
    "\n",
    "DATA_DIR = \"/home/olivier/Devel/test/samuel/in4michi/\"\n",
    "\n",
    "bvals, bvecs = read_bvals_bvecs(os.path.join(DATA_DIR,\"bvals\"), os.path.join(DATA_DIR,\"bvecs\"))\n",
    "gtab = gradient_table(bvals, bvecs)\n"
   ]
  },
  {
   "cell_type": "code",
   "execution_count": 50,
   "metadata": {},
   "outputs": [
    {
     "name": "stderr",
     "output_type": "stream",
     "text": [
      "/home/olivier/Devel/venvs/bonndit/lib/python3.5/site-packages/dipy/core/geometry.py:129: RuntimeWarning: invalid value encountered in true_divide\n",
      "  theta = np.arccos(z / r)\n"
     ]
    }
   ],
   "source": [
    "new_matrix = new_shore.matrix(order, order, zeta, gtab, tau=1 / (4 * np.pi ** 2))\n",
    "old_matrix = old_shore.matrix(order, order, zeta, gtab, tau=1 / (4 * np.pi ** 2))"
   ]
  },
  {
   "cell_type": "code",
   "execution_count": 52,
   "metadata": {},
   "outputs": [
    {
     "name": "stderr",
     "output_type": "stream",
     "text": [
      "/home/olivier/Devel/venvs/bonndit/lib/python3.5/site-packages/ipykernel_launcher.py:1: RuntimeWarning: invalid value encountered in true_divide\n",
      "  \"\"\"Entry point for launching an IPython kernel.\n"
     ]
    },
    {
     "data": {
      "text/plain": [
       "array([[ 0.00000000e+00, -1.13713118e-16,  0.00000000e+00, ...,\n",
       "                    nan,             nan,             nan],\n",
       "       [ 0.00000000e+00, -1.13713118e-16,  0.00000000e+00, ...,\n",
       "                    nan,             nan,             nan],\n",
       "       [ 0.00000000e+00, -1.13713118e-16,  0.00000000e+00, ...,\n",
       "                    nan,             nan,             nan],\n",
       "       ...,\n",
       "       [ 0.00000000e+00, -1.31110442e-16, -0.00000000e+00, ...,\n",
       "         1.81749783e-15, -2.59013033e-16, -3.43387926e-16],\n",
       "       [ 0.00000000e+00,  1.31110334e-16,  1.67706836e-16, ...,\n",
       "        -4.86620665e-16,  4.15549331e-16, -1.45889119e-16],\n",
       "       [ 0.00000000e+00, -0.00000000e+00, -0.00000000e+00, ...,\n",
       "         1.35780765e-16, -2.87266694e-16,  0.00000000e+00]])"
      ]
     },
     "execution_count": 52,
     "metadata": {},
     "output_type": "execute_result"
    }
   ],
   "source": [
    "(new_matrix-old_matrix)/old_matrix"
   ]
  },
  {
   "cell_type": "code",
   "execution_count": null,
   "metadata": {},
   "outputs": [],
   "source": []
  },
  {
   "cell_type": "code",
   "execution_count": 27,
   "metadata": {},
   "outputs": [
    {
     "data": {
      "text/plain": [
       "(97, 97, 49, 22)"
      ]
     },
     "execution_count": 27,
     "metadata": {},
     "output_type": "execute_result"
    }
   ],
   "source": [
    "from bonndit.michi import shore\n",
    "np.zeros((97,97,49) + (shore.get_size(4, 4),)).shape"
   ]
  }
 ],
 "metadata": {
  "kernelspec": {
   "display_name": "bonndit",
   "language": "python",
   "name": "bonndit"
  },
  "language_info": {
   "codemirror_mode": {
    "name": "ipython",
    "version": 3
   },
   "file_extension": ".py",
   "mimetype": "text/x-python",
   "name": "python",
   "nbconvert_exporter": "python",
   "pygments_lexer": "ipython3",
   "version": "3.5.2"
  }
 },
 "nbformat": 4,
 "nbformat_minor": 2
}
