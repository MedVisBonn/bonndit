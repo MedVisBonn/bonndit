{
 "cells": [
  {
   "cell_type": "code",
   "execution_count": 2,
   "metadata": {},
   "outputs": [
    {
     "name": "stderr",
     "output_type": "stream",
     "text": [
      "/home/olivier/Devel/venvs/bonndit/lib/python3.5/site-packages/h5py/__init__.py:36: FutureWarning: Conversion of the second argument of issubdtype from `float` to `np.floating` is deprecated. In future, it will be treated as `np.float64 == np.dtype(float).type`.\n",
      "  from ._conv import register_converters as _register_converters\n"
     ]
    }
   ],
   "source": [
    "from bonndit.michi import dwmri\n",
    "from dipy.io import read_bvals_bvecs\n",
    "from dipy.core.gradients import gradient_table, reorient_bvecs\n",
    "import nibabel as nib\n",
    "import numpy as np"
   ]
  },
  {
   "cell_type": "code",
   "execution_count": 4,
   "metadata": {},
   "outputs": [],
   "source": [
    "from subprocess import check_output\n",
    "from os.path import expanduser\n",
    "import os\n",
    "home = expanduser(\"~\")\n",
    "DATA_DIR = os.path.join(home, 'Devel/test/samuel/in4michi')"
   ]
  },
  {
   "cell_type": "code",
   "execution_count": 5,
   "metadata": {},
   "outputs": [],
   "source": [
    "data, dwmri_gtab, meta = dwmri.load(os.path.join(DATA_DIR, 'data.nii.gz'))\n",
    "\n",
    "data = nib.load(os.path.join(DATA_DIR, \"data.nii.gz\"))\n",
    "bvals, bvecs = read_bvals_bvecs(os.path.join(DATA_DIR, 'bvals'), os.path.join(DATA_DIR, 'bvecs'))\n",
    "gtab = gradient_table(bvals, bvecs)\n",
    "dipy_gtab = reorient_bvecs(gtab, np.array([data.affine]*len(gtab.bvals[gtab.bvals!=0])))\n",
    "\n"
   ]
  },
  {
   "cell_type": "code",
   "execution_count": 38,
   "metadata": {},
   "outputs": [],
   "source": [
    "def fsl_to_worldspace_old(data, gtab):\n",
    "    # we have to bring b vectors into world coordinate system\n",
    "    # we will use the 3x3 linear transformation part of the affine matrix for this\n",
    "    linear = data.affine[0:3, 0:3]\n",
    "    # according to FSL documentation, we first have to flip the sign of the\n",
    "    # x coordinate if the matrix determinant is positive\n",
    "    bvecs = gtab.bvecs\n",
    "    if np.linalg.det(linear) > 0:\n",
    "        bvecs[:, 0] = -bvecs[:, 0]\n",
    "    # now, apply the linear mapping to bvecs and re-normalize\n",
    "    bvecs = np.dot(bvecs, np.transpose(linear))\n",
    "    bvecnorm = np.linalg.norm(bvecs, axis=1)\n",
    "    bvecnorm[bvecnorm == 0] = 1.0  # avoid division by zero\n",
    "    bvecs = bvecs / bvecnorm[:, None]\n",
    "    return gradient_table(gtab.bvals, bvecs)\n",
    "\n",
    "def fsl_to_worldspace_new(data, gtab):\n",
    "    from scipy.linalg import polar\n",
    "    # we have to bring b vectors into world coordinate system\n",
    "    # we will use the 3x3 linear transformation part of the affine matrix for this\n",
    "    linear = data.affine[0:3, 0:3]\n",
    "    # according to FSL documentation, we first have to flip the sign of the\n",
    "    # x coordinate if the matrix determinant is positive\n",
    "    bvecs = gtab.bvecs\n",
    "    if np.linalg.det(linear) > 0:\n",
    "        bvecs[:, 0] = -bvecs[:, 0]\n",
    "    \n",
    "    rotation, scaling = polar(linear)\n",
    "    bvecs = np.dot(bvecs, np.transpose(rotation))\n",
    "    return gradient_table(gtab.bvals, bvecs)"
   ]
  },
  {
   "cell_type": "code",
   "execution_count": 56,
   "metadata": {},
   "outputs": [
    {
     "name": "stdout",
     "output_type": "stream",
     "text": [
      "141 µs ± 7.89 µs per loop (mean ± std. dev. of 5 runs, 1000 loops each)\n"
     ]
    }
   ],
   "source": [
    "%%timeit -n 1000 -r 5\n",
    "old = fsl_to_worldspace_old(data, gtab)"
   ]
  },
  {
   "cell_type": "code",
   "execution_count": 57,
   "metadata": {},
   "outputs": [
    {
     "name": "stdout",
     "output_type": "stream",
     "text": [
      "230 µs ± 9.31 µs per loop (mean ± std. dev. of 5 runs, 1000 loops each)\n"
     ]
    }
   ],
   "source": [
    "%%timeit -n 1000 -r 5\n",
    "new = fsl_to_worldspace_new(data, gtab)"
   ]
  },
  {
   "cell_type": "code",
   "execution_count": 41,
   "metadata": {},
   "outputs": [
    {
     "name": "stderr",
     "output_type": "stream",
     "text": [
      "/home/olivier/Devel/venvs/bonndit/lib/python3.5/site-packages/ipykernel_launcher.py:1: RuntimeWarning: invalid value encountered in true_divide\n",
      "  \"\"\"Entry point for launching an IPython kernel.\n"
     ]
    }
   ],
   "source": [
    "diff = (fsl_to_worldspace_old(data, gtab).bvecs - fsl_to_worldspace_new(data, gtab).bvecs)/fsl_to_worldspace_old(data, gtab).bvecs"
   ]
  },
  {
   "cell_type": "code",
   "execution_count": 55,
   "metadata": {},
   "outputs": [
    {
     "data": {
      "text/plain": [
       "0.00020034853598404598"
      ]
     },
     "execution_count": 55,
     "metadata": {},
     "output_type": "execute_result"
    }
   ],
   "source": [
    "max(diff.flatten()[~np.isnan(diff.flatten())])"
   ]
  },
  {
   "cell_type": "code",
   "execution_count": null,
   "metadata": {},
   "outputs": [],
   "source": [
    "from bonndit.michi.storage import affine_to_meta3d\n",
    "\n",
    "affine =np.array([[1, 0, 1,0],\n",
    "                  [0, 1, 0,0],\n",
    "                  [0, 0, 0,0],\n",
    "                  [0, 0, 0,1]])\n",
    "\n",
    "meta = affine_to_meta3d(affine)\n",
    "bvecs = np.array([[1, 0, 0],\n",
    "                 [3/5, 4/5, 0],\n",
    "                 [0, 0, 1]])\n",
    "\n",
    "bvals = np.array([700]*3)\n",
    "gtab = gradient_table(bvals, bvecs)\n",
    "reorient_bvecs(gtab, np.array([affine]*3)).bvecs"
   ]
  },
  {
   "cell_type": "code",
   "execution_count": null,
   "metadata": {},
   "outputs": [],
   "source": [
    "dwmri._nifti_bvecs_to_worldspace(bvecs, meta)"
   ]
  }
 ],
 "metadata": {
  "kernelspec": {
   "display_name": "bonndit",
   "language": "python",
   "name": "bonndit"
  },
  "language_info": {
   "codemirror_mode": {
    "name": "ipython",
    "version": 3
   },
   "file_extension": ".py",
   "mimetype": "text/x-python",
   "name": "python",
   "nbconvert_exporter": "python",
   "pygments_lexer": "ipython3",
   "version": "3.5.2"
  }
 },
 "nbformat": 4,
 "nbformat_minor": 2
}
