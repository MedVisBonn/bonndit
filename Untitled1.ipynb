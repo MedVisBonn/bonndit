{
 "cells": [
  {
   "cell_type": "code",
   "execution_count": 1,
   "id": "ed23dbc1-7e6c-4c20-917c-6fb999a86769",
   "metadata": {},
   "outputs": [],
   "source": [
    "%load_ext cython"
   ]
  },
  {
   "cell_type": "code",
   "execution_count": 2,
   "id": "9a57d4d7-79f7-4d8b-8aee-364c68f71632",
   "metadata": {},
   "outputs": [],
   "source": [
    "import nrrd\n",
    "fodfs, meta = nrrd.read('/home/johannes/Downloads/904044/904044/mtdeconv/indir/fodf-old.nrrd')\n",
    "fodf = fodfs[1:, fodfs[0]>0.1].T"
   ]
  },
  {
   "cell_type": "code",
   "execution_count": 104,
   "id": "4ca6d2bd-c457-48ed-8df7-4800525c67ed",
   "metadata": {},
   "outputs": [
    {
     "name": "stdout",
     "output_type": "stream",
     "text": [
      "[4960, 15, 0, 0, 0, 0, 0, 0]\n"
     ]
    }
   ],
   "source": [
    "%%cython\n",
    "#cython: language_level=3, boundscheck=False, wraparound=False, initializedcheck=False, cdivision=True\n",
    "from scipy import optimize\n",
    "from libc.math cimport pow\n",
    "from bonndit.utilc.hota cimport hota_4o3d_sym_s_form, hota_4o3d_sym_eval, hota_4o3d_sym_tsp, hota_4o3d_sym_v_form, hota_4o3d_sym_norm\n",
    "from bonndit.utilc.cython_helpers cimport set_zero_vector\n",
    "import numpy as np\n",
    "import time\n",
    "from tqdm import tqdm\n",
    "cdef double[:] _candidates_3d_d = np.array([\n",
    "    -0.546405, 0.619202, 0.563943,\n",
    "    -0.398931,-0.600006, 0.693432,\n",
    "    0.587973, 0.521686, 0.618168,\n",
    "    0.055894,-0.991971,-0.113444,\n",
    "    -0.666933,-0.677984, 0.309094,\n",
    "    0.163684, 0.533013, 0.830123,\n",
    "    0.542826, 0.133898, 0.829102,\n",
    "    -0.074751,-0.350412, 0.933608,\n",
    "    0.845751, -0.478624,-0.235847,\n",
    "    0.767148,-0.610673, 0.196372,\n",
    "    -0.283810, 0.381633, 0.879663,\n",
    "    0.537228,-0.616249, 0.575868,\n",
    "    -0.711387, 0.197778, 0.674398,\n",
    "    0.886511, 0.219025, 0.407586,\n",
    "    0.296061, 0.842985, 0.449136,\n",
    "    -0.937540,-0.340990, 0.068877,\n",
    "    0.398833, 0.917023, 0.000835,\n",
    "    0.097278,-0.711949, 0.695460,\n",
    "    -0.311534, 0.908623,-0.278121,\n",
    "    -0.432043,-0.089758, 0.897375,\n",
    "    -0.949980, 0.030810, 0.310788,\n",
    "    0.146722,-0.811981,-0.564942,\n",
    "    -0.172201,-0.908573, 0.380580,\n",
    "    0.507209,-0.848578,-0.150513,\n",
    "    -0.730808,-0.654136,-0.194999,\n",
    "    0.077744, 0.094961, 0.992441,\n",
    "    0.383976,-0.293959, 0.875300,\n",
    "    0.788208,-0.213656, 0.577130,\n",
    "    -0.752333,-0.301447, 0.585769,\n",
    "    -0.975732, 0.165497,-0.143382])\n",
    "\n",
    "\n",
    "\n",
    "cdef int _max_candidates_3d=30\n",
    "cdef double[:] placeholder1 = np.zeros((15,))\n",
    "cdef double[:] placeholder2 = np.zeros((15,))\n",
    "cdef double[:] placeholder3 = np.zeros((15,))\n",
    "cdef double[:] T = np.zeros((3,))\n",
    "cdef double[:] tsp = np.zeros((3,))\n",
    "real_candidates = np.zeros((_max_candidates_3d, 15))\n",
    "cdef double[:, :] real = np.zeros((4960, 15))\n",
    "\n",
    "def get_real_candidates(t, r):\n",
    "    cdef int i, j, k, l = 0\n",
    "    for i in range(1, _max_candidates_3d):\n",
    "        hota_4o3d_sym_eval(t[i], 1, _candidates_3d_d[3 * (i-1): 3 * i])\n",
    "    for i in range(1, _max_candidates_3d):\n",
    "        for j in range(i, _max_candidates_3d):\n",
    "            for k in range(j, _max_candidates_3d):\n",
    "             #   print(l)\n",
    "                r[l] = t[i] + t[j] + t[k]\n",
    "                l += 1\n",
    "    return r\n",
    "\n",
    "print(real.shape)\n",
    "real = get_real_candidates(real_candidates, real)\n",
    "\n",
    "cdef void init_max_3d(double[:] x0, double[:,:] tens, int n) nogil:\n",
    "    \"\"\"\n",
    "    Find best initial direction on sphere for rank1 approximation of a fourth order tensor.\n",
    "    \"\"\"\n",
    "    cdef double val, min_val=-1\n",
    "    cdef int x=1,y=1,z=1, i,j,k, u, l,m ,o, p = 0\n",
    "    for i in range(1, _max_candidates_3d):\n",
    "        for j in range(i, _max_candidates_3d):\n",
    "            for k in range(j, _max_candidates_3d):\n",
    "                val = 0\n",
    "                for l in range(n):\n",
    "                    for u in range(15):\n",
    "                        placeholder1[u] = tens[l, u] - real[p, u]\n",
    "                    val += hota_4o3d_sym_norm(placeholder1)\n",
    "                p += 1\n",
    "                #print(val)\n",
    "                if min_val == -1 or val < min_val:\n",
    "                    x,y,z = i,j,k\n",
    "                    min_val = val\n",
    "    for i in range(3):\n",
    "        x0[i] = _candidates_3d_d[3*(x-1) + i]\n",
    "        x0[3+i] = _candidates_3d_d[3*(y-1) + i]\n",
    "        x0[6+i] = _candidates_3d_d[3*(z-1) + i]\n",
    "        x0[9 + i] = 0\n",
    "\n",
    "\n",
    "def average(fodf, n, method):\n",
    "    cdef double[:] x0 = np.zeros((12,))\n",
    "    cdef double[:] l = np.zeros((3,))\n",
    "    cdef double[:,:] three = np.zeros((3,3)), t = np.zeros((3,15))\n",
    "    for i in tqdm(range(fodf.shape[0])):\n",
    "        init_max_3d(x0, fodf[i:i+n], n)\n",
    "        res = optimize.minimize(opt_func, x0, jac=jacobian, args=(fodf[i:i+n], n, three, t), method=method)\n",
    "        calc_lambda(l, res['x'][:9], fodf[i:i+n], n)  \n",
    "    return l, res['x'][:9]\n",
    "\n",
    "\n",
    "\n",
    "def opt_func(v, f, n, _, t):\n",
    "    l = np.zeros((3,))\n",
    "    calc_lambda(l, v, f, n)\n",
    "    summand0= 0\n",
    "    for i in range(3):\n",
    "        hota_4o3d_sym_eval(t[i], 1 ,v[3*i: 3*(i+1)])\n",
    "    t[0] = np.sum(t, axis=0)\n",
    "    for i in range(n):\n",
    "        summand0 += hota_4o3d_sym_norm(f[i] - t[0])**2\n",
    "    for i in range(3):\n",
    "        summand0 += v[9+i]*(np.linalg.norm(v[3*i: 3*(i+1)])**2 - 1)\n",
    "\n",
    "    return summand0\n",
    "\n",
    "cdef void calc_lambda(double[:] x, double[:] v, double[:,:] fodf, int n) nogil:\n",
    "    cdef int i, j\n",
    "    cdef double summand1\n",
    "    hota_4o3d_sym_eval(placeholder1, 1, v[:3])\n",
    "    hota_4o3d_sym_eval(placeholder2, 1, v[3:6])\n",
    "    hota_4o3d_sym_eval(placeholder3, 1, v[6:9])\n",
    "    tsp[0] = hota_4o3d_sym_tsp(placeholder1, placeholder2)\n",
    "    tsp[1] = hota_4o3d_sym_tsp(placeholder1, placeholder3)\n",
    "    tsp[2] = hota_4o3d_sym_tsp(placeholder2, placeholder3)\n",
    "    for i in range(3):\n",
    "        summand1=0\n",
    "        for j in range(n):\n",
    "            summand1 += hota_4o3d_sym_s_form(fodf[j], v[3*i: 3*(i+1)])\n",
    "        T[i] = summand1\n",
    "    x[0] = (   T[0]*pow(tsp[2], 2)*pow(n, 2) - 4*T[0] - tsp[2]*tsp[0]*T[2]*pow(n, 2) - tsp[2]*tsp[1]*T[1]*pow(n, 2) + 2*tsp[0]*T[1]*n + 2*tsp[1]*T[2]*n)/ (pow(tsp[2], 2)*pow(n, 2) - tsp[2]*tsp[0]*tsp[1]*pow(n, 3) + pow(tsp[0], 2)*pow(n, 2) + pow(tsp[1], 2)*pow(n, 2) - 4)\n",
    "    x[1] = (  -T[0]*tsp[2]*tsp[1]*pow(n, 2) + 2*T[0]*tsp[0]*n + 2*tsp[2]*T[2]*n - tsp[0]*tsp[1]*T[2]*pow(n, 2) + pow(tsp[1], 2)*T[1]*pow(n, 2) - 4*T[1])/ (pow(tsp[2], 2)*pow(n, 2) - tsp[2]*tsp[0]*tsp[1]*pow(n, 3) + pow(tsp[0], 2)*pow(n, 2) + pow(tsp[1], 2)*pow(n, 2) - 4)\n",
    "    x[2] = (  -T[0]*tsp[2]*tsp[0]*pow(n, 2) + 2*T[0]*tsp[1]*n + 2*tsp[2]*T[1]*n + pow(tsp[0], 2)*T[2]*pow(n, 2) - tsp[0]*tsp[1]*T[1]*pow(n, 2) - 4*T[2])/ (pow(tsp[2], 2)*pow(n, 2) - tsp[2]*tsp[0]*tsp[1]*pow(n, 3) + pow(tsp[0], 2)*pow(n, 2) + pow(tsp[1], 2)*pow(n, 2) - 4)\n",
    "    #return [x,y,z]\n",
    "\n",
    "\n",
    "def jacobian(v, f, n, summand, t):\n",
    "   # print(1)\n",
    "    l = np.zeros((3,))\n",
    "    calc_lambda(l, v, f, n)\n",
    "    placeholder = np.zeros((3,))\n",
    "    out = np.zeros((12,))\n",
    "\n",
    "    for i in range(3):\n",
    "        hota_4o3d_sym_eval(t[i], 1, v[3*i: 3*(i+1)])\n",
    "    for i in range(3):\n",
    "        set_zero_vector(summand[0])\n",
    "        set_zero_vector(summand[1])\n",
    "        for j in range(n):\n",
    "            hota_4o3d_sym_v_form(placeholder, f[j], v[3 * i: 3 * (i + 1)])\n",
    "            summand[0] -= 2 * l[i] * placeholder\n",
    "        for j in range(3):\n",
    "            if i == j:\n",
    "                continue\n",
    "            hota_4o3d_sym_v_form(placeholder, t[j], v[3 * i:3 * (i + 1)])\n",
    "            summand[1] += n * l[i] * l[j] * placeholder\n",
    "        summand[2] = v[9+i]*v[3*i:3*(i+1)]\n",
    "        for j in range(3):\n",
    "            out[3*i + j] = summand[0,j] + summand[1,j] + summand[2,j]\n",
    "    for i in range(3):\n",
    "        out[9+i] = np.linalg.norm(v[3*i:3*(i+1)]) - 1\n",
    "    #print(out)\n",
    "    return out\n"
   ]
  },
  {
   "cell_type": "code",
   "execution_count": 106,
   "id": "75ca14df-6072-422e-ba26-9ae2296f93ae",
   "metadata": {},
   "outputs": [
    {
     "name": "stderr",
     "output_type": "stream",
     "text": [
      "100%|██████████████████████████████████████████████████████████████████████████████████████████████████████████████████████████████████████████████████████████| 709625/709625 [22:17<00:00, 530.46it/s]\n"
     ]
    }
   ],
   "source": [
    "from tqdm import tqdm\n",
    "vs = []\n",
    "ls = []\n",
    "\n",
    "\n",
    "vs.append(average(fodf,1, 'SLSQP'))"
   ]
  },
  {
   "cell_type": "code",
   "execution_count": 21,
   "id": "ddd4d05a-2f6d-45e5-957f-6b2640dc2c27",
   "metadata": {},
   "outputs": [
    {
     "data": {
      "text/plain": [
       "1.0182852855347664"
      ]
     },
     "execution_count": 21,
     "metadata": {},
     "output_type": "execute_result"
    }
   ],
   "source": [
    "np.linalg.norm([-0.23469776, -0.35303275,  0.40773751,  0.08578497, -0.47776199, -0.33165795,\n",
    "  0.46278656, -0.12637197,  0.33939068])"
   ]
  },
  {
   "cell_type": "code",
   "execution_count": 55,
   "id": "89720aef-23c7-42b4-86d4-421450d7a460",
   "metadata": {},
   "outputs": [
    {
     "data": {
      "text/plain": [
       "314.4072989622752"
      ]
     },
     "execution_count": 55,
     "metadata": {},
     "output_type": "execute_result"
    }
   ],
   "source": [
    "0.02658367156982422*fodf.shape[0]"
   ]
  },
  {
   "cell_type": "code",
   "execution_count": 95,
   "id": "139d73a3-816b-4269-aa0d-aa8671bbfe4d",
   "metadata": {},
   "outputs": [
    {
     "data": {
      "text/plain": [
       "27"
      ]
     },
     "execution_count": 95,
     "metadata": {},
     "output_type": "execute_result"
    }
   ],
   "source": [
    "3**3"
   ]
  },
  {
   "cell_type": "code",
   "execution_count": null,
   "id": "b207d38e-65f9-43b5-9159-295b5c336ba1",
   "metadata": {},
   "outputs": [],
   "source": []
  }
 ],
 "metadata": {
  "kernelspec": {
   "display_name": "bonndit",
   "language": "python",
   "name": "bonndit"
  },
  "language_info": {
   "codemirror_mode": {
    "name": "ipython",
    "version": 3
   },
   "file_extension": ".py",
   "mimetype": "text/x-python",
   "name": "python",
   "nbconvert_exporter": "python",
   "pygments_lexer": "ipython3",
   "version": "3.8.10"
  }
 },
 "nbformat": 4,
 "nbformat_minor": 5
}
